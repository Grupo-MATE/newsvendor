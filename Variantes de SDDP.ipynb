{
 "cells": [
  {
   "cell_type": "markdown",
   "metadata": {
    "hideCode": false,
    "hidePrompt": false,
    "slideshow": {
     "slide_type": "slide"
    }
   },
   "source": [
    "# SDDP y sus variantes\n",
    "\n",
    "## Andrés Ferragut\n",
    "\n",
    "## Grupo MATE - Universidad ORT Uruguay\n",
    "\n",
    "### Setiembre 2021"
   ]
  },
  {
   "cell_type": "markdown",
   "metadata": {
    "hideCode": false,
    "hidePrompt": false,
    "slideshow": {
     "slide_type": "slide"
    }
   },
   "source": [
    "## Agenda\n",
    "\n",
    "* Repasar el algotitmo SDDP.\n",
    "* Discutir el caso azar-decisión y decisión-azar.\n",
    "* Presentación de un caso decisión-azar (newsvendor problem).\n",
    "* Variantes que no requieren modelo de ruido (learning).\n",
    "* El caso multi-bien y el caso multi-etapa."
   ]
  },
  {
   "cell_type": "markdown",
   "metadata": {
    "hideCode": false,
    "hidePrompt": false,
    "slideshow": {
     "slide_type": "slide"
    }
   },
   "source": [
    "## Dynamic Programming y azar-decisión.\n",
    "\n",
    "Consideremos el problema clásico de programación dinámica, con estado $x_k$, control $u_k$ y horizonte finito $T$ sin costo final. Sea $w_k$ el ruido de entrada (por ahora $iid$):\n",
    "\n",
    "$$\\min E\\left[\\sum_{k=0}^{T-1} g_k(u_k,x_k,w_k)\\right]$$\n",
    "\n",
    "con $x_{k+1} = f_k(u_k,x_k,w_k)$."
   ]
  },
  {
   "cell_type": "markdown",
   "metadata": {
    "hideCode": false,
    "hidePrompt": false,
    "slideshow": {
     "slide_type": "slide"
    }
   },
   "source": [
    "### Iteración de Bellman\n",
    "\n",
    "<img style=\"float:right; width: 200px; padding-left:1em\" src=\"bellman.jpg\" />\n",
    "\n",
    "El problema anterior se resuelve mediante la iteración clásica de Bellman:\n",
    "\n",
    "* Condición inicial: $V_T (x_T) \\equiv 0$\n",
    "\n",
    "* Backward recursion:\n",
    "\n",
    "$$V_k(x) = \\min_{u_k} E_{w_k}\\left[g_k(u_k,x,w_k) + V_{k+1}(x_{k+1})\\right]$$\n",
    "\n",
    "con $x_{k+1} = f_k(u_k,x,w_k)$.\n",
    "\n",
    "> **Nota:** este es el caso clásico, donde suponemos que el optimizador no conoce $w_k$ antes de tomar la decisión $u_k$. Llamamos a este caso *decisión-azar*."
   ]
  },
  {
   "cell_type": "markdown",
   "metadata": {
    "hideCode": false,
    "hidePrompt": false,
    "slideshow": {
     "slide_type": "slide"
    }
   },
   "source": [
    "## El caso azar-decisión\n",
    "\n",
    "Supongamos que el optimizador conoce $w_k$ antes de tomar la decisión $u_k$. Podemos formular el problema como uno clásico extendiendo el espacio de estados:\n",
    "\n",
    "$$\\tilde{x}_k = \\begin{pmatrix} x_k \\\\ w_k \\end{pmatrix},$$\n",
    "\n",
    "con dinámica:\n",
    "\n",
    "$$\\tilde{x}_{k+1} = \\begin{pmatrix} f_k(u_k,x_k,w_k) \\\\ w_{k+1} \\end{pmatrix}.$$\n",
    "\n",
    "Observemos que en este caso el ruido que entra involucra a $w_{k+1}$ en la dinámica (o sea $\\tilde{w}_k = w_{k+1}$)."
   ]
  },
  {
   "cell_type": "markdown",
   "metadata": {
    "hideCode": false,
    "hidePrompt": false,
    "slideshow": {
     "slide_type": "slide"
    }
   },
   "source": [
    "### Bellman déjà-vu\n",
    "\n",
    "* Backward recursion original:\n",
    "\n",
    "$$\\begin{align*}\n",
    "\\tilde{V}_k(\\tilde{x}_k) = \\tilde{V}_k(x_k,w_k) &= \\min_{u_k} E_{\\tilde{w}_k}\\left[g_k(u_k,x_k,w_k) + \\tilde{V}_{k+1}(\\tilde{x}_{k+1})\\right] \\\\\n",
    "                     &= \\min_{u_k} \\left[g_k(u_k,x_k,w_k) + E_{w_{k+1}}[\\tilde{V}_{k+1}(x_{k+1}, w_{k+1})]\\right].\n",
    "\\end{align*}$$\n",
    "\n",
    "* Backward recursion en dos pasos:\n",
    "\n",
    "$$\\begin{align*}\n",
    "V_T(x) &\\equiv 0 \\\\\n",
    "\\tilde{V}_k (x_k,w_k) &= \\min_{u_k} \\left[g_k(u_k,x_k,w_k) + V_{k+1}(x_{k+1})\\right] \\\\\n",
    "V_{k}(x_k) &= E_{w_{k}}\\left[\\tilde{V}_{k}(x_{k}, w_{k})]\\right].\n",
    "\\end{align*}$$\n"
   ]
  },
  {
   "cell_type": "markdown",
   "metadata": {
    "hideCode": false,
    "hidePrompt": false,
    "slideshow": {
     "slide_type": "slide"
    }
   },
   "source": [
    "### SDDP\n",
    "\n",
    "Esto lleva a la iteración básica de SDDP: supongamos que $w_k$ tiene soporte finito, entonces $E_{w_{k+1}}$ se puede calcular promediando. Si además sustituimos $\\tilde{V}_k$ por una aproximación por hiperplanos, obtendremos promediando una aproximación por hiperplanos de $V_k$.\n",
    "\n",
    "**Algoritmo:**\n",
    " \n",
    "1. $\\hat{V}_T(x) \\equiv 0$ \n",
    "2. Calculo $\\hat{V}_k (x_k,w_k)=\\min_{u_k,x} [g_k(u_k,x_k,w_k)+ \\hat{V}_{k+1}(x_{k+1})]$, forzando $x=x_k$. \n",
    " \n",
    "3. Con el multiplicador de $x=x_k$ calculo un corte para $\\hat{V}_k (x_k,w_k)$.\n",
    "4. Promediando los cortes en $w_k$ obtengo un corte para $\\hat{V}_{k}(x_k)$.\n",
    "\n",
    "\n",
    "**Punto clave:** el punto $x_{k+1}$ solo depende de $u_k$ (el control a determinar). $w_k$ y $x_k$ son dados."
   ]
  },
  {
   "cell_type": "markdown",
   "metadata": {
    "hideCode": false,
    "hidePrompt": false,
    "slideshow": {
     "slide_type": "slide"
    }
   },
   "source": [
    "## El caso decisión-azar\n",
    "\n",
    "Volviendo a la recursión original:\n",
    "\n",
    "$$V_k(x_k) = \\min_{u_k} E_{w_k}\\left[g_k(u_k,x_k,w_k) + V_{k+1}(x_{k+1})\\right]$$\n",
    "\n",
    "con $x_{k+1} = f_k(u_k,x_k,w_k)$.\n",
    "\n",
    "no parece posible realizar la misma descomposición en dos pasos de la recursión aislando la esperanza.\n",
    "\n",
    "**Problema:** el punto $x_{k+1}$ sigue siendo indeterminado, depende del ruido aun no observado. Por lo tanto, es difícil establecer donde pondríamos un corte para $V_{k+1}(x_{k+1})$."
   ]
  },
  {
   "cell_type": "markdown",
   "metadata": {
    "hideCode": false,
    "hidePrompt": false,
    "slideshow": {
     "slide_type": "slide"
    }
   },
   "source": [
    "### ¿Y si el ruido entra solo en la dinámica?\n",
    "\n",
    "La recursión queda:\n",
    "\n",
    "$$V_k(x_k) = \\min_{u_k} \\left\\{g_k(u_k,x_k) + E_{w_k}[V_{k+1}(x_{k+1})]\\right\\}$$\n",
    "\n",
    "con $x_{k+1} = f_k(u_k,x_k,w_k)$.\n",
    "\n",
    "**Problema:** el punto $x_{k+1}$ sigue siendo indeterminado..."
   ]
  },
  {
   "cell_type": "markdown",
   "metadata": {
    "hideCode": false,
    "hidePrompt": false,
    "slideshow": {
     "slide_type": "slide"
    }
   },
   "source": [
    "### Q-factors\n",
    "\n",
    "¿Qué ocurre si nos pasamos a los factores $Q$? \n",
    "\n",
    "Sea:\n",
    "\n",
    "$$Q_k(x_k,u_k) = E_{w_k}[g_k(u_k,x_k,w_k) + V_{k+1}(x_{k+1})]$$\n",
    "\n",
    "con $x_{k+1} = f_k(u_k,x_k,w_k)$.\n",
    "\n",
    "Recordemos que $V_k(x_k) = \\min_{u_k} Q_k(x_k,u_k)$."
   ]
  },
  {
   "cell_type": "markdown",
   "metadata": {
    "hideCode": false,
    "hidePrompt": false,
    "slideshow": {
     "slide_type": "slide"
    }
   },
   "source": [
    "### Bellman déjà-qu\n",
    "\n",
    "Recursión de Bellman para $Q-$factors:\n",
    "\n",
    "$$Q_k(x_k,u_k) = E_{w_k} \\left[g_k(u_k,x_k,w_k) + \\min_{u_{k+1}} Q_{k+1}(x_{k+1},u_{k+1}) \\right]$$\n"
   ]
  },
  {
   "cell_type": "markdown",
   "metadata": {
    "hideCode": false,
    "hidePrompt": false,
    "slideshow": {
     "slide_type": "slide"
    }
   },
   "source": [
    "### Intento de SDDP con Q-factors\n",
    "\n",
    "Como $x_k$ y $u_k$ son dados podemos escribir este último término como:\n",
    "\n",
    "$$E_{w_k}[\\min_{u,x,u_{k+1}} g_k(u,x,w_k) + Q_{k+1}(x_{k+1},u_{k+1})],$$\n",
    "\n",
    "donde la optimización adentro de la esperanza tiene como restricciones:\n",
    "\n",
    "* $u=u_k$\n",
    "* $x=x_k$\n",
    "* $x_{k+1} = f_k(x,u,w_k)$.\n",
    "\n",
    "Por lo tanto, de los múltiplicadores de $u_k$ y $x_k$ podemos sacar un hiperplano de soporte para:\n",
    "\n",
    "$$\\min_{u_{k+1}}  g_k(u_k,x_k,w_k) + Q_{k+1}(x_{k+1},u_{k+1})$$\n",
    "\n",
    "Promediando en los $w_k$ generamos un hiperplano de soporte para la esperanza."
   ]
  },
  {
   "cell_type": "markdown",
   "metadata": {
    "hideCode": false,
    "hidePrompt": false,
    "slideshow": {
     "slide_type": "slide"
    }
   },
   "source": [
    "### Algoritmo SDDP para Q-factors (SDQL, yo lo bauticé, avisen si existe)\n",
    "\n",
    "1. Inicializo $Q_T \\equiv 0$.\n",
    "2. Calculo $\\hat{Q}_k (x_k,u_k,w_k)=\\min_{u,x,u'} [g_k(u_k,x_k,w_k)+ \\hat{Q}_{k+1}(x_{k+1},u')]$, forzando:\n",
    "   * $u=u_k$,\n",
    "   * $x=x_k$,\n",
    "   * $x_{k+1} = f_k(x,u,w_k)$,\n",
    "   \n",
    "  para cada posible $w_k$.\n",
    "3. Con los multiplicadores de $x=x_k$ y $u=u_k$, calculo un corte para $\\hat{Q}_k (x_k,u_k, w_k)$.\n",
    "4. Promediando los cortes en $w_k$ obtengo un corte para $\\hat{Q}_{k}(x_k,u_k)$.\n"
   ]
  },
  {
   "cell_type": "markdown",
   "metadata": {
    "hideCode": false,
    "hidePrompt": false,
    "slideshow": {
     "slide_type": "slide"
    }
   },
   "source": [
    "### Caso interesante (relacionado al newsvendor)\n",
    "\n",
    "En varios problemas de control de stock, el valor está asociado al \"estado post-decisión\". En términos matemáticos, la dinámica es afín en $x$ y $u$ y por ejemplo el valor solo depende de una combinación de $x$ y $u$. A su vez el costo del paso no depende de $w_k$.\n",
    "\n",
    ">**Ejemplo:** Si $x$ es el stock al final del día y $u$ es la reposición de la noche, debemos enfrentar la demanda del día con $x+u$ y el valor futuro debería ser el mismo para un mismo $x+u$.\n",
    "\n",
    "Dicho de otro modo:\n",
    "\n",
    "$$Q_k(x_k,u_k) = J_k(x_k+u_k)$$\n",
    "\n",
    "para alguna $J$ apropiada.\n",
    "\n",
    "**Nota:** en este caso deberíamos poder reducir los multiplicadores a uno solo. Todavía no me salió pero espero que el problema de newsvendor ilustre algo de esto."
   ]
  },
  {
   "cell_type": "markdown",
   "metadata": {
    "hideCode": false,
    "hidePrompt": false,
    "slideshow": {
     "slide_type": "slide"
    }
   },
   "source": [
    "## Newsvendor problem\n",
    "\n",
    "El problema clásico de \"newsvendor\" o \"canillita\" hace referencia al siguiente problema de compra en dos etapas:\n",
    "\n",
    " * Se debe proveer un bien a una demanda aleatoria $w$ con distribución conocida.\n",
    " * Se puede realizar una compra \"day-ahead\" a precio $p$ para tener stock.\n",
    " * Si la demanda supera a la compra day-ahead, se debe comprar a precio $q>p$ (precio spot) el mismo día para compensar.\n",
    " \n",
    "**Pregunta:** ¿Cuánto debo comprar el día anterior?"
   ]
  },
  {
   "cell_type": "markdown",
   "metadata": {
    "hideCode": false,
    "hidePrompt": false,
    "slideshow": {
     "slide_type": "slide"
    }
   },
   "source": [
    "### Solución al newsvendor problem\n",
    "\n",
    "Es fácil ver que el costo total de lo anterior, para una compra $u$ day-ahead y una demanda $w$ está dado por:\n",
    "\n",
    "$$c(u,w) = pu + q (w-u)^+$$\n",
    "\n",
    "De donde el costo medio es:\n",
    "\n",
    "$$C(u) = pu + q E[(w-u)^+]$$"
   ]
  },
  {
   "cell_type": "markdown",
   "metadata": {
    "hideCode": false,
    "hidePrompt": false,
    "slideshow": {
     "slide_type": "slide"
    }
   },
   "source": [
    "Puede verse que:\n",
    "\n",
    "$$\\frac{d}{du} E[(w-u)^+] = E\\left[ \\frac{d}{du} (w-u)^+\\right] = E\\left[-\\mathbf{1}_{\\{u<w\\}}\\right] = -P(u < w)$$\n",
    "\n",
    "De donde:\n",
    "$$C'(u) = p - qP(u < w) = p - q (1-F_w(u))$$\n",
    "\n",
    "y el $u^*$ está caracterizado por:\n",
    "$$u^*: 1-F_w(u^*) = \\frac{p}{q}.$$\n",
    "\n",
    "**Ejemplo:** si $p=q/2$, tengo que comprar la mediana de la distribución."
   ]
  },
  {
   "cell_type": "markdown",
   "metadata": {
    "hideCode": false,
    "hidePrompt": false,
    "slideshow": {
     "slide_type": "slide"
    }
   },
   "source": [
    "### Newsvendor y programación dinámica\n",
    "\n",
    "Uno puede escribir el problema anterior en dos etapas como:\n",
    "\n",
    "**2a. etapa (spot):**\n",
    "\n",
    "$$\\min_{u_1} q u_1$$\n",
    "\n",
    "sujeto a:\n",
    "\n",
    "* $x_1 + u_1 \\geqslant w$,\n",
    "* $u_1\\geqslant 0$\n",
    "\n",
    "Siendo $x_1$ el stock al comenzar el día, es decir $x_0+u_0$."
   ]
  },
  {
   "cell_type": "markdown",
   "metadata": {
    "hideCode": false,
    "hidePrompt": false,
    "slideshow": {
     "slide_type": "slide"
    }
   },
   "source": [
    "Sea $V(x_1) = E[\\min_{u_1} q u_1]$ sujeto a las restricciones anteriores, entonces:\n",
    "\n",
    "**1a. etapa (day-ahead):**\n",
    "\n",
    "$$\\min_{u_0} p u_0 + V(x_1)$$\n",
    "\n",
    "sujeto a $x_1=x_0+u_0$. En este caso $V$ juega las veces de \"costo futuro\"."
   ]
  },
  {
   "cell_type": "markdown",
   "metadata": {
    "hideCode": false,
    "hidePrompt": false,
    "slideshow": {
     "slide_type": "slide"
    }
   },
   "source": [
    "### Ejemplo: demanda uniforme\n",
    "\n",
    "En el caso de que $w\\sim U[0,\\theta]$, $V(x) = E[(w-x)^+]$ se puede calcular explícitamente y da:\n",
    "\n",
    "$$V(x) = q\\frac{(\\theta - x)^2}{2\\theta}$$"
   ]
  },
  {
   "cell_type": "code",
   "execution_count": 1,
   "metadata": {
    "hideCode": false,
    "hidePrompt": false,
    "slideshow": {
     "slide_type": "fragment"
    }
   },
   "outputs": [
    {
     "ename": "LoadError",
     "evalue": "UndefVarError: jh not defined",
     "output_type": "error",
     "traceback": [
      "UndefVarError: jh not defined",
      "",
      "Stacktrace:",
      " [1] top-level scope",
      "   @ In[1]:9",
      " [2] eval",
      "   @ ./boot.jl:360 [inlined]",
      " [3] include_string(mapexpr::typeof(REPL.softscope), mod::Module, code::String, filename::String)",
      "   @ Base ./loading.jl:1116"
     ]
    }
   ],
   "source": [
    "using Plots, LaTeXStrings\n",
    "default(size=(900,500), legendfontsize=10)\n",
    "\n",
    "θ=100\n",
    "x=(0:100)\n",
    "q=2.0\n",
    "\n",
    "55\n",
    "665jh+u\n",
    "\n",
    "plot(x,V.(x,q,θ), label=L\"V(x), q=%$q, \\theta=%$θ\", xlabel=L\"x\", lw=2)"
   ]
  },
  {
   "cell_type": "markdown",
   "metadata": {
    "hideCode": false,
    "hidePrompt": false,
    "slideshow": {
     "slide_type": "slide"
    }
   },
   "source": [
    "### Solución mediante SDDP\n",
    "\n",
    "**Idea:** generar una aproximación por hiperplanos de $V(x)$.\n",
    "\n",
    "**Forward step:** Dada una aproximación $V^{(l-1)}(x)$ resuelvo:\n",
    "\n",
    "$$\\min_{u_0} \\left\\{ p u_0 + V^{(l-1)}(x_1) \\right\\}$$\n",
    "\n",
    "con $x_0$ dado y $x_1 = x_0+u_0$. Obtengo el $x_1^{(l)}$ (estado a explorar).\n",
    "\n",
    "**Backward step:** Dado $x_1^{(l)}$ resuelvo para cada ruido $w$:\n",
    "\n",
    "$$\\beta(w,x_1^{(l)}) = \\min_{u_1} q u_1$$\n",
    "\n",
    "sujeto a:\n",
    "* $x_1^{(l)} + u_1 \\geqslant w \\quad [\\lambda(w,x_1^{(l)})]$,\n",
    "* $u_1\\geqslant 0$\n",
    "\n",
    "Entonces $\\beta(x_1^{(l)}) = E_w[\\beta(w,x_1^{(l)})]$ y $\\lambda(x_1^{(l)}) = E_w[\\lambda(w,x_1^{(l)})]$ definen un corte para la función $V$ en $x_1^{(l)}$. Agrego este corte y construyo $V^{(l)}$."
   ]
  },
  {
   "cell_type": "markdown",
   "metadata": {
    "hideCode": false,
    "hidePrompt": false,
    "slideshow": {
     "slide_type": "slide"
    }
   },
   "source": [
    "### Ejemplo:\n",
    "\n",
    "Tomemos demanda uniforme con $\\theta=100$ y discreticemos los ruidos en $\\{0,1,\\ldots,100\\}$. $p=1.0$, $q=2.0$. En este caso, el control óptimo es comprar $50$."
   ]
  },
  {
   "cell_type": "code",
   "execution_count": 2,
   "metadata": {
    "hideCode": false,
    "hidePrompt": false,
    "slideshow": {
     "slide_type": "skip"
    }
   },
   "outputs": [
    {
     "name": "stdout",
     "output_type": "stream",
     "text": [
      "Academic license - for non-commercial use only - expires 2021-11-06\n"
     ]
    }
   ],
   "source": [
    "using Distributions, JuMP, Gurobi, Plots, ProgressMeter, StatsBase\n",
    "gurobi_env = Gurobi.Env();"
   ]
  },
  {
   "cell_type": "code",
   "execution_count": 3,
   "metadata": {
    "hideCode": false,
    "hidePrompt": false,
    "slideshow": {
     "slide_type": "skip"
    }
   },
   "outputs": [
    {
     "data": {
      "text/plain": [
       "piecewise_linear (generic function with 1 method)"
      ]
     },
     "execution_count": 3,
     "metadata": {},
     "output_type": "execute_result"
    }
   ],
   "source": [
    "function piecewise_linear(x,cuts)\n",
    "    \n",
    "    return maximum([cut[1]+cut[2]*x for cut in cuts])\n",
    "end"
   ]
  },
  {
   "cell_type": "code",
   "execution_count": 4,
   "metadata": {
    "hideCode": false,
    "hidePrompt": false,
    "slideshow": {
     "slide_type": "skip"
    }
   },
   "outputs": [],
   "source": [
    "p = 1.0 #day ahead price\n",
    "q = 2.0 #same day price\n",
    "\n",
    "#condicion inicial de stock\n",
    "stock_ini=0.0;"
   ]
  },
  {
   "cell_type": "code",
   "execution_count": 5,
   "metadata": {
    "hideCode": false,
    "hidePrompt": false,
    "slideshow": {
     "slide_type": "skip"
    }
   },
   "outputs": [
    {
     "name": "stderr",
     "output_type": "stream",
     "text": [
      "\u001b[32mProgress: 100%|█████████████████████████████████████████| Time: 0:00:18\u001b[39m\n"
     ]
    }
   ],
   "source": [
    "#array de vectores de cuts. Arranca en la lower bound\n",
    "#cuts = beta + lambda x_1 -> [beta,lambda]\n",
    "cuts = [[0.0,0.0]];\n",
    "\n",
    "niter=20\n",
    "\n",
    "@showprogress for i=1:niter\n",
    "    \n",
    "    #Forward Step\n",
    "    model = JuMP.Model(optimizer_with_attributes(() -> Gurobi.Optimizer(gurobi_env), \"OutputFlag\" => 0))\n",
    "    @variable(model,u0>=0);\n",
    "    @variable(model,x0>=0);\n",
    "    @variable(model,z);\n",
    "\n",
    "    for i=1:length(cuts)\n",
    "        cut=cuts[i]\n",
    "        @constraint(model,z>=cut[1]+cut[2]*(x0+u0));\n",
    "    end\n",
    "\n",
    "    fix_x = @constraint(model,x0.==stock_ini);\n",
    "\n",
    "    @objective(model,Min,p*u0+z);\n",
    "\n",
    "    optimize!(model)\n",
    "\n",
    "    x1_value=value.(u0)+value.(x0);\n",
    "\n",
    "    #BACKWARD STEP\n",
    "    #For every noise\n",
    "    local_cuts = [];\n",
    "\n",
    "    for w=0:100 #demanda uniforme theta=100\n",
    "        model = JuMP.Model(optimizer_with_attributes(() -> Gurobi.Optimizer(gurobi_env), \"OutputFlag\" => 0))\n",
    "\n",
    "        @variable(model,u1>=0);\n",
    "        fix_x = @constraint(model,x1_value-w+u1.>=0);\n",
    "\n",
    "        @objective(model,Min,q*u1);\n",
    "\n",
    "        optimize!(model)\n",
    "\n",
    "        beta = objective_value(model);\n",
    "        lambda = -dual.(fix_x)\n",
    "\n",
    "        push!(local_cuts,[beta-lambda*x1_value;lambda])\n",
    "    end\n",
    "\n",
    "    new_cut = mean(local_cuts)\n",
    "    push!(cuts,new_cut);\n",
    "    \n",
    "end"
   ]
  },
  {
   "cell_type": "code",
   "execution_count": 6,
   "metadata": {
    "hideCode": false,
    "hidePrompt": false,
    "slideshow": {
     "slide_type": "fragment"
    }
   },
   "outputs": [
    {
     "ename": "LoadError",
     "evalue": "UndefVarError: V not defined",
     "output_type": "error",
     "traceback": [
      "UndefVarError: V not defined",
      "",
      "Stacktrace:",
      " [1] macro expansion",
      "   @ ./In[6]:7 [inlined]",
      " [2] top-level scope",
      "   @ ~/.julia/packages/Plots/yfzIY/src/animation.jl:197",
      " [3] eval",
      "   @ ./boot.jl:360 [inlined]",
      " [4] include_string(mapexpr::typeof(REPL.softscope), mod::Module, code::String, filename::String)",
      "   @ Base ./loading.jl:1116"
     ]
    }
   ],
   "source": [
    "#Ploteo los cuts obtenidos\n",
    "x=(0:100)\n",
    "\n",
    "anim=nothing\n",
    "anim = @animate for i=1:length(cuts)\n",
    "    pl=plot(;xlim=(0,100),ylim=(-10,100))\n",
    "    plot!(pl,x,V.(x,q,θ),lw=2 , label=L\"V(x)\")\n",
    "    plot!(pl,x,piecewise_linear.(x,Ref(cuts[1:i])),lw=2, label=L\"V^{(l)}(x), l=%$i\")\n",
    "    plot!(pl,x,piecewise_linear.(x,Ref([cuts[i]])), lw=1, ls=:dash, label=\"corte agregado\")\n",
    "    plot!(pl,xlabel=L\"x\")\n",
    "end\n",
    "\n",
    "gif(anim,\"tmp.gif\",fps=1)"
   ]
  },
  {
   "cell_type": "markdown",
   "metadata": {
    "hideCode": false,
    "hidePrompt": false,
    "slideshow": {
     "slide_type": "slide"
    }
   },
   "source": [
    "### Resuelvo el problema de stock\n",
    "\n",
    "Con la aproximación de $V$ obtenida puedo resolver el problema forward una última vez para hallar el control óptimo:"
   ]
  },
  {
   "cell_type": "code",
   "execution_count": 7,
   "metadata": {
    "hideCode": false,
    "hidePrompt": false,
    "slideshow": {
     "slide_type": "fragment"
    }
   },
   "outputs": [
    {
     "name": "stdout",
     "output_type": "stream",
     "text": [
      "Stock day ahead: 49.99999999999982.\n",
      "Costo estimado: 75.24752475247524.\n"
     ]
    }
   ],
   "source": [
    "model = JuMP.Model(optimizer_with_attributes(() -> Gurobi.Optimizer(gurobi_env), \"OutputFlag\" => 0))\n",
    "@variable(model,u0>=0);\n",
    "@variable(model,x0>=0);\n",
    "@variable(model,z);\n",
    "\n",
    "for i=1:length(cuts)\n",
    "    cut=cuts[i]\n",
    "    @constraint(model,z>=cut[1]+cut[2]*(x0+u0));\n",
    "end\n",
    "\n",
    "fix_x = @constraint(model,x0.==stock_ini);\n",
    "\n",
    "@objective(model,Min,p*u0+z);\n",
    "\n",
    "optimize!(model)\n",
    "\n",
    "x1_value=value.(u0)+value.(x0);\n",
    "println(\"Stock day ahead: $x1_value.\")\n",
    "println(\"Costo estimado: $(objective_value(model)).\")\n"
   ]
  },
  {
   "cell_type": "markdown",
   "metadata": {
    "hideCode": false,
    "hidePrompt": false,
    "slideshow": {
     "slide_type": "slide"
    }
   },
   "source": [
    "## SDDP y Learning: stochastic cutting plane\n",
    "\n",
    "En la formulación anterior, se asume que conocemos de antemano todos los ruidos posibles para calcular el promedio. ¿Qué ocurre si nos revelan realizaciones de los ruidos de a una muestra?\n",
    "\n",
    "**Stochastic cutting plane:**\n",
    "\n",
    "1. Se realiza la pasada forward, generando una muestra nueva de ruido $w^{(l)}$ y un punto de exploración $x_1^{(l)}$.\n",
    "\n",
    "2. Para todas las muestras de ruido observadas $\\{w^{(j)}, j=1,\\ldots,l\\}$ se resuelve el problema de 2a. etapa, generando un *corte aproximado* en $x_1^{(l)}$ promediando los hiperplanos.\n",
    "\n",
    "3. Se \"apaga\" la aproximación anterior $V^{(l-1)}$ por un factor $\\frac{l-1}{l}$.\n",
    "\n",
    "4. Se agrega el nuevo corte, construyendo $V^{(l)}$."
   ]
  },
  {
   "cell_type": "code",
   "execution_count": 8,
   "metadata": {
    "hideCode": false,
    "hidePrompt": false,
    "slideshow": {
     "slide_type": "skip"
    }
   },
   "outputs": [
    {
     "ename": "LoadError",
     "evalue": "UndefVarError: V not defined",
     "output_type": "error",
     "traceback": [
      "UndefVarError: V not defined",
      "",
      "Stacktrace:",
      " [1] macro expansion",
      "   @ In[8]:78 [inlined]",
      " [2] top-level scope",
      "   @ ~/.julia/packages/ProgressMeter/Vf8un/src/ProgressMeter.jl:940",
      " [3] eval",
      "   @ ./boot.jl:360 [inlined]",
      " [4] include_string(mapexpr::typeof(REPL.softscope), mod::Module, code::String, filename::String)",
      "   @ Base ./loading.jl:1116"
     ]
    }
   ],
   "source": [
    "#array de vectores de cuts. Arranca en la lower bound\n",
    "cuts = [[0.0;0.0]];\n",
    "\n",
    "#aca guardo solo los multiplicadores (para ver lo que pasa)\n",
    "duals = [0.0];\n",
    "\n",
    "#aca guardo los ruidos que fueron saliendo\n",
    "noises = Array{Float64}(undef,0);\n",
    "\n",
    "#condicion inicial de stock\n",
    "stock_ini=0.0;\n",
    "\n",
    "#inicializo la animacion para ir viendo los cortes paso a paso\n",
    "anim=Animation()\n",
    "\n",
    "@showprogress 1 \"Computing...\" for l=1:200\n",
    "    \n",
    "    #Forward Step (IDEM SDDP)\n",
    "    model = JuMP.Model(optimizer_with_attributes(() -> Gurobi.Optimizer(gurobi_env), \"OutputFlag\" => 0))\n",
    "    @variable(model,u0>=0);\n",
    "    @variable(model,x0>=0);\n",
    "    @variable(model,z);\n",
    "\n",
    "    for i=1:length(cuts)\n",
    "        cut=cuts[i]\n",
    "        @constraint(model,z>=cut[1]+cut[2]*(x0+u0));\n",
    "    end\n",
    "\n",
    "    fix_x = @constraint(model,x0.==stock_ini);\n",
    "\n",
    "    @objective(model,Min,p*u0+z);\n",
    "\n",
    "    optimize!(model)\n",
    "\n",
    "    x1_value=value.(u0)+value.(x0);\n",
    "\n",
    "\n",
    "    #Sorteo el ruido del paso\n",
    "    w=rand(DiscreteUniform(0,100));\n",
    "    \n",
    "    #lo agrego a los observados\n",
    "    push!(noises,w)\n",
    "\n",
    "    local_cuts = [];\n",
    "\n",
    "    #resuelvo para cada ruido observado\n",
    "    for k=1:length(noises)\n",
    "\n",
    "        model = JuMP.Model(optimizer_with_attributes(() -> Gurobi.Optimizer(gurobi_env), \"OutputFlag\" => 0))\n",
    "\n",
    "        @variable(model,u1>=0);\n",
    "        fix_x = @constraint(model,x1_value-noises[k]+u1.>=0);\n",
    "\n",
    "        @objective(model,Min,q*u1);\n",
    "\n",
    "        optimize!(model)\n",
    "\n",
    "        beta = objective_value(model);\n",
    "        lambda = -dual.(fix_x)\n",
    "        \n",
    "        #guardo el lambda\n",
    "        push!(duals,lambda);\n",
    "        \n",
    "        push!(local_cuts,[beta-lambda*x1_value;lambda])\n",
    "\n",
    "    end\n",
    "\n",
    "    #Apago los cortes anteriores\n",
    "    cuts = (l-1)/l*cuts;\n",
    "    \n",
    "    #construyo el nuevo corte y lo agrego\n",
    "    new_cut = mean(local_cuts);\n",
    "    push!(cuts,new_cut);\n",
    "        \n",
    "    #Grafico para la animacion\n",
    "    x=(0:100)\n",
    "    pl=plot(;xlabel=\"Iteracion $l\",legend=:none,xlim=(0,100),ylim=(-10,100))\n",
    "    plot!(pl,x,V.(x,q,θ),lw=2)\n",
    "    plot!(pl,x,piecewise_linear.(x,Ref(cuts)),lw=2)\n",
    "    plot!(pl,x,piecewise_linear.(x,Ref([cuts[end]])),ls=:dash)\n",
    "    frame(anim)\n",
    "\n",
    "end"
   ]
  },
  {
   "cell_type": "code",
   "execution_count": 9,
   "metadata": {
    "hideCode": false,
    "hidePrompt": false,
    "slideshow": {
     "slide_type": "slide"
    }
   },
   "outputs": [
    {
     "ename": "LoadError",
     "evalue": "ArgumentError: Cannot build empty animations",
     "output_type": "error",
     "traceback": [
      "ArgumentError: Cannot build empty animations",
      "",
      "Stacktrace:",
      " [1] buildanimation(anim::Animation, fn::String, is_animated_gif::Bool; fps::Int64, loop::Int64, variable_palette::Bool, verbose::Bool, show_msg::Bool)",
      "   @ Plots ~/.julia/packages/Plots/yfzIY/src/animation.jl:83",
      " [2] #gif#249",
      "   @ ~/.julia/packages/Plots/yfzIY/src/animation.jl:64 [inlined]",
      " [3] top-level scope",
      "   @ In[9]:1",
      " [4] eval",
      "   @ ./boot.jl:360 [inlined]",
      " [5] include_string(mapexpr::typeof(REPL.softscope), mod::Module, code::String, filename::String)",
      "   @ Base ./loading.jl:1116"
     ]
    }
   ],
   "source": [
    "gif(anim,\"tmp2.gif\",fps=10)"
   ]
  },
  {
   "cell_type": "markdown",
   "metadata": {
    "hideCode": false,
    "hidePrompt": false,
    "slideshow": {
     "slide_type": "slide"
    }
   },
   "source": [
    "### Resuelvo el problema de stock\n",
    "\n",
    "Con la aproximación de $V$ obtenida puedo resolver el problema forward una última vez para hallar el control óptimo:"
   ]
  },
  {
   "cell_type": "code",
   "execution_count": 10,
   "metadata": {
    "hideCode": false,
    "hidePrompt": false,
    "slideshow": {
     "slide_type": "fragment"
    }
   },
   "outputs": [
    {
     "name": "stdout",
     "output_type": "stream",
     "text": [
      "Stock day ahead: 5.0.\n",
      "Costo estimado: 5.0.\n"
     ]
    }
   ],
   "source": [
    "model = JuMP.Model(optimizer_with_attributes(() -> Gurobi.Optimizer(gurobi_env), \"OutputFlag\" => 0))\n",
    "@variable(model,u0>=0);\n",
    "@variable(model,x0>=0);\n",
    "@variable(model,z);\n",
    "\n",
    "for i=1:length(cuts)\n",
    "    cut=cuts[i]\n",
    "    @constraint(model,z>=cut[1]+cut[2]*(x0+u0));\n",
    "end\n",
    "\n",
    "fix_x = @constraint(model,x0.==stock_ini);\n",
    "\n",
    "@objective(model,Min,p*u0+z);\n",
    "\n",
    "optimize!(model)\n",
    "\n",
    "x1_value=value.(u0)+value.(x0);\n",
    "println(\"Stock day ahead: $x1_value.\")\n",
    "println(\"Costo estimado: $(objective_value(model)).\")\n"
   ]
  },
  {
   "cell_type": "markdown",
   "metadata": {
    "hideCode": false,
    "hidePrompt": false
   },
   "source": [
    "### Precios duales\n",
    "\n",
    "Una observación interesante surge de mirar lo que ocurre con los valores duales que fue calculando el algoritmo:"
   ]
  },
  {
   "cell_type": "code",
   "execution_count": 11,
   "metadata": {
    "hideCode": false,
    "hidePrompt": false
   },
   "outputs": [
    {
     "data": {
      "text/plain": [
       "2-element Vector{Float64}:\n",
       "  0.0\n",
       " -2.0"
      ]
     },
     "execution_count": 11,
     "metadata": {},
     "output_type": "execute_result"
    }
   ],
   "source": [
    "duals"
   ]
  },
  {
   "cell_type": "markdown",
   "metadata": {
    "hideCode": false,
    "hidePrompt": false,
    "slideshow": {
     "slide_type": "slide"
    }
   },
   "source": [
    "### Dualidad del problema spot\n",
    "\n",
    "Recordemos el problema spot:\n",
    "\n",
    "$$\\min_{u_1\\geqslant 0} q u_1$$\n",
    "\n",
    "sujeto a:\n",
    "\n",
    "$$x_1 + u_1 \\geqslant w,$$\n",
    "\n",
    "Calculemos:\n",
    "\n",
    "$$\\mathcal{L}(u_1,\\lambda) = q u_1 - \\lambda (x_1+u_1-w) = (q-\\lambda)u_1 + \\lambda(w-x_1).$$"
   ]
  },
  {
   "cell_type": "markdown",
   "metadata": {
    "hideCode": false,
    "hidePrompt": false,
    "slideshow": {
     "slide_type": "slide"
    }
   },
   "source": [
    "Minimizando el Lagrangeano en $u_1$ obtenemos el dual:\n",
    "\n",
    "$$\\mathcal{D}(\\lambda) = \\min_{u_1\\geqslant 0} \\mathcal{L}(u_1,\\lambda) = \\begin{cases} \\lambda(w-x_1) &\\quad \\lambda\\leqslant q \\\\ -\\infty &\\quad \\lambda>q \\end{cases}$$\n",
    "\n",
    "Por lo tanto, el problema dual, *para todos los ruidos*, es lineal y tiene conjunto factible $[0,q]$. Sus extremos son $0$ y $q$ por lo que estas son las soluciones posibles.\n",
    "\n",
    "De hecho, resolviendo el dual:\n",
    "\n",
    "$$\\arg\\max_{0\\leqslant \\lambda \\leqslant q} \\mathcal{D}(\\lambda) = \\begin{cases} 0 &\\quad w\\leqslant x_1 \\\\ q &\\quad w>x_1 \\end{cases}$$\n",
    "\n",
    "Entonces la construcción del hiperplano actual se reduce a: mirar para todos los ruidos si me quedé corto o largo, asignarle costo $q(w-x)^+$ a cada uno y promediar. La pendiente promedio es $q$ por la fracción de veces que me quedé corto."
   ]
  },
  {
   "cell_type": "markdown",
   "metadata": {
    "hideCode": false,
    "hidePrompt": false,
    "slideshow": {
     "slide_type": "slide"
    }
   },
   "source": [
    "## Stochastic Decomposition\n",
    "\n",
    "**Idea:** aprovechar la estructura anterior para evitar resolver problemas lineales extra.\n",
    "\n",
    "**Stochastic decomposition:**\n",
    "\n",
    "1. Se realiza la pasada forward, generando una muestra nueva de ruido $w^{(l)}$ y un punto de exploración $x_1^{(l)}$.\n",
    "\n",
    "2. Para la nueva muestra $w^{(l)}$, se resuelve el problema de 2a. etapa y se genera un nuevo dual $\\lambda^{(l)}$. Este se agrega al conjunto de duales observados.\n",
    "\n",
    "3. Para todas las muestras de ruido observadas hasta el momento $\\{w^{(j)}, j=1,\\ldots,l\\}$ se evalúa $D(\\lambda)$ en $x^{(l)}$ para ese $w^{(j)}$ y todos los $\\lambda$ observados y nos quedamos con el máximo en cada uno.\n",
    "\n",
    "4. Promediando los valores anteriores, generamos un *corte aproximado* en $x_1^{(l)}$ promediando los hiperplanos.\n",
    "\n",
    "3. Se \"apaga\" la aproximación anterior $V^{(l-1)}$ por un factor $\\frac{l-1}{l}$.\n",
    "\n",
    "4. Se agrega el nuevo corte, construyendo $V^{(l)}$."
   ]
  },
  {
   "cell_type": "code",
   "execution_count": 12,
   "metadata": {
    "hideCode": false,
    "hidePrompt": false,
    "slideshow": {
     "slide_type": "skip"
    }
   },
   "outputs": [
    {
     "ename": "LoadError",
     "evalue": "UndefVarError: V not defined",
     "output_type": "error",
     "traceback": [
      "UndefVarError: V not defined",
      "",
      "Stacktrace:",
      " [1] macro expansion",
      "   @ In[12]:83 [inlined]",
      " [2] top-level scope",
      "   @ ~/.julia/packages/ProgressMeter/Vf8un/src/ProgressMeter.jl:940",
      " [3] eval",
      "   @ ./boot.jl:360 [inlined]",
      " [4] include_string(mapexpr::typeof(REPL.softscope), mod::Module, code::String, filename::String)",
      "   @ Base ./loading.jl:1116"
     ]
    }
   ],
   "source": [
    "#array de vectores de cuts. Arranca en la lower bound\n",
    "cuts = [[0.0;0.0]];\n",
    "\n",
    "#aca guardo solo los multiplicadores (para ver lo que pasa)\n",
    "duals = Set{Float64}();\n",
    "\n",
    "#aca guardo los ruidos que fueron saliendo\n",
    "noises = Array{Float64}(undef,0);\n",
    "\n",
    "#condicion inicial de stock\n",
    "stock_ini=0.0;\n",
    "\n",
    "#inicializo la animacion para ir viendo los cortes paso a paso\n",
    "anim=Animation()\n",
    "\n",
    "@showprogress 1 \"Computing...\" for l=1:200\n",
    "    \n",
    "    #Forward Step (IDEM SDDP)\n",
    "    model = JuMP.Model(optimizer_with_attributes(() -> Gurobi.Optimizer(gurobi_env), \"OutputFlag\" => 0))\n",
    "    @variable(model,u0>=0);\n",
    "    @variable(model,x0>=0);\n",
    "    @variable(model,z);\n",
    "\n",
    "    for i=1:length(cuts)\n",
    "        cut=cuts[i]\n",
    "        @constraint(model,z>=cut[1]+cut[2]*(x0+u0));\n",
    "    end\n",
    "\n",
    "    fix_x = @constraint(model,x0.==stock_ini);\n",
    "\n",
    "    @objective(model,Min,p*u0+z);\n",
    "\n",
    "    optimize!(model)\n",
    "\n",
    "    x1_value=value.(u0)+value.(x0);\n",
    "\n",
    "\n",
    "    #Sorteo el ruido del paso\n",
    "    w=rand(DiscreteUniform(0,100));\n",
    "    \n",
    "    #lo agrego a los observados\n",
    "    push!(noises,w)\n",
    "\n",
    "    ##Resuelvo SOLO para el nuevo ruido\n",
    "    model = JuMP.Model(optimizer_with_attributes(() -> Gurobi.Optimizer(gurobi_env), \"OutputFlag\" => 0))\n",
    "\n",
    "    @variable(model,u1>=0);\n",
    "    fix_x = @constraint(model,x1_value-w+u1.>=0);\n",
    "\n",
    "    @objective(model,Min,q*u1);\n",
    "\n",
    "    optimize!(model)\n",
    "\n",
    "    beta = objective_value(model);\n",
    "    lambda = dual.(fix_x)\n",
    "        \n",
    "    #Guardo el lambda en el conjunto observado\n",
    "    push!(duals,lambda);\n",
    "        \n",
    "    \n",
    "    #Obtengo el valor de costo y dual para cada ruido anterior buscando en el set de duals y genero un nuevo corte\n",
    "    \n",
    "    local_cuts = [];\n",
    "    pik = similar(noises);\n",
    "    #genero el new cut recorriendo todos los ruidos\n",
    "    for j=1:length(noises)\n",
    "        aux = [(pi*(noises[j]-x1_value),pi) for pi in duals]\n",
    "        _, ix = findmax([a[1] for a in aux])\n",
    "        pik[j] = aux[ix][2];\n",
    "    end\n",
    "\n",
    "    new_cut  = [mean(pik.*noises); -mean(pik) ];\n",
    "    \n",
    "    #Apago los cortes anteriores\n",
    "    cuts = (l-1)/l*cuts;\n",
    "    \n",
    "    #agrego el nuevo corte\n",
    "    push!(cuts,new_cut);\n",
    "        \n",
    "    #Grafico para la animacion\n",
    "    x=(0:100)\n",
    "    pl=plot(;xlabel=\"Iteracion $l\",legend=:none,xlim=(0,100),ylim=(-10,100))\n",
    "    plot!(pl,x,V.(x,q,θ),lw=2)\n",
    "    plot!(pl,x,piecewise_linear.(x,Ref(cuts)),lw=2)\n",
    "    plot!(pl,x,piecewise_linear.(x,Ref([cuts[end]])),ls=:dash)\n",
    "    frame(anim)\n",
    "\n",
    "end"
   ]
  },
  {
   "cell_type": "code",
   "execution_count": 13,
   "metadata": {
    "hideCode": false,
    "hidePrompt": false,
    "slideshow": {
     "slide_type": "slide"
    }
   },
   "outputs": [
    {
     "ename": "LoadError",
     "evalue": "ArgumentError: Cannot build empty animations",
     "output_type": "error",
     "traceback": [
      "ArgumentError: Cannot build empty animations",
      "",
      "Stacktrace:",
      " [1] buildanimation(anim::Animation, fn::String, is_animated_gif::Bool; fps::Int64, loop::Int64, variable_palette::Bool, verbose::Bool, show_msg::Bool)",
      "   @ Plots ~/.julia/packages/Plots/yfzIY/src/animation.jl:83",
      " [2] #gif#249",
      "   @ ~/.julia/packages/Plots/yfzIY/src/animation.jl:64 [inlined]",
      " [3] top-level scope",
      "   @ In[13]:1",
      " [4] eval",
      "   @ ./boot.jl:360 [inlined]",
      " [5] include_string(mapexpr::typeof(REPL.softscope), mod::Module, code::String, filename::String)",
      "   @ Base ./loading.jl:1116"
     ]
    }
   ],
   "source": [
    "gif(anim,\"tmp3.gif\",fps=10)"
   ]
  },
  {
   "cell_type": "markdown",
   "metadata": {
    "hideCode": false,
    "hidePrompt": false,
    "slideshow": {
     "slide_type": "slide"
    }
   },
   "source": [
    "### Resuelvo el problema de stock\n",
    "\n",
    "Con la aproximación de $V$ obtenida puedo resolver el problema forward una última vez para hallar el control óptimo:"
   ]
  },
  {
   "cell_type": "code",
   "execution_count": 14,
   "metadata": {
    "hideCode": false,
    "hidePrompt": false,
    "slideshow": {
     "slide_type": "fragment"
    }
   },
   "outputs": [
    {
     "name": "stdout",
     "output_type": "stream",
     "text": [
      "Stock day ahead: 21.0.\n",
      "Costo estimado: 21.0.\n"
     ]
    }
   ],
   "source": [
    "model = JuMP.Model(optimizer_with_attributes(() -> Gurobi.Optimizer(gurobi_env), \"OutputFlag\" => 0))\n",
    "@variable(model,u0>=0);\n",
    "@variable(model,x0>=0);\n",
    "@variable(model,z);\n",
    "\n",
    "for i=1:length(cuts)\n",
    "    cut=cuts[i]\n",
    "    @constraint(model,z>=cut[1]+cut[2]*(x0+u0));\n",
    "end\n",
    "\n",
    "fix_x = @constraint(model,x0.==stock_ini);\n",
    "\n",
    "@objective(model,Min,p*u0+z);\n",
    "\n",
    "optimize!(model)\n",
    "\n",
    "x1_value=value.(u0)+value.(x0);\n",
    "println(\"Stock day ahead: $x1_value.\")\n",
    "println(\"Costo estimado: $(objective_value(model)).\")\n"
   ]
  },
  {
   "cell_type": "code",
   "execution_count": 15,
   "metadata": {
    "hideCode": false,
    "hidePrompt": false,
    "slideshow": {
     "slide_type": "slide"
    }
   },
   "outputs": [
    {
     "name": "stdout",
     "output_type": "stream",
     "text": [
      "Duales observados: Set([2.0])\n"
     ]
    }
   ],
   "source": [
    "println(\"Duales observados: $duals\")"
   ]
  },
  {
   "cell_type": "markdown",
   "metadata": {
    "hideCode": false,
    "hidePrompt": false,
    "slideshow": {
     "slide_type": "slide"
    }
   },
   "source": [
    "## Preguntas:\n",
    "\n",
    "* ¿Podemos usar estas ideas para generar variantes \"learning\" de SDDP?\n",
    "* ¿Cómo escribimos bien el problema decisión-azar en el caso multi-etapa?\n",
    "* ¿Cuál sería la generalización de SCP a multi-stage?\n",
    "* ¿Cómo sería SCP en el caso azar-decisión?"
   ]
  },
  {
   "cell_type": "markdown",
   "metadata": {
    "hideCode": false,
    "hidePrompt": false,
    "slideshow": {
     "slide_type": "slide"
    }
   },
   "source": [
    "### Intentos de respuesta y algunos caveats...(work in progress)"
   ]
  }
 ],
 "metadata": {
  "@webio": {
   "lastCommId": null,
   "lastKernelId": null
  },
  "celltoolbar": "Slideshow",
  "hide_code_all_hidden": false,
  "hide_input": false,
  "kernelspec": {
   "display_name": "Julia 1.6.3",
   "language": "julia",
   "name": "julia-1.6"
  },
  "language_info": {
   "file_extension": ".jl",
   "mimetype": "application/julia",
   "name": "julia",
   "version": "1.6.3"
  }
 },
 "nbformat": 4,
 "nbformat_minor": 4
}
