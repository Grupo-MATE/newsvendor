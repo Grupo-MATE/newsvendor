{
 "cells": [
  {
   "cell_type": "markdown",
   "metadata": {
    "hideCode": false,
    "hidePrompt": false
   },
   "source": [
    "# Multistage newsvendor problem\n",
    "\n",
    "## SDDP and Stochastic Decomposition methods\n",
    "\n",
    "\n",
    "### Problema (2 stages)\n",
    "\n",
    "Se desea resolver:\n",
    "\n",
    "$$\\min E[p_1 u_1 + p_2 u_2 + p_3 u_3]$$\n",
    "\n",
    "sujeto a:\n",
    "\n",
    "$$x_1 = x_0 + u_1,$$\n",
    "$$x_1+u_2\\geqslant w_1,$$\n",
    "$$x_2 = x_1 + u_2 - w_1,$$\n",
    "$$x_2 + u_3 \\geqslant w_2.$$"
   ]
  },
  {
   "cell_type": "code",
   "execution_count": 1,
   "metadata": {
    "hideCode": false,
    "hidePrompt": false
   },
   "outputs": [
    {
     "name": "stdout",
     "output_type": "stream",
     "text": [
      "Academic license - for non-commercial use only - expires 2021-11-06\n"
     ]
    },
    {
     "data": {
      "text/plain": [
       "Gurobi.Env(Ptr{Nothing} @0x000000000385fd40, false, 0)"
      ]
     },
     "execution_count": 1,
     "metadata": {},
     "output_type": "execute_result"
    }
   ],
   "source": [
    "using Distributions, JuMP, Gurobi, Plots, ProgressMeter, StatsBase\n",
    "gurobi_env = Gurobi.Env()"
   ]
  },
  {
   "cell_type": "code",
   "execution_count": 2,
   "metadata": {
    "hideCode": false,
    "hidePrompt": false
   },
   "outputs": [
    {
     "data": {
      "text/plain": [
       "piecewise_linear (generic function with 1 method)"
      ]
     },
     "execution_count": 2,
     "metadata": {},
     "output_type": "execute_result"
    }
   ],
   "source": [
    "function piecewise_linear(x,cuts)\n",
    "    \n",
    "    return maximum([cut[1]+cut[2]*x for cut in cuts])\n",
    "end"
   ]
  },
  {
   "cell_type": "code",
   "execution_count": 3,
   "metadata": {
    "hideCode": false,
    "hidePrompt": false
   },
   "outputs": [],
   "source": [
    "p1 = 1.0 #day ahead price\n",
    "p2 = 2.0 #first day price\n",
    "p3 = 4.0 #last day price\n",
    "\n",
    "#condicion inicial de stock\n",
    "x0=0.0;"
   ]
  },
  {
   "cell_type": "code",
   "execution_count": 4,
   "metadata": {
    "hideCode": false,
    "hidePrompt": false
   },
   "outputs": [
    {
     "name": "stdout",
     "output_type": "stream",
     "text": [
      "x1:0.0, x2: 0.0\n",
      "x1:100.5, x2: 74.5\n"
     ]
    },
    {
     "name": "stderr",
     "output_type": "stream",
     "text": [
      "\r",
      "\u001b[32mProgress:   2%|▉                                        |  ETA: 0:17:04\u001b[39m"
     ]
    },
    {
     "name": "stdout",
     "output_type": "stream",
     "text": [
      "x1:137.34756193782553, x2: 93.34756193782553\n",
      "x1:118.89350081922466, x2: 37.5\n",
      "x1:134.14905390931838, x2: 81.14905390931838\n",
      "x1:126.19326683291783, x2: 102.19326683291783\n",
      "x1:121.94221105527663, x2: 55.99999999999999\n",
      "x1:133.79946524064124, x2: 80.79946524064124\n",
      "x1:127.8177339901477, x2: 61.8177339901477\n",
      "x1:124.22727272727252, x2: 123.22727272727252\n",
      "x1:125.99999999999972, x2: 74.99999999999972\n",
      "x1:125.09493670886053, x2: 111.09493670886053\n",
      "x1:124.77570093457892, x2: 69.77570093457892\n",
      "x1:121.74402730375415, x2: 102.74402730375415\n",
      "x1:123.19801980198073, x2: 103.19801980198073\n"
     ]
    },
    {
     "name": "stderr",
     "output_type": "stream",
     "text": [
      "\r",
      "\u001b[32mProgress:  15%|██████▏                                  |  ETA: 0:02:13\u001b[39m"
     ]
    },
    {
     "name": "stdout",
     "output_type": "stream",
     "text": [
      "x1:123.99999999999918, x2: 60.999999999999176\n",
      "x1:124.27027027027106, x2: 99.27027027027106\n",
      "x1:124.69565217391518, x2: 106.69565217391518\n",
      "x1:124.50000000000398, x2: 88.50000000000398\n",
      "x1:123.11111111111107, x2: 47.0\n",
      "x1:129.201596806386, x2: 100.201596806386\n",
      "x1:126.36138613861354, x2: 51.99999999999999\n",
      "x1:123.76470588234902, x2: 79.76470588234902\n",
      "x1:125.03802281368802, x2: 49.999999999999964\n"
     ]
    },
    {
     "name": "stderr",
     "output_type": "stream",
     "text": [
      "\r",
      "\u001b[32mProgress:  24%|█████████▉                               |  ETA: 0:01:19\u001b[39m"
     ]
    },
    {
     "name": "stdout",
     "output_type": "stream",
     "text": [
      "x1:123.59602649006338, x2: 105.59602649006338\n",
      "x1:124.50000000000043, x2: 59.500000000000426\n",
      "x1:125.15686274509893, x2: 79.15686274509893\n",
      "x1:125.00000000000038, x2: 120.00000000000038\n",
      "x1:125.00000000000038, x2: 48.999999999999794\n",
      "x1:127.17948717948565, x2: 61.17948717948565\n"
     ]
    },
    {
     "name": "stderr",
     "output_type": "stream",
     "text": [
      "\r",
      "\u001b[32mProgress:  30%|████████████▎                            |  ETA: 0:01:01\u001b[39m"
     ]
    },
    {
     "name": "stdout",
     "output_type": "stream",
     "text": [
      "x1:126.23039215686322, x2: 109.23039215686322\n",
      "x1:125.72815533980612, x2: 64.72815533980612\n",
      "x1:124.78260869565383, x2: 49.99999999999982\n",
      "x1:125.17821782178228, x2: 53.17821782178228\n",
      "x1:124.97101449275362, x2: 65.97101449275362\n",
      "x1:125.0869565217406, x2: 73.0869565217406\n"
     ]
    },
    {
     "name": "stderr",
     "output_type": "stream",
     "text": [
      "\r",
      "\u001b[32mProgress:  36%|██████████████▊                          |  ETA: 0:00:48\u001b[39m"
     ]
    },
    {
     "name": "stdout",
     "output_type": "stream",
     "text": [
      "x1:124.90163934426417, x2: 97.90163934426417\n",
      "x1:125.21052631579082, x2: 100.21052631579082\n",
      "x1:125.00000000000365, x2: 96.00000000000365\n",
      "x1:124.96721311475568, x2: 89.96721311475568\n",
      "x1:125.09836065573865, x2: 49.99999999999982\n",
      "x1:125.00000000000111, x2: 49.99999999999982\n"
     ]
    },
    {
     "name": "stderr",
     "output_type": "stream",
     "text": [
      "\r",
      "\u001b[32mProgress:  42%|█████████████████▎                       |  ETA: 0:00:39\u001b[39m"
     ]
    },
    {
     "name": "stdout",
     "output_type": "stream",
     "text": [
      "x1:125.00000000000111, x2: 49.99999999999982\n",
      "x1:125.00000000000111, x2: 121.00000000000111\n",
      "x1:125.00000000000111, x2: 100.00000000000111\n",
      "x1:125.00000000000111, x2: 60.00000000000111\n",
      "x1:125.00000000000111, x2: 124.00000000000111\n"
     ]
    },
    {
     "name": "stderr",
     "output_type": "stream",
     "text": [
      "\r",
      "\u001b[32mProgress:  47%|███████████████████▎                     |  ETA: 0:00:33\u001b[39m"
     ]
    },
    {
     "name": "stdout",
     "output_type": "stream",
     "text": [
      "x1:125.00000000000111, x2: 69.00000000000111\n",
      "x1:125.00000000000111, x2: 99.00000000000111\n",
      "x1:125.00000000000111, x2: 49.99999999999982\n",
      "x1:125.00000000000111, x2: 73.00000000000111\n",
      "x1:125.00000000000111, x2: 85.00000000000111\n"
     ]
    },
    {
     "name": "stderr",
     "output_type": "stream",
     "text": [
      "\r",
      "\u001b[32mProgress:  52%|█████████████████████▍                   |  ETA: 0:00:28\u001b[39m"
     ]
    },
    {
     "name": "stdout",
     "output_type": "stream",
     "text": [
      "x1:124.60000000000129, x2: 49.99999999999982\n",
      "x1:125.00000000000007, x2: 67.00000000000007\n",
      "x1:125.10526315789662, x2: 108.10526315789662\n",
      "x1:125.0000000000005, x2: 93.0000000000005\n",
      "x1:125.0000000000005, x2: 49.99999999999982\n"
     ]
    },
    {
     "name": "stderr",
     "output_type": "stream",
     "text": [
      "\r",
      "\u001b[32mProgress:  57%|███████████████████████▍                 |  ETA: 0:00:24\u001b[39m"
     ]
    },
    {
     "name": "stdout",
     "output_type": "stream",
     "text": [
      "x1:125.0000000000005, x2: 119.0000000000005\n",
      "x1:125.0000000000005, x2: 62.0000000000005\n",
      "x1:125.33333333335825, x2: 49.99999999999982\n",
      "x1:126.00000000000962, x2: 97.00000000000962\n",
      "x1:125.74257425742611, x2: 51.742574257426114\n"
     ]
    },
    {
     "name": "stderr",
     "output_type": "stream",
     "text": [
      "\r",
      "\u001b[32mProgress:  62%|█████████████████████████▍               |  ETA: 0:00:20\u001b[39m"
     ]
    },
    {
     "name": "stdout",
     "output_type": "stream",
     "text": [
      "x1:125.47999999999725, x2: 49.99999999999982\n",
      "x1:124.99999999999689, x2: 118.99999999999689\n",
      "x1:124.99999999999673, x2: 73.99999999999673\n",
      "x1:124.99999999999673, x2: 103.99999999999673\n",
      "x1:124.99999999999673, x2: 59.99999999999673\n"
     ]
    },
    {
     "name": "stderr",
     "output_type": "stream",
     "text": [
      "\r",
      "\u001b[32mProgress:  67%|███████████████████████████▌             |  ETA: 0:00:17\u001b[39m"
     ]
    },
    {
     "name": "stdout",
     "output_type": "stream",
     "text": [
      "x1:124.99999999999673, x2: 72.99999999999673\n",
      "x1:124.99999999999673, x2: 116.99999999999673\n",
      "x1:124.99999999999673, x2: 89.99999999999673\n",
      "x1:125.03703703703422, x2: 57.037037037034224\n"
     ]
    },
    {
     "name": "stderr",
     "output_type": "stream",
     "text": [
      "\r",
      "\u001b[32mProgress:  71%|█████████████████████████████▏           |  ETA: 0:00:14\u001b[39m"
     ]
    },
    {
     "name": "stdout",
     "output_type": "stream",
     "text": [
      "x1:124.96428571428451, x2: 82.96428571428451\n",
      "x1:125.03278688524482, x2: 84.03278688524482\n",
      "x1:124.96825396825196, x2: 78.96825396825196\n",
      "x1:125.0307692307669, x2: 111.0307692307669\n",
      "x1:124.9999999999993, x2: 49.99999999999982\n"
     ]
    },
    {
     "name": "stderr",
     "output_type": "stream",
     "text": [
      "\r",
      "\u001b[32mProgress:  76%|███████████████████████████████▏         |  ETA: 0:00:11\u001b[39m"
     ]
    },
    {
     "name": "stdout",
     "output_type": "stream",
     "text": [
      "x1:124.9999999999993, x2: 76.9999999999993\n",
      "x1:125.03225806451788, x2: 58.032258064517876\n",
      "x1:125.00000000000132, x2: 102.00000000000132\n",
      "x1:125.00000000000132, x2: 49.99999999999982\n"
     ]
    },
    {
     "name": "stderr",
     "output_type": "stream",
     "text": [
      "\r",
      "\u001b[32mProgress:  80%|████████████████████████████████▊        |  ETA: 0:00:09\u001b[39m"
     ]
    },
    {
     "name": "stdout",
     "output_type": "stream",
     "text": [
      "x1:125.00000000000132, x2: 110.00000000000132\n",
      "x1:125.00000000000132, x2: 108.00000000000132\n",
      "x1:125.00000000000132, x2: 73.00000000000132\n",
      "x1:125.00000000000132, x2: 49.99999999999982\n"
     ]
    },
    {
     "name": "stderr",
     "output_type": "stream",
     "text": [
      "\r",
      "\u001b[32mProgress:  84%|██████████████████████████████████▌      |  ETA: 0:00:07\u001b[39m"
     ]
    },
    {
     "name": "stdout",
     "output_type": "stream",
     "text": [
      "x1:125.00000000000132, x2: 112.00000000000132\n",
      "x1:125.00000000000132, x2: 116.00000000000132\n",
      "x1:125.00000000000132, x2: 71.00000000000132\n",
      "x1:124.93548387097056, x2: 109.93548387097056\n"
     ]
    },
    {
     "name": "stderr",
     "output_type": "stream",
     "text": [
      "\r",
      "\u001b[32mProgress:  88%|████████████████████████████████████▏    |  ETA: 0:00:05\u001b[39m"
     ]
    },
    {
     "name": "stdout",
     "output_type": "stream",
     "text": [
      "x1:125.0000000000014, x2: 114.0000000000014\n",
      "x1:125.0000000000014, x2: 111.0000000000014\n",
      "x1:125.0000000000014, x2: 60.00000000000141\n",
      "x1:125.0000000000014, x2: 91.0000000000014\n"
     ]
    },
    {
     "name": "stderr",
     "output_type": "stream",
     "text": [
      "\r",
      "\u001b[32mProgress:  92%|█████████████████████████████████████▊   |  ETA: 0:00:04\u001b[39m"
     ]
    },
    {
     "name": "stdout",
     "output_type": "stream",
     "text": [
      "x1:124.97014925373034, x2: 87.97014925373034\n",
      "x1:125.03174603174598, x2: 88.03174603174598\n",
      "x1:124.99999999999964, x2: 87.99999999999964\n",
      "x1:124.99999999999964, x2: 49.99999999999982\n"
     ]
    },
    {
     "name": "stderr",
     "output_type": "stream",
     "text": [
      "\r",
      "\u001b[32mProgress:  96%|███████████████████████████████████████▍ |  ETA: 0:00:02\u001b[39m"
     ]
    },
    {
     "name": "stdout",
     "output_type": "stream",
     "text": [
      "x1:124.99999999999964, x2: 103.99999999999964\n",
      "x1:124.99999999999964, x2: 121.99999999999964\n",
      "x1:124.99999999999964, x2: 49.99999999999982\n",
      "x1:124.99999999999964, x2: 74.99999999999964\n"
     ]
    },
    {
     "name": "stderr",
     "output_type": "stream",
     "text": [
      "\r",
      "\u001b[32mProgress: 100%|█████████████████████████████████████████| Time: 0:00:42\u001b[39m\n"
     ]
    }
   ],
   "source": [
    "#array de vectores de cuts. Arranca en la lower bound\n",
    "cuts1 = [[0.0;0.0]];\n",
    "cuts2 = [[0.0;0.0]];\n",
    "\n",
    "\n",
    "## Implemento SDDP a mano\n",
    "@showprogress 1 for i=1:100\n",
    "    \n",
    "    ## FORWARD PASS\n",
    "    #resuelvo el primer paso\n",
    "    model = JuMP.Model(optimizer_with_attributes(() -> Gurobi.Optimizer(gurobi_env), \"OutputFlag\" => 0))\n",
    "    @variable(model,u1>=0);\n",
    "    @variable(model,x1>=0);\n",
    "    @variable(model,z);\n",
    "\n",
    "    @constraint(model,x1==x0+u1)\n",
    "    \n",
    "    for i=1:length(cuts1)\n",
    "        cut=cuts1[i]\n",
    "        @constraint(model,z>=cut[1]+cut[2]*x1);\n",
    "    end\n",
    "\n",
    "    \n",
    "    @objective(model,Min,p1*u1+z);\n",
    "\n",
    "    optimize!(model)\n",
    "\n",
    "    global x1v = value.(x1);\n",
    "\n",
    "    #sorteo una demanda de primer paso\n",
    "    demand = rand(DiscreteUniform(0,100))\n",
    "    \n",
    "    #resuelvo el segundo paso\n",
    "    model = JuMP.Model(optimizer_with_attributes(() -> Gurobi.Optimizer(gurobi_env), \"OutputFlag\" => 0))\n",
    "    @variable(model,u2>=0);\n",
    "    @variable(model,x2>=0);\n",
    "    @variable(model,z);\n",
    "\n",
    "    @constraint(model,x2==x1v-demand+u2)\n",
    "    \n",
    "    for i=1:length(cuts2)\n",
    "        cut=cuts2[i]\n",
    "        @constraint(model,z>=cut[1]+cut[2]*x2);\n",
    "    end\n",
    "\n",
    "    @objective(model,Min,p2*u2+z);\n",
    "\n",
    "    optimize!(model)\n",
    "\n",
    "    global x2v = value.(x2);\n",
    "    \n",
    "    println(\"x1:$x1v, x2: $x2v\")\n",
    "    ### BACKWARD PASS\n",
    "    \n",
    "    #resuelvo para todos los ruidos el ultimo paso y agrego un corte\n",
    "    local_cuts = [];\n",
    "\n",
    "    for demand=(0:100)\n",
    "        \n",
    "        model = JuMP.Model(optimizer_with_attributes(() -> Gurobi.Optimizer(gurobi_env), \"OutputFlag\" => 0))\n",
    "\n",
    "        @variable(model,u3>=0);\n",
    "        @variable(model,x2>=0);\n",
    "\n",
    "        @constraint(model,x2+u3-demand>=0);\n",
    "        fix_x2 = @constraint(model,x2==x2v);\n",
    "\n",
    "        @objective(model,Min,p3*u3);\n",
    "\n",
    "        optimize!(model)\n",
    "\n",
    "        beta = objective_value(model);\n",
    "        lambda = dual(fix_x2)\n",
    "        #println(\"fix_x2=$lambda\")\n",
    "        push!(local_cuts,[beta-lambda*x2v;lambda])\n",
    "\n",
    "    end\n",
    "    push!(cuts2,mean(local_cuts))\n",
    "    \n",
    "    \n",
    "    #resuelvo para todos los ruidos el segundo paso y agrego un corte\n",
    "    local_cuts = [];\n",
    "\n",
    "    for demand=(0:100)\n",
    "        \n",
    "        model = JuMP.Model(optimizer_with_attributes(() -> Gurobi.Optimizer(gurobi_env), \"OutputFlag\" => 0))\n",
    "\n",
    "        @variable(model,u2>=0);\n",
    "        @variable(model,x1>=0);\n",
    "        @variable(model,z);\n",
    "\n",
    "        @constraint(model,x1+u2-demand>=0);\n",
    "        fix_x1 = @constraint(model,x1==x1v);\n",
    "\n",
    "        for i=1:length(cuts2)\n",
    "            cut=cuts2[i]\n",
    "            @constraint(model,z>=cut[1]+cut[2]*(x1+u2-demand));\n",
    "        end\n",
    "\n",
    "        @objective(model,Min,p2*u2+z);\n",
    "\n",
    "        optimize!(model)\n",
    "\n",
    "        beta = objective_value(model);\n",
    "        lambda = dual(fix_x1)\n",
    "        #println(\"fix_x1=$lambda\")\n",
    "        push!(local_cuts,[beta-lambda*x1v;lambda])\n",
    "\n",
    "    end\n",
    "    push!(cuts1,mean(local_cuts))\n",
    "    \n",
    "    \n",
    "end"
   ]
  },
  {
   "cell_type": "code",
   "execution_count": 5,
   "metadata": {
    "hideCode": false,
    "hidePrompt": false
   },
   "outputs": [
    {
     "data": {
      "text/plain": [
       "101-element Vector{Vector{Float64}}:\n",
       " [0.0, 0.0]\n",
       " [201.0, -2.0]\n",
       " [170.64434859327528, -1.2424272130183318]\n",
       " [85.28252132143906, -0.524458386432703]\n",
       " [158.9520635231841, -1.0736202333104599]\n",
       " [119.26693461425357, -0.7591412606607196]\n",
       " [139.92138025683764, -0.9175571022448781]\n",
       " [158.51093030095086, -1.0524458386432707]\n",
       " [127.98804038819723, -0.8136457210077448]\n",
       " [144.04352514459364, -0.9359866679737283]\n",
       " [152.41799823546708, -1.0024507401235176]\n",
       " [148.54288795216152, -0.9714733849622589]\n",
       " [149.80041172434073, -0.9814724046662096]\n",
       " ⋮\n",
       " [152.36584648563868, -0.998137437506127]\n",
       " [152.36584648563868, -0.998137437506127]\n",
       " [152.36584648563868, -0.998137437506127]\n",
       " [152.41525340652882, -0.9985295559258898]\n",
       " [153.95961180276447, -1.0108812861484169]\n",
       " [152.46466032741893, -0.9989216743456525]\n",
       " [153.69003038917756, -1.0087246348397216]\n",
       " [153.69003038917756, -1.0087246348397216]\n",
       " [153.69003038917756, -1.0087246348397216]\n",
       " [153.69003038917756, -1.0087246348397216]\n",
       " [153.73904519164793, -1.0091167532594845]\n",
       " [153.69003038917756, -1.0087246348397216]"
      ]
     },
     "execution_count": 5,
     "metadata": {},
     "output_type": "execute_result"
    }
   ],
   "source": [
    "cuts1"
   ]
  },
  {
   "cell_type": "code",
   "execution_count": 6,
   "metadata": {
    "hideCode": false,
    "hidePrompt": false
   },
   "outputs": [
    {
     "data": {
      "image/png": "[encoded data removed]",
      "image/svg+xml": [
       "<?xml version=\"1.0\" encoding=\"utf-8\"?>\n",
       "<svg xmlns=\"http://www.w3.org/2000/svg\" xmlns:xlink=\"http://www.w3.org/1999/xlink\" width=\"600\" height=\"400\" viewBox=\"0 0 2400 1600\">\n",
       "<defs>\n",
       "  <clipPath id=\"clip700\">\n",
       "    <rect x=\"0\" y=\"0\" width=\"2400\" height=\"1600\"/>\n",
       "  </clipPath>\n",
       "</defs>\n",
       "<path clip-path=\"url(#clip700)\" d=\"\n",
       "M0 1600 L2400 1600 L2400 0 L0 0  Z\n",
       "  \" fill=\"#ffffff\" fill-rule=\"evenodd\" fill-opacity=\"1\"/>\n",
       "<defs>\n",
       "  <clipPath id=\"clip701\">\n",
       "    <rect x=\"480\" y=\"0\" width=\"1681\" height=\"1600\"/>\n",
       "  </clipPath>\n",
       "</defs>\n",
       "<path clip-path=\"url(#clip700)\" d=\"\n",
       "M170.857 1486.45 L2352.76 1486.45 L2352.76 47.2441 L170.857 47.2441  Z\n",
       "  \" fill=\"#ffffff\" fill-rule=\"evenodd\" fill-opacity=\"1\"/>\n",
       "<defs>\n",
       "  <clipPath id=\"clip702\">\n",
       "    <rect x=\"170\" y=\"47\" width=\"2183\" height=\"1440\"/>\n",
       "  </clipPath>\n",
       "</defs>\n",
       "<polyline clip-path=\"url(#clip702)\" style=\"stroke:#000000; stroke-linecap:butt; stroke-linejoin:round; stroke-width:2; stroke-opacity:0.1; fill:none\" points=\"\n",
       "  232.609,1486.45 232.609,47.2441 \n",
       "  \"/>\n",
       "<polyline clip-path=\"url(#clip702)\" style=\"stroke:#000000; stroke-linecap:butt; stroke-linejoin:round; stroke-width:2; stroke-opacity:0.1; fill:none\" points=\"\n",
       "  747.208,1486.45 747.208,47.2441 \n",
       "  \"/>\n",
       "<polyline clip-path=\"url(#clip702)\" style=\"stroke:#000000; stroke-linecap:butt; stroke-linejoin:round; stroke-width:2; stroke-opacity:0.1; fill:none\" points=\"\n",
       "  1261.81,1486.45 1261.81,47.2441 \n",
       "  \"/>\n",
       "<polyline clip-path=\"url(#clip702)\" style=\"stroke:#000000; stroke-linecap:butt; stroke-linejoin:round; stroke-width:2; stroke-opacity:0.1; fill:none\" points=\"\n",
       "  1776.41,1486.45 1776.41,47.2441 \n",
       "  \"/>\n",
       "<polyline clip-path=\"url(#clip702)\" style=\"stroke:#000000; stroke-linecap:butt; stroke-linejoin:round; stroke-width:2; stroke-opacity:0.1; fill:none\" points=\"\n",
       "  2291,1486.45 2291,47.2441 \n",
       "  \"/>\n",
       "<polyline clip-path=\"url(#clip700)\" style=\"stroke:#000000; stroke-linecap:butt; stroke-linejoin:round; stroke-width:4; stroke-opacity:1; fill:none\" points=\"\n",
       "  170.857,1486.45 2352.76,1486.45 \n",
       "  \"/>\n",
       "<polyline clip-path=\"url(#clip700)\" style=\"stroke:#000000; stroke-linecap:butt; stroke-linejoin:round; stroke-width:4; stroke-opacity:1; fill:none\" points=\"\n",
       "  232.609,1486.45 232.609,1467.55 \n",
       "  \"/>\n",
       "<polyline clip-path=\"url(#clip700)\" style=\"stroke:#000000; stroke-linecap:butt; stroke-linejoin:round; stroke-width:4; stroke-opacity:1; fill:none\" points=\"\n",
       "  747.208,1486.45 747.208,1467.55 \n",
       "  \"/>\n",
       "<polyline clip-path=\"url(#clip700)\" style=\"stroke:#000000; stroke-linecap:butt; stroke-linejoin:round; stroke-width:4; stroke-opacity:1; fill:none\" points=\"\n",
       "  1261.81,1486.45 1261.81,1467.55 \n",
       "  \"/>\n",
       "<polyline clip-path=\"url(#clip700)\" style=\"stroke:#000000; stroke-linecap:butt; stroke-linejoin:round; stroke-width:4; stroke-opacity:1; fill:none\" points=\"\n",
       "  1776.41,1486.45 1776.41,1467.55 \n",
       "  \"/>\n",
       "<polyline clip-path=\"url(#clip700)\" style=\"stroke:#000000; stroke-linecap:butt; stroke-linejoin:round; stroke-width:4; stroke-opacity:1; fill:none\" points=\"\n",
       "  2291,1486.45 2291,1467.55 \n",
       "  \"/>\n",
       "<path clip-path=\"url(#clip700)\" d=\"M232.609 1515.64 Q228.998 1515.64 227.169 1519.2 Q225.364 1522.75 225.364 1529.87 Q225.364 1536.98 227.169 1540.55 Q228.998 1544.09 232.609 1544.09 Q236.244 1544.09 238.049 1540.55 Q239.878 1536.98 239.878 1529.87 Q239.878 1522.75 238.049 1519.2 Q236.244 1515.64 232.609 1515.64 M232.609 1511.93 Q238.419 1511.93 241.475 1516.54 Q244.554 1521.12 244.554 1529.87 Q244.554 1538.6 241.475 1543.21 Q238.419 1547.79 232.609 1547.79 Q226.799 1547.79 223.72 1543.21 Q220.665 1538.6 220.665 1529.87 Q220.665 1521.12 223.72 1516.54 Q226.799 1511.93 232.609 1511.93 Z\" fill=\"#000000\" fill-rule=\"evenodd\" fill-opacity=\"1\" /><path clip-path=\"url(#clip700)\" d=\"M721.907 1512.56 L740.264 1512.56 L740.264 1516.5 L726.19 1516.5 L726.19 1524.97 Q727.208 1524.62 728.227 1524.46 Q729.245 1524.27 730.264 1524.27 Q736.051 1524.27 739.43 1527.44 Q742.81 1530.62 742.81 1536.03 Q742.81 1541.61 739.338 1544.71 Q735.865 1547.79 729.546 1547.79 Q727.37 1547.79 725.102 1547.42 Q722.856 1547.05 720.449 1546.31 L720.449 1541.61 Q722.532 1542.74 724.754 1543.3 Q726.977 1543.86 729.453 1543.86 Q733.458 1543.86 735.796 1541.75 Q738.134 1539.64 738.134 1536.03 Q738.134 1532.42 735.796 1530.31 Q733.458 1528.21 729.453 1528.21 Q727.578 1528.21 725.703 1528.62 Q723.852 1529.04 721.907 1529.92 L721.907 1512.56 Z\" fill=\"#000000\" fill-rule=\"evenodd\" fill-opacity=\"1\" /><path clip-path=\"url(#clip700)\" d=\"M762.023 1515.64 Q758.412 1515.64 756.583 1519.2 Q754.777 1522.75 754.777 1529.87 Q754.777 1536.98 756.583 1540.55 Q758.412 1544.09 762.023 1544.09 Q765.657 1544.09 767.462 1540.55 Q769.291 1536.98 769.291 1529.87 Q769.291 1522.75 767.462 1519.2 Q765.657 1515.64 762.023 1515.64 M762.023 1511.93 Q767.833 1511.93 770.888 1516.54 Q773.967 1521.12 773.967 1529.87 Q773.967 1538.6 770.888 1543.21 Q767.833 1547.79 762.023 1547.79 Q756.213 1547.79 753.134 1543.21 Q750.078 1538.6 750.078 1529.87 Q750.078 1521.12 753.134 1516.54 Q756.213 1511.93 762.023 1511.93 Z\" fill=\"#000000\" fill-rule=\"evenodd\" fill-opacity=\"1\" /><path clip-path=\"url(#clip700)\" d=\"M1221.41 1543.18 L1229.05 1543.18 L1229.05 1516.82 L1220.74 1518.49 L1220.74 1514.23 L1229.01 1512.56 L1233.68 1512.56 L1233.68 1543.18 L1241.32 1543.18 L1241.32 1547.12 L1221.41 1547.12 L1221.41 1543.18 Z\" fill=\"#000000\" fill-rule=\"evenodd\" fill-opacity=\"1\" /><path clip-path=\"url(#clip700)\" d=\"M1260.77 1515.64 Q1257.15 1515.64 1255.33 1519.2 Q1253.52 1522.75 1253.52 1529.87 Q1253.52 1536.98 1255.33 1540.55 Q1257.15 1544.09 1260.77 1544.09 Q1264.4 1544.09 1266.2 1540.55 Q1268.03 1536.98 1268.03 1529.87 Q1268.03 1522.75 1266.2 1519.2 Q1264.4 1515.64 1260.77 1515.64 M1260.77 1511.93 Q1266.58 1511.93 1269.63 1516.54 Q1272.71 1521.12 1272.71 1529.87 Q1272.71 1538.6 1269.63 1543.21 Q1266.58 1547.79 1260.77 1547.79 Q1254.95 1547.79 1251.88 1543.21 Q1248.82 1538.6 1248.82 1529.87 Q1248.82 1521.12 1251.88 1516.54 Q1254.95 1511.93 1260.77 1511.93 Z\" fill=\"#000000\" fill-rule=\"evenodd\" fill-opacity=\"1\" /><path clip-path=\"url(#clip700)\" d=\"M1290.93 1515.64 Q1287.32 1515.64 1285.49 1519.2 Q1283.68 1522.75 1283.68 1529.87 Q1283.68 1536.98 1285.49 1540.55 Q1287.32 1544.09 1290.93 1544.09 Q1294.56 1544.09 1296.37 1540.55 Q1298.2 1536.98 1298.2 1529.87 Q1298.2 1522.75 1296.37 1519.2 Q1294.56 1515.64 1290.93 1515.64 M1290.93 1511.93 Q1296.74 1511.93 1299.79 1516.54 Q1302.87 1521.12 1302.87 1529.87 Q1302.87 1538.6 1299.79 1543.21 Q1296.74 1547.79 1290.93 1547.79 Q1285.12 1547.79 1282.04 1543.21 Q1278.98 1538.6 1278.98 1529.87 Q1278.98 1521.12 1282.04 1516.54 Q1285.12 1511.93 1290.93 1511.93 Z\" fill=\"#000000\" fill-rule=\"evenodd\" fill-opacity=\"1\" /><path clip-path=\"url(#clip700)\" d=\"M1736.01 1543.18 L1743.65 1543.18 L1743.65 1516.82 L1735.34 1518.49 L1735.34 1514.23 L1743.6 1512.56 L1748.28 1512.56 L1748.28 1543.18 L1755.92 1543.18 L1755.92 1547.12 L1736.01 1547.12 L1736.01 1543.18 Z\" fill=\"#000000\" fill-rule=\"evenodd\" fill-opacity=\"1\" /><path clip-path=\"url(#clip700)\" d=\"M1765.41 1512.56 L1783.77 1512.56 L1783.77 1516.5 L1769.69 1516.5 L1769.69 1524.97 Q1770.71 1524.62 1771.73 1524.46 Q1772.75 1524.27 1773.77 1524.27 Q1779.55 1524.27 1782.93 1527.44 Q1786.31 1530.62 1786.31 1536.03 Q1786.31 1541.61 1782.84 1544.71 Q1779.37 1547.79 1773.05 1547.79 Q1770.87 1547.79 1768.6 1547.42 Q1766.36 1547.05 1763.95 1546.31 L1763.95 1541.61 Q1766.04 1542.74 1768.26 1543.3 Q1770.48 1543.86 1772.96 1543.86 Q1776.96 1543.86 1779.3 1541.75 Q1781.64 1539.64 1781.64 1536.03 Q1781.64 1532.42 1779.3 1530.31 Q1776.96 1528.21 1772.96 1528.21 Q1771.08 1528.21 1769.21 1528.62 Q1767.35 1529.04 1765.41 1529.92 L1765.41 1512.56 Z\" fill=\"#000000\" fill-rule=\"evenodd\" fill-opacity=\"1\" /><path clip-path=\"url(#clip700)\" d=\"M1805.53 1515.64 Q1801.91 1515.64 1800.09 1519.2 Q1798.28 1522.75 1798.28 1529.87 Q1798.28 1536.98 1800.09 1540.55 Q1801.91 1544.09 1805.53 1544.09 Q1809.16 1544.09 1810.97 1540.55 Q1812.79 1536.98 1812.79 1529.87 Q1812.79 1522.75 1810.97 1519.2 Q1809.16 1515.64 1805.53 1515.64 M1805.53 1511.93 Q1811.34 1511.93 1814.39 1516.54 Q1817.47 1521.12 1817.47 1529.87 Q1817.47 1538.6 1814.39 1543.21 Q1811.34 1547.79 1805.53 1547.79 Q1799.72 1547.79 1796.64 1543.21 Q1793.58 1538.6 1793.58 1529.87 Q1793.58 1521.12 1796.64 1516.54 Q1799.72 1511.93 1805.53 1511.93 Z\" fill=\"#000000\" fill-rule=\"evenodd\" fill-opacity=\"1\" /><path clip-path=\"url(#clip700)\" d=\"M2254.7 1543.18 L2271.02 1543.18 L2271.02 1547.12 L2249.07 1547.12 L2249.07 1543.18 Q2251.73 1540.43 2256.32 1535.8 Q2260.92 1531.15 2262.1 1529.81 Q2264.35 1527.28 2265.23 1525.55 Q2266.13 1523.79 2266.13 1522.1 Q2266.13 1519.34 2264.19 1517.61 Q2262.27 1515.87 2259.16 1515.87 Q2256.96 1515.87 2254.51 1516.63 Q2252.08 1517.4 2249.3 1518.95 L2249.3 1514.23 Q2252.13 1513.09 2254.58 1512.51 Q2257.03 1511.93 2259.07 1511.93 Q2264.44 1511.93 2267.64 1514.62 Q2270.83 1517.31 2270.83 1521.8 Q2270.83 1523.93 2270.02 1525.85 Q2269.23 1527.74 2267.13 1530.34 Q2266.55 1531.01 2263.45 1534.23 Q2260.34 1537.42 2254.7 1543.18 Z\" fill=\"#000000\" fill-rule=\"evenodd\" fill-opacity=\"1\" /><path clip-path=\"url(#clip700)\" d=\"M2290.83 1515.64 Q2287.22 1515.64 2285.39 1519.2 Q2283.59 1522.75 2283.59 1529.87 Q2283.59 1536.98 2285.39 1540.55 Q2287.22 1544.09 2290.83 1544.09 Q2294.46 1544.09 2296.27 1540.55 Q2298.1 1536.98 2298.1 1529.87 Q2298.1 1522.75 2296.27 1519.2 Q2294.46 1515.64 2290.83 1515.64 M2290.83 1511.93 Q2296.64 1511.93 2299.7 1516.54 Q2302.77 1521.12 2302.77 1529.87 Q2302.77 1538.6 2299.7 1543.21 Q2296.64 1547.79 2290.83 1547.79 Q2285.02 1547.79 2281.94 1543.21 Q2278.89 1538.6 2278.89 1529.87 Q2278.89 1521.12 2281.94 1516.54 Q2285.02 1511.93 2290.83 1511.93 Z\" fill=\"#000000\" fill-rule=\"evenodd\" fill-opacity=\"1\" /><path clip-path=\"url(#clip700)\" d=\"M2320.99 1515.64 Q2317.38 1515.64 2315.55 1519.2 Q2313.75 1522.75 2313.75 1529.87 Q2313.75 1536.98 2315.55 1540.55 Q2317.38 1544.09 2320.99 1544.09 Q2324.63 1544.09 2326.43 1540.55 Q2328.26 1536.98 2328.26 1529.87 Q2328.26 1522.75 2326.43 1519.2 Q2324.63 1515.64 2320.99 1515.64 M2320.99 1511.93 Q2326.8 1511.93 2329.86 1516.54 Q2332.94 1521.12 2332.94 1529.87 Q2332.94 1538.6 2329.86 1543.21 Q2326.8 1547.79 2320.99 1547.79 Q2315.18 1547.79 2312.1 1543.21 Q2309.05 1538.6 2309.05 1529.87 Q2309.05 1521.12 2312.1 1516.54 Q2315.18 1511.93 2320.99 1511.93 Z\" fill=\"#000000\" fill-rule=\"evenodd\" fill-opacity=\"1\" /><polyline clip-path=\"url(#clip702)\" style=\"stroke:#000000; stroke-linecap:butt; stroke-linejoin:round; stroke-width:2; stroke-opacity:0.1; fill:none\" points=\"\n",
       "  170.857,1445.72 2352.76,1445.72 \n",
       "  \"/>\n",
       "<polyline clip-path=\"url(#clip702)\" style=\"stroke:#000000; stroke-linecap:butt; stroke-linejoin:round; stroke-width:2; stroke-opacity:0.1; fill:none\" points=\"\n",
       "  170.857,1107.97 2352.76,1107.97 \n",
       "  \"/>\n",
       "<polyline clip-path=\"url(#clip702)\" style=\"stroke:#000000; stroke-linecap:butt; stroke-linejoin:round; stroke-width:2; stroke-opacity:0.1; fill:none\" points=\"\n",
       "  170.857,770.223 2352.76,770.223 \n",
       "  \"/>\n",
       "<polyline clip-path=\"url(#clip702)\" style=\"stroke:#000000; stroke-linecap:butt; stroke-linejoin:round; stroke-width:2; stroke-opacity:0.1; fill:none\" points=\"\n",
       "  170.857,432.477 2352.76,432.477 \n",
       "  \"/>\n",
       "<polyline clip-path=\"url(#clip702)\" style=\"stroke:#000000; stroke-linecap:butt; stroke-linejoin:round; stroke-width:2; stroke-opacity:0.1; fill:none\" points=\"\n",
       "  170.857,94.7312 2352.76,94.7312 \n",
       "  \"/>\n",
       "<polyline clip-path=\"url(#clip700)\" style=\"stroke:#000000; stroke-linecap:butt; stroke-linejoin:round; stroke-width:4; stroke-opacity:1; fill:none\" points=\"\n",
       "  170.857,1486.45 170.857,47.2441 \n",
       "  \"/>\n",
       "<polyline clip-path=\"url(#clip700)\" style=\"stroke:#000000; stroke-linecap:butt; stroke-linejoin:round; stroke-width:4; stroke-opacity:1; fill:none\" points=\"\n",
       "  170.857,1445.72 189.755,1445.72 \n",
       "  \"/>\n",
       "<polyline clip-path=\"url(#clip700)\" style=\"stroke:#000000; stroke-linecap:butt; stroke-linejoin:round; stroke-width:4; stroke-opacity:1; fill:none\" points=\"\n",
       "  170.857,1107.97 189.755,1107.97 \n",
       "  \"/>\n",
       "<polyline clip-path=\"url(#clip700)\" style=\"stroke:#000000; stroke-linecap:butt; stroke-linejoin:round; stroke-width:4; stroke-opacity:1; fill:none\" points=\"\n",
       "  170.857,770.223 189.755,770.223 \n",
       "  \"/>\n",
       "<polyline clip-path=\"url(#clip700)\" style=\"stroke:#000000; stroke-linecap:butt; stroke-linejoin:round; stroke-width:4; stroke-opacity:1; fill:none\" points=\"\n",
       "  170.857,432.477 189.755,432.477 \n",
       "  \"/>\n",
       "<polyline clip-path=\"url(#clip700)\" style=\"stroke:#000000; stroke-linecap:butt; stroke-linejoin:round; stroke-width:4; stroke-opacity:1; fill:none\" points=\"\n",
       "  170.857,94.7312 189.755,94.7312 \n",
       "  \"/>\n",
       "<path clip-path=\"url(#clip700)\" d=\"M122.913 1431.51 Q119.302 1431.51 117.473 1435.08 Q115.668 1438.62 115.668 1445.75 Q115.668 1452.86 117.473 1456.42 Q119.302 1459.96 122.913 1459.96 Q126.547 1459.96 128.353 1456.42 Q130.182 1452.86 130.182 1445.75 Q130.182 1438.62 128.353 1435.08 Q126.547 1431.51 122.913 1431.51 M122.913 1427.81 Q128.723 1427.81 131.779 1432.42 Q134.857 1437 134.857 1445.75 Q134.857 1454.48 131.779 1459.08 Q128.723 1463.67 122.913 1463.67 Q117.103 1463.67 114.024 1459.08 Q110.969 1454.48 110.969 1445.75 Q110.969 1437 114.024 1432.42 Q117.103 1427.81 122.913 1427.81 Z\" fill=\"#000000\" fill-rule=\"evenodd\" fill-opacity=\"1\" /><path clip-path=\"url(#clip700)\" d=\"M82.7975 1090.69 L101.154 1090.69 L101.154 1094.62 L87.0799 1094.62 L87.0799 1103.1 Q88.0984 1102.75 89.1169 1102.59 Q90.1354 1102.4 91.1539 1102.4 Q96.941 1102.4 100.321 1105.57 Q103.7 1108.75 103.7 1114.16 Q103.7 1119.74 100.228 1122.84 Q96.7558 1125.92 90.4364 1125.92 Q88.2604 1125.92 85.9919 1125.55 Q83.7466 1125.18 81.3392 1124.44 L81.3392 1119.74 Q83.4225 1120.87 85.6447 1121.43 Q87.8669 1121.99 90.3438 1121.99 Q94.3484 1121.99 96.6863 1119.88 Q99.0243 1117.77 99.0243 1114.16 Q99.0243 1110.55 96.6863 1108.44 Q94.3484 1106.34 90.3438 1106.34 Q88.4688 1106.34 86.5938 1106.75 Q84.7419 1107.17 82.7975 1108.05 L82.7975 1090.69 Z\" fill=\"#000000\" fill-rule=\"evenodd\" fill-opacity=\"1\" /><path clip-path=\"url(#clip700)\" d=\"M122.913 1093.77 Q119.302 1093.77 117.473 1097.33 Q115.668 1100.87 115.668 1108 Q115.668 1115.11 117.473 1118.68 Q119.302 1122.22 122.913 1122.22 Q126.547 1122.22 128.353 1118.68 Q130.182 1115.11 130.182 1108 Q130.182 1100.87 128.353 1097.33 Q126.547 1093.77 122.913 1093.77 M122.913 1090.06 Q128.723 1090.06 131.779 1094.67 Q134.857 1099.25 134.857 1108 Q134.857 1116.73 131.779 1121.34 Q128.723 1125.92 122.913 1125.92 Q117.103 1125.92 114.024 1121.34 Q110.969 1116.73 110.969 1108 Q110.969 1099.25 114.024 1094.67 Q117.103 1090.06 122.913 1090.06 Z\" fill=\"#000000\" fill-rule=\"evenodd\" fill-opacity=\"1\" /><path clip-path=\"url(#clip700)\" d=\"M53.3995 783.568 L61.0384 783.568 L61.0384 757.203 L52.7282 758.869 L52.7282 754.61 L60.9921 752.943 L65.668 752.943 L65.668 783.568 L73.3068 783.568 L73.3068 787.503 L53.3995 787.503 L53.3995 783.568 Z\" fill=\"#000000\" fill-rule=\"evenodd\" fill-opacity=\"1\" /><path clip-path=\"url(#clip700)\" d=\"M92.7512 756.022 Q89.1401 756.022 87.3114 759.587 Q85.5058 763.129 85.5058 770.258 Q85.5058 777.365 87.3114 780.929 Q89.1401 784.471 92.7512 784.471 Q96.3854 784.471 98.1909 780.929 Q100.02 777.365 100.02 770.258 Q100.02 763.129 98.1909 759.587 Q96.3854 756.022 92.7512 756.022 M92.7512 752.318 Q98.5613 752.318 101.617 756.925 Q104.696 761.508 104.696 770.258 Q104.696 778.985 101.617 783.591 Q98.5613 788.175 92.7512 788.175 Q86.941 788.175 83.8623 783.591 Q80.8068 778.985 80.8068 770.258 Q80.8068 761.508 83.8623 756.925 Q86.941 752.318 92.7512 752.318 Z\" fill=\"#000000\" fill-rule=\"evenodd\" fill-opacity=\"1\" /><path clip-path=\"url(#clip700)\" d=\"M122.913 756.022 Q119.302 756.022 117.473 759.587 Q115.668 763.129 115.668 770.258 Q115.668 777.365 117.473 780.929 Q119.302 784.471 122.913 784.471 Q126.547 784.471 128.353 780.929 Q130.182 777.365 130.182 770.258 Q130.182 763.129 128.353 759.587 Q126.547 756.022 122.913 756.022 M122.913 752.318 Q128.723 752.318 131.779 756.925 Q134.857 761.508 134.857 770.258 Q134.857 778.985 131.779 783.591 Q128.723 788.175 122.913 788.175 Q117.103 788.175 114.024 783.591 Q110.969 778.985 110.969 770.258 Q110.969 761.508 114.024 756.925 Q117.103 752.318 122.913 752.318 Z\" fill=\"#000000\" fill-rule=\"evenodd\" fill-opacity=\"1\" /><path clip-path=\"url(#clip700)\" d=\"M53.3995 445.822 L61.0384 445.822 L61.0384 419.457 L52.7282 421.123 L52.7282 416.864 L60.9921 415.197 L65.668 415.197 L65.668 445.822 L73.3068 445.822 L73.3068 449.757 L53.3995 449.757 L53.3995 445.822 Z\" fill=\"#000000\" fill-rule=\"evenodd\" fill-opacity=\"1\" /><path clip-path=\"url(#clip700)\" d=\"M82.7975 415.197 L101.154 415.197 L101.154 419.132 L87.0799 419.132 L87.0799 427.605 Q88.0984 427.257 89.1169 427.095 Q90.1354 426.91 91.1539 426.91 Q96.941 426.91 100.321 430.082 Q103.7 433.253 103.7 438.669 Q103.7 444.248 100.228 447.35 Q96.7558 450.429 90.4364 450.429 Q88.2604 450.429 85.9919 450.058 Q83.7466 449.688 81.3392 448.947 L81.3392 444.248 Q83.4225 445.382 85.6447 445.938 Q87.8669 446.493 90.3438 446.493 Q94.3484 446.493 96.6863 444.387 Q99.0243 442.281 99.0243 438.669 Q99.0243 435.058 96.6863 432.952 Q94.3484 430.845 90.3438 430.845 Q88.4688 430.845 86.5938 431.262 Q84.7419 431.679 82.7975 432.558 L82.7975 415.197 Z\" fill=\"#000000\" fill-rule=\"evenodd\" fill-opacity=\"1\" /><path clip-path=\"url(#clip700)\" d=\"M122.913 418.276 Q119.302 418.276 117.473 421.841 Q115.668 425.382 115.668 432.512 Q115.668 439.618 117.473 443.183 Q119.302 446.725 122.913 446.725 Q126.547 446.725 128.353 443.183 Q130.182 439.618 130.182 432.512 Q130.182 425.382 128.353 421.841 Q126.547 418.276 122.913 418.276 M122.913 414.572 Q128.723 414.572 131.779 419.179 Q134.857 423.762 134.857 432.512 Q134.857 441.239 131.779 445.845 Q128.723 450.429 122.913 450.429 Q117.103 450.429 114.024 445.845 Q110.969 441.239 110.969 432.512 Q110.969 423.762 114.024 419.179 Q117.103 414.572 122.913 414.572 Z\" fill=\"#000000\" fill-rule=\"evenodd\" fill-opacity=\"1\" /><path clip-path=\"url(#clip700)\" d=\"M56.6171 108.076 L72.9365 108.076 L72.9365 112.011 L50.9921 112.011 L50.9921 108.076 Q53.6541 105.321 58.2375 100.692 Q62.8439 96.0391 64.0245 94.6965 Q66.2698 92.1733 67.1494 90.4372 Q68.0522 88.678 68.0522 86.9882 Q68.0522 84.2336 66.1078 82.4975 Q64.1865 80.7614 61.0847 80.7614 Q58.8856 80.7614 56.4319 81.5253 Q54.0014 82.2891 51.2236 83.8401 L51.2236 79.1179 Q54.0477 77.9836 56.5014 77.4049 Q58.955 76.8262 60.9921 76.8262 Q66.3624 76.8262 69.5568 79.5114 Q72.7513 82.1965 72.7513 86.6873 Q72.7513 88.8169 71.9411 90.7382 Q71.1541 92.6363 69.0476 95.2289 Q68.4689 95.9002 65.367 99.1177 Q62.2652 102.312 56.6171 108.076 Z\" fill=\"#000000\" fill-rule=\"evenodd\" fill-opacity=\"1\" /><path clip-path=\"url(#clip700)\" d=\"M92.7512 80.5299 Q89.1401 80.5299 87.3114 84.0947 Q85.5058 87.6363 85.5058 94.7659 Q85.5058 101.872 87.3114 105.437 Q89.1401 108.979 92.7512 108.979 Q96.3854 108.979 98.1909 105.437 Q100.02 101.872 100.02 94.7659 Q100.02 87.6363 98.1909 84.0947 Q96.3854 80.5299 92.7512 80.5299 M92.7512 76.8262 Q98.5613 76.8262 101.617 81.4327 Q104.696 86.016 104.696 94.7659 Q104.696 103.493 101.617 108.099 Q98.5613 112.682 92.7512 112.682 Q86.941 112.682 83.8623 108.099 Q80.8068 103.493 80.8068 94.7659 Q80.8068 86.016 83.8623 81.4327 Q86.941 76.8262 92.7512 76.8262 Z\" fill=\"#000000\" fill-rule=\"evenodd\" fill-opacity=\"1\" /><path clip-path=\"url(#clip700)\" d=\"M122.913 80.5299 Q119.302 80.5299 117.473 84.0947 Q115.668 87.6363 115.668 94.7659 Q115.668 101.872 117.473 105.437 Q119.302 108.979 122.913 108.979 Q126.547 108.979 128.353 105.437 Q130.182 101.872 130.182 94.7659 Q130.182 87.6363 128.353 84.0947 Q126.547 80.5299 122.913 80.5299 M122.913 76.8262 Q128.723 76.8262 131.779 81.4327 Q134.857 86.016 134.857 94.7659 Q134.857 103.493 131.779 108.099 Q128.723 112.682 122.913 112.682 Q117.103 112.682 114.024 108.099 Q110.969 103.493 110.969 94.7659 Q110.969 86.016 114.024 81.4327 Q117.103 76.8262 122.913 76.8262 Z\" fill=\"#000000\" fill-rule=\"evenodd\" fill-opacity=\"1\" /><polyline clip-path=\"url(#clip702)\" style=\"stroke:#009af9; stroke-linecap:butt; stroke-linejoin:round; stroke-width:4; stroke-opacity:1; fill:none\" points=\"\n",
       "  232.609,87.9763 242.901,101.486 253.193,114.996 263.485,128.506 273.777,142.016 284.069,155.526 294.361,169.035 304.653,182.545 314.945,196.055 325.237,209.565 \n",
       "  335.529,223.075 345.821,236.585 356.113,250.094 366.405,263.604 376.697,277.114 386.989,290.624 397.281,304.134 407.573,317.644 417.865,331.153 428.157,344.663 \n",
       "  438.449,358.173 448.741,371.683 459.033,385.193 469.325,398.703 479.617,412.213 489.909,425.722 500.201,439.232 510.493,452.742 520.785,466.252 531.077,479.762 \n",
       "  541.368,493.272 551.66,506.781 561.952,520.291 572.244,533.801 582.536,547.311 592.828,560.821 603.12,574.331 613.412,587.841 623.704,601.35 633.996,614.86 \n",
       "  644.288,628.37 654.58,637.119 664.872,645.511 675.164,653.904 685.456,662.296 695.748,670.689 706.04,679.081 716.332,687.474 726.624,695.866 736.916,704.259 \n",
       "  747.208,712.651 757.5,721.044 767.792,729.436 778.084,737.829 788.376,746.221 798.668,754.614 808.96,763.006 819.252,771.399 829.544,779.791 839.836,788.184 \n",
       "  850.128,796.576 860.42,804.969 870.712,813.361 881.004,821.504 891.296,828.627 901.588,835.749 911.88,842.871 922.172,849.994 932.463,857.116 942.755,864.239 \n",
       "  953.047,871.361 963.339,878.484 973.631,885.606 983.923,892.729 994.215,899.851 1004.51,906.973 1014.8,914.096 1025.09,921.218 1035.38,928.341 1045.68,935.463 \n",
       "  1055.97,942.586 1066.26,949.708 1076.55,956.83 1086.84,963.953 1097.14,971.075 1107.43,978.198 1117.72,985.32 1128.01,992.443 1138.3,999.565 1148.59,1006.69 \n",
       "  1158.89,1013.81 1169.18,1020.93 1179.47,1028.05 1189.76,1035.18 1200.05,1042.3 1210.35,1049.42 1220.64,1056.54 1230.93,1063.67 1241.22,1070.79 1251.51,1077.91 \n",
       "  1261.81,1085.03 1272.1,1092.16 1282.39,1099.28 1292.68,1106.4 1302.97,1113.51 1313.27,1120.46 1323.56,1127.42 1333.85,1134.37 1344.14,1141.33 1354.43,1148.29 \n",
       "  1364.73,1155.24 1375.02,1162.2 1385.31,1169.15 1395.6,1176.11 1405.89,1183.06 1416.19,1190.02 1426.48,1196.97 1436.77,1203.93 1447.06,1210.89 1457.35,1217.84 \n",
       "  1467.65,1224.8 1477.94,1231.75 1488.23,1238.71 1498.52,1245.62 1508.81,1252.46 1519.11,1259.28 1529.4,1266.03 1539.69,1272.65 1549.98,1279.23 1560.27,1285.71 \n",
       "  1570.57,1292.2 1580.86,1298.43 1591.15,1304.62 1601.44,1310.8 1611.73,1316.98 1622.03,1323.14 1632.32,1328.64 1642.61,1334.13 1652.9,1339.63 1663.19,1345.13 \n",
       "  1673.49,1350.62 1683.78,1356.12 1694.07,1361.61 1704.36,1367.11 1714.65,1372.61 1724.95,1378.1 1735.24,1383.6 1745.53,1389.1 1755.82,1393.95 1766.11,1397.5 \n",
       "  1776.41,1401.04 1786.7,1404.58 1796.99,1408.13 1807.28,1411.67 1817.57,1415.21 1827.87,1418.75 1838.16,1422.3 1848.45,1425.84 1858.74,1429.38 1869.03,1432.92 \n",
       "  1879.33,1436.47 1889.62,1440.01 1899.91,1443.55 1910.2,1445.72 1920.49,1445.72 1930.78,1445.72 1941.08,1445.72 1951.37,1445.72 1961.66,1445.72 1971.95,1445.72 \n",
       "  1982.24,1445.72 1992.54,1445.72 2002.83,1445.72 2013.12,1445.72 2023.41,1445.72 2033.7,1445.72 2044,1445.72 2054.29,1445.72 2064.58,1445.72 2074.87,1445.72 \n",
       "  2085.16,1445.72 2095.46,1445.72 2105.75,1445.72 2116.04,1445.72 2126.33,1445.72 2136.62,1445.72 2146.92,1445.72 2157.21,1445.72 2167.5,1445.72 2177.79,1445.72 \n",
       "  2188.08,1445.72 2198.38,1445.72 2208.67,1445.72 2218.96,1445.72 2229.25,1445.72 2239.54,1445.72 2249.84,1445.72 2260.13,1445.72 2270.42,1445.72 2280.71,1445.72 \n",
       "  2291,1445.72 \n",
       "  \"/>\n",
       "<path clip-path=\"url(#clip700)\" d=\"\n",
       "M1985.16 198.898 L2280.03 198.898 L2280.03 95.2176 L1985.16 95.2176  Z\n",
       "  \" fill=\"#ffffff\" fill-rule=\"evenodd\" fill-opacity=\"1\"/>\n",
       "<polyline clip-path=\"url(#clip700)\" style=\"stroke:#000000; stroke-linecap:butt; stroke-linejoin:round; stroke-width:4; stroke-opacity:1; fill:none\" points=\"\n",
       "  1985.16,198.898 2280.03,198.898 2280.03,95.2176 1985.16,95.2176 1985.16,198.898 \n",
       "  \"/>\n",
       "<polyline clip-path=\"url(#clip700)\" style=\"stroke:#009af9; stroke-linecap:butt; stroke-linejoin:round; stroke-width:4; stroke-opacity:1; fill:none\" points=\"\n",
       "  2009.41,147.058 2154.87,147.058 \n",
       "  \"/>\n",
       "<path clip-path=\"url(#clip700)\" d=\"M2192.95 166.745 Q2191.15 171.375 2189.43 172.787 Q2187.72 174.199 2184.85 174.199 L2181.45 174.199 L2181.45 170.634 L2183.95 170.634 Q2185.71 170.634 2186.68 169.8 Q2187.65 168.967 2188.83 165.865 L2189.6 163.921 L2179.11 138.412 L2183.62 138.412 L2191.72 158.689 L2199.83 138.412 L2204.34 138.412 L2192.95 166.745 Z\" fill=\"#000000\" fill-rule=\"evenodd\" fill-opacity=\"1\" /><path clip-path=\"url(#clip700)\" d=\"M2211.63 160.402 L2219.27 160.402 L2219.27 134.037 L2210.96 135.703 L2210.96 131.444 L2219.22 129.778 L2223.9 129.778 L2223.9 160.402 L2231.54 160.402 L2231.54 164.338 L2211.63 164.338 L2211.63 160.402 Z\" fill=\"#000000\" fill-rule=\"evenodd\" fill-opacity=\"1\" /></svg>\n"
      ],
      "text/html": [
       "<?xml version=\"1.0\" encoding=\"utf-8\"?>\n",
       "<svg xmlns=\"http://www.w3.org/2000/svg\" xmlns:xlink=\"http://www.w3.org/1999/xlink\" width=\"600\" height=\"400\" viewBox=\"0 0 2400 1600\">\n",
       "<defs>\n",
       "  <clipPath id=\"clip750\">\n",
       "    <rect x=\"0\" y=\"0\" width=\"2400\" height=\"1600\"/>\n",
       "  </clipPath>\n",
       "</defs>\n",
       "<path clip-path=\"url(#clip750)\" d=\"\n",
       "M0 1600 L2400 1600 L2400 0 L0 0  Z\n",
       "  \" fill=\"#ffffff\" fill-rule=\"evenodd\" fill-opacity=\"1\"/>\n",
       "<defs>\n",
       "  <clipPath id=\"clip751\">\n",
       "    <rect x=\"480\" y=\"0\" width=\"1681\" height=\"1600\"/>\n",
       "  </clipPath>\n",
       "</defs>\n",
       "<path clip-path=\"url(#clip750)\" d=\"\n",
       "M170.857 1486.45 L2352.76 1486.45 L2352.76 47.2441 L170.857 47.2441  Z\n",
       "  \" fill=\"#ffffff\" fill-rule=\"evenodd\" fill-opacity=\"1\"/>\n",
       "<defs>\n",
       "  <clipPath id=\"clip752\">\n",
       "    <rect x=\"170\" y=\"47\" width=\"2183\" height=\"1440\"/>\n",
       "  </clipPath>\n",
       "</defs>\n",
       "<polyline clip-path=\"url(#clip752)\" style=\"stroke:#000000; stroke-linecap:butt; stroke-linejoin:round; stroke-width:2; stroke-opacity:0.1; fill:none\" points=\"\n",
       "  232.609,1486.45 232.609,47.2441 \n",
       "  \"/>\n",
       "<polyline clip-path=\"url(#clip752)\" style=\"stroke:#000000; stroke-linecap:butt; stroke-linejoin:round; stroke-width:2; stroke-opacity:0.1; fill:none\" points=\"\n",
       "  747.208,1486.45 747.208,47.2441 \n",
       "  \"/>\n",
       "<polyline clip-path=\"url(#clip752)\" style=\"stroke:#000000; stroke-linecap:butt; stroke-linejoin:round; stroke-width:2; stroke-opacity:0.1; fill:none\" points=\"\n",
       "  1261.81,1486.45 1261.81,47.2441 \n",
       "  \"/>\n",
       "<polyline clip-path=\"url(#clip752)\" style=\"stroke:#000000; stroke-linecap:butt; stroke-linejoin:round; stroke-width:2; stroke-opacity:0.1; fill:none\" points=\"\n",
       "  1776.41,1486.45 1776.41,47.2441 \n",
       "  \"/>\n",
       "<polyline clip-path=\"url(#clip752)\" style=\"stroke:#000000; stroke-linecap:butt; stroke-linejoin:round; stroke-width:2; stroke-opacity:0.1; fill:none\" points=\"\n",
       "  2291,1486.45 2291,47.2441 \n",
       "  \"/>\n",
       "<polyline clip-path=\"url(#clip750)\" style=\"stroke:#000000; stroke-linecap:butt; stroke-linejoin:round; stroke-width:4; stroke-opacity:1; fill:none\" points=\"\n",
       "  170.857,1486.45 2352.76,1486.45 \n",
       "  \"/>\n",
       "<polyline clip-path=\"url(#clip750)\" style=\"stroke:#000000; stroke-linecap:butt; stroke-linejoin:round; stroke-width:4; stroke-opacity:1; fill:none\" points=\"\n",
       "  232.609,1486.45 232.609,1467.55 \n",
       "  \"/>\n",
       "<polyline clip-path=\"url(#clip750)\" style=\"stroke:#000000; stroke-linecap:butt; stroke-linejoin:round; stroke-width:4; stroke-opacity:1; fill:none\" points=\"\n",
       "  747.208,1486.45 747.208,1467.55 \n",
       "  \"/>\n",
       "<polyline clip-path=\"url(#clip750)\" style=\"stroke:#000000; stroke-linecap:butt; stroke-linejoin:round; stroke-width:4; stroke-opacity:1; fill:none\" points=\"\n",
       "  1261.81,1486.45 1261.81,1467.55 \n",
       "  \"/>\n",
       "<polyline clip-path=\"url(#clip750)\" style=\"stroke:#000000; stroke-linecap:butt; stroke-linejoin:round; stroke-width:4; stroke-opacity:1; fill:none\" points=\"\n",
       "  1776.41,1486.45 1776.41,1467.55 \n",
       "  \"/>\n",
       "<polyline clip-path=\"url(#clip750)\" style=\"stroke:#000000; stroke-linecap:butt; stroke-linejoin:round; stroke-width:4; stroke-opacity:1; fill:none\" points=\"\n",
       "  2291,1486.45 2291,1467.55 \n",
       "  \"/>\n",
       "<path clip-path=\"url(#clip750)\" d=\"M232.609 1515.64 Q228.998 1515.64 227.169 1519.2 Q225.364 1522.75 225.364 1529.87 Q225.364 1536.98 227.169 1540.55 Q228.998 1544.09 232.609 1544.09 Q236.244 1544.09 238.049 1540.55 Q239.878 1536.98 239.878 1529.87 Q239.878 1522.75 238.049 1519.2 Q236.244 1515.64 232.609 1515.64 M232.609 1511.93 Q238.419 1511.93 241.475 1516.54 Q244.554 1521.12 244.554 1529.87 Q244.554 1538.6 241.475 1543.21 Q238.419 1547.79 232.609 1547.79 Q226.799 1547.79 223.72 1543.21 Q220.665 1538.6 220.665 1529.87 Q220.665 1521.12 223.72 1516.54 Q226.799 1511.93 232.609 1511.93 Z\" fill=\"#000000\" fill-rule=\"evenodd\" fill-opacity=\"1\" /><path clip-path=\"url(#clip750)\" d=\"M721.907 1512.56 L740.264 1512.56 L740.264 1516.5 L726.19 1516.5 L726.19 1524.97 Q727.208 1524.62 728.227 1524.46 Q729.245 1524.27 730.264 1524.27 Q736.051 1524.27 739.43 1527.44 Q742.81 1530.62 742.81 1536.03 Q742.81 1541.61 739.338 1544.71 Q735.865 1547.79 729.546 1547.79 Q727.37 1547.79 725.102 1547.42 Q722.856 1547.05 720.449 1546.31 L720.449 1541.61 Q722.532 1542.74 724.754 1543.3 Q726.977 1543.86 729.453 1543.86 Q733.458 1543.86 735.796 1541.75 Q738.134 1539.64 738.134 1536.03 Q738.134 1532.42 735.796 1530.31 Q733.458 1528.21 729.453 1528.21 Q727.578 1528.21 725.703 1528.62 Q723.852 1529.04 721.907 1529.92 L721.907 1512.56 Z\" fill=\"#000000\" fill-rule=\"evenodd\" fill-opacity=\"1\" /><path clip-path=\"url(#clip750)\" d=\"M762.023 1515.64 Q758.412 1515.64 756.583 1519.2 Q754.777 1522.75 754.777 1529.87 Q754.777 1536.98 756.583 1540.55 Q758.412 1544.09 762.023 1544.09 Q765.657 1544.09 767.462 1540.55 Q769.291 1536.98 769.291 1529.87 Q769.291 1522.75 767.462 1519.2 Q765.657 1515.64 762.023 1515.64 M762.023 1511.93 Q767.833 1511.93 770.888 1516.54 Q773.967 1521.12 773.967 1529.87 Q773.967 1538.6 770.888 1543.21 Q767.833 1547.79 762.023 1547.79 Q756.213 1547.79 753.134 1543.21 Q750.078 1538.6 750.078 1529.87 Q750.078 1521.12 753.134 1516.54 Q756.213 1511.93 762.023 1511.93 Z\" fill=\"#000000\" fill-rule=\"evenodd\" fill-opacity=\"1\" /><path clip-path=\"url(#clip750)\" d=\"M1221.41 1543.18 L1229.05 1543.18 L1229.05 1516.82 L1220.74 1518.49 L1220.74 1514.23 L1229.01 1512.56 L1233.68 1512.56 L1233.68 1543.18 L1241.32 1543.18 L1241.32 1547.12 L1221.41 1547.12 L1221.41 1543.18 Z\" fill=\"#000000\" fill-rule=\"evenodd\" fill-opacity=\"1\" /><path clip-path=\"url(#clip750)\" d=\"M1260.77 1515.64 Q1257.15 1515.64 1255.33 1519.2 Q1253.52 1522.75 1253.52 1529.87 Q1253.52 1536.98 1255.33 1540.55 Q1257.15 1544.09 1260.77 1544.09 Q1264.4 1544.09 1266.2 1540.55 Q1268.03 1536.98 1268.03 1529.87 Q1268.03 1522.75 1266.2 1519.2 Q1264.4 1515.64 1260.77 1515.64 M1260.77 1511.93 Q1266.58 1511.93 1269.63 1516.54 Q1272.71 1521.12 1272.71 1529.87 Q1272.71 1538.6 1269.63 1543.21 Q1266.58 1547.79 1260.77 1547.79 Q1254.95 1547.79 1251.88 1543.21 Q1248.82 1538.6 1248.82 1529.87 Q1248.82 1521.12 1251.88 1516.54 Q1254.95 1511.93 1260.77 1511.93 Z\" fill=\"#000000\" fill-rule=\"evenodd\" fill-opacity=\"1\" /><path clip-path=\"url(#clip750)\" d=\"M1290.93 1515.64 Q1287.32 1515.64 1285.49 1519.2 Q1283.68 1522.75 1283.68 1529.87 Q1283.68 1536.98 1285.49 1540.55 Q1287.32 1544.09 1290.93 1544.09 Q1294.56 1544.09 1296.37 1540.55 Q1298.2 1536.98 1298.2 1529.87 Q1298.2 1522.75 1296.37 1519.2 Q1294.56 1515.64 1290.93 1515.64 M1290.93 1511.93 Q1296.74 1511.93 1299.79 1516.54 Q1302.87 1521.12 1302.87 1529.87 Q1302.87 1538.6 1299.79 1543.21 Q1296.74 1547.79 1290.93 1547.79 Q1285.12 1547.79 1282.04 1543.21 Q1278.98 1538.6 1278.98 1529.87 Q1278.98 1521.12 1282.04 1516.54 Q1285.12 1511.93 1290.93 1511.93 Z\" fill=\"#000000\" fill-rule=\"evenodd\" fill-opacity=\"1\" /><path clip-path=\"url(#clip750)\" d=\"M1736.01 1543.18 L1743.65 1543.18 L1743.65 1516.82 L1735.34 1518.49 L1735.34 1514.23 L1743.6 1512.56 L1748.28 1512.56 L1748.28 1543.18 L1755.92 1543.18 L1755.92 1547.12 L1736.01 1547.12 L1736.01 1543.18 Z\" fill=\"#000000\" fill-rule=\"evenodd\" fill-opacity=\"1\" /><path clip-path=\"url(#clip750)\" d=\"M1765.41 1512.56 L1783.77 1512.56 L1783.77 1516.5 L1769.69 1516.5 L1769.69 1524.97 Q1770.71 1524.62 1771.73 1524.46 Q1772.75 1524.27 1773.77 1524.27 Q1779.55 1524.27 1782.93 1527.44 Q1786.31 1530.62 1786.31 1536.03 Q1786.31 1541.61 1782.84 1544.71 Q1779.37 1547.79 1773.05 1547.79 Q1770.87 1547.79 1768.6 1547.42 Q1766.36 1547.05 1763.95 1546.31 L1763.95 1541.61 Q1766.04 1542.74 1768.26 1543.3 Q1770.48 1543.86 1772.96 1543.86 Q1776.96 1543.86 1779.3 1541.75 Q1781.64 1539.64 1781.64 1536.03 Q1781.64 1532.42 1779.3 1530.31 Q1776.96 1528.21 1772.96 1528.21 Q1771.08 1528.21 1769.21 1528.62 Q1767.35 1529.04 1765.41 1529.92 L1765.41 1512.56 Z\" fill=\"#000000\" fill-rule=\"evenodd\" fill-opacity=\"1\" /><path clip-path=\"url(#clip750)\" d=\"M1805.53 1515.64 Q1801.91 1515.64 1800.09 1519.2 Q1798.28 1522.75 1798.28 1529.87 Q1798.28 1536.98 1800.09 1540.55 Q1801.91 1544.09 1805.53 1544.09 Q1809.16 1544.09 1810.97 1540.55 Q1812.79 1536.98 1812.79 1529.87 Q1812.79 1522.75 1810.97 1519.2 Q1809.16 1515.64 1805.53 1515.64 M1805.53 1511.93 Q1811.34 1511.93 1814.39 1516.54 Q1817.47 1521.12 1817.47 1529.87 Q1817.47 1538.6 1814.39 1543.21 Q1811.34 1547.79 1805.53 1547.79 Q1799.72 1547.79 1796.64 1543.21 Q1793.58 1538.6 1793.58 1529.87 Q1793.58 1521.12 1796.64 1516.54 Q1799.72 1511.93 1805.53 1511.93 Z\" fill=\"#000000\" fill-rule=\"evenodd\" fill-opacity=\"1\" /><path clip-path=\"url(#clip750)\" d=\"M2254.7 1543.18 L2271.02 1543.18 L2271.02 1547.12 L2249.07 1547.12 L2249.07 1543.18 Q2251.73 1540.43 2256.32 1535.8 Q2260.92 1531.15 2262.1 1529.81 Q2264.35 1527.28 2265.23 1525.55 Q2266.13 1523.79 2266.13 1522.1 Q2266.13 1519.34 2264.19 1517.61 Q2262.27 1515.87 2259.16 1515.87 Q2256.96 1515.87 2254.51 1516.63 Q2252.08 1517.4 2249.3 1518.95 L2249.3 1514.23 Q2252.13 1513.09 2254.58 1512.51 Q2257.03 1511.93 2259.07 1511.93 Q2264.44 1511.93 2267.64 1514.62 Q2270.83 1517.31 2270.83 1521.8 Q2270.83 1523.93 2270.02 1525.85 Q2269.23 1527.74 2267.13 1530.34 Q2266.55 1531.01 2263.45 1534.23 Q2260.34 1537.42 2254.7 1543.18 Z\" fill=\"#000000\" fill-rule=\"evenodd\" fill-opacity=\"1\" /><path clip-path=\"url(#clip750)\" d=\"M2290.83 1515.64 Q2287.22 1515.64 2285.39 1519.2 Q2283.59 1522.75 2283.59 1529.87 Q2283.59 1536.98 2285.39 1540.55 Q2287.22 1544.09 2290.83 1544.09 Q2294.46 1544.09 2296.27 1540.55 Q2298.1 1536.98 2298.1 1529.87 Q2298.1 1522.75 2296.27 1519.2 Q2294.46 1515.64 2290.83 1515.64 M2290.83 1511.93 Q2296.64 1511.93 2299.7 1516.54 Q2302.77 1521.12 2302.77 1529.87 Q2302.77 1538.6 2299.7 1543.21 Q2296.64 1547.79 2290.83 1547.79 Q2285.02 1547.79 2281.94 1543.21 Q2278.89 1538.6 2278.89 1529.87 Q2278.89 1521.12 2281.94 1516.54 Q2285.02 1511.93 2290.83 1511.93 Z\" fill=\"#000000\" fill-rule=\"evenodd\" fill-opacity=\"1\" /><path clip-path=\"url(#clip750)\" d=\"M2320.99 1515.64 Q2317.38 1515.64 2315.55 1519.2 Q2313.75 1522.75 2313.75 1529.87 Q2313.75 1536.98 2315.55 1540.55 Q2317.38 1544.09 2320.99 1544.09 Q2324.63 1544.09 2326.43 1540.55 Q2328.26 1536.98 2328.26 1529.87 Q2328.26 1522.75 2326.43 1519.2 Q2324.63 1515.64 2320.99 1515.64 M2320.99 1511.93 Q2326.8 1511.93 2329.86 1516.54 Q2332.94 1521.12 2332.94 1529.87 Q2332.94 1538.6 2329.86 1543.21 Q2326.8 1547.79 2320.99 1547.79 Q2315.18 1547.79 2312.1 1543.21 Q2309.05 1538.6 2309.05 1529.87 Q2309.05 1521.12 2312.1 1516.54 Q2315.18 1511.93 2320.99 1511.93 Z\" fill=\"#000000\" fill-rule=\"evenodd\" fill-opacity=\"1\" /><polyline clip-path=\"url(#clip752)\" style=\"stroke:#000000; stroke-linecap:butt; stroke-linejoin:round; stroke-width:2; stroke-opacity:0.1; fill:none\" points=\"\n",
       "  170.857,1445.72 2352.76,1445.72 \n",
       "  \"/>\n",
       "<polyline clip-path=\"url(#clip752)\" style=\"stroke:#000000; stroke-linecap:butt; stroke-linejoin:round; stroke-width:2; stroke-opacity:0.1; fill:none\" points=\"\n",
       "  170.857,1107.97 2352.76,1107.97 \n",
       "  \"/>\n",
       "<polyline clip-path=\"url(#clip752)\" style=\"stroke:#000000; stroke-linecap:butt; stroke-linejoin:round; stroke-width:2; stroke-opacity:0.1; fill:none\" points=\"\n",
       "  170.857,770.223 2352.76,770.223 \n",
       "  \"/>\n",
       "<polyline clip-path=\"url(#clip752)\" style=\"stroke:#000000; stroke-linecap:butt; stroke-linejoin:round; stroke-width:2; stroke-opacity:0.1; fill:none\" points=\"\n",
       "  170.857,432.477 2352.76,432.477 \n",
       "  \"/>\n",
       "<polyline clip-path=\"url(#clip752)\" style=\"stroke:#000000; stroke-linecap:butt; stroke-linejoin:round; stroke-width:2; stroke-opacity:0.1; fill:none\" points=\"\n",
       "  170.857,94.7312 2352.76,94.7312 \n",
       "  \"/>\n",
       "<polyline clip-path=\"url(#clip750)\" style=\"stroke:#000000; stroke-linecap:butt; stroke-linejoin:round; stroke-width:4; stroke-opacity:1; fill:none\" points=\"\n",
       "  170.857,1486.45 170.857,47.2441 \n",
       "  \"/>\n",
       "<polyline clip-path=\"url(#clip750)\" style=\"stroke:#000000; stroke-linecap:butt; stroke-linejoin:round; stroke-width:4; stroke-opacity:1; fill:none\" points=\"\n",
       "  170.857,1445.72 189.755,1445.72 \n",
       "  \"/>\n",
       "<polyline clip-path=\"url(#clip750)\" style=\"stroke:#000000; stroke-linecap:butt; stroke-linejoin:round; stroke-width:4; stroke-opacity:1; fill:none\" points=\"\n",
       "  170.857,1107.97 189.755,1107.97 \n",
       "  \"/>\n",
       "<polyline clip-path=\"url(#clip750)\" style=\"stroke:#000000; stroke-linecap:butt; stroke-linejoin:round; stroke-width:4; stroke-opacity:1; fill:none\" points=\"\n",
       "  170.857,770.223 189.755,770.223 \n",
       "  \"/>\n",
       "<polyline clip-path=\"url(#clip750)\" style=\"stroke:#000000; stroke-linecap:butt; stroke-linejoin:round; stroke-width:4; stroke-opacity:1; fill:none\" points=\"\n",
       "  170.857,432.477 189.755,432.477 \n",
       "  \"/>\n",
       "<polyline clip-path=\"url(#clip750)\" style=\"stroke:#000000; stroke-linecap:butt; stroke-linejoin:round; stroke-width:4; stroke-opacity:1; fill:none\" points=\"\n",
       "  170.857,94.7312 189.755,94.7312 \n",
       "  \"/>\n",
       "<path clip-path=\"url(#clip750)\" d=\"M122.913 1431.51 Q119.302 1431.51 117.473 1435.08 Q115.668 1438.62 115.668 1445.75 Q115.668 1452.86 117.473 1456.42 Q119.302 1459.96 122.913 1459.96 Q126.547 1459.96 128.353 1456.42 Q130.182 1452.86 130.182 1445.75 Q130.182 1438.62 128.353 1435.08 Q126.547 1431.51 122.913 1431.51 M122.913 1427.81 Q128.723 1427.81 131.779 1432.42 Q134.857 1437 134.857 1445.75 Q134.857 1454.48 131.779 1459.08 Q128.723 1463.67 122.913 1463.67 Q117.103 1463.67 114.024 1459.08 Q110.969 1454.48 110.969 1445.75 Q110.969 1437 114.024 1432.42 Q117.103 1427.81 122.913 1427.81 Z\" fill=\"#000000\" fill-rule=\"evenodd\" fill-opacity=\"1\" /><path clip-path=\"url(#clip750)\" d=\"M82.7975 1090.69 L101.154 1090.69 L101.154 1094.62 L87.0799 1094.62 L87.0799 1103.1 Q88.0984 1102.75 89.1169 1102.59 Q90.1354 1102.4 91.1539 1102.4 Q96.941 1102.4 100.321 1105.57 Q103.7 1108.75 103.7 1114.16 Q103.7 1119.74 100.228 1122.84 Q96.7558 1125.92 90.4364 1125.92 Q88.2604 1125.92 85.9919 1125.55 Q83.7466 1125.18 81.3392 1124.44 L81.3392 1119.74 Q83.4225 1120.87 85.6447 1121.43 Q87.8669 1121.99 90.3438 1121.99 Q94.3484 1121.99 96.6863 1119.88 Q99.0243 1117.77 99.0243 1114.16 Q99.0243 1110.55 96.6863 1108.44 Q94.3484 1106.34 90.3438 1106.34 Q88.4688 1106.34 86.5938 1106.75 Q84.7419 1107.17 82.7975 1108.05 L82.7975 1090.69 Z\" fill=\"#000000\" fill-rule=\"evenodd\" fill-opacity=\"1\" /><path clip-path=\"url(#clip750)\" d=\"M122.913 1093.77 Q119.302 1093.77 117.473 1097.33 Q115.668 1100.87 115.668 1108 Q115.668 1115.11 117.473 1118.68 Q119.302 1122.22 122.913 1122.22 Q126.547 1122.22 128.353 1118.68 Q130.182 1115.11 130.182 1108 Q130.182 1100.87 128.353 1097.33 Q126.547 1093.77 122.913 1093.77 M122.913 1090.06 Q128.723 1090.06 131.779 1094.67 Q134.857 1099.25 134.857 1108 Q134.857 1116.73 131.779 1121.34 Q128.723 1125.92 122.913 1125.92 Q117.103 1125.92 114.024 1121.34 Q110.969 1116.73 110.969 1108 Q110.969 1099.25 114.024 1094.67 Q117.103 1090.06 122.913 1090.06 Z\" fill=\"#000000\" fill-rule=\"evenodd\" fill-opacity=\"1\" /><path clip-path=\"url(#clip750)\" d=\"M53.3995 783.568 L61.0384 783.568 L61.0384 757.203 L52.7282 758.869 L52.7282 754.61 L60.9921 752.943 L65.668 752.943 L65.668 783.568 L73.3068 783.568 L73.3068 787.503 L53.3995 787.503 L53.3995 783.568 Z\" fill=\"#000000\" fill-rule=\"evenodd\" fill-opacity=\"1\" /><path clip-path=\"url(#clip750)\" d=\"M92.7512 756.022 Q89.1401 756.022 87.3114 759.587 Q85.5058 763.129 85.5058 770.258 Q85.5058 777.365 87.3114 780.929 Q89.1401 784.471 92.7512 784.471 Q96.3854 784.471 98.1909 780.929 Q100.02 777.365 100.02 770.258 Q100.02 763.129 98.1909 759.587 Q96.3854 756.022 92.7512 756.022 M92.7512 752.318 Q98.5613 752.318 101.617 756.925 Q104.696 761.508 104.696 770.258 Q104.696 778.985 101.617 783.591 Q98.5613 788.175 92.7512 788.175 Q86.941 788.175 83.8623 783.591 Q80.8068 778.985 80.8068 770.258 Q80.8068 761.508 83.8623 756.925 Q86.941 752.318 92.7512 752.318 Z\" fill=\"#000000\" fill-rule=\"evenodd\" fill-opacity=\"1\" /><path clip-path=\"url(#clip750)\" d=\"M122.913 756.022 Q119.302 756.022 117.473 759.587 Q115.668 763.129 115.668 770.258 Q115.668 777.365 117.473 780.929 Q119.302 784.471 122.913 784.471 Q126.547 784.471 128.353 780.929 Q130.182 777.365 130.182 770.258 Q130.182 763.129 128.353 759.587 Q126.547 756.022 122.913 756.022 M122.913 752.318 Q128.723 752.318 131.779 756.925 Q134.857 761.508 134.857 770.258 Q134.857 778.985 131.779 783.591 Q128.723 788.175 122.913 788.175 Q117.103 788.175 114.024 783.591 Q110.969 778.985 110.969 770.258 Q110.969 761.508 114.024 756.925 Q117.103 752.318 122.913 752.318 Z\" fill=\"#000000\" fill-rule=\"evenodd\" fill-opacity=\"1\" /><path clip-path=\"url(#clip750)\" d=\"M53.3995 445.822 L61.0384 445.822 L61.0384 419.457 L52.7282 421.123 L52.7282 416.864 L60.9921 415.197 L65.668 415.197 L65.668 445.822 L73.3068 445.822 L73.3068 449.757 L53.3995 449.757 L53.3995 445.822 Z\" fill=\"#000000\" fill-rule=\"evenodd\" fill-opacity=\"1\" /><path clip-path=\"url(#clip750)\" d=\"M82.7975 415.197 L101.154 415.197 L101.154 419.132 L87.0799 419.132 L87.0799 427.605 Q88.0984 427.257 89.1169 427.095 Q90.1354 426.91 91.1539 426.91 Q96.941 426.91 100.321 430.082 Q103.7 433.253 103.7 438.669 Q103.7 444.248 100.228 447.35 Q96.7558 450.429 90.4364 450.429 Q88.2604 450.429 85.9919 450.058 Q83.7466 449.688 81.3392 448.947 L81.3392 444.248 Q83.4225 445.382 85.6447 445.938 Q87.8669 446.493 90.3438 446.493 Q94.3484 446.493 96.6863 444.387 Q99.0243 442.281 99.0243 438.669 Q99.0243 435.058 96.6863 432.952 Q94.3484 430.845 90.3438 430.845 Q88.4688 430.845 86.5938 431.262 Q84.7419 431.679 82.7975 432.558 L82.7975 415.197 Z\" fill=\"#000000\" fill-rule=\"evenodd\" fill-opacity=\"1\" /><path clip-path=\"url(#clip750)\" d=\"M122.913 418.276 Q119.302 418.276 117.473 421.841 Q115.668 425.382 115.668 432.512 Q115.668 439.618 117.473 443.183 Q119.302 446.725 122.913 446.725 Q126.547 446.725 128.353 443.183 Q130.182 439.618 130.182 432.512 Q130.182 425.382 128.353 421.841 Q126.547 418.276 122.913 418.276 M122.913 414.572 Q128.723 414.572 131.779 419.179 Q134.857 423.762 134.857 432.512 Q134.857 441.239 131.779 445.845 Q128.723 450.429 122.913 450.429 Q117.103 450.429 114.024 445.845 Q110.969 441.239 110.969 432.512 Q110.969 423.762 114.024 419.179 Q117.103 414.572 122.913 414.572 Z\" fill=\"#000000\" fill-rule=\"evenodd\" fill-opacity=\"1\" /><path clip-path=\"url(#clip750)\" d=\"M56.6171 108.076 L72.9365 108.076 L72.9365 112.011 L50.9921 112.011 L50.9921 108.076 Q53.6541 105.321 58.2375 100.692 Q62.8439 96.0391 64.0245 94.6965 Q66.2698 92.1733 67.1494 90.4372 Q68.0522 88.678 68.0522 86.9882 Q68.0522 84.2336 66.1078 82.4975 Q64.1865 80.7614 61.0847 80.7614 Q58.8856 80.7614 56.4319 81.5253 Q54.0014 82.2891 51.2236 83.8401 L51.2236 79.1179 Q54.0477 77.9836 56.5014 77.4049 Q58.955 76.8262 60.9921 76.8262 Q66.3624 76.8262 69.5568 79.5114 Q72.7513 82.1965 72.7513 86.6873 Q72.7513 88.8169 71.9411 90.7382 Q71.1541 92.6363 69.0476 95.2289 Q68.4689 95.9002 65.367 99.1177 Q62.2652 102.312 56.6171 108.076 Z\" fill=\"#000000\" fill-rule=\"evenodd\" fill-opacity=\"1\" /><path clip-path=\"url(#clip750)\" d=\"M92.7512 80.5299 Q89.1401 80.5299 87.3114 84.0947 Q85.5058 87.6363 85.5058 94.7659 Q85.5058 101.872 87.3114 105.437 Q89.1401 108.979 92.7512 108.979 Q96.3854 108.979 98.1909 105.437 Q100.02 101.872 100.02 94.7659 Q100.02 87.6363 98.1909 84.0947 Q96.3854 80.5299 92.7512 80.5299 M92.7512 76.8262 Q98.5613 76.8262 101.617 81.4327 Q104.696 86.016 104.696 94.7659 Q104.696 103.493 101.617 108.099 Q98.5613 112.682 92.7512 112.682 Q86.941 112.682 83.8623 108.099 Q80.8068 103.493 80.8068 94.7659 Q80.8068 86.016 83.8623 81.4327 Q86.941 76.8262 92.7512 76.8262 Z\" fill=\"#000000\" fill-rule=\"evenodd\" fill-opacity=\"1\" /><path clip-path=\"url(#clip750)\" d=\"M122.913 80.5299 Q119.302 80.5299 117.473 84.0947 Q115.668 87.6363 115.668 94.7659 Q115.668 101.872 117.473 105.437 Q119.302 108.979 122.913 108.979 Q126.547 108.979 128.353 105.437 Q130.182 101.872 130.182 94.7659 Q130.182 87.6363 128.353 84.0947 Q126.547 80.5299 122.913 80.5299 M122.913 76.8262 Q128.723 76.8262 131.779 81.4327 Q134.857 86.016 134.857 94.7659 Q134.857 103.493 131.779 108.099 Q128.723 112.682 122.913 112.682 Q117.103 112.682 114.024 108.099 Q110.969 103.493 110.969 94.7659 Q110.969 86.016 114.024 81.4327 Q117.103 76.8262 122.913 76.8262 Z\" fill=\"#000000\" fill-rule=\"evenodd\" fill-opacity=\"1\" /><polyline clip-path=\"url(#clip752)\" style=\"stroke:#009af9; stroke-linecap:butt; stroke-linejoin:round; stroke-width:4; stroke-opacity:1; fill:none\" points=\"\n",
       "  232.609,87.9763 242.901,101.486 253.193,114.996 263.485,128.506 273.777,142.016 284.069,155.526 294.361,169.035 304.653,182.545 314.945,196.055 325.237,209.565 \n",
       "  335.529,223.075 345.821,236.585 356.113,250.094 366.405,263.604 376.697,277.114 386.989,290.624 397.281,304.134 407.573,317.644 417.865,331.153 428.157,344.663 \n",
       "  438.449,358.173 448.741,371.683 459.033,385.193 469.325,398.703 479.617,412.213 489.909,425.722 500.201,439.232 510.493,452.742 520.785,466.252 531.077,479.762 \n",
       "  541.368,493.272 551.66,506.781 561.952,520.291 572.244,533.801 582.536,547.311 592.828,560.821 603.12,574.331 613.412,587.841 623.704,601.35 633.996,614.86 \n",
       "  644.288,628.37 654.58,637.119 664.872,645.511 675.164,653.904 685.456,662.296 695.748,670.689 706.04,679.081 716.332,687.474 726.624,695.866 736.916,704.259 \n",
       "  747.208,712.651 757.5,721.044 767.792,729.436 778.084,737.829 788.376,746.221 798.668,754.614 808.96,763.006 819.252,771.399 829.544,779.791 839.836,788.184 \n",
       "  850.128,796.576 860.42,804.969 870.712,813.361 881.004,821.504 891.296,828.627 901.588,835.749 911.88,842.871 922.172,849.994 932.463,857.116 942.755,864.239 \n",
       "  953.047,871.361 963.339,878.484 973.631,885.606 983.923,892.729 994.215,899.851 1004.51,906.973 1014.8,914.096 1025.09,921.218 1035.38,928.341 1045.68,935.463 \n",
       "  1055.97,942.586 1066.26,949.708 1076.55,956.83 1086.84,963.953 1097.14,971.075 1107.43,978.198 1117.72,985.32 1128.01,992.443 1138.3,999.565 1148.59,1006.69 \n",
       "  1158.89,1013.81 1169.18,1020.93 1179.47,1028.05 1189.76,1035.18 1200.05,1042.3 1210.35,1049.42 1220.64,1056.54 1230.93,1063.67 1241.22,1070.79 1251.51,1077.91 \n",
       "  1261.81,1085.03 1272.1,1092.16 1282.39,1099.28 1292.68,1106.4 1302.97,1113.51 1313.27,1120.46 1323.56,1127.42 1333.85,1134.37 1344.14,1141.33 1354.43,1148.29 \n",
       "  1364.73,1155.24 1375.02,1162.2 1385.31,1169.15 1395.6,1176.11 1405.89,1183.06 1416.19,1190.02 1426.48,1196.97 1436.77,1203.93 1447.06,1210.89 1457.35,1217.84 \n",
       "  1467.65,1224.8 1477.94,1231.75 1488.23,1238.71 1498.52,1245.62 1508.81,1252.46 1519.11,1259.28 1529.4,1266.03 1539.69,1272.65 1549.98,1279.23 1560.27,1285.71 \n",
       "  1570.57,1292.2 1580.86,1298.43 1591.15,1304.62 1601.44,1310.8 1611.73,1316.98 1622.03,1323.14 1632.32,1328.64 1642.61,1334.13 1652.9,1339.63 1663.19,1345.13 \n",
       "  1673.49,1350.62 1683.78,1356.12 1694.07,1361.61 1704.36,1367.11 1714.65,1372.61 1724.95,1378.1 1735.24,1383.6 1745.53,1389.1 1755.82,1393.95 1766.11,1397.5 \n",
       "  1776.41,1401.04 1786.7,1404.58 1796.99,1408.13 1807.28,1411.67 1817.57,1415.21 1827.87,1418.75 1838.16,1422.3 1848.45,1425.84 1858.74,1429.38 1869.03,1432.92 \n",
       "  1879.33,1436.47 1889.62,1440.01 1899.91,1443.55 1910.2,1445.72 1920.49,1445.72 1930.78,1445.72 1941.08,1445.72 1951.37,1445.72 1961.66,1445.72 1971.95,1445.72 \n",
       "  1982.24,1445.72 1992.54,1445.72 2002.83,1445.72 2013.12,1445.72 2023.41,1445.72 2033.7,1445.72 2044,1445.72 2054.29,1445.72 2064.58,1445.72 2074.87,1445.72 \n",
       "  2085.16,1445.72 2095.46,1445.72 2105.75,1445.72 2116.04,1445.72 2126.33,1445.72 2136.62,1445.72 2146.92,1445.72 2157.21,1445.72 2167.5,1445.72 2177.79,1445.72 \n",
       "  2188.08,1445.72 2198.38,1445.72 2208.67,1445.72 2218.96,1445.72 2229.25,1445.72 2239.54,1445.72 2249.84,1445.72 2260.13,1445.72 2270.42,1445.72 2280.71,1445.72 \n",
       "  2291,1445.72 \n",
       "  \"/>\n",
       "<path clip-path=\"url(#clip750)\" d=\"\n",
       "M1985.16 198.898 L2280.03 198.898 L2280.03 95.2176 L1985.16 95.2176  Z\n",
       "  \" fill=\"#ffffff\" fill-rule=\"evenodd\" fill-opacity=\"1\"/>\n",
       "<polyline clip-path=\"url(#clip750)\" style=\"stroke:#000000; stroke-linecap:butt; stroke-linejoin:round; stroke-width:4; stroke-opacity:1; fill:none\" points=\"\n",
       "  1985.16,198.898 2280.03,198.898 2280.03,95.2176 1985.16,95.2176 1985.16,198.898 \n",
       "  \"/>\n",
       "<polyline clip-path=\"url(#clip750)\" style=\"stroke:#009af9; stroke-linecap:butt; stroke-linejoin:round; stroke-width:4; stroke-opacity:1; fill:none\" points=\"\n",
       "  2009.41,147.058 2154.87,147.058 \n",
       "  \"/>\n",
       "<path clip-path=\"url(#clip750)\" d=\"M2192.95 166.745 Q2191.15 171.375 2189.43 172.787 Q2187.72 174.199 2184.85 174.199 L2181.45 174.199 L2181.45 170.634 L2183.95 170.634 Q2185.71 170.634 2186.68 169.8 Q2187.65 168.967 2188.83 165.865 L2189.6 163.921 L2179.11 138.412 L2183.62 138.412 L2191.72 158.689 L2199.83 138.412 L2204.34 138.412 L2192.95 166.745 Z\" fill=\"#000000\" fill-rule=\"evenodd\" fill-opacity=\"1\" /><path clip-path=\"url(#clip750)\" d=\"M2211.63 160.402 L2219.27 160.402 L2219.27 134.037 L2210.96 135.703 L2210.96 131.444 L2219.22 129.778 L2223.9 129.778 L2223.9 160.402 L2231.54 160.402 L2231.54 164.338 L2211.63 164.338 L2211.63 160.402 Z\" fill=\"#000000\" fill-rule=\"evenodd\" fill-opacity=\"1\" /></svg>\n"
      ]
     },
     "execution_count": 6,
     "metadata": {},
     "output_type": "execute_result"
    }
   ],
   "source": [
    "x=(0:200.0)\n",
    "\n",
    "plot(x,piecewise_linear.(x,Ref(cuts1)))"
   ]
  },
  {
   "cell_type": "code",
   "execution_count": 7,
   "metadata": {
    "hideCode": false,
    "hidePrompt": false
   },
   "outputs": [
    {
     "data": {
      "text/plain": [
       "101-element Vector{Vector{Float64}}:\n",
       " [0.0, 0.0]\n",
       " [200.0, -3.9603960396039604]\n",
       " [90.0990099009901, -1.0297029702970297]\n",
       " [26.89108910891089, -0.27722772277227725]\n",
       " [172.15841584158414, -2.495049504950495]\n",
       " [68.47524752475248, -0.7524752475247525]\n",
       " [0.0, 0.0]\n",
       " [136.79207920792078, -1.7425742574257426]\n",
       " [71.68316831683168, -0.7920792079207921]\n",
       " [125.10891089108911, -1.5445544554455446]\n",
       " [0.0, 0.0]\n",
       " [87.12871287128714, -0.9900990099009901]\n",
       " [0.0, 0.0]\n",
       " ⋮\n",
       " [0.0, 0.0]\n",
       " [0.0, 0.0]\n",
       " [127.52475247524752, -1.5841584158415842]\n",
       " [34.21782178217822, -0.3564356435643564]\n",
       " [48.396039603960396, -0.5148514851485149]\n",
       " [44.91089108910891, -0.4752475247524752]\n",
       " [44.91089108910891, -0.4752475247524752]\n",
       " [149.5049504950495, -1.9801980198019802]\n",
       " [0.0, 0.0]\n",
       " [0.0, 0.0]\n",
       " [149.5049504950495, -1.9801980198019802]\n",
       " [87.12871287128714, -0.9900990099009901]"
      ]
     },
     "execution_count": 7,
     "metadata": {},
     "output_type": "execute_result"
    }
   ],
   "source": [
    "cuts2"
   ]
  },
  {
   "cell_type": "code",
   "execution_count": 8,
   "metadata": {
    "hideCode": false,
    "hidePrompt": false
   },
   "outputs": [
    {
     "data": {
      "image/png": "[encoded data removed]",
      "image/svg+xml": [
       "<?xml version=\"1.0\" encoding=\"utf-8\"?>\n",
       "<svg xmlns=\"http://www.w3.org/2000/svg\" xmlns:xlink=\"http://www.w3.org/1999/xlink\" width=\"600\" height=\"400\" viewBox=\"0 0 2400 1600\">\n",
       "<defs>\n",
       "  <clipPath id=\"clip790\">\n",
       "    <rect x=\"0\" y=\"0\" width=\"2400\" height=\"1600\"/>\n",
       "  </clipPath>\n",
       "</defs>\n",
       "<path clip-path=\"url(#clip790)\" d=\"\n",
       "M0 1600 L2400 1600 L2400 0 L0 0  Z\n",
       "  \" fill=\"#ffffff\" fill-rule=\"evenodd\" fill-opacity=\"1\"/>\n",
       "<defs>\n",
       "  <clipPath id=\"clip791\">\n",
       "    <rect x=\"480\" y=\"0\" width=\"1681\" height=\"1600\"/>\n",
       "  </clipPath>\n",
       "</defs>\n",
       "<path clip-path=\"url(#clip790)\" d=\"\n",
       "M170.857 1486.45 L2352.76 1486.45 L2352.76 47.2441 L170.857 47.2441  Z\n",
       "  \" fill=\"#ffffff\" fill-rule=\"evenodd\" fill-opacity=\"1\"/>\n",
       "<defs>\n",
       "  <clipPath id=\"clip792\">\n",
       "    <rect x=\"170\" y=\"47\" width=\"2183\" height=\"1440\"/>\n",
       "  </clipPath>\n",
       "</defs>\n",
       "<polyline clip-path=\"url(#clip792)\" style=\"stroke:#000000; stroke-linecap:butt; stroke-linejoin:round; stroke-width:2; stroke-opacity:0.1; fill:none\" points=\"\n",
       "  232.609,1486.45 232.609,47.2441 \n",
       "  \"/>\n",
       "<polyline clip-path=\"url(#clip792)\" style=\"stroke:#000000; stroke-linecap:butt; stroke-linejoin:round; stroke-width:2; stroke-opacity:0.1; fill:none\" points=\"\n",
       "  747.208,1486.45 747.208,47.2441 \n",
       "  \"/>\n",
       "<polyline clip-path=\"url(#clip792)\" style=\"stroke:#000000; stroke-linecap:butt; stroke-linejoin:round; stroke-width:2; stroke-opacity:0.1; fill:none\" points=\"\n",
       "  1261.81,1486.45 1261.81,47.2441 \n",
       "  \"/>\n",
       "<polyline clip-path=\"url(#clip792)\" style=\"stroke:#000000; stroke-linecap:butt; stroke-linejoin:round; stroke-width:2; stroke-opacity:0.1; fill:none\" points=\"\n",
       "  1776.41,1486.45 1776.41,47.2441 \n",
       "  \"/>\n",
       "<polyline clip-path=\"url(#clip792)\" style=\"stroke:#000000; stroke-linecap:butt; stroke-linejoin:round; stroke-width:2; stroke-opacity:0.1; fill:none\" points=\"\n",
       "  2291,1486.45 2291,47.2441 \n",
       "  \"/>\n",
       "<polyline clip-path=\"url(#clip790)\" style=\"stroke:#000000; stroke-linecap:butt; stroke-linejoin:round; stroke-width:4; stroke-opacity:1; fill:none\" points=\"\n",
       "  170.857,1486.45 2352.76,1486.45 \n",
       "  \"/>\n",
       "<polyline clip-path=\"url(#clip790)\" style=\"stroke:#000000; stroke-linecap:butt; stroke-linejoin:round; stroke-width:4; stroke-opacity:1; fill:none\" points=\"\n",
       "  232.609,1486.45 232.609,1467.55 \n",
       "  \"/>\n",
       "<polyline clip-path=\"url(#clip790)\" style=\"stroke:#000000; stroke-linecap:butt; stroke-linejoin:round; stroke-width:4; stroke-opacity:1; fill:none\" points=\"\n",
       "  747.208,1486.45 747.208,1467.55 \n",
       "  \"/>\n",
       "<polyline clip-path=\"url(#clip790)\" style=\"stroke:#000000; stroke-linecap:butt; stroke-linejoin:round; stroke-width:4; stroke-opacity:1; fill:none\" points=\"\n",
       "  1261.81,1486.45 1261.81,1467.55 \n",
       "  \"/>\n",
       "<polyline clip-path=\"url(#clip790)\" style=\"stroke:#000000; stroke-linecap:butt; stroke-linejoin:round; stroke-width:4; stroke-opacity:1; fill:none\" points=\"\n",
       "  1776.41,1486.45 1776.41,1467.55 \n",
       "  \"/>\n",
       "<polyline clip-path=\"url(#clip790)\" style=\"stroke:#000000; stroke-linecap:butt; stroke-linejoin:round; stroke-width:4; stroke-opacity:1; fill:none\" points=\"\n",
       "  2291,1486.45 2291,1467.55 \n",
       "  \"/>\n",
       "<path clip-path=\"url(#clip790)\" d=\"M232.609 1515.64 Q228.998 1515.64 227.169 1519.2 Q225.364 1522.75 225.364 1529.87 Q225.364 1536.98 227.169 1540.55 Q228.998 1544.09 232.609 1544.09 Q236.244 1544.09 238.049 1540.55 Q239.878 1536.98 239.878 1529.87 Q239.878 1522.75 238.049 1519.2 Q236.244 1515.64 232.609 1515.64 M232.609 1511.93 Q238.419 1511.93 241.475 1516.54 Q244.554 1521.12 244.554 1529.87 Q244.554 1538.6 241.475 1543.21 Q238.419 1547.79 232.609 1547.79 Q226.799 1547.79 223.72 1543.21 Q220.665 1538.6 220.665 1529.87 Q220.665 1521.12 223.72 1516.54 Q226.799 1511.93 232.609 1511.93 Z\" fill=\"#000000\" fill-rule=\"evenodd\" fill-opacity=\"1\" /><path clip-path=\"url(#clip790)\" d=\"M726.479 1543.18 L742.798 1543.18 L742.798 1547.12 L720.854 1547.12 L720.854 1543.18 Q723.516 1540.43 728.099 1535.8 Q732.706 1531.15 733.886 1529.81 Q736.132 1527.28 737.011 1525.55 Q737.914 1523.79 737.914 1522.1 Q737.914 1519.34 735.97 1517.61 Q734.048 1515.87 730.946 1515.87 Q728.747 1515.87 726.294 1516.63 Q723.863 1517.4 721.085 1518.95 L721.085 1514.23 Q723.909 1513.09 726.363 1512.51 Q728.817 1511.93 730.854 1511.93 Q736.224 1511.93 739.419 1514.62 Q742.613 1517.31 742.613 1521.8 Q742.613 1523.93 741.803 1525.85 Q741.016 1527.74 738.909 1530.34 Q738.331 1531.01 735.229 1534.23 Q732.127 1537.42 726.479 1543.18 Z\" fill=\"#000000\" fill-rule=\"evenodd\" fill-opacity=\"1\" /><path clip-path=\"url(#clip790)\" d=\"M752.659 1512.56 L771.016 1512.56 L771.016 1516.5 L756.942 1516.5 L756.942 1524.97 Q757.96 1524.62 758.979 1524.46 Q759.997 1524.27 761.016 1524.27 Q766.803 1524.27 770.182 1527.44 Q773.562 1530.62 773.562 1536.03 Q773.562 1541.61 770.09 1544.71 Q766.618 1547.79 760.298 1547.79 Q758.122 1547.79 755.854 1547.42 Q753.608 1547.05 751.201 1546.31 L751.201 1541.61 Q753.284 1542.74 755.507 1543.3 Q757.729 1543.86 760.206 1543.86 Q764.21 1543.86 766.548 1541.75 Q768.886 1539.64 768.886 1536.03 Q768.886 1532.42 766.548 1530.31 Q764.21 1528.21 760.206 1528.21 Q758.331 1528.21 756.456 1528.62 Q754.604 1529.04 752.659 1529.92 L752.659 1512.56 Z\" fill=\"#000000\" fill-rule=\"evenodd\" fill-opacity=\"1\" /><path clip-path=\"url(#clip790)\" d=\"M1236.51 1512.56 L1254.86 1512.56 L1254.86 1516.5 L1240.79 1516.5 L1240.79 1524.97 Q1241.81 1524.62 1242.83 1524.46 Q1243.84 1524.27 1244.86 1524.27 Q1250.65 1524.27 1254.03 1527.44 Q1257.41 1530.62 1257.41 1536.03 Q1257.41 1541.61 1253.94 1544.71 Q1250.46 1547.79 1244.14 1547.79 Q1241.97 1547.79 1239.7 1547.42 Q1237.45 1547.05 1235.05 1546.31 L1235.05 1541.61 Q1237.13 1542.74 1239.35 1543.3 Q1241.58 1543.86 1244.05 1543.86 Q1248.06 1543.86 1250.39 1541.75 Q1252.73 1539.64 1252.73 1536.03 Q1252.73 1532.42 1250.39 1530.31 Q1248.06 1528.21 1244.05 1528.21 Q1242.18 1528.21 1240.3 1528.62 Q1238.45 1529.04 1236.51 1529.92 L1236.51 1512.56 Z\" fill=\"#000000\" fill-rule=\"evenodd\" fill-opacity=\"1\" /><path clip-path=\"url(#clip790)\" d=\"M1276.62 1515.64 Q1273.01 1515.64 1271.18 1519.2 Q1269.38 1522.75 1269.38 1529.87 Q1269.38 1536.98 1271.18 1540.55 Q1273.01 1544.09 1276.62 1544.09 Q1280.26 1544.09 1282.06 1540.55 Q1283.89 1536.98 1283.89 1529.87 Q1283.89 1522.75 1282.06 1519.2 Q1280.26 1515.64 1276.62 1515.64 M1276.62 1511.93 Q1282.43 1511.93 1285.49 1516.54 Q1288.57 1521.12 1288.57 1529.87 Q1288.57 1538.6 1285.49 1543.21 Q1282.43 1547.79 1276.62 1547.79 Q1270.81 1547.79 1267.73 1543.21 Q1264.68 1538.6 1264.68 1529.87 Q1264.68 1521.12 1267.73 1516.54 Q1270.81 1511.93 1276.62 1511.93 Z\" fill=\"#000000\" fill-rule=\"evenodd\" fill-opacity=\"1\" /><path clip-path=\"url(#clip790)\" d=\"M1750.26 1512.56 L1772.48 1512.56 L1772.48 1514.55 L1759.94 1547.12 L1755.05 1547.12 L1766.86 1516.5 L1750.26 1516.5 L1750.26 1512.56 Z\" fill=\"#000000\" fill-rule=\"evenodd\" fill-opacity=\"1\" /><path clip-path=\"url(#clip790)\" d=\"M1781.65 1512.56 L1800 1512.56 L1800 1516.5 L1785.93 1516.5 L1785.93 1524.97 Q1786.95 1524.62 1787.97 1524.46 Q1788.99 1524.27 1790 1524.27 Q1795.79 1524.27 1799.17 1527.44 Q1802.55 1530.62 1802.55 1536.03 Q1802.55 1541.61 1799.08 1544.71 Q1795.61 1547.79 1789.29 1547.79 Q1787.11 1547.79 1784.84 1547.42 Q1782.6 1547.05 1780.19 1546.31 L1780.19 1541.61 Q1782.27 1542.74 1784.5 1543.3 Q1786.72 1543.86 1789.19 1543.86 Q1793.2 1543.86 1795.54 1541.75 Q1797.88 1539.64 1797.88 1536.03 Q1797.88 1532.42 1795.54 1530.31 Q1793.2 1528.21 1789.19 1528.21 Q1787.32 1528.21 1785.44 1528.62 Q1783.59 1529.04 1781.65 1529.92 L1781.65 1512.56 Z\" fill=\"#000000\" fill-rule=\"evenodd\" fill-opacity=\"1\" /><path clip-path=\"url(#clip790)\" d=\"M2250.61 1543.18 L2258.25 1543.18 L2258.25 1516.82 L2249.94 1518.49 L2249.94 1514.23 L2258.2 1512.56 L2262.88 1512.56 L2262.88 1543.18 L2270.52 1543.18 L2270.52 1547.12 L2250.61 1547.12 L2250.61 1543.18 Z\" fill=\"#000000\" fill-rule=\"evenodd\" fill-opacity=\"1\" /><path clip-path=\"url(#clip790)\" d=\"M2289.96 1515.64 Q2286.35 1515.64 2284.52 1519.2 Q2282.72 1522.75 2282.72 1529.87 Q2282.72 1536.98 2284.52 1540.55 Q2286.35 1544.09 2289.96 1544.09 Q2293.6 1544.09 2295.4 1540.55 Q2297.23 1536.98 2297.23 1529.87 Q2297.23 1522.75 2295.4 1519.2 Q2293.6 1515.64 2289.96 1515.64 M2289.96 1511.93 Q2295.77 1511.93 2298.83 1516.54 Q2301.91 1521.12 2301.91 1529.87 Q2301.91 1538.6 2298.83 1543.21 Q2295.77 1547.79 2289.96 1547.79 Q2284.15 1547.79 2281.07 1543.21 Q2278.02 1538.6 2278.02 1529.87 Q2278.02 1521.12 2281.07 1516.54 Q2284.15 1511.93 2289.96 1511.93 Z\" fill=\"#000000\" fill-rule=\"evenodd\" fill-opacity=\"1\" /><path clip-path=\"url(#clip790)\" d=\"M2320.12 1515.64 Q2316.51 1515.64 2314.68 1519.2 Q2312.88 1522.75 2312.88 1529.87 Q2312.88 1536.98 2314.68 1540.55 Q2316.51 1544.09 2320.12 1544.09 Q2323.76 1544.09 2325.56 1540.55 Q2327.39 1536.98 2327.39 1529.87 Q2327.39 1522.75 2325.56 1519.2 Q2323.76 1515.64 2320.12 1515.64 M2320.12 1511.93 Q2325.93 1511.93 2328.99 1516.54 Q2332.07 1521.12 2332.07 1529.87 Q2332.07 1538.6 2328.99 1543.21 Q2325.93 1547.79 2320.12 1547.79 Q2314.31 1547.79 2311.24 1543.21 Q2308.18 1538.6 2308.18 1529.87 Q2308.18 1521.12 2311.24 1516.54 Q2314.31 1511.93 2320.12 1511.93 Z\" fill=\"#000000\" fill-rule=\"evenodd\" fill-opacity=\"1\" /><polyline clip-path=\"url(#clip792)\" style=\"stroke:#000000; stroke-linecap:butt; stroke-linejoin:round; stroke-width:2; stroke-opacity:0.1; fill:none\" points=\"\n",
       "  170.857,1445.72 2352.76,1445.72 \n",
       "  \"/>\n",
       "<polyline clip-path=\"url(#clip792)\" style=\"stroke:#000000; stroke-linecap:butt; stroke-linejoin:round; stroke-width:2; stroke-opacity:0.1; fill:none\" points=\"\n",
       "  170.857,1106.28 2352.76,1106.28 \n",
       "  \"/>\n",
       "<polyline clip-path=\"url(#clip792)\" style=\"stroke:#000000; stroke-linecap:butt; stroke-linejoin:round; stroke-width:2; stroke-opacity:0.1; fill:none\" points=\"\n",
       "  170.857,766.846 2352.76,766.846 \n",
       "  \"/>\n",
       "<polyline clip-path=\"url(#clip792)\" style=\"stroke:#000000; stroke-linecap:butt; stroke-linejoin:round; stroke-width:2; stroke-opacity:0.1; fill:none\" points=\"\n",
       "  170.857,427.411 2352.76,427.411 \n",
       "  \"/>\n",
       "<polyline clip-path=\"url(#clip792)\" style=\"stroke:#000000; stroke-linecap:butt; stroke-linejoin:round; stroke-width:2; stroke-opacity:0.1; fill:none\" points=\"\n",
       "  170.857,87.9763 2352.76,87.9763 \n",
       "  \"/>\n",
       "<polyline clip-path=\"url(#clip790)\" style=\"stroke:#000000; stroke-linecap:butt; stroke-linejoin:round; stroke-width:4; stroke-opacity:1; fill:none\" points=\"\n",
       "  170.857,1486.45 170.857,47.2441 \n",
       "  \"/>\n",
       "<polyline clip-path=\"url(#clip790)\" style=\"stroke:#000000; stroke-linecap:butt; stroke-linejoin:round; stroke-width:4; stroke-opacity:1; fill:none\" points=\"\n",
       "  170.857,1445.72 189.755,1445.72 \n",
       "  \"/>\n",
       "<polyline clip-path=\"url(#clip790)\" style=\"stroke:#000000; stroke-linecap:butt; stroke-linejoin:round; stroke-width:4; stroke-opacity:1; fill:none\" points=\"\n",
       "  170.857,1106.28 189.755,1106.28 \n",
       "  \"/>\n",
       "<polyline clip-path=\"url(#clip790)\" style=\"stroke:#000000; stroke-linecap:butt; stroke-linejoin:round; stroke-width:4; stroke-opacity:1; fill:none\" points=\"\n",
       "  170.857,766.846 189.755,766.846 \n",
       "  \"/>\n",
       "<polyline clip-path=\"url(#clip790)\" style=\"stroke:#000000; stroke-linecap:butt; stroke-linejoin:round; stroke-width:4; stroke-opacity:1; fill:none\" points=\"\n",
       "  170.857,427.411 189.755,427.411 \n",
       "  \"/>\n",
       "<polyline clip-path=\"url(#clip790)\" style=\"stroke:#000000; stroke-linecap:butt; stroke-linejoin:round; stroke-width:4; stroke-opacity:1; fill:none\" points=\"\n",
       "  170.857,87.9763 189.755,87.9763 \n",
       "  \"/>\n",
       "<path clip-path=\"url(#clip790)\" d=\"M122.913 1431.51 Q119.302 1431.51 117.473 1435.08 Q115.668 1438.62 115.668 1445.75 Q115.668 1452.86 117.473 1456.42 Q119.302 1459.96 122.913 1459.96 Q126.547 1459.96 128.353 1456.42 Q130.182 1452.86 130.182 1445.75 Q130.182 1438.62 128.353 1435.08 Q126.547 1431.51 122.913 1431.51 M122.913 1427.81 Q128.723 1427.81 131.779 1432.42 Q134.857 1437 134.857 1445.75 Q134.857 1454.48 131.779 1459.08 Q128.723 1463.67 122.913 1463.67 Q117.103 1463.67 114.024 1459.08 Q110.969 1454.48 110.969 1445.75 Q110.969 1437 114.024 1432.42 Q117.103 1427.81 122.913 1427.81 Z\" fill=\"#000000\" fill-rule=\"evenodd\" fill-opacity=\"1\" /><path clip-path=\"url(#clip790)\" d=\"M82.7975 1089 L101.154 1089 L101.154 1092.94 L87.0799 1092.94 L87.0799 1101.41 Q88.0984 1101.06 89.1169 1100.9 Q90.1354 1100.71 91.1539 1100.71 Q96.941 1100.71 100.321 1103.89 Q103.7 1107.06 103.7 1112.47 Q103.7 1118.05 100.228 1121.15 Q96.7558 1124.23 90.4364 1124.23 Q88.2604 1124.23 85.9919 1123.86 Q83.7466 1123.49 81.3392 1122.75 L81.3392 1118.05 Q83.4225 1119.19 85.6447 1119.74 Q87.8669 1120.3 90.3438 1120.3 Q94.3484 1120.3 96.6863 1118.19 Q99.0243 1116.08 99.0243 1112.47 Q99.0243 1108.86 96.6863 1106.76 Q94.3484 1104.65 90.3438 1104.65 Q88.4688 1104.65 86.5938 1105.07 Q84.7419 1105.48 82.7975 1106.36 L82.7975 1089 Z\" fill=\"#000000\" fill-rule=\"evenodd\" fill-opacity=\"1\" /><path clip-path=\"url(#clip790)\" d=\"M122.913 1092.08 Q119.302 1092.08 117.473 1095.64 Q115.668 1099.19 115.668 1106.32 Q115.668 1113.42 117.473 1116.99 Q119.302 1120.53 122.913 1120.53 Q126.547 1120.53 128.353 1116.99 Q130.182 1113.42 130.182 1106.32 Q130.182 1099.19 128.353 1095.64 Q126.547 1092.08 122.913 1092.08 M122.913 1088.38 Q128.723 1088.38 131.779 1092.98 Q134.857 1097.57 134.857 1106.32 Q134.857 1115.04 131.779 1119.65 Q128.723 1124.23 122.913 1124.23 Q117.103 1124.23 114.024 1119.65 Q110.969 1115.04 110.969 1106.32 Q110.969 1097.57 114.024 1092.98 Q117.103 1088.38 122.913 1088.38 Z\" fill=\"#000000\" fill-rule=\"evenodd\" fill-opacity=\"1\" /><path clip-path=\"url(#clip790)\" d=\"M53.3995 780.191 L61.0384 780.191 L61.0384 753.825 L52.7282 755.492 L52.7282 751.233 L60.9921 749.566 L65.668 749.566 L65.668 780.191 L73.3068 780.191 L73.3068 784.126 L53.3995 784.126 L53.3995 780.191 Z\" fill=\"#000000\" fill-rule=\"evenodd\" fill-opacity=\"1\" /><path clip-path=\"url(#clip790)\" d=\"M92.7512 752.645 Q89.1401 752.645 87.3114 756.209 Q85.5058 759.751 85.5058 766.881 Q85.5058 773.987 87.3114 777.552 Q89.1401 781.094 92.7512 781.094 Q96.3854 781.094 98.1909 777.552 Q100.02 773.987 100.02 766.881 Q100.02 759.751 98.1909 756.209 Q96.3854 752.645 92.7512 752.645 M92.7512 748.941 Q98.5613 748.941 101.617 753.547 Q104.696 758.131 104.696 766.881 Q104.696 775.608 101.617 780.214 Q98.5613 784.797 92.7512 784.797 Q86.941 784.797 83.8623 780.214 Q80.8068 775.608 80.8068 766.881 Q80.8068 758.131 83.8623 753.547 Q86.941 748.941 92.7512 748.941 Z\" fill=\"#000000\" fill-rule=\"evenodd\" fill-opacity=\"1\" /><path clip-path=\"url(#clip790)\" d=\"M122.913 752.645 Q119.302 752.645 117.473 756.209 Q115.668 759.751 115.668 766.881 Q115.668 773.987 117.473 777.552 Q119.302 781.094 122.913 781.094 Q126.547 781.094 128.353 777.552 Q130.182 773.987 130.182 766.881 Q130.182 759.751 128.353 756.209 Q126.547 752.645 122.913 752.645 M122.913 748.941 Q128.723 748.941 131.779 753.547 Q134.857 758.131 134.857 766.881 Q134.857 775.608 131.779 780.214 Q128.723 784.797 122.913 784.797 Q117.103 784.797 114.024 780.214 Q110.969 775.608 110.969 766.881 Q110.969 758.131 114.024 753.547 Q117.103 748.941 122.913 748.941 Z\" fill=\"#000000\" fill-rule=\"evenodd\" fill-opacity=\"1\" /><path clip-path=\"url(#clip790)\" d=\"M53.3995 440.756 L61.0384 440.756 L61.0384 414.39 L52.7282 416.057 L52.7282 411.798 L60.9921 410.131 L65.668 410.131 L65.668 440.756 L73.3068 440.756 L73.3068 444.691 L53.3995 444.691 L53.3995 440.756 Z\" fill=\"#000000\" fill-rule=\"evenodd\" fill-opacity=\"1\" /><path clip-path=\"url(#clip790)\" d=\"M82.7975 410.131 L101.154 410.131 L101.154 414.066 L87.0799 414.066 L87.0799 422.538 Q88.0984 422.191 89.1169 422.029 Q90.1354 421.844 91.1539 421.844 Q96.941 421.844 100.321 425.015 Q103.7 428.187 103.7 433.603 Q103.7 439.182 100.228 442.284 Q96.7558 445.362 90.4364 445.362 Q88.2604 445.362 85.9919 444.992 Q83.7466 444.622 81.3392 443.881 L81.3392 439.182 Q83.4225 440.316 85.6447 440.872 Q87.8669 441.427 90.3438 441.427 Q94.3484 441.427 96.6863 439.321 Q99.0243 437.214 99.0243 433.603 Q99.0243 429.992 96.6863 427.886 Q94.3484 425.779 90.3438 425.779 Q88.4688 425.779 86.5938 426.196 Q84.7419 426.613 82.7975 427.492 L82.7975 410.131 Z\" fill=\"#000000\" fill-rule=\"evenodd\" fill-opacity=\"1\" /><path clip-path=\"url(#clip790)\" d=\"M122.913 413.21 Q119.302 413.21 117.473 416.775 Q115.668 420.316 115.668 427.446 Q115.668 434.552 117.473 438.117 Q119.302 441.659 122.913 441.659 Q126.547 441.659 128.353 438.117 Q130.182 434.552 130.182 427.446 Q130.182 420.316 128.353 416.775 Q126.547 413.21 122.913 413.21 M122.913 409.506 Q128.723 409.506 131.779 414.113 Q134.857 418.696 134.857 427.446 Q134.857 436.173 131.779 440.779 Q128.723 445.362 122.913 445.362 Q117.103 445.362 114.024 440.779 Q110.969 436.173 110.969 427.446 Q110.969 418.696 114.024 414.113 Q117.103 409.506 122.913 409.506 Z\" fill=\"#000000\" fill-rule=\"evenodd\" fill-opacity=\"1\" /><path clip-path=\"url(#clip790)\" d=\"M56.6171 101.321 L72.9365 101.321 L72.9365 105.256 L50.9921 105.256 L50.9921 101.321 Q53.6541 98.5665 58.2375 93.9369 Q62.8439 89.2841 64.0245 87.9416 Q66.2698 85.4184 67.1494 83.6823 Q68.0522 81.9231 68.0522 80.2333 Q68.0522 77.4786 66.1078 75.7425 Q64.1865 74.0064 61.0847 74.0064 Q58.8856 74.0064 56.4319 74.7703 Q54.0014 75.5342 51.2236 77.0851 L51.2236 72.3629 Q54.0477 71.2287 56.5014 70.65 Q58.955 70.0713 60.9921 70.0713 Q66.3624 70.0713 69.5568 72.7565 Q72.7513 75.4416 72.7513 79.9323 Q72.7513 82.062 71.9411 83.9832 Q71.1541 85.8814 69.0476 88.474 Q68.4689 89.1453 65.367 92.3628 Q62.2652 95.5573 56.6171 101.321 Z\" fill=\"#000000\" fill-rule=\"evenodd\" fill-opacity=\"1\" /><path clip-path=\"url(#clip790)\" d=\"M92.7512 73.775 Q89.1401 73.775 87.3114 77.3398 Q85.5058 80.8814 85.5058 88.011 Q85.5058 95.1174 87.3114 98.6822 Q89.1401 102.224 92.7512 102.224 Q96.3854 102.224 98.1909 98.6822 Q100.02 95.1174 100.02 88.011 Q100.02 80.8814 98.1909 77.3398 Q96.3854 73.775 92.7512 73.775 M92.7512 70.0713 Q98.5613 70.0713 101.617 74.6777 Q104.696 79.261 104.696 88.011 Q104.696 96.7378 101.617 101.344 Q98.5613 105.928 92.7512 105.928 Q86.941 105.928 83.8623 101.344 Q80.8068 96.7378 80.8068 88.011 Q80.8068 79.261 83.8623 74.6777 Q86.941 70.0713 92.7512 70.0713 Z\" fill=\"#000000\" fill-rule=\"evenodd\" fill-opacity=\"1\" /><path clip-path=\"url(#clip790)\" d=\"M122.913 73.775 Q119.302 73.775 117.473 77.3398 Q115.668 80.8814 115.668 88.011 Q115.668 95.1174 117.473 98.6822 Q119.302 102.224 122.913 102.224 Q126.547 102.224 128.353 98.6822 Q130.182 95.1174 130.182 88.011 Q130.182 80.8814 128.353 77.3398 Q126.547 73.775 122.913 73.775 M122.913 70.0713 Q128.723 70.0713 131.779 74.6777 Q134.857 79.261 134.857 88.011 Q134.857 96.7378 131.779 101.344 Q128.723 105.928 122.913 105.928 Q117.103 105.928 114.024 101.344 Q110.969 96.7378 110.969 88.011 Q110.969 79.261 114.024 74.6777 Q117.103 70.0713 122.913 70.0713 Z\" fill=\"#000000\" fill-rule=\"evenodd\" fill-opacity=\"1\" /><polyline clip-path=\"url(#clip792)\" style=\"stroke:#009af9; stroke-linecap:butt; stroke-linejoin:round; stroke-width:8; stroke-opacity:1; fill:none\" points=\"\n",
       "  232.609,87.9763 253.193,114.862 273.777,141.748 294.361,168.634 314.945,195.52 335.529,222.406 356.113,249.292 376.697,276.178 397.281,303.064 417.865,329.95 \n",
       "  438.449,356.836 459.033,383.721 479.617,410.607 500.201,437.493 520.785,464.379 541.368,491.265 561.952,518.151 582.536,545.037 603.12,571.923 623.704,598.809 \n",
       "  644.288,615.747 664.872,632.685 685.456,649.623 706.04,666.561 726.624,683.5 747.208,700.438 767.792,717.376 788.376,734.314 808.96,751.252 829.544,768.19 \n",
       "  850.128,785.128 870.712,802.067 891.296,819.005 911.88,835.943 932.463,852.881 953.047,869.819 973.631,886.757 994.215,903.695 1014.8,920.633 1035.38,937.572 \n",
       "  1055.97,954.51 1076.55,971.448 1097.14,988.386 1117.72,1003.98 1138.3,1018.23 1158.89,1032.48 1179.47,1046.73 1200.05,1060.98 1220.64,1075.23 1241.22,1089.21 \n",
       "  1261.81,1102.92 1282.39,1116.36 1302.97,1129.54 1323.56,1142.44 1344.14,1155.08 1364.73,1167.72 1385.31,1179.54 1405.89,1191.37 1426.48,1202.94 1447.06,1214.23 \n",
       "  1467.65,1225.25 1488.23,1236.01 1508.81,1246.49 1529.4,1256.71 1549.98,1266.66 1570.57,1276.33 1591.15,1285.74 1611.73,1294.89 1632.32,1303.76 1652.9,1312.36 \n",
       "  1673.49,1320.7 1694.07,1328.76 1714.65,1336.56 1735.24,1344.09 1755.82,1351.35 1776.41,1358.34 1796.99,1365.06 1817.57,1371.51 1838.16,1377.69 1858.74,1383.61 \n",
       "  1879.33,1389.26 1899.91,1394.63 1920.49,1399.74 1941.08,1404.58 1961.66,1409.15 1982.24,1413.45 2002.83,1417.49 2023.41,1421.25 2044,1424.74 2064.58,1427.97 \n",
       "  2085.16,1430.93 2105.75,1433.62 2126.33,1436.04 2146.92,1438.19 2167.5,1440.07 2188.08,1441.95 2208.67,1443.03 2229.25,1444.1 2249.84,1444.91 2270.42,1445.45 \n",
       "  2291,1445.72 \n",
       "  \"/>\n",
       "<polyline clip-path=\"url(#clip792)\" style=\"stroke:#e26f46; stroke-linecap:butt; stroke-linejoin:round; stroke-width:4; stroke-opacity:1; fill:none\" points=\"\n",
       "  232.609,87.9763 253.193,114.995 273.777,141.743 294.361,168.219 314.945,194.423 335.529,220.356 356.113,246.017 376.697,271.407 397.281,296.525 417.865,321.372 \n",
       "  438.449,345.947 459.033,370.25 479.617,394.282 500.201,418.043 520.785,441.532 541.368,464.749 561.952,487.695 582.536,510.369 603.12,532.772 623.704,554.903 \n",
       "  644.288,576.762 664.872,598.351 685.456,619.667 706.04,640.712 726.624,661.485 747.208,681.987 767.792,702.218 788.376,722.176 808.96,741.864 829.544,761.279 \n",
       "  850.128,780.423 870.712,799.296 891.296,817.897 911.88,836.226 932.463,854.284 953.047,872.071 973.631,889.586 994.215,906.829 1014.8,923.801 1035.38,940.501 \n",
       "  1055.97,956.93 1076.55,973.087 1097.14,988.972 1117.72,1004.59 1138.3,1019.93 1158.89,1035 1179.47,1049.8 1200.05,1064.33 1220.64,1078.58 1241.22,1092.57 \n",
       "  1261.81,1106.28 1282.39,1119.72 1302.97,1132.89 1323.56,1145.79 1344.14,1158.42 1364.73,1170.77 1385.31,1182.86 1405.89,1194.67 1426.48,1206.21 1447.06,1217.48 \n",
       "  1467.65,1228.48 1488.23,1239.2 1508.81,1249.66 1529.4,1259.84 1549.98,1269.75 1570.57,1279.39 1591.15,1288.76 1611.73,1297.86 1632.32,1306.68 1652.9,1315.24 \n",
       "  1673.49,1323.52 1694.07,1331.53 1714.65,1339.27 1735.24,1346.74 1755.82,1353.93 1776.41,1360.86 1796.99,1367.51 1817.57,1373.89 1838.16,1380 1858.74,1385.84 \n",
       "  1879.33,1391.41 1899.91,1396.7 1920.49,1401.72 1941.08,1406.48 1961.66,1410.96 1982.24,1415.17 2002.83,1419.1 2023.41,1422.77 2044,1426.16 2064.58,1429.29 \n",
       "  2085.16,1432.14 2105.75,1434.72 2126.33,1437.03 2146.92,1439.06 2167.5,1440.83 2188.08,1442.32 2208.67,1443.54 2229.25,1444.49 2249.84,1445.17 2270.42,1445.58 \n",
       "  2291,1445.72 \n",
       "  \"/>\n",
       "<path clip-path=\"url(#clip790)\" d=\"\n",
       "M1985.16 250.738 L2280.03 250.738 L2280.03 95.2176 L1985.16 95.2176  Z\n",
       "  \" fill=\"#ffffff\" fill-rule=\"evenodd\" fill-opacity=\"1\"/>\n",
       "<polyline clip-path=\"url(#clip790)\" style=\"stroke:#000000; stroke-linecap:butt; stroke-linejoin:round; stroke-width:4; stroke-opacity:1; fill:none\" points=\"\n",
       "  1985.16,250.738 2280.03,250.738 2280.03,95.2176 1985.16,95.2176 1985.16,250.738 \n",
       "  \"/>\n",
       "<polyline clip-path=\"url(#clip790)\" style=\"stroke:#009af9; stroke-linecap:butt; stroke-linejoin:round; stroke-width:4; stroke-opacity:1; fill:none\" points=\"\n",
       "  2009.41,147.058 2154.87,147.058 \n",
       "  \"/>\n",
       "<path clip-path=\"url(#clip790)\" d=\"M2192.95 166.745 Q2191.15 171.375 2189.43 172.787 Q2187.72 174.199 2184.85 174.199 L2181.45 174.199 L2181.45 170.634 L2183.95 170.634 Q2185.71 170.634 2186.68 169.8 Q2187.65 168.967 2188.83 165.865 L2189.6 163.921 L2179.11 138.412 L2183.62 138.412 L2191.72 158.689 L2199.83 138.412 L2204.34 138.412 L2192.95 166.745 Z\" fill=\"#000000\" fill-rule=\"evenodd\" fill-opacity=\"1\" /><path clip-path=\"url(#clip790)\" d=\"M2211.63 160.402 L2219.27 160.402 L2219.27 134.037 L2210.96 135.703 L2210.96 131.444 L2219.22 129.778 L2223.9 129.778 L2223.9 160.402 L2231.54 160.402 L2231.54 164.338 L2211.63 164.338 L2211.63 160.402 Z\" fill=\"#000000\" fill-rule=\"evenodd\" fill-opacity=\"1\" /><polyline clip-path=\"url(#clip790)\" style=\"stroke:#e26f46; stroke-linecap:butt; stroke-linejoin:round; stroke-width:4; stroke-opacity:1; fill:none\" points=\"\n",
       "  2009.41,198.898 2154.87,198.898 \n",
       "  \"/>\n",
       "<path clip-path=\"url(#clip790)\" d=\"M2192.95 218.585 Q2191.15 223.215 2189.43 224.627 Q2187.72 226.039 2184.85 226.039 L2181.45 226.039 L2181.45 222.474 L2183.95 222.474 Q2185.71 222.474 2186.68 221.64 Q2187.65 220.807 2188.83 217.705 L2189.6 215.761 L2179.11 190.252 L2183.62 190.252 L2191.72 210.529 L2199.83 190.252 L2204.34 190.252 L2192.95 218.585 Z\" fill=\"#000000\" fill-rule=\"evenodd\" fill-opacity=\"1\" /><path clip-path=\"url(#clip790)\" d=\"M2214.85 212.242 L2231.17 212.242 L2231.17 216.178 L2209.22 216.178 L2209.22 212.242 Q2211.89 209.488 2216.47 204.858 Q2221.08 200.205 2222.26 198.863 Q2224.5 196.34 2225.38 194.604 Q2226.28 192.844 2226.28 191.155 Q2226.28 188.4 2224.34 186.664 Q2222.42 184.928 2219.32 184.928 Q2217.12 184.928 2214.66 185.692 Q2212.23 186.455 2209.46 188.006 L2209.46 183.284 Q2212.28 182.15 2214.73 181.571 Q2217.19 180.993 2219.22 180.993 Q2224.59 180.993 2227.79 183.678 Q2230.98 186.363 2230.98 190.854 Q2230.98 192.983 2230.17 194.905 Q2229.39 196.803 2227.28 199.395 Q2226.7 200.067 2223.6 203.284 Q2220.5 206.479 2214.85 212.242 Z\" fill=\"#000000\" fill-rule=\"evenodd\" fill-opacity=\"1\" /></svg>\n"
      ],
      "text/html": [
       "<?xml version=\"1.0\" encoding=\"utf-8\"?>\n",
       "<svg xmlns=\"http://www.w3.org/2000/svg\" xmlns:xlink=\"http://www.w3.org/1999/xlink\" width=\"600\" height=\"400\" viewBox=\"0 0 2400 1600\">\n",
       "<defs>\n",
       "  <clipPath id=\"clip840\">\n",
       "    <rect x=\"0\" y=\"0\" width=\"2400\" height=\"1600\"/>\n",
       "  </clipPath>\n",
       "</defs>\n",
       "<path clip-path=\"url(#clip840)\" d=\"\n",
       "M0 1600 L2400 1600 L2400 0 L0 0  Z\n",
       "  \" fill=\"#ffffff\" fill-rule=\"evenodd\" fill-opacity=\"1\"/>\n",
       "<defs>\n",
       "  <clipPath id=\"clip841\">\n",
       "    <rect x=\"480\" y=\"0\" width=\"1681\" height=\"1600\"/>\n",
       "  </clipPath>\n",
       "</defs>\n",
       "<path clip-path=\"url(#clip840)\" d=\"\n",
       "M170.857 1486.45 L2352.76 1486.45 L2352.76 47.2441 L170.857 47.2441  Z\n",
       "  \" fill=\"#ffffff\" fill-rule=\"evenodd\" fill-opacity=\"1\"/>\n",
       "<defs>\n",
       "  <clipPath id=\"clip842\">\n",
       "    <rect x=\"170\" y=\"47\" width=\"2183\" height=\"1440\"/>\n",
       "  </clipPath>\n",
       "</defs>\n",
       "<polyline clip-path=\"url(#clip842)\" style=\"stroke:#000000; stroke-linecap:butt; stroke-linejoin:round; stroke-width:2; stroke-opacity:0.1; fill:none\" points=\"\n",
       "  232.609,1486.45 232.609,47.2441 \n",
       "  \"/>\n",
       "<polyline clip-path=\"url(#clip842)\" style=\"stroke:#000000; stroke-linecap:butt; stroke-linejoin:round; stroke-width:2; stroke-opacity:0.1; fill:none\" points=\"\n",
       "  747.208,1486.45 747.208,47.2441 \n",
       "  \"/>\n",
       "<polyline clip-path=\"url(#clip842)\" style=\"stroke:#000000; stroke-linecap:butt; stroke-linejoin:round; stroke-width:2; stroke-opacity:0.1; fill:none\" points=\"\n",
       "  1261.81,1486.45 1261.81,47.2441 \n",
       "  \"/>\n",
       "<polyline clip-path=\"url(#clip842)\" style=\"stroke:#000000; stroke-linecap:butt; stroke-linejoin:round; stroke-width:2; stroke-opacity:0.1; fill:none\" points=\"\n",
       "  1776.41,1486.45 1776.41,47.2441 \n",
       "  \"/>\n",
       "<polyline clip-path=\"url(#clip842)\" style=\"stroke:#000000; stroke-linecap:butt; stroke-linejoin:round; stroke-width:2; stroke-opacity:0.1; fill:none\" points=\"\n",
       "  2291,1486.45 2291,47.2441 \n",
       "  \"/>\n",
       "<polyline clip-path=\"url(#clip840)\" style=\"stroke:#000000; stroke-linecap:butt; stroke-linejoin:round; stroke-width:4; stroke-opacity:1; fill:none\" points=\"\n",
       "  170.857,1486.45 2352.76,1486.45 \n",
       "  \"/>\n",
       "<polyline clip-path=\"url(#clip840)\" style=\"stroke:#000000; stroke-linecap:butt; stroke-linejoin:round; stroke-width:4; stroke-opacity:1; fill:none\" points=\"\n",
       "  232.609,1486.45 232.609,1467.55 \n",
       "  \"/>\n",
       "<polyline clip-path=\"url(#clip840)\" style=\"stroke:#000000; stroke-linecap:butt; stroke-linejoin:round; stroke-width:4; stroke-opacity:1; fill:none\" points=\"\n",
       "  747.208,1486.45 747.208,1467.55 \n",
       "  \"/>\n",
       "<polyline clip-path=\"url(#clip840)\" style=\"stroke:#000000; stroke-linecap:butt; stroke-linejoin:round; stroke-width:4; stroke-opacity:1; fill:none\" points=\"\n",
       "  1261.81,1486.45 1261.81,1467.55 \n",
       "  \"/>\n",
       "<polyline clip-path=\"url(#clip840)\" style=\"stroke:#000000; stroke-linecap:butt; stroke-linejoin:round; stroke-width:4; stroke-opacity:1; fill:none\" points=\"\n",
       "  1776.41,1486.45 1776.41,1467.55 \n",
       "  \"/>\n",
       "<polyline clip-path=\"url(#clip840)\" style=\"stroke:#000000; stroke-linecap:butt; stroke-linejoin:round; stroke-width:4; stroke-opacity:1; fill:none\" points=\"\n",
       "  2291,1486.45 2291,1467.55 \n",
       "  \"/>\n",
       "<path clip-path=\"url(#clip840)\" d=\"M232.609 1515.64 Q228.998 1515.64 227.169 1519.2 Q225.364 1522.75 225.364 1529.87 Q225.364 1536.98 227.169 1540.55 Q228.998 1544.09 232.609 1544.09 Q236.244 1544.09 238.049 1540.55 Q239.878 1536.98 239.878 1529.87 Q239.878 1522.75 238.049 1519.2 Q236.244 1515.64 232.609 1515.64 M232.609 1511.93 Q238.419 1511.93 241.475 1516.54 Q244.554 1521.12 244.554 1529.87 Q244.554 1538.6 241.475 1543.21 Q238.419 1547.79 232.609 1547.79 Q226.799 1547.79 223.72 1543.21 Q220.665 1538.6 220.665 1529.87 Q220.665 1521.12 223.72 1516.54 Q226.799 1511.93 232.609 1511.93 Z\" fill=\"#000000\" fill-rule=\"evenodd\" fill-opacity=\"1\" /><path clip-path=\"url(#clip840)\" d=\"M726.479 1543.18 L742.798 1543.18 L742.798 1547.12 L720.854 1547.12 L720.854 1543.18 Q723.516 1540.43 728.099 1535.8 Q732.706 1531.15 733.886 1529.81 Q736.132 1527.28 737.011 1525.55 Q737.914 1523.79 737.914 1522.1 Q737.914 1519.34 735.97 1517.61 Q734.048 1515.87 730.946 1515.87 Q728.747 1515.87 726.294 1516.63 Q723.863 1517.4 721.085 1518.95 L721.085 1514.23 Q723.909 1513.09 726.363 1512.51 Q728.817 1511.93 730.854 1511.93 Q736.224 1511.93 739.419 1514.62 Q742.613 1517.31 742.613 1521.8 Q742.613 1523.93 741.803 1525.85 Q741.016 1527.74 738.909 1530.34 Q738.331 1531.01 735.229 1534.23 Q732.127 1537.42 726.479 1543.18 Z\" fill=\"#000000\" fill-rule=\"evenodd\" fill-opacity=\"1\" /><path clip-path=\"url(#clip840)\" d=\"M752.659 1512.56 L771.016 1512.56 L771.016 1516.5 L756.942 1516.5 L756.942 1524.97 Q757.96 1524.62 758.979 1524.46 Q759.997 1524.27 761.016 1524.27 Q766.803 1524.27 770.182 1527.44 Q773.562 1530.62 773.562 1536.03 Q773.562 1541.61 770.09 1544.71 Q766.618 1547.79 760.298 1547.79 Q758.122 1547.79 755.854 1547.42 Q753.608 1547.05 751.201 1546.31 L751.201 1541.61 Q753.284 1542.74 755.507 1543.3 Q757.729 1543.86 760.206 1543.86 Q764.21 1543.86 766.548 1541.75 Q768.886 1539.64 768.886 1536.03 Q768.886 1532.42 766.548 1530.31 Q764.21 1528.21 760.206 1528.21 Q758.331 1528.21 756.456 1528.62 Q754.604 1529.04 752.659 1529.92 L752.659 1512.56 Z\" fill=\"#000000\" fill-rule=\"evenodd\" fill-opacity=\"1\" /><path clip-path=\"url(#clip840)\" d=\"M1236.51 1512.56 L1254.86 1512.56 L1254.86 1516.5 L1240.79 1516.5 L1240.79 1524.97 Q1241.81 1524.62 1242.83 1524.46 Q1243.84 1524.27 1244.86 1524.27 Q1250.65 1524.27 1254.03 1527.44 Q1257.41 1530.62 1257.41 1536.03 Q1257.41 1541.61 1253.94 1544.71 Q1250.46 1547.79 1244.14 1547.79 Q1241.97 1547.79 1239.7 1547.42 Q1237.45 1547.05 1235.05 1546.31 L1235.05 1541.61 Q1237.13 1542.74 1239.35 1543.3 Q1241.58 1543.86 1244.05 1543.86 Q1248.06 1543.86 1250.39 1541.75 Q1252.73 1539.64 1252.73 1536.03 Q1252.73 1532.42 1250.39 1530.31 Q1248.06 1528.21 1244.05 1528.21 Q1242.18 1528.21 1240.3 1528.62 Q1238.45 1529.04 1236.51 1529.92 L1236.51 1512.56 Z\" fill=\"#000000\" fill-rule=\"evenodd\" fill-opacity=\"1\" /><path clip-path=\"url(#clip840)\" d=\"M1276.62 1515.64 Q1273.01 1515.64 1271.18 1519.2 Q1269.38 1522.75 1269.38 1529.87 Q1269.38 1536.98 1271.18 1540.55 Q1273.01 1544.09 1276.62 1544.09 Q1280.26 1544.09 1282.06 1540.55 Q1283.89 1536.98 1283.89 1529.87 Q1283.89 1522.75 1282.06 1519.2 Q1280.26 1515.64 1276.62 1515.64 M1276.62 1511.93 Q1282.43 1511.93 1285.49 1516.54 Q1288.57 1521.12 1288.57 1529.87 Q1288.57 1538.6 1285.49 1543.21 Q1282.43 1547.79 1276.62 1547.79 Q1270.81 1547.79 1267.73 1543.21 Q1264.68 1538.6 1264.68 1529.87 Q1264.68 1521.12 1267.73 1516.54 Q1270.81 1511.93 1276.62 1511.93 Z\" fill=\"#000000\" fill-rule=\"evenodd\" fill-opacity=\"1\" /><path clip-path=\"url(#clip840)\" d=\"M1750.26 1512.56 L1772.48 1512.56 L1772.48 1514.55 L1759.94 1547.12 L1755.05 1547.12 L1766.86 1516.5 L1750.26 1516.5 L1750.26 1512.56 Z\" fill=\"#000000\" fill-rule=\"evenodd\" fill-opacity=\"1\" /><path clip-path=\"url(#clip840)\" d=\"M1781.65 1512.56 L1800 1512.56 L1800 1516.5 L1785.93 1516.5 L1785.93 1524.97 Q1786.95 1524.62 1787.97 1524.46 Q1788.99 1524.27 1790 1524.27 Q1795.79 1524.27 1799.17 1527.44 Q1802.55 1530.62 1802.55 1536.03 Q1802.55 1541.61 1799.08 1544.71 Q1795.61 1547.79 1789.29 1547.79 Q1787.11 1547.79 1784.84 1547.42 Q1782.6 1547.05 1780.19 1546.31 L1780.19 1541.61 Q1782.27 1542.74 1784.5 1543.3 Q1786.72 1543.86 1789.19 1543.86 Q1793.2 1543.86 1795.54 1541.75 Q1797.88 1539.64 1797.88 1536.03 Q1797.88 1532.42 1795.54 1530.31 Q1793.2 1528.21 1789.19 1528.21 Q1787.32 1528.21 1785.44 1528.62 Q1783.59 1529.04 1781.65 1529.92 L1781.65 1512.56 Z\" fill=\"#000000\" fill-rule=\"evenodd\" fill-opacity=\"1\" /><path clip-path=\"url(#clip840)\" d=\"M2250.61 1543.18 L2258.25 1543.18 L2258.25 1516.82 L2249.94 1518.49 L2249.94 1514.23 L2258.2 1512.56 L2262.88 1512.56 L2262.88 1543.18 L2270.52 1543.18 L2270.52 1547.12 L2250.61 1547.12 L2250.61 1543.18 Z\" fill=\"#000000\" fill-rule=\"evenodd\" fill-opacity=\"1\" /><path clip-path=\"url(#clip840)\" d=\"M2289.96 1515.64 Q2286.35 1515.64 2284.52 1519.2 Q2282.72 1522.75 2282.72 1529.87 Q2282.72 1536.98 2284.52 1540.55 Q2286.35 1544.09 2289.96 1544.09 Q2293.6 1544.09 2295.4 1540.55 Q2297.23 1536.98 2297.23 1529.87 Q2297.23 1522.75 2295.4 1519.2 Q2293.6 1515.64 2289.96 1515.64 M2289.96 1511.93 Q2295.77 1511.93 2298.83 1516.54 Q2301.91 1521.12 2301.91 1529.87 Q2301.91 1538.6 2298.83 1543.21 Q2295.77 1547.79 2289.96 1547.79 Q2284.15 1547.79 2281.07 1543.21 Q2278.02 1538.6 2278.02 1529.87 Q2278.02 1521.12 2281.07 1516.54 Q2284.15 1511.93 2289.96 1511.93 Z\" fill=\"#000000\" fill-rule=\"evenodd\" fill-opacity=\"1\" /><path clip-path=\"url(#clip840)\" d=\"M2320.12 1515.64 Q2316.51 1515.64 2314.68 1519.2 Q2312.88 1522.75 2312.88 1529.87 Q2312.88 1536.98 2314.68 1540.55 Q2316.51 1544.09 2320.12 1544.09 Q2323.76 1544.09 2325.56 1540.55 Q2327.39 1536.98 2327.39 1529.87 Q2327.39 1522.75 2325.56 1519.2 Q2323.76 1515.64 2320.12 1515.64 M2320.12 1511.93 Q2325.93 1511.93 2328.99 1516.54 Q2332.07 1521.12 2332.07 1529.87 Q2332.07 1538.6 2328.99 1543.21 Q2325.93 1547.79 2320.12 1547.79 Q2314.31 1547.79 2311.24 1543.21 Q2308.18 1538.6 2308.18 1529.87 Q2308.18 1521.12 2311.24 1516.54 Q2314.31 1511.93 2320.12 1511.93 Z\" fill=\"#000000\" fill-rule=\"evenodd\" fill-opacity=\"1\" /><polyline clip-path=\"url(#clip842)\" style=\"stroke:#000000; stroke-linecap:butt; stroke-linejoin:round; stroke-width:2; stroke-opacity:0.1; fill:none\" points=\"\n",
       "  170.857,1445.72 2352.76,1445.72 \n",
       "  \"/>\n",
       "<polyline clip-path=\"url(#clip842)\" style=\"stroke:#000000; stroke-linecap:butt; stroke-linejoin:round; stroke-width:2; stroke-opacity:0.1; fill:none\" points=\"\n",
       "  170.857,1106.28 2352.76,1106.28 \n",
       "  \"/>\n",
       "<polyline clip-path=\"url(#clip842)\" style=\"stroke:#000000; stroke-linecap:butt; stroke-linejoin:round; stroke-width:2; stroke-opacity:0.1; fill:none\" points=\"\n",
       "  170.857,766.846 2352.76,766.846 \n",
       "  \"/>\n",
       "<polyline clip-path=\"url(#clip842)\" style=\"stroke:#000000; stroke-linecap:butt; stroke-linejoin:round; stroke-width:2; stroke-opacity:0.1; fill:none\" points=\"\n",
       "  170.857,427.411 2352.76,427.411 \n",
       "  \"/>\n",
       "<polyline clip-path=\"url(#clip842)\" style=\"stroke:#000000; stroke-linecap:butt; stroke-linejoin:round; stroke-width:2; stroke-opacity:0.1; fill:none\" points=\"\n",
       "  170.857,87.9763 2352.76,87.9763 \n",
       "  \"/>\n",
       "<polyline clip-path=\"url(#clip840)\" style=\"stroke:#000000; stroke-linecap:butt; stroke-linejoin:round; stroke-width:4; stroke-opacity:1; fill:none\" points=\"\n",
       "  170.857,1486.45 170.857,47.2441 \n",
       "  \"/>\n",
       "<polyline clip-path=\"url(#clip840)\" style=\"stroke:#000000; stroke-linecap:butt; stroke-linejoin:round; stroke-width:4; stroke-opacity:1; fill:none\" points=\"\n",
       "  170.857,1445.72 189.755,1445.72 \n",
       "  \"/>\n",
       "<polyline clip-path=\"url(#clip840)\" style=\"stroke:#000000; stroke-linecap:butt; stroke-linejoin:round; stroke-width:4; stroke-opacity:1; fill:none\" points=\"\n",
       "  170.857,1106.28 189.755,1106.28 \n",
       "  \"/>\n",
       "<polyline clip-path=\"url(#clip840)\" style=\"stroke:#000000; stroke-linecap:butt; stroke-linejoin:round; stroke-width:4; stroke-opacity:1; fill:none\" points=\"\n",
       "  170.857,766.846 189.755,766.846 \n",
       "  \"/>\n",
       "<polyline clip-path=\"url(#clip840)\" style=\"stroke:#000000; stroke-linecap:butt; stroke-linejoin:round; stroke-width:4; stroke-opacity:1; fill:none\" points=\"\n",
       "  170.857,427.411 189.755,427.411 \n",
       "  \"/>\n",
       "<polyline clip-path=\"url(#clip840)\" style=\"stroke:#000000; stroke-linecap:butt; stroke-linejoin:round; stroke-width:4; stroke-opacity:1; fill:none\" points=\"\n",
       "  170.857,87.9763 189.755,87.9763 \n",
       "  \"/>\n",
       "<path clip-path=\"url(#clip840)\" d=\"M122.913 1431.51 Q119.302 1431.51 117.473 1435.08 Q115.668 1438.62 115.668 1445.75 Q115.668 1452.86 117.473 1456.42 Q119.302 1459.96 122.913 1459.96 Q126.547 1459.96 128.353 1456.42 Q130.182 1452.86 130.182 1445.75 Q130.182 1438.62 128.353 1435.08 Q126.547 1431.51 122.913 1431.51 M122.913 1427.81 Q128.723 1427.81 131.779 1432.42 Q134.857 1437 134.857 1445.75 Q134.857 1454.48 131.779 1459.08 Q128.723 1463.67 122.913 1463.67 Q117.103 1463.67 114.024 1459.08 Q110.969 1454.48 110.969 1445.75 Q110.969 1437 114.024 1432.42 Q117.103 1427.81 122.913 1427.81 Z\" fill=\"#000000\" fill-rule=\"evenodd\" fill-opacity=\"1\" /><path clip-path=\"url(#clip840)\" d=\"M82.7975 1089 L101.154 1089 L101.154 1092.94 L87.0799 1092.94 L87.0799 1101.41 Q88.0984 1101.06 89.1169 1100.9 Q90.1354 1100.71 91.1539 1100.71 Q96.941 1100.71 100.321 1103.89 Q103.7 1107.06 103.7 1112.47 Q103.7 1118.05 100.228 1121.15 Q96.7558 1124.23 90.4364 1124.23 Q88.2604 1124.23 85.9919 1123.86 Q83.7466 1123.49 81.3392 1122.75 L81.3392 1118.05 Q83.4225 1119.19 85.6447 1119.74 Q87.8669 1120.3 90.3438 1120.3 Q94.3484 1120.3 96.6863 1118.19 Q99.0243 1116.08 99.0243 1112.47 Q99.0243 1108.86 96.6863 1106.76 Q94.3484 1104.65 90.3438 1104.65 Q88.4688 1104.65 86.5938 1105.07 Q84.7419 1105.48 82.7975 1106.36 L82.7975 1089 Z\" fill=\"#000000\" fill-rule=\"evenodd\" fill-opacity=\"1\" /><path clip-path=\"url(#clip840)\" d=\"M122.913 1092.08 Q119.302 1092.08 117.473 1095.64 Q115.668 1099.19 115.668 1106.32 Q115.668 1113.42 117.473 1116.99 Q119.302 1120.53 122.913 1120.53 Q126.547 1120.53 128.353 1116.99 Q130.182 1113.42 130.182 1106.32 Q130.182 1099.19 128.353 1095.64 Q126.547 1092.08 122.913 1092.08 M122.913 1088.38 Q128.723 1088.38 131.779 1092.98 Q134.857 1097.57 134.857 1106.32 Q134.857 1115.04 131.779 1119.65 Q128.723 1124.23 122.913 1124.23 Q117.103 1124.23 114.024 1119.65 Q110.969 1115.04 110.969 1106.32 Q110.969 1097.57 114.024 1092.98 Q117.103 1088.38 122.913 1088.38 Z\" fill=\"#000000\" fill-rule=\"evenodd\" fill-opacity=\"1\" /><path clip-path=\"url(#clip840)\" d=\"M53.3995 780.191 L61.0384 780.191 L61.0384 753.825 L52.7282 755.492 L52.7282 751.233 L60.9921 749.566 L65.668 749.566 L65.668 780.191 L73.3068 780.191 L73.3068 784.126 L53.3995 784.126 L53.3995 780.191 Z\" fill=\"#000000\" fill-rule=\"evenodd\" fill-opacity=\"1\" /><path clip-path=\"url(#clip840)\" d=\"M92.7512 752.645 Q89.1401 752.645 87.3114 756.209 Q85.5058 759.751 85.5058 766.881 Q85.5058 773.987 87.3114 777.552 Q89.1401 781.094 92.7512 781.094 Q96.3854 781.094 98.1909 777.552 Q100.02 773.987 100.02 766.881 Q100.02 759.751 98.1909 756.209 Q96.3854 752.645 92.7512 752.645 M92.7512 748.941 Q98.5613 748.941 101.617 753.547 Q104.696 758.131 104.696 766.881 Q104.696 775.608 101.617 780.214 Q98.5613 784.797 92.7512 784.797 Q86.941 784.797 83.8623 780.214 Q80.8068 775.608 80.8068 766.881 Q80.8068 758.131 83.8623 753.547 Q86.941 748.941 92.7512 748.941 Z\" fill=\"#000000\" fill-rule=\"evenodd\" fill-opacity=\"1\" /><path clip-path=\"url(#clip840)\" d=\"M122.913 752.645 Q119.302 752.645 117.473 756.209 Q115.668 759.751 115.668 766.881 Q115.668 773.987 117.473 777.552 Q119.302 781.094 122.913 781.094 Q126.547 781.094 128.353 777.552 Q130.182 773.987 130.182 766.881 Q130.182 759.751 128.353 756.209 Q126.547 752.645 122.913 752.645 M122.913 748.941 Q128.723 748.941 131.779 753.547 Q134.857 758.131 134.857 766.881 Q134.857 775.608 131.779 780.214 Q128.723 784.797 122.913 784.797 Q117.103 784.797 114.024 780.214 Q110.969 775.608 110.969 766.881 Q110.969 758.131 114.024 753.547 Q117.103 748.941 122.913 748.941 Z\" fill=\"#000000\" fill-rule=\"evenodd\" fill-opacity=\"1\" /><path clip-path=\"url(#clip840)\" d=\"M53.3995 440.756 L61.0384 440.756 L61.0384 414.39 L52.7282 416.057 L52.7282 411.798 L60.9921 410.131 L65.668 410.131 L65.668 440.756 L73.3068 440.756 L73.3068 444.691 L53.3995 444.691 L53.3995 440.756 Z\" fill=\"#000000\" fill-rule=\"evenodd\" fill-opacity=\"1\" /><path clip-path=\"url(#clip840)\" d=\"M82.7975 410.131 L101.154 410.131 L101.154 414.066 L87.0799 414.066 L87.0799 422.538 Q88.0984 422.191 89.1169 422.029 Q90.1354 421.844 91.1539 421.844 Q96.941 421.844 100.321 425.015 Q103.7 428.187 103.7 433.603 Q103.7 439.182 100.228 442.284 Q96.7558 445.362 90.4364 445.362 Q88.2604 445.362 85.9919 444.992 Q83.7466 444.622 81.3392 443.881 L81.3392 439.182 Q83.4225 440.316 85.6447 440.872 Q87.8669 441.427 90.3438 441.427 Q94.3484 441.427 96.6863 439.321 Q99.0243 437.214 99.0243 433.603 Q99.0243 429.992 96.6863 427.886 Q94.3484 425.779 90.3438 425.779 Q88.4688 425.779 86.5938 426.196 Q84.7419 426.613 82.7975 427.492 L82.7975 410.131 Z\" fill=\"#000000\" fill-rule=\"evenodd\" fill-opacity=\"1\" /><path clip-path=\"url(#clip840)\" d=\"M122.913 413.21 Q119.302 413.21 117.473 416.775 Q115.668 420.316 115.668 427.446 Q115.668 434.552 117.473 438.117 Q119.302 441.659 122.913 441.659 Q126.547 441.659 128.353 438.117 Q130.182 434.552 130.182 427.446 Q130.182 420.316 128.353 416.775 Q126.547 413.21 122.913 413.21 M122.913 409.506 Q128.723 409.506 131.779 414.113 Q134.857 418.696 134.857 427.446 Q134.857 436.173 131.779 440.779 Q128.723 445.362 122.913 445.362 Q117.103 445.362 114.024 440.779 Q110.969 436.173 110.969 427.446 Q110.969 418.696 114.024 414.113 Q117.103 409.506 122.913 409.506 Z\" fill=\"#000000\" fill-rule=\"evenodd\" fill-opacity=\"1\" /><path clip-path=\"url(#clip840)\" d=\"M56.6171 101.321 L72.9365 101.321 L72.9365 105.256 L50.9921 105.256 L50.9921 101.321 Q53.6541 98.5665 58.2375 93.9369 Q62.8439 89.2841 64.0245 87.9416 Q66.2698 85.4184 67.1494 83.6823 Q68.0522 81.9231 68.0522 80.2333 Q68.0522 77.4786 66.1078 75.7425 Q64.1865 74.0064 61.0847 74.0064 Q58.8856 74.0064 56.4319 74.7703 Q54.0014 75.5342 51.2236 77.0851 L51.2236 72.3629 Q54.0477 71.2287 56.5014 70.65 Q58.955 70.0713 60.9921 70.0713 Q66.3624 70.0713 69.5568 72.7565 Q72.7513 75.4416 72.7513 79.9323 Q72.7513 82.062 71.9411 83.9832 Q71.1541 85.8814 69.0476 88.474 Q68.4689 89.1453 65.367 92.3628 Q62.2652 95.5573 56.6171 101.321 Z\" fill=\"#000000\" fill-rule=\"evenodd\" fill-opacity=\"1\" /><path clip-path=\"url(#clip840)\" d=\"M92.7512 73.775 Q89.1401 73.775 87.3114 77.3398 Q85.5058 80.8814 85.5058 88.011 Q85.5058 95.1174 87.3114 98.6822 Q89.1401 102.224 92.7512 102.224 Q96.3854 102.224 98.1909 98.6822 Q100.02 95.1174 100.02 88.011 Q100.02 80.8814 98.1909 77.3398 Q96.3854 73.775 92.7512 73.775 M92.7512 70.0713 Q98.5613 70.0713 101.617 74.6777 Q104.696 79.261 104.696 88.011 Q104.696 96.7378 101.617 101.344 Q98.5613 105.928 92.7512 105.928 Q86.941 105.928 83.8623 101.344 Q80.8068 96.7378 80.8068 88.011 Q80.8068 79.261 83.8623 74.6777 Q86.941 70.0713 92.7512 70.0713 Z\" fill=\"#000000\" fill-rule=\"evenodd\" fill-opacity=\"1\" /><path clip-path=\"url(#clip840)\" d=\"M122.913 73.775 Q119.302 73.775 117.473 77.3398 Q115.668 80.8814 115.668 88.011 Q115.668 95.1174 117.473 98.6822 Q119.302 102.224 122.913 102.224 Q126.547 102.224 128.353 98.6822 Q130.182 95.1174 130.182 88.011 Q130.182 80.8814 128.353 77.3398 Q126.547 73.775 122.913 73.775 M122.913 70.0713 Q128.723 70.0713 131.779 74.6777 Q134.857 79.261 134.857 88.011 Q134.857 96.7378 131.779 101.344 Q128.723 105.928 122.913 105.928 Q117.103 105.928 114.024 101.344 Q110.969 96.7378 110.969 88.011 Q110.969 79.261 114.024 74.6777 Q117.103 70.0713 122.913 70.0713 Z\" fill=\"#000000\" fill-rule=\"evenodd\" fill-opacity=\"1\" /><polyline clip-path=\"url(#clip842)\" style=\"stroke:#009af9; stroke-linecap:butt; stroke-linejoin:round; stroke-width:8; stroke-opacity:1; fill:none\" points=\"\n",
       "  232.609,87.9763 253.193,114.862 273.777,141.748 294.361,168.634 314.945,195.52 335.529,222.406 356.113,249.292 376.697,276.178 397.281,303.064 417.865,329.95 \n",
       "  438.449,356.836 459.033,383.721 479.617,410.607 500.201,437.493 520.785,464.379 541.368,491.265 561.952,518.151 582.536,545.037 603.12,571.923 623.704,598.809 \n",
       "  644.288,615.747 664.872,632.685 685.456,649.623 706.04,666.561 726.624,683.5 747.208,700.438 767.792,717.376 788.376,734.314 808.96,751.252 829.544,768.19 \n",
       "  850.128,785.128 870.712,802.067 891.296,819.005 911.88,835.943 932.463,852.881 953.047,869.819 973.631,886.757 994.215,903.695 1014.8,920.633 1035.38,937.572 \n",
       "  1055.97,954.51 1076.55,971.448 1097.14,988.386 1117.72,1003.98 1138.3,1018.23 1158.89,1032.48 1179.47,1046.73 1200.05,1060.98 1220.64,1075.23 1241.22,1089.21 \n",
       "  1261.81,1102.92 1282.39,1116.36 1302.97,1129.54 1323.56,1142.44 1344.14,1155.08 1364.73,1167.72 1385.31,1179.54 1405.89,1191.37 1426.48,1202.94 1447.06,1214.23 \n",
       "  1467.65,1225.25 1488.23,1236.01 1508.81,1246.49 1529.4,1256.71 1549.98,1266.66 1570.57,1276.33 1591.15,1285.74 1611.73,1294.89 1632.32,1303.76 1652.9,1312.36 \n",
       "  1673.49,1320.7 1694.07,1328.76 1714.65,1336.56 1735.24,1344.09 1755.82,1351.35 1776.41,1358.34 1796.99,1365.06 1817.57,1371.51 1838.16,1377.69 1858.74,1383.61 \n",
       "  1879.33,1389.26 1899.91,1394.63 1920.49,1399.74 1941.08,1404.58 1961.66,1409.15 1982.24,1413.45 2002.83,1417.49 2023.41,1421.25 2044,1424.74 2064.58,1427.97 \n",
       "  2085.16,1430.93 2105.75,1433.62 2126.33,1436.04 2146.92,1438.19 2167.5,1440.07 2188.08,1441.95 2208.67,1443.03 2229.25,1444.1 2249.84,1444.91 2270.42,1445.45 \n",
       "  2291,1445.72 \n",
       "  \"/>\n",
       "<polyline clip-path=\"url(#clip842)\" style=\"stroke:#e26f46; stroke-linecap:butt; stroke-linejoin:round; stroke-width:4; stroke-opacity:1; fill:none\" points=\"\n",
       "  232.609,87.9763 253.193,114.995 273.777,141.743 294.361,168.219 314.945,194.423 335.529,220.356 356.113,246.017 376.697,271.407 397.281,296.525 417.865,321.372 \n",
       "  438.449,345.947 459.033,370.25 479.617,394.282 500.201,418.043 520.785,441.532 541.368,464.749 561.952,487.695 582.536,510.369 603.12,532.772 623.704,554.903 \n",
       "  644.288,576.762 664.872,598.351 685.456,619.667 706.04,640.712 726.624,661.485 747.208,681.987 767.792,702.218 788.376,722.176 808.96,741.864 829.544,761.279 \n",
       "  850.128,780.423 870.712,799.296 891.296,817.897 911.88,836.226 932.463,854.284 953.047,872.071 973.631,889.586 994.215,906.829 1014.8,923.801 1035.38,940.501 \n",
       "  1055.97,956.93 1076.55,973.087 1097.14,988.972 1117.72,1004.59 1138.3,1019.93 1158.89,1035 1179.47,1049.8 1200.05,1064.33 1220.64,1078.58 1241.22,1092.57 \n",
       "  1261.81,1106.28 1282.39,1119.72 1302.97,1132.89 1323.56,1145.79 1344.14,1158.42 1364.73,1170.77 1385.31,1182.86 1405.89,1194.67 1426.48,1206.21 1447.06,1217.48 \n",
       "  1467.65,1228.48 1488.23,1239.2 1508.81,1249.66 1529.4,1259.84 1549.98,1269.75 1570.57,1279.39 1591.15,1288.76 1611.73,1297.86 1632.32,1306.68 1652.9,1315.24 \n",
       "  1673.49,1323.52 1694.07,1331.53 1714.65,1339.27 1735.24,1346.74 1755.82,1353.93 1776.41,1360.86 1796.99,1367.51 1817.57,1373.89 1838.16,1380 1858.74,1385.84 \n",
       "  1879.33,1391.41 1899.91,1396.7 1920.49,1401.72 1941.08,1406.48 1961.66,1410.96 1982.24,1415.17 2002.83,1419.1 2023.41,1422.77 2044,1426.16 2064.58,1429.29 \n",
       "  2085.16,1432.14 2105.75,1434.72 2126.33,1437.03 2146.92,1439.06 2167.5,1440.83 2188.08,1442.32 2208.67,1443.54 2229.25,1444.49 2249.84,1445.17 2270.42,1445.58 \n",
       "  2291,1445.72 \n",
       "  \"/>\n",
       "<path clip-path=\"url(#clip840)\" d=\"\n",
       "M1985.16 250.738 L2280.03 250.738 L2280.03 95.2176 L1985.16 95.2176  Z\n",
       "  \" fill=\"#ffffff\" fill-rule=\"evenodd\" fill-opacity=\"1\"/>\n",
       "<polyline clip-path=\"url(#clip840)\" style=\"stroke:#000000; stroke-linecap:butt; stroke-linejoin:round; stroke-width:4; stroke-opacity:1; fill:none\" points=\"\n",
       "  1985.16,250.738 2280.03,250.738 2280.03,95.2176 1985.16,95.2176 1985.16,250.738 \n",
       "  \"/>\n",
       "<polyline clip-path=\"url(#clip840)\" style=\"stroke:#009af9; stroke-linecap:butt; stroke-linejoin:round; stroke-width:4; stroke-opacity:1; fill:none\" points=\"\n",
       "  2009.41,147.058 2154.87,147.058 \n",
       "  \"/>\n",
       "<path clip-path=\"url(#clip840)\" d=\"M2192.95 166.745 Q2191.15 171.375 2189.43 172.787 Q2187.72 174.199 2184.85 174.199 L2181.45 174.199 L2181.45 170.634 L2183.95 170.634 Q2185.71 170.634 2186.68 169.8 Q2187.65 168.967 2188.83 165.865 L2189.6 163.921 L2179.11 138.412 L2183.62 138.412 L2191.72 158.689 L2199.83 138.412 L2204.34 138.412 L2192.95 166.745 Z\" fill=\"#000000\" fill-rule=\"evenodd\" fill-opacity=\"1\" /><path clip-path=\"url(#clip840)\" d=\"M2211.63 160.402 L2219.27 160.402 L2219.27 134.037 L2210.96 135.703 L2210.96 131.444 L2219.22 129.778 L2223.9 129.778 L2223.9 160.402 L2231.54 160.402 L2231.54 164.338 L2211.63 164.338 L2211.63 160.402 Z\" fill=\"#000000\" fill-rule=\"evenodd\" fill-opacity=\"1\" /><polyline clip-path=\"url(#clip840)\" style=\"stroke:#e26f46; stroke-linecap:butt; stroke-linejoin:round; stroke-width:4; stroke-opacity:1; fill:none\" points=\"\n",
       "  2009.41,198.898 2154.87,198.898 \n",
       "  \"/>\n",
       "<path clip-path=\"url(#clip840)\" d=\"M2192.95 218.585 Q2191.15 223.215 2189.43 224.627 Q2187.72 226.039 2184.85 226.039 L2181.45 226.039 L2181.45 222.474 L2183.95 222.474 Q2185.71 222.474 2186.68 221.64 Q2187.65 220.807 2188.83 217.705 L2189.6 215.761 L2179.11 190.252 L2183.62 190.252 L2191.72 210.529 L2199.83 190.252 L2204.34 190.252 L2192.95 218.585 Z\" fill=\"#000000\" fill-rule=\"evenodd\" fill-opacity=\"1\" /><path clip-path=\"url(#clip840)\" d=\"M2214.85 212.242 L2231.17 212.242 L2231.17 216.178 L2209.22 216.178 L2209.22 212.242 Q2211.89 209.488 2216.47 204.858 Q2221.08 200.205 2222.26 198.863 Q2224.5 196.34 2225.38 194.604 Q2226.28 192.844 2226.28 191.155 Q2226.28 188.4 2224.34 186.664 Q2222.42 184.928 2219.32 184.928 Q2217.12 184.928 2214.66 185.692 Q2212.23 186.455 2209.46 188.006 L2209.46 183.284 Q2212.28 182.15 2214.73 181.571 Q2217.19 180.993 2219.22 180.993 Q2224.59 180.993 2227.79 183.678 Q2230.98 186.363 2230.98 190.854 Q2230.98 192.983 2230.17 194.905 Q2229.39 196.803 2227.28 199.395 Q2226.7 200.067 2223.6 203.284 Q2220.5 206.479 2214.85 212.242 Z\" fill=\"#000000\" fill-rule=\"evenodd\" fill-opacity=\"1\" /></svg>\n"
      ]
     },
     "execution_count": 8,
     "metadata": {},
     "output_type": "execute_result"
    }
   ],
   "source": [
    "x=(0:100.0)\n",
    "\n",
    "plot(x,piecewise_linear.(x,Ref(cuts2)),lw=2)\n",
    "plot!(x,p3*(100 .-x).^2/200)"
   ]
  },
  {
   "cell_type": "code",
   "execution_count": 9,
   "metadata": {
    "hideCode": false,
    "hidePrompt": false
   },
   "outputs": [
    {
     "data": {
      "text/plain": [
       "(124.99999999999964, 74.99999999999964)"
      ]
     },
     "execution_count": 9,
     "metadata": {},
     "output_type": "execute_result"
    }
   ],
   "source": [
    "x1v,x2v"
   ]
  },
  {
   "cell_type": "markdown",
   "metadata": {
    "hideCode": false,
    "hidePrompt": false
   },
   "source": [
    "## Stochastic cutting plane"
   ]
  },
  {
   "cell_type": "code",
   "execution_count": 10,
   "metadata": {
    "hideCode": false,
    "hidePrompt": false
   },
   "outputs": [
    {
     "name": "stdout",
     "output_type": "stream",
     "text": [
      "x1:0.0, x2: 0.0\n",
      "x1:55.0, x2: 29.0\n",
      "x1:101.0, x2: 53.0\n",
      "x1:143.0, x2: 120.0\n",
      "x1:143.0, x2: 60.0\n",
      "x1:173.99999999999997, x2: 160.99999999999997\n",
      "x1:173.99999999999997, x2: 99.99999999999997\n",
      "x1:173.99999999999994, x2: 156.99999999999994\n",
      "x1:173.99999999999994, x2: 149.99999999999994\n",
      "x1:0.0, x2: 0.0\n",
      "x1:124.62500000000006, x2: 98.62500000000006\n",
      "x1:124.62500000000004, x2: 67.62500000000004\n",
      "x1:124.62500000000007, x2: 49.62500000000007\n",
      "x1:137.11111111111114, x2: 102.11111111111114\n",
      "x1:137.11111111111117, x2: 70.11111111111117\n",
      "x1:137.75000000000006, x2: 72.75000000000006\n",
      "x1:137.75000000000003, x2: 37.75000000000003\n",
      "x1:173.6153846153846, x2: 135.6153846153846\n",
      "x1:173.61538461538464, x2: 78.61538461538464\n"
     ]
    },
    {
     "name": "stderr",
     "output_type": "stream",
     "text": [
      "\r",
      "\u001b[32mProgress:   7%|██▉                                      |  ETA: 0:00:14\u001b[39m"
     ]
    },
    {
     "name": "stdout",
     "output_type": "stream",
     "text": [
      "x1:183.00000000000003, x2: 159.00000000000003\n",
      "x1:183.00000000000003, x2: 87.00000000000003\n",
      "x1:160.42857142857142, x2: 75.42857142857142\n",
      "x1:160.42857142857142, x2: 94.42857142857142\n",
      "x1:160.42857142857142, x2: 160.42857142857142\n",
      "x1:160.42857142857142, x2: 114.42857142857142\n",
      "x1:160.4285714285714, x2: 75.42857142857139\n",
      "x1:163.74999999999994, x2: 98.74999999999994\n",
      "x1:163.74999999999994, x2: 152.74999999999994\n",
      "x1:163.74999999999997, x2: 88.74999999999997\n",
      "x1:163.74999999999994, x2: 109.74999999999994\n",
      "x1:163.75, x2: 137.75\n",
      "x1:163.74999999999997, x2: 65.74999999999997\n",
      "x1:179.27272727272728, x2: 163.27272727272728\n",
      "x1:179.27272727272728, x2: 90.27272727272728\n",
      "x1:179.27272727272725, x2: 114.27272727272725\n",
      "x1:179.27272727272725, x2: 137.27272727272725\n",
      "x1:179.27272727272722, x2: 149.27272727272722\n",
      "x1:179.27272727272725, x2: 114.27272727272725\n"
     ]
    },
    {
     "name": "stderr",
     "output_type": "stream",
     "text": [
      "\r",
      "\u001b[32mProgress:  13%|█████▍                                   |  ETA: 0:00:14\u001b[39m"
     ]
    },
    {
     "name": "stdout",
     "output_type": "stream",
     "text": [
      "x1:179.2727272727272, x2: 111.2727272727272\n",
      "x1:179.27272727272725, x2: 147.27272727272725\n",
      "x1:179.27272727272722, x2: 157.27272727272722\n",
      "x1:179.27272727272722, x2: 169.27272727272722\n",
      "x1:179.27272727272722, x2: 161.27272727272722\n",
      "x1:179.27272727272722, x2: 119.27272727272722\n",
      "x1:179.2727272727272, x2: 169.2727272727272\n",
      "x1:179.2727272727272, x2: 178.2727272727272\n",
      "x1:179.2727272727272, x2: 115.2727272727272\n",
      "x1:179.27272727272722, x2: 165.27272727272722\n",
      "x1:179.27272727272725, x2: 126.27272727272725\n",
      "x1:179.27272727272722, x2: 79.27272727272722\n",
      "x1:190.07142857142856, x2: 146.07142857142856\n",
      "x1:190.07142857142853, x2: 155.07142857142853\n",
      "x1:190.07142857142856, x2: 119.07142857142856\n",
      "x1:190.07142857142858, x2: 96.07142857142858\n",
      "x1:189.66666666666669, x2: 166.66666666666669\n",
      "x1:189.6666666666667, x2: 112.66666666666671\n"
     ]
    },
    {
     "name": "stderr",
     "output_type": "stream",
     "text": [
      "\r",
      "\u001b[32mProgress:  19%|███████▋                                 |  ETA: 0:00:16\u001b[39m"
     ]
    },
    {
     "name": "stdout",
     "output_type": "stream",
     "text": [
      "x1:0.0, x2: 0.0\n",
      "x1:110.82922824302133, x2: 67.82922824302133\n",
      "x1:110.82922824302136, x2: 92.82922824302136\n",
      "x1:110.82922824302135, x2: 37.82922824302135\n",
      "x1:112.76136363636367, x2: 101.76136363636367\n",
      "x1:112.76136363636368, x2: 105.76136363636368\n",
      "x1:112.76136363636367, x2: 54.27272727272722\n",
      "x1:115.87500000000001, x2: 37.666666666666565\n",
      "x1:148.44444444444449, x2: 144.44444444444449\n",
      "x1:148.4444444444445, x2: 109.44444444444451\n"
     ]
    },
    {
     "name": "stderr",
     "output_type": "stream",
     "text": [
      "\r",
      "\u001b[32mProgress:  22%|█████████                                |  ETA: 0:00:18\u001b[39m"
     ]
    },
    {
     "name": "stdout",
     "output_type": "stream",
     "text": [
      "x1:148.44444444444454, x2: 128.44444444444454\n",
      "x1:148.44444444444454, x2: 141.44444444444454\n",
      "x1:148.44444444444454, x2: 133.44444444444454\n",
      "x1:148.44444444444454, x2: 81.44444444444454\n",
      "x1:148.4444444444445, x2: 140.4444444444445\n",
      "x1:148.4444444444445, x2: 145.4444444444445\n",
      "x1:148.44444444444457, x2: 124.44444444444457\n",
      "x1:148.44444444444457, x2: 63.44444444444457\n"
     ]
    },
    {
     "name": "stderr",
     "output_type": "stream",
     "text": [
      "\r",
      "\u001b[32mProgress:  25%|██████████▏                              |  ETA: 0:00:19\u001b[39m"
     ]
    },
    {
     "name": "stdout",
     "output_type": "stream",
     "text": [
      "x1:148.44444444444457, x2: 84.44444444444457\n",
      "x1:148.44444444444457, x2: 92.44444444444457\n",
      "x1:148.44444444444454, x2: 128.44444444444454\n",
      "x1:148.44444444444454, x2: 130.44444444444454\n",
      "x1:148.44444444444454, x2: 86.44444444444454\n",
      "x1:148.4444444444445, x2: 66.44444444444451\n",
      "x1:148.44444444444454, x2: 148.44444444444454\n"
     ]
    },
    {
     "name": "stderr",
     "output_type": "stream",
     "text": [
      "\r",
      "\u001b[32mProgress:  27%|███████████▏                             |  ETA: 0:00:20\u001b[39m"
     ]
    },
    {
     "name": "stdout",
     "output_type": "stream",
     "text": [
      "x1:148.4444444444445, x2: 141.4444444444445\n",
      "x1:148.4444444444445, x2: 112.44444444444451\n",
      "x1:148.44444444444449, x2: 98.44444444444449\n",
      "x1:148.44444444444449, x2: 57.444444444444485\n",
      "x1:158.43478260869566, x2: 118.43478260869566\n",
      "x1:158.43478260869563, x2: 107.43478260869563\n"
     ]
    },
    {
     "name": "stderr",
     "output_type": "stream",
     "text": [
      "\r",
      "\u001b[32mProgress:  29%|███████████▉                             |  ETA: 0:00:21\u001b[39m"
     ]
    },
    {
     "name": "stdout",
     "output_type": "stream",
     "text": [
      "x1:158.43478260869568, x2: 65.43478260869568\n",
      "x1:167.56250000000003, x2: 120.56250000000003\n",
      "x1:167.56250000000003, x2: 151.56250000000003\n",
      "x1:167.56250000000003, x2: 93.56250000000003\n"
     ]
    },
    {
     "name": "stderr",
     "output_type": "stream",
     "text": [
      "\r",
      "\u001b[32mProgress:  30%|████████████▍                            |  ETA: 0:00:22\u001b[39m"
     ]
    },
    {
     "name": "stdout",
     "output_type": "stream",
     "text": [
      "x1:167.56250000000006, x2: 136.56250000000006\n",
      "x1:167.56250000000003, x2: 96.56250000000003\n",
      "x1:167.56250000000006, x2: 161.56250000000006\n",
      "x1:167.56250000000006, x2: 132.56250000000006\n"
     ]
    },
    {
     "name": "stderr",
     "output_type": "stream",
     "text": [
      "\r",
      "\u001b[32mProgress:  32%|█████████████                            |  ETA: 0:00:23\u001b[39m"
     ]
    },
    {
     "name": "stdout",
     "output_type": "stream",
     "text": [
      "x1:167.56250000000006, x2: 166.56250000000006\n",
      "x1:167.56250000000006, x2: 137.56250000000006\n",
      "x1:167.56250000000006, x2: 73.56250000000006\n",
      "x1:171.6666666666667, x2: 79.66666666666671\n",
      "x1:171.66666666666669, x2: 97.66666666666669\n"
     ]
    },
    {
     "name": "stderr",
     "output_type": "stream",
     "text": [
      "\r",
      "\u001b[32mProgress:  33%|█████████████▋                           |  ETA: 0:00:24\u001b[39m"
     ]
    },
    {
     "name": "stdout",
     "output_type": "stream",
     "text": [
      "x1:171.66666666666674, x2: 101.66666666666674\n",
      "x1:171.66666666666674, x2: 129.66666666666674\n",
      "x1:171.66666666666674, x2: 152.66666666666674\n",
      "x1:171.66666666666677, x2: 100.66666666666677\n",
      "x1:171.66666666666677, x2: 120.66666666666677\n"
     ]
    },
    {
     "name": "stderr",
     "output_type": "stream",
     "text": [
      "\r",
      "\u001b[32mProgress:  35%|██████████████▍                          |  ETA: 0:00:25\u001b[39m"
     ]
    },
    {
     "name": "stdout",
     "output_type": "stream",
     "text": [
      "x1:171.66666666666677, x2: 80.66666666666677\n",
      "x1:171.66666666666677, x2: 137.66666666666677\n",
      "x1:171.6666666666668, x2: 144.6666666666668\n",
      "x1:171.6666666666668, x2: 121.6666666666668\n"
     ]
    },
    {
     "name": "stderr",
     "output_type": "stream",
     "text": [
      "\r",
      "\u001b[32mProgress:  36%|██████████████▉                          |  ETA: 0:00:25\u001b[39m"
     ]
    },
    {
     "name": "stdout",
     "output_type": "stream",
     "text": [
      "x1:171.66666666666683, x2: 167.66666666666683\n",
      "x1:171.66666666666683, x2: 94.66666666666683\n",
      "x1:171.66666666666683, x2: 138.66666666666683\n",
      "x1:171.66666666666686, x2: 133.66666666666686\n"
     ]
    },
    {
     "name": "stderr",
     "output_type": "stream",
     "text": [
      "\r",
      "\u001b[32mProgress:  38%|███████████████▌                         |  ETA: 0:00:25\u001b[39m"
     ]
    },
    {
     "name": "stdout",
     "output_type": "stream",
     "text": [
      "x1:171.66666666666686, x2: 113.66666666666686\n",
      "x1:171.66666666666686, x2: 94.66666666666686\n",
      "x1:171.66666666666686, x2: 117.66666666666686\n",
      "x1:171.66666666666688, x2: 73.66666666666688\n"
     ]
    },
    {
     "name": "stderr",
     "output_type": "stream",
     "text": [
      "\r",
      "\u001b[32mProgress:  39%|████████████████                         |  ETA: 0:00:26\u001b[39m"
     ]
    },
    {
     "name": "stdout",
     "output_type": "stream",
     "text": [
      "x1:181.47619047619057, x2: 103.47619047619057\n",
      "x1:181.4761904761906, x2: 104.4761904761906\n",
      "x1:181.47619047619057, x2: 139.47619047619057\n",
      "x1:181.47619047619054, x2: 152.47619047619054\n"
     ]
    },
    {
     "name": "stderr",
     "output_type": "stream",
     "text": [
      "\r",
      "\u001b[32mProgress:  40%|████████████████▌                        |  ETA: 0:00:26\u001b[39m"
     ]
    },
    {
     "name": "stdout",
     "output_type": "stream",
     "text": [
      "x1:181.47619047619048, x2: 144.47619047619048\n",
      "x1:181.47619047619048, x2: 123.47619047619048\n",
      "x1:181.47619047619048, x2: 102.47619047619048\n",
      "x1:181.4761904761905, x2: 92.47619047619051\n"
     ]
    },
    {
     "name": "stderr",
     "output_type": "stream",
     "text": [
      "\r",
      "\u001b[32mProgress:  42%|█████████████████▏                       |  ETA: 0:00:27\u001b[39m"
     ]
    },
    {
     "name": "stdout",
     "output_type": "stream",
     "text": [
      "x1:181.47619047619054, x2: 170.47619047619054\n",
      "x1:181.47619047619054, x2: 130.47619047619054\n",
      "x1:181.47619047619057, x2: 96.47619047619057\n",
      "x1:181.47619047619057, x2: 136.47619047619057\n"
     ]
    },
    {
     "name": "stderr",
     "output_type": "stream",
     "text": [
      "\r",
      "\u001b[32mProgress:  43%|█████████████████▋                       |  ETA: 0:00:27\u001b[39m"
     ]
    },
    {
     "name": "stdout",
     "output_type": "stream",
     "text": [
      "x1:181.47619047619057, x2: 102.47619047619057\n",
      "x1:181.4761904761906, x2: 142.4761904761906\n",
      "x1:181.47619047619057, x2: 139.47619047619057\n",
      "x1:181.47619047619057, x2: 148.47619047619057\n"
     ]
    },
    {
     "name": "stderr",
     "output_type": "stream",
     "text": [
      "\r",
      "\u001b[32mProgress:  44%|██████████████████▏                      |  ETA: 0:00:27\u001b[39m"
     ]
    },
    {
     "name": "stdout",
     "output_type": "stream",
     "text": [
      "x1:181.47619047619057, x2: 166.47619047619057\n",
      "x1:181.4761904761906, x2: 152.4761904761906\n",
      "x1:181.4761904761906, x2: 172.4761904761906\n"
     ]
    },
    {
     "name": "stderr",
     "output_type": "stream",
     "text": [
      "\r",
      "\u001b[32mProgress:  45%|██████████████████▋                      |  ETA: 0:00:27\u001b[39m"
     ]
    },
    {
     "name": "stdout",
     "output_type": "stream",
     "text": [
      "x1:181.4761904761906, x2: 110.4761904761906\n",
      "x1:181.47619047619065, x2: 177.47619047619065\n",
      "x1:181.4761904761906, x2: 148.4761904761906\n"
     ]
    },
    {
     "name": "stderr",
     "output_type": "stream",
     "text": [
      "\r",
      "\u001b[32mProgress:  46%|███████████████████                      |  ETA: 0:00:27\u001b[39m"
     ]
    },
    {
     "name": "stdout",
     "output_type": "stream",
     "text": [
      "x1:181.47619047619062, x2: 106.47619047619062\n",
      "x1:181.47619047619062, x2: 175.47619047619062\n",
      "x1:0.0, x2: 0.0\n"
     ]
    },
    {
     "name": "stderr",
     "output_type": "stream",
     "text": [
      "\r",
      "\u001b[32mProgress:  47%|███████████████████▍                     |  ETA: 0:00:28\u001b[39m"
     ]
    },
    {
     "name": "stdout",
     "output_type": "stream",
     "text": [
      "x1:77.54035639412993, x2: 40.67924528301888\n",
      "x1:115.21271646420257, x2: 64.22641509433964\n",
      "x1:115.21271646420254, x2: 83.21271646420254\n"
     ]
    },
    {
     "name": "stderr",
     "output_type": "stream",
     "text": [
      "\r",
      "\u001b[32mProgress:  48%|███████████████████▉                     |  ETA: 0:00:28\u001b[39m"
     ]
    },
    {
     "name": "stdout",
     "output_type": "stream",
     "text": [
      "x1:115.2127164642026, x2: 101.2127164642026\n",
      "x1:115.21271646420263, x2: 100.21271646420263\n",
      "x1:115.21271646420266, x2: 113.21271646420266\n"
     ]
    },
    {
     "name": "stderr",
     "output_type": "stream",
     "text": [
      "\r",
      "\u001b[32mProgress:  49%|████████████████████▎                    |  ETA: 0:00:28\u001b[39m"
     ]
    },
    {
     "name": "stdout",
     "output_type": "stream",
     "text": [
      "x1:115.21271646420266, x2: 69.21271646420266\n",
      "x1:115.21271646420267, x2: 105.21271646420267\n",
      "x1:115.21271646420266, x2: 85.21271646420266\n"
     ]
    },
    {
     "name": "stderr",
     "output_type": "stream",
     "text": [
      "\r",
      "\u001b[32mProgress:  50%|████████████████████▋                    |  ETA: 0:00:28\u001b[39m"
     ]
    },
    {
     "name": "stdout",
     "output_type": "stream",
     "text": [
      "x1:115.21271646420271, x2: 54.03448275862075\n",
      "x1:126.07879924953102, x2: 122.07879924953102\n",
      "x1:126.07879924953099, x2: 80.07879924953099\n"
     ]
    },
    {
     "name": "stderr",
     "output_type": "stream",
     "text": [
      "\r",
      "\u001b[32mProgress:  51%|█████████████████████                    |  ETA: 0:00:28\u001b[39m"
     ]
    },
    {
     "name": "stdout",
     "output_type": "stream",
     "text": [
      "x1:126.07879924953097, x2: 95.07879924953097\n",
      "x1:126.07879924953096, x2: 64.19230769230771\n",
      "x1:154.06019151846783, x2: 146.06019151846783\n"
     ]
    },
    {
     "name": "stderr",
     "output_type": "stream",
     "text": [
      "\r",
      "\u001b[32mProgress:  52%|█████████████████████▌                   |  ETA: 0:00:28\u001b[39m"
     ]
    },
    {
     "name": "stdout",
     "output_type": "stream",
     "text": [
      "x1:154.0601915184678, x2: 132.0601915184678\n",
      "x1:154.06019151846783, x2: 147.06019151846783\n",
      "x1:154.06019151846783, x2: 70.06019151846783\n"
     ]
    },
    {
     "name": "stderr",
     "output_type": "stream",
     "text": [
      "\r",
      "\u001b[32mProgress:  53%|█████████████████████▉                   |  ETA: 0:00:28\u001b[39m"
     ]
    },
    {
     "name": "stdout",
     "output_type": "stream",
     "text": [
      "x1:154.06019151846783, x2: 112.06019151846783\n",
      "x1:154.06019151846786, x2: 109.06019151846786\n",
      "x1:154.06019151846783, x2: 118.06019151846783\n"
     ]
    },
    {
     "name": "stderr",
     "output_type": "stream",
     "text": [
      "\r",
      "\u001b[32mProgress:  54%|██████████████████████▎                  |  ETA: 0:00:28\u001b[39m"
     ]
    },
    {
     "name": "stdout",
     "output_type": "stream",
     "text": [
      "x1:154.0601915184678, x2: 116.0601915184678\n",
      "x1:154.0601915184678, x2: 77.0601915184678\n",
      "x1:154.0601915184678, x2: 148.0601915184678\n"
     ]
    },
    {
     "name": "stderr",
     "output_type": "stream",
     "text": [
      "\r",
      "\u001b[32mProgress:  55%|██████████████████████▋                  |  ETA: 0:00:28\u001b[39m"
     ]
    },
    {
     "name": "stdout",
     "output_type": "stream",
     "text": [
      "x1:154.06019151846786, x2: 118.06019151846786\n",
      "x1:154.06019151846786, x2: 110.06019151846786\n",
      "x1:154.06019151846783, x2: 88.06019151846783\n"
     ]
    },
    {
     "name": "stderr",
     "output_type": "stream",
     "text": [
      "\r",
      "\u001b[32mProgress:  56%|███████████████████████▏                 |  ETA: 0:00:28\u001b[39m"
     ]
    },
    {
     "name": "stdout",
     "output_type": "stream",
     "text": [
      "x1:154.06019151846783, x2: 80.06019151846783\n",
      "x1:154.06019151846786, x2: 117.06019151846786\n",
      "x1:154.0601915184679, x2: 101.06019151846789\n"
     ]
    },
    {
     "name": "stderr",
     "output_type": "stream",
     "text": [
      "\r",
      "\u001b[32mProgress:  57%|███████████████████████▌                 |  ETA: 0:00:28\u001b[39m"
     ]
    },
    {
     "name": "stdout",
     "output_type": "stream",
     "text": [
      "x1:154.06019151846795, x2: 93.06019151846795\n",
      "x1:154.06019151846792, x2: 100.06019151846792\n"
     ]
    },
    {
     "name": "stderr",
     "output_type": "stream",
     "text": [
      "\r",
      "\u001b[32mProgress:  58%|███████████████████████▊                 |  ETA: 0:00:28\u001b[39m"
     ]
    },
    {
     "name": "stdout",
     "output_type": "stream",
     "text": [
      "x1:154.0601915184679, x2: 107.06019151846789\n",
      "x1:154.0601915184679, x2: 61.06019151846789\n"
     ]
    },
    {
     "name": "stderr",
     "output_type": "stream",
     "text": [
      "\r",
      "\u001b[32mProgress:  59%|████████████████████████                 |  ETA: 0:00:28\u001b[39m"
     ]
    },
    {
     "name": "stdout",
     "output_type": "stream",
     "text": [
      "x1:165.88372093023258, x2: 116.88372093023258\n",
      "x1:165.8837209302326, x2: 87.88372093023261\n"
     ]
    },
    {
     "name": "stderr",
     "output_type": "stream",
     "text": [
      "\r",
      "\u001b[32mProgress:  59%|████████████████████████▍                |  ETA: 0:00:28\u001b[39m"
     ]
    },
    {
     "name": "stdout",
     "output_type": "stream",
     "text": [
      "x1:165.8837209302326, x2: 148.8837209302326\n",
      "x1:165.8837209302326, x2: 89.88372093023261\n"
     ]
    },
    {
     "name": "stderr",
     "output_type": "stream",
     "text": [
      "\r",
      "\u001b[32mProgress:  60%|████████████████████████▋                |  ETA: 0:00:28\u001b[39m"
     ]
    },
    {
     "name": "stdout",
     "output_type": "stream",
     "text": [
      "x1:165.88372093023264, x2: 144.88372093023264\n",
      "x1:165.88372093023258, x2: 159.88372093023258\n"
     ]
    },
    {
     "name": "stderr",
     "output_type": "stream",
     "text": [
      "\r",
      "\u001b[32mProgress:  61%|████████████████████████▉                |  ETA: 0:00:28\u001b[39m"
     ]
    },
    {
     "name": "stdout",
     "output_type": "stream",
     "text": [
      "x1:165.88372093023258, x2: 101.88372093023258\n",
      "x1:165.88372093023264, x2: 128.88372093023264\n"
     ]
    },
    {
     "name": "stderr",
     "output_type": "stream",
     "text": [
      "\r",
      "\u001b[32mProgress:  61%|█████████████████████████▏               |  ETA: 0:00:28\u001b[39m"
     ]
    },
    {
     "name": "stdout",
     "output_type": "stream",
     "text": [
      "x1:165.88372093023267, x2: 68.88372093023267\n",
      "x1:179.63636363636363, x2: 103.63636363636363\n"
     ]
    },
    {
     "name": "stderr",
     "output_type": "stream",
     "text": [
      "\r",
      "\u001b[32mProgress:  62%|█████████████████████████▍               |  ETA: 0:00:28\u001b[39m"
     ]
    },
    {
     "name": "stdout",
     "output_type": "stream",
     "text": [
      "x1:179.63636363636365, x2: 91.63636363636365\n",
      "x1:179.63636363636363, x2: 82.63636363636363\n"
     ]
    },
    {
     "name": "stderr",
     "output_type": "stream",
     "text": [
      "\r",
      "\u001b[32mProgress:  63%|█████████████████████████▊               |  ETA: 0:00:28\u001b[39m"
     ]
    },
    {
     "name": "stdout",
     "output_type": "stream",
     "text": [
      "x1:173.3928571428571, x2: 130.3928571428571\n",
      "x1:173.39285714285717, x2: 166.39285714285717\n"
     ]
    },
    {
     "name": "stderr",
     "output_type": "stream",
     "text": [
      "\r",
      "\u001b[32mProgress:  63%|██████████████████████████               |  ETA: 0:00:28\u001b[39m"
     ]
    },
    {
     "name": "stdout",
     "output_type": "stream",
     "text": [
      "x1:173.39285714285717, x2: 85.39285714285717\n",
      "x1:173.39285714285717, x2: 169.39285714285717\n"
     ]
    },
    {
     "name": "stderr",
     "output_type": "stream",
     "text": [
      "\r",
      "\u001b[32mProgress:  64%|██████████████████████████▎              |  ETA: 0:00:28\u001b[39m"
     ]
    },
    {
     "name": "stdout",
     "output_type": "stream",
     "text": [
      "x1:173.39285714285714, x2: 77.39285714285714\n",
      "x1:173.39285714285717, x2: 138.39285714285717\n"
     ]
    },
    {
     "name": "stderr",
     "output_type": "stream",
     "text": [
      "\r",
      "\u001b[32mProgress:  65%|██████████████████████████▌              |  ETA: 0:00:27\u001b[39m"
     ]
    },
    {
     "name": "stdout",
     "output_type": "stream",
     "text": [
      "x1:173.39285714285717, x2: 87.39285714285717\n",
      "x1:173.39285714285717, x2: 86.39285714285717\n"
     ]
    },
    {
     "name": "stderr",
     "output_type": "stream",
     "text": [
      "\r",
      "\u001b[32mProgress:  65%|██████████████████████████▊              |  ETA: 0:00:27\u001b[39m"
     ]
    },
    {
     "name": "stdout",
     "output_type": "stream",
     "text": [
      "x1:173.39285714285717, x2: 78.39285714285717\n",
      "x1:173.39285714285714, x2: 76.39285714285714\n"
     ]
    },
    {
     "name": "stderr",
     "output_type": "stream",
     "text": [
      "\r",
      "\u001b[32mProgress:  66%|███████████████████████████              |  ETA: 0:00:27\u001b[39m"
     ]
    },
    {
     "name": "stdout",
     "output_type": "stream",
     "text": [
      "x1:177.05882352941168, x2: 89.05882352941168\n",
      "x1:177.05882352941163, x2: 175.05882352941163\n"
     ]
    },
    {
     "name": "stderr",
     "output_type": "stream",
     "text": [
      "\r",
      "\u001b[32mProgress:  67%|███████████████████████████▍             |  ETA: 0:00:27\u001b[39m"
     ]
    },
    {
     "name": "stdout",
     "output_type": "stream",
     "text": [
      "x1:177.05882352941163, x2: 173.05882352941163\n",
      "x1:177.0588235294116, x2: 96.0588235294116\n"
     ]
    },
    {
     "name": "stderr",
     "output_type": "stream",
     "text": [
      "\r",
      "\u001b[32mProgress:  67%|███████████████████████████▋             |  ETA: 0:00:27\u001b[39m"
     ]
    },
    {
     "name": "stdout",
     "output_type": "stream",
     "text": [
      "x1:177.0588235294116, x2: 173.0588235294116\n",
      "x1:177.0588235294116, x2: 164.0588235294116\n"
     ]
    },
    {
     "name": "stderr",
     "output_type": "stream",
     "text": [
      "\r",
      "\u001b[32mProgress:  68%|███████████████████████████▉             |  ETA: 0:00:27\u001b[39m"
     ]
    },
    {
     "name": "stdout",
     "output_type": "stream",
     "text": [
      "x1:177.05882352941157, x2: 172.05882352941157\n",
      "x1:177.05882352941157, x2: 157.05882352941157\n"
     ]
    },
    {
     "name": "stderr",
     "output_type": "stream",
     "text": [
      "\r",
      "\u001b[32mProgress:  69%|████████████████████████████▏            |  ETA: 0:00:27\u001b[39m"
     ]
    },
    {
     "name": "stdout",
     "output_type": "stream",
     "text": [
      "x1:177.0588235294115, x2: 106.05882352941151\n",
      "x1:177.05882352941146, x2: 83.05882352941146\n"
     ]
    },
    {
     "name": "stderr",
     "output_type": "stream",
     "text": [
      "\r",
      "\u001b[32mProgress:  69%|████████████████████████████▍            |  ETA: 0:00:26\u001b[39m"
     ]
    },
    {
     "name": "stdout",
     "output_type": "stream",
     "text": [
      "x1:177.0588235294114, x2: 170.0588235294114\n",
      "x1:177.0588235294114, x2: 126.0588235294114\n"
     ]
    },
    {
     "name": "stderr",
     "output_type": "stream",
     "text": [
      "\r",
      "\u001b[32mProgress:  70%|████████████████████████████▊            |  ETA: 0:00:26\u001b[39m"
     ]
    },
    {
     "name": "stdout",
     "output_type": "stream",
     "text": [
      "x1:177.05882352941146, x2: 167.05882352941146\n",
      "x1:177.05882352941148, x2: 123.05882352941148\n"
     ]
    },
    {
     "name": "stderr",
     "output_type": "stream",
     "text": [
      "\r",
      "\u001b[32mProgress:  71%|█████████████████████████████            |  ETA: 0:00:26\u001b[39m"
     ]
    },
    {
     "name": "stdout",
     "output_type": "stream",
     "text": [
      "x1:177.05882352941154, x2: 117.05882352941154\n",
      "x1:177.0588235294115, x2: 125.05882352941151\n"
     ]
    },
    {
     "name": "stderr",
     "output_type": "stream",
     "text": [
      "\r",
      "\u001b[32mProgress:  71%|█████████████████████████████▎           |  ETA: 0:00:26\u001b[39m"
     ]
    },
    {
     "name": "stdout",
     "output_type": "stream",
     "text": [
      "x1:177.0588235294116, x2: 132.0588235294116\n",
      "x1:177.0588235294116, x2: 94.0588235294116\n"
     ]
    },
    {
     "name": "stderr",
     "output_type": "stream",
     "text": [
      "\r",
      "\u001b[32mProgress:  72%|█████████████████████████████▌           |  ETA: 0:00:25\u001b[39m"
     ]
    },
    {
     "name": "stdout",
     "output_type": "stream",
     "text": [
      "x1:177.05882352941163, x2: 112.05882352941163\n",
      "x1:177.05882352941168, x2: 175.05882352941168\n"
     ]
    },
    {
     "name": "stderr",
     "output_type": "stream",
     "text": [
      "\r",
      "\u001b[32mProgress:  73%|█████████████████████████████▊           |  ETA: 0:00:25\u001b[39m"
     ]
    },
    {
     "name": "stdout",
     "output_type": "stream",
     "text": [
      "x1:177.05882352941168, x2: 146.05882352941168\n",
      "x1:177.05882352941165, x2: 112.05882352941165\n"
     ]
    },
    {
     "name": "stderr",
     "output_type": "stream",
     "text": [
      "\r",
      "\u001b[32mProgress:  73%|██████████████████████████████▏          |  ETA: 0:00:25\u001b[39m"
     ]
    },
    {
     "name": "stdout",
     "output_type": "stream",
     "text": [
      "x1:177.05882352941163, x2: 159.05882352941163\n",
      "x1:177.0588235294115, x2: 129.0588235294115\n"
     ]
    },
    {
     "name": "stderr",
     "output_type": "stream",
     "text": [
      "\r",
      "\u001b[32mProgress:  74%|██████████████████████████████▍          |  ETA: 0:00:25\u001b[39m"
     ]
    },
    {
     "name": "stdout",
     "output_type": "stream",
     "text": [
      "x1:177.05882352941146, x2: 167.05882352941146\n",
      "x1:177.05882352941143, x2: 154.05882352941143\n"
     ]
    },
    {
     "name": "stderr",
     "output_type": "stream",
     "text": [
      "\r",
      "\u001b[32mProgress:  75%|██████████████████████████████▋          |  ETA: 0:00:24\u001b[39m"
     ]
    },
    {
     "name": "stdout",
     "output_type": "stream",
     "text": [
      "x1:177.0588235294114, x2: 125.0588235294114\n",
      "x1:177.05882352941146, x2: 100.05882352941146\n"
     ]
    },
    {
     "name": "stderr",
     "output_type": "stream",
     "text": [
      "\r",
      "\u001b[32mProgress:  75%|██████████████████████████████▉          |  ETA: 0:00:24\u001b[39m"
     ]
    },
    {
     "name": "stdout",
     "output_type": "stream",
     "text": [
      "x1:177.05882352941148, x2: 177.05882352941148\n",
      "x1:177.05882352941134, x2: 156.05882352941134\n"
     ]
    },
    {
     "name": "stderr",
     "output_type": "stream",
     "text": [
      "\r",
      "\u001b[32mProgress:  76%|███████████████████████████████▏         |  ETA: 0:00:24\u001b[39m"
     ]
    },
    {
     "name": "stdout",
     "output_type": "stream",
     "text": [
      "x1:177.05882352941143, x2: 175.05882352941143\n",
      "x1:167.72727272727374, x2: 165.72727272727374\n"
     ]
    },
    {
     "name": "stderr",
     "output_type": "stream",
     "text": [
      "\r",
      "\u001b[32mProgress:  77%|███████████████████████████████▍         |  ETA: 0:00:23\u001b[39m"
     ]
    },
    {
     "name": "stdout",
     "output_type": "stream",
     "text": [
      "x1:167.72727272727397, x2: 121.72727272727397\n",
      "x1:167.72727272727406, x2: 157.72727272727406\n"
     ]
    },
    {
     "name": "stderr",
     "output_type": "stream",
     "text": [
      "\r",
      "\u001b[32mProgress:  77%|███████████████████████████████▊         |  ETA: 0:00:23\u001b[39m"
     ]
    },
    {
     "name": "stdout",
     "output_type": "stream",
     "text": [
      "x1:167.72727272727403, x2: 77.72727272727403\n",
      "x1:167.72727272727417, x2: 121.72727272727417\n"
     ]
    },
    {
     "name": "stderr",
     "output_type": "stream",
     "text": [
      "\r",
      "\u001b[32mProgress:  78%|████████████████████████████████         |  ETA: 0:00:22\u001b[39m"
     ]
    },
    {
     "name": "stdout",
     "output_type": "stream",
     "text": [
      "x1:167.72727272727406, x2: 69.72727272727406\n",
      "x1:178.7555555555555, x2: 175.7555555555555\n"
     ]
    },
    {
     "name": "stderr",
     "output_type": "stream",
     "text": [
      "\r",
      "\u001b[32mProgress:  79%|████████████████████████████████▎        |  ETA: 0:00:22\u001b[39m"
     ]
    },
    {
     "name": "stdout",
     "output_type": "stream",
     "text": [
      "x1:178.75555555555542, x2: 115.75555555555542\n",
      "x1:178.75555555555542, x2: 133.75555555555542\n"
     ]
    },
    {
     "name": "stderr",
     "output_type": "stream",
     "text": [
      "\r",
      "\u001b[32mProgress:  79%|████████████████████████████████▌        |  ETA: 0:00:22\u001b[39m"
     ]
    },
    {
     "name": "stdout",
     "output_type": "stream",
     "text": [
      "x1:178.75555555555542, x2: 106.75555555555542\n",
      "x1:178.75555555555536, x2: 177.75555555555536\n"
     ]
    },
    {
     "name": "stderr",
     "output_type": "stream",
     "text": [
      "\r",
      "\u001b[32mProgress:  80%|████████████████████████████████▊        |  ETA: 0:00:21\u001b[39m"
     ]
    },
    {
     "name": "stdout",
     "output_type": "stream",
     "text": [
      "x1:178.7555555555554, x2: 103.75555555555539\n"
     ]
    },
    {
     "name": "stderr",
     "output_type": "stream",
     "text": [
      "\r",
      "\u001b[32mProgress:  80%|████████████████████████████████▉        |  ETA: 0:00:21\u001b[39m"
     ]
    },
    {
     "name": "stdout",
     "output_type": "stream",
     "text": [
      "x1:178.75555555555536, x2: 82.75555555555536\n",
      "x1:176.7878787878785, x2: 153.7878787878785\n"
     ]
    },
    {
     "name": "stderr",
     "output_type": "stream",
     "text": [
      "\r",
      "\u001b[32mProgress:  81%|█████████████████████████████████▎       |  ETA: 0:00:21\u001b[39m"
     ]
    },
    {
     "name": "stdout",
     "output_type": "stream",
     "text": [
      "x1:176.7878787878785, x2: 126.7878787878785\n",
      "x1:176.7878787878785, x2: 102.7878787878785\n"
     ]
    },
    {
     "name": "stderr",
     "output_type": "stream",
     "text": [
      "\r",
      "\u001b[32mProgress:  82%|█████████████████████████████████▌       |  ETA: 0:00:20\u001b[39m"
     ]
    },
    {
     "name": "stdout",
     "output_type": "stream",
     "text": [
      "x1:176.78787878787844, x2: 80.78787878787844\n",
      "x1:176.03999999999957, x2: 131.03999999999957\n"
     ]
    },
    {
     "name": "stderr",
     "output_type": "stream",
     "text": [
      "\r",
      "\u001b[32mProgress:  82%|█████████████████████████████████▊       |  ETA: 0:00:20\u001b[39m"
     ]
    },
    {
     "name": "stdout",
     "output_type": "stream",
     "text": [
      "x1:176.03999999999954, x2: 101.03999999999954\n"
     ]
    },
    {
     "name": "stderr",
     "output_type": "stream",
     "text": [
      "\r",
      "\u001b[32mProgress:  83%|█████████████████████████████████▉       |  ETA: 0:00:20\u001b[39m"
     ]
    },
    {
     "name": "stdout",
     "output_type": "stream",
     "text": [
      "x1:176.03999999999954, x2: 98.03999999999954\n"
     ]
    },
    {
     "name": "stderr",
     "output_type": "stream",
     "text": [
      "\r",
      "\u001b[32mProgress:  83%|██████████████████████████████████       |  ETA: 0:00:19\u001b[39m"
     ]
    },
    {
     "name": "stdout",
     "output_type": "stream",
     "text": [
      "x1:176.0399999999995, x2: 156.0399999999995\n",
      "x1:176.03999999999954, x2: 155.03999999999954\n"
     ]
    },
    {
     "name": "stderr",
     "output_type": "stream",
     "text": [
      "\r",
      "\u001b[32mProgress:  84%|██████████████████████████████████▎      |  ETA: 0:00:19\u001b[39m"
     ]
    },
    {
     "name": "stdout",
     "output_type": "stream",
     "text": [
      "x1:176.03999999999954, x2: 171.03999999999954\n"
     ]
    },
    {
     "name": "stderr",
     "output_type": "stream",
     "text": [
      "\r",
      "\u001b[32mProgress:  84%|██████████████████████████████████▌      |  ETA: 0:00:19\u001b[39m"
     ]
    },
    {
     "name": "stdout",
     "output_type": "stream",
     "text": [
      "x1:176.03999999999957, x2: 139.03999999999957\n"
     ]
    },
    {
     "name": "stderr",
     "output_type": "stream",
     "text": [
      "\r",
      "\u001b[32mProgress:  84%|██████████████████████████████████▋      |  ETA: 0:00:18\u001b[39m"
     ]
    },
    {
     "name": "stdout",
     "output_type": "stream",
     "text": [
      "x1:176.0399999999996, x2: 99.0399999999996\n",
      "x1:176.03999999999954, x2: 97.03999999999954\n"
     ]
    },
    {
     "name": "stderr",
     "output_type": "stream",
     "text": [
      "\r",
      "\u001b[32mProgress:  85%|██████████████████████████████████▉      |  ETA: 0:00:18\u001b[39m"
     ]
    },
    {
     "name": "stdout",
     "output_type": "stream",
     "text": [
      "x1:176.03999999999945, x2: 165.03999999999945\n"
     ]
    },
    {
     "name": "stderr",
     "output_type": "stream",
     "text": [
      "\r",
      "\u001b[32mProgress:  85%|███████████████████████████████████      |  ETA: 0:00:18\u001b[39m"
     ]
    },
    {
     "name": "stdout",
     "output_type": "stream",
     "text": [
      "x1:176.03999999999942, x2: 81.03999999999942\n"
     ]
    },
    {
     "name": "stderr",
     "output_type": "stream",
     "text": [
      "\r",
      "\u001b[32mProgress:  86%|███████████████████████████████████▏     |  ETA: 0:00:17\u001b[39m"
     ]
    },
    {
     "name": "stdout",
     "output_type": "stream",
     "text": [
      "x1:176.03999999999945, x2: 164.03999999999945\n"
     ]
    },
    {
     "name": "stderr",
     "output_type": "stream",
     "text": [
      "\r",
      "\u001b[32mProgress:  86%|███████████████████████████████████▎     |  ETA: 0:00:17\u001b[39m"
     ]
    },
    {
     "name": "stdout",
     "output_type": "stream",
     "text": [
      "x1:176.03999999999948, x2: 129.03999999999948\n"
     ]
    },
    {
     "name": "stderr",
     "output_type": "stream",
     "text": [
      "\r",
      "\u001b[32mProgress:  86%|███████████████████████████████████▍     |  ETA: 0:00:17\u001b[39m"
     ]
    },
    {
     "name": "stdout",
     "output_type": "stream",
     "text": [
      "x1:176.0399999999995, x2: 76.03999999999951\n",
      "x1:188.14754098360663, x2: 168.14754098360663\n"
     ]
    },
    {
     "name": "stderr",
     "output_type": "stream",
     "text": [
      "\r",
      "\u001b[32mProgress:  87%|███████████████████████████████████▋     |  ETA: 0:00:16\u001b[39m"
     ]
    },
    {
     "name": "stdout",
     "output_type": "stream",
     "text": [
      "x1:188.14754098360663, x2: 125.14754098360663\n"
     ]
    },
    {
     "name": "stderr",
     "output_type": "stream",
     "text": [
      "\r",
      "\u001b[32mProgress:  87%|███████████████████████████████████▊     |  ETA: 0:00:16\u001b[39m"
     ]
    },
    {
     "name": "stdout",
     "output_type": "stream",
     "text": [
      "x1:188.14754098360663, x2: 113.14754098360663\n"
     ]
    },
    {
     "name": "stderr",
     "output_type": "stream",
     "text": [
      "\r",
      "\u001b[32mProgress:  88%|████████████████████████████████████     |  ETA: 0:00:15\u001b[39m"
     ]
    },
    {
     "name": "stdout",
     "output_type": "stream",
     "text": [
      "x1:188.14754098360663, x2: 101.14754098360663\n"
     ]
    },
    {
     "name": "stderr",
     "output_type": "stream",
     "text": [
      "\r",
      "\u001b[32mProgress:  88%|████████████████████████████████████▏    |  ETA: 0:00:15\u001b[39m"
     ]
    },
    {
     "name": "stdout",
     "output_type": "stream",
     "text": [
      "x1:188.14754098360666, x2: 131.14754098360666\n"
     ]
    },
    {
     "name": "stderr",
     "output_type": "stream",
     "text": [
      "\r",
      "\u001b[32mProgress:  88%|████████████████████████████████████▎    |  ETA: 0:00:15\u001b[39m"
     ]
    },
    {
     "name": "stdout",
     "output_type": "stream",
     "text": [
      "x1:188.14754098360666, x2: 152.14754098360666\n"
     ]
    },
    {
     "name": "stderr",
     "output_type": "stream",
     "text": [
      "\r",
      "\u001b[32mProgress:  89%|████████████████████████████████████▍    |  ETA: 0:00:14\u001b[39m"
     ]
    },
    {
     "name": "stdout",
     "output_type": "stream",
     "text": [
      "x1:188.1475409836066, x2: 112.1475409836066\n"
     ]
    },
    {
     "name": "stderr",
     "output_type": "stream",
     "text": [
      "\r",
      "\u001b[32mProgress:  89%|████████████████████████████████████▌    |  ETA: 0:00:14\u001b[39m"
     ]
    },
    {
     "name": "stdout",
     "output_type": "stream",
     "text": [
      "x1:188.1475409836066, x2: 95.1475409836066\n"
     ]
    },
    {
     "name": "stderr",
     "output_type": "stream",
     "text": [
      "\r",
      "\u001b[32mProgress:  89%|████████████████████████████████████▋    |  ETA: 0:00:14\u001b[39m"
     ]
    },
    {
     "name": "stdout",
     "output_type": "stream",
     "text": [
      "x1:187.84210526315792, x2: 133.84210526315792\n"
     ]
    },
    {
     "name": "stderr",
     "output_type": "stream",
     "text": [
      "\r",
      "\u001b[32mProgress:  90%|████████████████████████████████████▊    |  ETA: 0:00:13\u001b[39m"
     ]
    },
    {
     "name": "stdout",
     "output_type": "stream",
     "text": [
      "x1:187.84210526315792, x2: 187.84210526315792\n"
     ]
    },
    {
     "name": "stderr",
     "output_type": "stream",
     "text": [
      "\r",
      "\u001b[32mProgress:  90%|████████████████████████████████████▉    |  ETA: 0:00:13\u001b[39m"
     ]
    },
    {
     "name": "stdout",
     "output_type": "stream",
     "text": [
      "x1:187.84210526315792, x2: 149.84210526315792\n"
     ]
    },
    {
     "name": "stderr",
     "output_type": "stream",
     "text": [
      "\r",
      "\u001b[32mProgress:  90%|█████████████████████████████████████    |  ETA: 0:00:13\u001b[39m"
     ]
    },
    {
     "name": "stdout",
     "output_type": "stream",
     "text": [
      "x1:187.84210526315792, x2: 131.84210526315792\n"
     ]
    },
    {
     "name": "stderr",
     "output_type": "stream",
     "text": [
      "\r",
      "\u001b[32mProgress:  91%|█████████████████████████████████████▏   |  ETA: 0:00:12\u001b[39m"
     ]
    },
    {
     "name": "stdout",
     "output_type": "stream",
     "text": [
      "x1:187.84210526315792, x2: 109.84210526315792\n"
     ]
    },
    {
     "name": "stderr",
     "output_type": "stream",
     "text": [
      "\r",
      "\u001b[32mProgress:  91%|█████████████████████████████████████▎   |  ETA: 0:00:12\u001b[39m"
     ]
    },
    {
     "name": "stdout",
     "output_type": "stream",
     "text": [
      "x1:187.84210526315792, x2: 94.84210526315792\n"
     ]
    },
    {
     "name": "stderr",
     "output_type": "stream",
     "text": [
      "\r",
      "\u001b[32mProgress:  91%|█████████████████████████████████████▌   |  ETA: 0:00:12\u001b[39m"
     ]
    },
    {
     "name": "stdout",
     "output_type": "stream",
     "text": [
      "x1:187.84210526315792, x2: 94.84210526315792\n"
     ]
    },
    {
     "name": "stderr",
     "output_type": "stream",
     "text": [
      "\r",
      "\u001b[32mProgress:  92%|█████████████████████████████████████▋   |  ETA: 0:00:11\u001b[39m"
     ]
    },
    {
     "name": "stdout",
     "output_type": "stream",
     "text": [
      "x1:187.75000000000006, x2: 124.75000000000006\n"
     ]
    },
    {
     "name": "stderr",
     "output_type": "stream",
     "text": [
      "\r",
      "\u001b[32mProgress:  92%|█████████████████████████████████████▊   |  ETA: 0:00:11\u001b[39m"
     ]
    },
    {
     "name": "stdout",
     "output_type": "stream",
     "text": [
      "x1:187.75000000000006, x2: 185.75000000000006\n"
     ]
    },
    {
     "name": "stderr",
     "output_type": "stream",
     "text": [
      "\r",
      "\u001b[32mProgress:  92%|█████████████████████████████████████▉   |  ETA: 0:00:10\u001b[39m"
     ]
    },
    {
     "name": "stdout",
     "output_type": "stream",
     "text": [
      "x1:187.75000000000006, x2: 96.75000000000006\n"
     ]
    },
    {
     "name": "stderr",
     "output_type": "stream",
     "text": [
      "\r",
      "\u001b[32mProgress:  93%|██████████████████████████████████████   |  ETA: 0:00:10\u001b[39m"
     ]
    },
    {
     "name": "stdout",
     "output_type": "stream",
     "text": [
      "x1:187.75000000000009, x2: 163.75000000000009\n"
     ]
    },
    {
     "name": "stderr",
     "output_type": "stream",
     "text": [
      "\r",
      "\u001b[32mProgress:  93%|██████████████████████████████████████▏  |  ETA: 0:00:10\u001b[39m"
     ]
    },
    {
     "name": "stdout",
     "output_type": "stream",
     "text": [
      "x1:187.75000000000006, x2: 163.75000000000006\n"
     ]
    },
    {
     "name": "stderr",
     "output_type": "stream",
     "text": [
      "\r",
      "\u001b[32mProgress:  93%|██████████████████████████████████████▎  |  ETA: 0:00:09\u001b[39m"
     ]
    },
    {
     "name": "stdout",
     "output_type": "stream",
     "text": [
      "x1:187.75000000000009, x2: 162.75000000000009\n"
     ]
    },
    {
     "name": "stderr",
     "output_type": "stream",
     "text": [
      "\r",
      "\u001b[32mProgress:  94%|██████████████████████████████████████▍  |  ETA: 0:00:09\u001b[39m"
     ]
    },
    {
     "name": "stdout",
     "output_type": "stream",
     "text": [
      "x1:187.75000000000009, x2: 139.75000000000009\n"
     ]
    },
    {
     "name": "stderr",
     "output_type": "stream",
     "text": [
      "\r",
      "\u001b[32mProgress:  94%|██████████████████████████████████████▌  |  ETA: 0:00:08\u001b[39m"
     ]
    },
    {
     "name": "stdout",
     "output_type": "stream",
     "text": [
      "x1:187.75000000000006, x2: 127.75000000000006\n"
     ]
    },
    {
     "name": "stderr",
     "output_type": "stream",
     "text": [
      "\r",
      "\u001b[32mProgress:  94%|██████████████████████████████████████▋  |  ETA: 0:00:08\u001b[39m"
     ]
    },
    {
     "name": "stdout",
     "output_type": "stream",
     "text": [
      "x1:187.7500000000001, x2: 164.7500000000001\n"
     ]
    },
    {
     "name": "stderr",
     "output_type": "stream",
     "text": [
      "\r",
      "\u001b[32mProgress:  95%|██████████████████████████████████████▉  |  ETA: 0:00:08\u001b[39m"
     ]
    },
    {
     "name": "stdout",
     "output_type": "stream",
     "text": [
      "x1:187.7500000000001, x2: 147.7500000000001\n"
     ]
    },
    {
     "name": "stderr",
     "output_type": "stream",
     "text": [
      "\r",
      "\u001b[32mProgress:  95%|███████████████████████████████████████  |  ETA: 0:00:07\u001b[39m"
     ]
    },
    {
     "name": "stdout",
     "output_type": "stream",
     "text": [
      "x1:187.7500000000001, x2: 170.7500000000001\n"
     ]
    },
    {
     "name": "stderr",
     "output_type": "stream",
     "text": [
      "\r",
      "\u001b[32mProgress:  95%|███████████████████████████████████████▏ |  ETA: 0:00:07\u001b[39m"
     ]
    },
    {
     "name": "stdout",
     "output_type": "stream",
     "text": [
      "x1:187.75000000000014, x2: 94.75000000000014\n"
     ]
    },
    {
     "name": "stderr",
     "output_type": "stream",
     "text": [
      "\r",
      "\u001b[32mProgress:  96%|███████████████████████████████████████▎ |  ETA: 0:00:06\u001b[39m"
     ]
    },
    {
     "name": "stdout",
     "output_type": "stream",
     "text": [
      "x1:187.7500000000001, x2: 137.7500000000001\n"
     ]
    },
    {
     "name": "stderr",
     "output_type": "stream",
     "text": [
      "\r",
      "\u001b[32mProgress:  96%|███████████████████████████████████████▍ |  ETA: 0:00:06\u001b[39m"
     ]
    },
    {
     "name": "stdout",
     "output_type": "stream",
     "text": [
      "x1:187.75000000000014, x2: 113.75000000000014\n"
     ]
    },
    {
     "name": "stderr",
     "output_type": "stream",
     "text": [
      "\r",
      "\u001b[32mProgress:  96%|███████████████████████████████████████▌ |  ETA: 0:00:05\u001b[39m"
     ]
    },
    {
     "name": "stdout",
     "output_type": "stream",
     "text": [
      "x1:187.75000000000014, x2: 173.75000000000014\n"
     ]
    },
    {
     "name": "stderr",
     "output_type": "stream",
     "text": [
      "\r",
      "\u001b[32mProgress:  97%|███████████████████████████████████████▋ |  ETA: 0:00:05\u001b[39m"
     ]
    },
    {
     "name": "stdout",
     "output_type": "stream",
     "text": [
      "x1:187.75000000000014, x2: 103.75000000000014\n"
     ]
    },
    {
     "name": "stderr",
     "output_type": "stream",
     "text": [
      "\r",
      "\u001b[32mProgress:  97%|███████████████████████████████████████▊ |  ETA: 0:00:04\u001b[39m"
     ]
    },
    {
     "name": "stdout",
     "output_type": "stream",
     "text": [
      "x1:187.75000000000014, x2: 162.75000000000014\n"
     ]
    },
    {
     "name": "stderr",
     "output_type": "stream",
     "text": [
      "\r",
      "\u001b[32mProgress:  97%|███████████████████████████████████████▉ |  ETA: 0:00:04\u001b[39m"
     ]
    },
    {
     "name": "stdout",
     "output_type": "stream",
     "text": [
      "x1:187.75000000000009, x2: 97.75000000000009\n"
     ]
    },
    {
     "name": "stderr",
     "output_type": "stream",
     "text": [
      "\r",
      "\u001b[32mProgress:  98%|████████████████████████████████████████ |  ETA: 0:00:03\u001b[39m"
     ]
    },
    {
     "name": "stdout",
     "output_type": "stream",
     "text": [
      "x1:187.7500000000001, x2: 162.7500000000001\n"
     ]
    },
    {
     "name": "stderr",
     "output_type": "stream",
     "text": [
      "\r",
      "\u001b[32mProgress:  98%|████████████████████████████████████████▏|  ETA: 0:00:03\u001b[39m"
     ]
    },
    {
     "name": "stdout",
     "output_type": "stream",
     "text": [
      "x1:187.7500000000001, x2: 162.7500000000001\n"
     ]
    },
    {
     "name": "stderr",
     "output_type": "stream",
     "text": [
      "\r",
      "\u001b[32mProgress:  98%|████████████████████████████████████████▍|  ETA: 0:00:03\u001b[39m"
     ]
    },
    {
     "name": "stdout",
     "output_type": "stream",
     "text": [
      "x1:187.75000000000009, x2: 176.75000000000009\n"
     ]
    },
    {
     "name": "stderr",
     "output_type": "stream",
     "text": [
      "\r",
      "\u001b[32mProgress:  99%|████████████████████████████████████████▌|  ETA: 0:00:02\u001b[39m"
     ]
    },
    {
     "name": "stdout",
     "output_type": "stream",
     "text": [
      "x1:187.7500000000001, x2: 139.7500000000001\n"
     ]
    },
    {
     "name": "stderr",
     "output_type": "stream",
     "text": [
      "\r",
      "\u001b[32mProgress:  99%|████████████████████████████████████████▋|  ETA: 0:00:02\u001b[39m"
     ]
    },
    {
     "name": "stdout",
     "output_type": "stream",
     "text": [
      "x1:187.75000000000014, x2: 152.75000000000014\n"
     ]
    },
    {
     "name": "stderr",
     "output_type": "stream",
     "text": [
      "\r",
      "\u001b[32mProgress:  99%|████████████████████████████████████████▊|  ETA: 0:00:01\u001b[39m"
     ]
    },
    {
     "name": "stdout",
     "output_type": "stream",
     "text": [
      "x1:187.75000000000009, x2: 93.75000000000009\n"
     ]
    },
    {
     "name": "stderr",
     "output_type": "stream",
     "text": [
      "\r",
      "\u001b[32mProgress: 100%|████████████████████████████████████████▉|  ETA: 0:00:01\u001b[39m"
     ]
    },
    {
     "name": "stdout",
     "output_type": "stream",
     "text": [
      "x1:187.32000000000014, x2: 143.32000000000014\n"
     ]
    },
    {
     "name": "stderr",
     "output_type": "stream",
     "text": [
      "\r",
      "\u001b[32mProgress: 100%|█████████████████████████████████████████| Time: 0:02:35\u001b[39m\n"
     ]
    }
   ],
   "source": [
    "#array de vectores de cuts. Arranca en la lower bound\n",
    "cuts1 = [[0.0;0.0]];\n",
    "cuts2 = [[0.0;0.0]];\n",
    "\n",
    "noises1 = Float64[]\n",
    "noises2 = Float64[]\n",
    "\n",
    "\n",
    "## Implemento SDDP a mano\n",
    "@showprogress 1 for i=1:300\n",
    "    \n",
    "    ## FORWARD PASS\n",
    "    #resuelvo el primer paso\n",
    "    model = JuMP.Model(optimizer_with_attributes(() -> Gurobi.Optimizer(gurobi_env), \"OutputFlag\" => 0))\n",
    "    @variable(model,u1>=0);\n",
    "    @variable(model,x1>=0);\n",
    "    @variable(model,z);\n",
    "\n",
    "    @constraint(model,x1==x0+u1)\n",
    "    \n",
    "    for i=1:length(cuts1)\n",
    "        cut=cuts1[i]\n",
    "        @constraint(model,z>=cut[1]+cut[2]*x1);\n",
    "    end\n",
    "\n",
    "    \n",
    "    @objective(model,Min,p1*u1+z);\n",
    "\n",
    "    optimize!(model)\n",
    "\n",
    "    global x1v = value.(x1);\n",
    "\n",
    "    #sorteo una demanda de primer paso\n",
    "    demand1 = rand(DiscreteUniform(0,100))\n",
    "    push!(noises1,demand1)\n",
    "    #resuelvo el segundo paso\n",
    "    model = JuMP.Model(optimizer_with_attributes(() -> Gurobi.Optimizer(gurobi_env), \"OutputFlag\" => 0))\n",
    "    @variable(model,u2>=0);\n",
    "    @variable(model,x2>=0);\n",
    "    @variable(model,z);\n",
    "\n",
    "    @constraint(model,x2==x1v-demand1+u2)\n",
    "    \n",
    "    for i=1:length(cuts2)\n",
    "        cut=cuts2[i]\n",
    "        @constraint(model,z>=cut[1]+cut[2]*x2);\n",
    "    end\n",
    "\n",
    "    @objective(model,Min,p2*u2+z);\n",
    "\n",
    "    optimize!(model)\n",
    "\n",
    "    global x2v = value.(x2);\n",
    "    \n",
    "    println(\"x1:$x1v, x2: $x2v\")\n",
    "    \n",
    "    ### BACKWARD PASS\n",
    "    \n",
    "    #sorteo la segunda demanda\n",
    "    demand2 = rand(DiscreteUniform(0,100))\n",
    "    push!(noises2,demand2)\n",
    "    \n",
    "    #resuelvo para todos los ruidos el ultimo paso y agrego un corte\n",
    "    local_cuts = [];\n",
    "\n",
    "    for i=1:length(noises2)\n",
    "        \n",
    "        demand2 = noises2[i]\n",
    "        \n",
    "        model = JuMP.Model(optimizer_with_attributes(() -> Gurobi.Optimizer(gurobi_env), \"OutputFlag\" => 0))\n",
    "\n",
    "        @variable(model,u3>=0);\n",
    "        @variable(model,x2>=0);\n",
    "\n",
    "        @constraint(model,x2+u3-demand2>=0);\n",
    "        fix_x2 = @constraint(model,x2==x2v);\n",
    "\n",
    "        @objective(model,Min,p3*u3);\n",
    "\n",
    "        optimize!(model)\n",
    "\n",
    "        beta = objective_value(model);\n",
    "        lambda = dual(fix_x2)\n",
    "        #println(\"fix_x2=$lambda\")\n",
    "        push!(local_cuts,[beta-lambda*x2v;lambda])\n",
    "    end\n",
    "\n",
    "    cuts2 = (i-1)/i * cuts2\n",
    "    push!(cuts2,mean(local_cuts))\n",
    "    \n",
    "    \n",
    "    for i=1:length(noises1)\n",
    "        \n",
    "        #resuelvo para todos los ruidos el segundo paso y agrego un corte\n",
    "        local_cuts = [];\n",
    "\n",
    "    \n",
    "        demand1 = noises1[i]\n",
    "        \n",
    "        model = JuMP.Model(optimizer_with_attributes(() -> Gurobi.Optimizer(gurobi_env), \"OutputFlag\" => 0))\n",
    "\n",
    "        @variable(model,u2>=0);\n",
    "        @variable(model,x1>=0);\n",
    "        @variable(model,z);\n",
    "\n",
    "        @constraint(model,x1+u2-demand1>=0);\n",
    "        fix_x1 = @constraint(model,x1==x1v);\n",
    "\n",
    "        for i=1:length(cuts2)\n",
    "            cut=cuts2[i]\n",
    "            @constraint(model,z>=cut[1]+cut[2]*(x1+u2-demand1));\n",
    "        end\n",
    "\n",
    "        @objective(model,Min,p2*u2+z);\n",
    "\n",
    "        optimize!(model)\n",
    "\n",
    "        beta = objective_value(model);\n",
    "        lambda = dual(fix_x1)\n",
    "        #println(\"fix_x1=$lambda\")\n",
    "        push!(local_cuts,[beta-lambda*x1v;lambda])\n",
    "\n",
    "    end\n",
    "    cuts1 = (i-1)/i * cuts1\n",
    "    push!(cuts1,mean(local_cuts))    \n",
    "    \n",
    "end"
   ]
  },
  {
   "cell_type": "code",
   "execution_count": 11,
   "metadata": {
    "hideCode": false,
    "hidePrompt": false,
    "scrolled": false
   },
   "outputs": [
    {
     "data": {
      "image/png": "[encoded data removed]",
      "image/svg+xml": [
       "<?xml version=\"1.0\" encoding=\"utf-8\"?>\n",
       "<svg xmlns=\"http://www.w3.org/2000/svg\" xmlns:xlink=\"http://www.w3.org/1999/xlink\" width=\"600\" height=\"400\" viewBox=\"0 0 2400 1600\">\n",
       "<defs>\n",
       "  <clipPath id=\"clip880\">\n",
       "    <rect x=\"0\" y=\"0\" width=\"2400\" height=\"1600\"/>\n",
       "  </clipPath>\n",
       "</defs>\n",
       "<path clip-path=\"url(#clip880)\" d=\"\n",
       "M0 1600 L2400 1600 L2400 0 L0 0  Z\n",
       "  \" fill=\"#ffffff\" fill-rule=\"evenodd\" fill-opacity=\"1\"/>\n",
       "<defs>\n",
       "  <clipPath id=\"clip881\">\n",
       "    <rect x=\"480\" y=\"0\" width=\"1681\" height=\"1600\"/>\n",
       "  </clipPath>\n",
       "</defs>\n",
       "<path clip-path=\"url(#clip880)\" d=\"\n",
       "M170.857 1486.45 L2352.76 1486.45 L2352.76 47.2441 L170.857 47.2441  Z\n",
       "  \" fill=\"#ffffff\" fill-rule=\"evenodd\" fill-opacity=\"1\"/>\n",
       "<defs>\n",
       "  <clipPath id=\"clip882\">\n",
       "    <rect x=\"170\" y=\"47\" width=\"2183\" height=\"1440\"/>\n",
       "  </clipPath>\n",
       "</defs>\n",
       "<polyline clip-path=\"url(#clip882)\" style=\"stroke:#000000; stroke-linecap:butt; stroke-linejoin:round; stroke-width:2; stroke-opacity:0.1; fill:none\" points=\"\n",
       "  232.609,1486.45 232.609,47.2441 \n",
       "  \"/>\n",
       "<polyline clip-path=\"url(#clip882)\" style=\"stroke:#000000; stroke-linecap:butt; stroke-linejoin:round; stroke-width:2; stroke-opacity:0.1; fill:none\" points=\"\n",
       "  747.208,1486.45 747.208,47.2441 \n",
       "  \"/>\n",
       "<polyline clip-path=\"url(#clip882)\" style=\"stroke:#000000; stroke-linecap:butt; stroke-linejoin:round; stroke-width:2; stroke-opacity:0.1; fill:none\" points=\"\n",
       "  1261.81,1486.45 1261.81,47.2441 \n",
       "  \"/>\n",
       "<polyline clip-path=\"url(#clip882)\" style=\"stroke:#000000; stroke-linecap:butt; stroke-linejoin:round; stroke-width:2; stroke-opacity:0.1; fill:none\" points=\"\n",
       "  1776.41,1486.45 1776.41,47.2441 \n",
       "  \"/>\n",
       "<polyline clip-path=\"url(#clip882)\" style=\"stroke:#000000; stroke-linecap:butt; stroke-linejoin:round; stroke-width:2; stroke-opacity:0.1; fill:none\" points=\"\n",
       "  2291,1486.45 2291,47.2441 \n",
       "  \"/>\n",
       "<polyline clip-path=\"url(#clip880)\" style=\"stroke:#000000; stroke-linecap:butt; stroke-linejoin:round; stroke-width:4; stroke-opacity:1; fill:none\" points=\"\n",
       "  170.857,1486.45 2352.76,1486.45 \n",
       "  \"/>\n",
       "<polyline clip-path=\"url(#clip880)\" style=\"stroke:#000000; stroke-linecap:butt; stroke-linejoin:round; stroke-width:4; stroke-opacity:1; fill:none\" points=\"\n",
       "  232.609,1486.45 232.609,1467.55 \n",
       "  \"/>\n",
       "<polyline clip-path=\"url(#clip880)\" style=\"stroke:#000000; stroke-linecap:butt; stroke-linejoin:round; stroke-width:4; stroke-opacity:1; fill:none\" points=\"\n",
       "  747.208,1486.45 747.208,1467.55 \n",
       "  \"/>\n",
       "<polyline clip-path=\"url(#clip880)\" style=\"stroke:#000000; stroke-linecap:butt; stroke-linejoin:round; stroke-width:4; stroke-opacity:1; fill:none\" points=\"\n",
       "  1261.81,1486.45 1261.81,1467.55 \n",
       "  \"/>\n",
       "<polyline clip-path=\"url(#clip880)\" style=\"stroke:#000000; stroke-linecap:butt; stroke-linejoin:round; stroke-width:4; stroke-opacity:1; fill:none\" points=\"\n",
       "  1776.41,1486.45 1776.41,1467.55 \n",
       "  \"/>\n",
       "<polyline clip-path=\"url(#clip880)\" style=\"stroke:#000000; stroke-linecap:butt; stroke-linejoin:round; stroke-width:4; stroke-opacity:1; fill:none\" points=\"\n",
       "  2291,1486.45 2291,1467.55 \n",
       "  \"/>\n",
       "<path clip-path=\"url(#clip880)\" d=\"M232.609 1515.64 Q228.998 1515.64 227.169 1519.2 Q225.364 1522.75 225.364 1529.87 Q225.364 1536.98 227.169 1540.55 Q228.998 1544.09 232.609 1544.09 Q236.244 1544.09 238.049 1540.55 Q239.878 1536.98 239.878 1529.87 Q239.878 1522.75 238.049 1519.2 Q236.244 1515.64 232.609 1515.64 M232.609 1511.93 Q238.419 1511.93 241.475 1516.54 Q244.554 1521.12 244.554 1529.87 Q244.554 1538.6 241.475 1543.21 Q238.419 1547.79 232.609 1547.79 Q226.799 1547.79 223.72 1543.21 Q220.665 1538.6 220.665 1529.87 Q220.665 1521.12 223.72 1516.54 Q226.799 1511.93 232.609 1511.93 Z\" fill=\"#000000\" fill-rule=\"evenodd\" fill-opacity=\"1\" /><path clip-path=\"url(#clip880)\" d=\"M721.907 1512.56 L740.264 1512.56 L740.264 1516.5 L726.19 1516.5 L726.19 1524.97 Q727.208 1524.62 728.227 1524.46 Q729.245 1524.27 730.264 1524.27 Q736.051 1524.27 739.43 1527.44 Q742.81 1530.62 742.81 1536.03 Q742.81 1541.61 739.338 1544.71 Q735.865 1547.79 729.546 1547.79 Q727.37 1547.79 725.102 1547.42 Q722.856 1547.05 720.449 1546.31 L720.449 1541.61 Q722.532 1542.74 724.754 1543.3 Q726.977 1543.86 729.453 1543.86 Q733.458 1543.86 735.796 1541.75 Q738.134 1539.64 738.134 1536.03 Q738.134 1532.42 735.796 1530.31 Q733.458 1528.21 729.453 1528.21 Q727.578 1528.21 725.703 1528.62 Q723.852 1529.04 721.907 1529.92 L721.907 1512.56 Z\" fill=\"#000000\" fill-rule=\"evenodd\" fill-opacity=\"1\" /><path clip-path=\"url(#clip880)\" d=\"M762.023 1515.64 Q758.412 1515.64 756.583 1519.2 Q754.777 1522.75 754.777 1529.87 Q754.777 1536.98 756.583 1540.55 Q758.412 1544.09 762.023 1544.09 Q765.657 1544.09 767.462 1540.55 Q769.291 1536.98 769.291 1529.87 Q769.291 1522.75 767.462 1519.2 Q765.657 1515.64 762.023 1515.64 M762.023 1511.93 Q767.833 1511.93 770.888 1516.54 Q773.967 1521.12 773.967 1529.87 Q773.967 1538.6 770.888 1543.21 Q767.833 1547.79 762.023 1547.79 Q756.213 1547.79 753.134 1543.21 Q750.078 1538.6 750.078 1529.87 Q750.078 1521.12 753.134 1516.54 Q756.213 1511.93 762.023 1511.93 Z\" fill=\"#000000\" fill-rule=\"evenodd\" fill-opacity=\"1\" /><path clip-path=\"url(#clip880)\" d=\"M1221.41 1543.18 L1229.05 1543.18 L1229.05 1516.82 L1220.74 1518.49 L1220.74 1514.23 L1229.01 1512.56 L1233.68 1512.56 L1233.68 1543.18 L1241.32 1543.18 L1241.32 1547.12 L1221.41 1547.12 L1221.41 1543.18 Z\" fill=\"#000000\" fill-rule=\"evenodd\" fill-opacity=\"1\" /><path clip-path=\"url(#clip880)\" d=\"M1260.77 1515.64 Q1257.15 1515.64 1255.33 1519.2 Q1253.52 1522.75 1253.52 1529.87 Q1253.52 1536.98 1255.33 1540.55 Q1257.15 1544.09 1260.77 1544.09 Q1264.4 1544.09 1266.2 1540.55 Q1268.03 1536.98 1268.03 1529.87 Q1268.03 1522.75 1266.2 1519.2 Q1264.4 1515.64 1260.77 1515.64 M1260.77 1511.93 Q1266.58 1511.93 1269.63 1516.54 Q1272.71 1521.12 1272.71 1529.87 Q1272.71 1538.6 1269.63 1543.21 Q1266.58 1547.79 1260.77 1547.79 Q1254.95 1547.79 1251.88 1543.21 Q1248.82 1538.6 1248.82 1529.87 Q1248.82 1521.12 1251.88 1516.54 Q1254.95 1511.93 1260.77 1511.93 Z\" fill=\"#000000\" fill-rule=\"evenodd\" fill-opacity=\"1\" /><path clip-path=\"url(#clip880)\" d=\"M1290.93 1515.64 Q1287.32 1515.64 1285.49 1519.2 Q1283.68 1522.75 1283.68 1529.87 Q1283.68 1536.98 1285.49 1540.55 Q1287.32 1544.09 1290.93 1544.09 Q1294.56 1544.09 1296.37 1540.55 Q1298.2 1536.98 1298.2 1529.87 Q1298.2 1522.75 1296.37 1519.2 Q1294.56 1515.64 1290.93 1515.64 M1290.93 1511.93 Q1296.74 1511.93 1299.79 1516.54 Q1302.87 1521.12 1302.87 1529.87 Q1302.87 1538.6 1299.79 1543.21 Q1296.74 1547.79 1290.93 1547.79 Q1285.12 1547.79 1282.04 1543.21 Q1278.98 1538.6 1278.98 1529.87 Q1278.98 1521.12 1282.04 1516.54 Q1285.12 1511.93 1290.93 1511.93 Z\" fill=\"#000000\" fill-rule=\"evenodd\" fill-opacity=\"1\" /><path clip-path=\"url(#clip880)\" d=\"M1736.01 1543.18 L1743.65 1543.18 L1743.65 1516.82 L1735.34 1518.49 L1735.34 1514.23 L1743.6 1512.56 L1748.28 1512.56 L1748.28 1543.18 L1755.92 1543.18 L1755.92 1547.12 L1736.01 1547.12 L1736.01 1543.18 Z\" fill=\"#000000\" fill-rule=\"evenodd\" fill-opacity=\"1\" /><path clip-path=\"url(#clip880)\" d=\"M1765.41 1512.56 L1783.77 1512.56 L1783.77 1516.5 L1769.69 1516.5 L1769.69 1524.97 Q1770.71 1524.62 1771.73 1524.46 Q1772.75 1524.27 1773.77 1524.27 Q1779.55 1524.27 1782.93 1527.44 Q1786.31 1530.62 1786.31 1536.03 Q1786.31 1541.61 1782.84 1544.71 Q1779.37 1547.79 1773.05 1547.79 Q1770.87 1547.79 1768.6 1547.42 Q1766.36 1547.05 1763.95 1546.31 L1763.95 1541.61 Q1766.04 1542.74 1768.26 1543.3 Q1770.48 1543.86 1772.96 1543.86 Q1776.96 1543.86 1779.3 1541.75 Q1781.64 1539.64 1781.64 1536.03 Q1781.64 1532.42 1779.3 1530.31 Q1776.96 1528.21 1772.96 1528.21 Q1771.08 1528.21 1769.21 1528.62 Q1767.35 1529.04 1765.41 1529.92 L1765.41 1512.56 Z\" fill=\"#000000\" fill-rule=\"evenodd\" fill-opacity=\"1\" /><path clip-path=\"url(#clip880)\" d=\"M1805.53 1515.64 Q1801.91 1515.64 1800.09 1519.2 Q1798.28 1522.75 1798.28 1529.87 Q1798.28 1536.98 1800.09 1540.55 Q1801.91 1544.09 1805.53 1544.09 Q1809.16 1544.09 1810.97 1540.55 Q1812.79 1536.98 1812.79 1529.87 Q1812.79 1522.75 1810.97 1519.2 Q1809.16 1515.64 1805.53 1515.64 M1805.53 1511.93 Q1811.34 1511.93 1814.39 1516.54 Q1817.47 1521.12 1817.47 1529.87 Q1817.47 1538.6 1814.39 1543.21 Q1811.34 1547.79 1805.53 1547.79 Q1799.72 1547.79 1796.64 1543.21 Q1793.58 1538.6 1793.58 1529.87 Q1793.58 1521.12 1796.64 1516.54 Q1799.72 1511.93 1805.53 1511.93 Z\" fill=\"#000000\" fill-rule=\"evenodd\" fill-opacity=\"1\" /><path clip-path=\"url(#clip880)\" d=\"M2254.7 1543.18 L2271.02 1543.18 L2271.02 1547.12 L2249.07 1547.12 L2249.07 1543.18 Q2251.73 1540.43 2256.32 1535.8 Q2260.92 1531.15 2262.1 1529.81 Q2264.35 1527.28 2265.23 1525.55 Q2266.13 1523.79 2266.13 1522.1 Q2266.13 1519.34 2264.19 1517.61 Q2262.27 1515.87 2259.16 1515.87 Q2256.96 1515.87 2254.51 1516.63 Q2252.08 1517.4 2249.3 1518.95 L2249.3 1514.23 Q2252.13 1513.09 2254.58 1512.51 Q2257.03 1511.93 2259.07 1511.93 Q2264.44 1511.93 2267.64 1514.62 Q2270.83 1517.31 2270.83 1521.8 Q2270.83 1523.93 2270.02 1525.85 Q2269.23 1527.74 2267.13 1530.34 Q2266.55 1531.01 2263.45 1534.23 Q2260.34 1537.42 2254.7 1543.18 Z\" fill=\"#000000\" fill-rule=\"evenodd\" fill-opacity=\"1\" /><path clip-path=\"url(#clip880)\" d=\"M2290.83 1515.64 Q2287.22 1515.64 2285.39 1519.2 Q2283.59 1522.75 2283.59 1529.87 Q2283.59 1536.98 2285.39 1540.55 Q2287.22 1544.09 2290.83 1544.09 Q2294.46 1544.09 2296.27 1540.55 Q2298.1 1536.98 2298.1 1529.87 Q2298.1 1522.75 2296.27 1519.2 Q2294.46 1515.64 2290.83 1515.64 M2290.83 1511.93 Q2296.64 1511.93 2299.7 1516.54 Q2302.77 1521.12 2302.77 1529.87 Q2302.77 1538.6 2299.7 1543.21 Q2296.64 1547.79 2290.83 1547.79 Q2285.02 1547.79 2281.94 1543.21 Q2278.89 1538.6 2278.89 1529.87 Q2278.89 1521.12 2281.94 1516.54 Q2285.02 1511.93 2290.83 1511.93 Z\" fill=\"#000000\" fill-rule=\"evenodd\" fill-opacity=\"1\" /><path clip-path=\"url(#clip880)\" d=\"M2320.99 1515.64 Q2317.38 1515.64 2315.55 1519.2 Q2313.75 1522.75 2313.75 1529.87 Q2313.75 1536.98 2315.55 1540.55 Q2317.38 1544.09 2320.99 1544.09 Q2324.63 1544.09 2326.43 1540.55 Q2328.26 1536.98 2328.26 1529.87 Q2328.26 1522.75 2326.43 1519.2 Q2324.63 1515.64 2320.99 1515.64 M2320.99 1511.93 Q2326.8 1511.93 2329.86 1516.54 Q2332.94 1521.12 2332.94 1529.87 Q2332.94 1538.6 2329.86 1543.21 Q2326.8 1547.79 2320.99 1547.79 Q2315.18 1547.79 2312.1 1543.21 Q2309.05 1538.6 2309.05 1529.87 Q2309.05 1521.12 2312.1 1516.54 Q2315.18 1511.93 2320.99 1511.93 Z\" fill=\"#000000\" fill-rule=\"evenodd\" fill-opacity=\"1\" /><polyline clip-path=\"url(#clip882)\" style=\"stroke:#000000; stroke-linecap:butt; stroke-linejoin:round; stroke-width:2; stroke-opacity:0.1; fill:none\" points=\"\n",
       "  170.857,1445.72 2352.76,1445.72 \n",
       "  \"/>\n",
       "<polyline clip-path=\"url(#clip882)\" style=\"stroke:#000000; stroke-linecap:butt; stroke-linejoin:round; stroke-width:2; stroke-opacity:0.1; fill:none\" points=\"\n",
       "  170.857,1119.11 2352.76,1119.11 \n",
       "  \"/>\n",
       "<polyline clip-path=\"url(#clip882)\" style=\"stroke:#000000; stroke-linecap:butt; stroke-linejoin:round; stroke-width:2; stroke-opacity:0.1; fill:none\" points=\"\n",
       "  170.857,792.496 2352.76,792.496 \n",
       "  \"/>\n",
       "<polyline clip-path=\"url(#clip882)\" style=\"stroke:#000000; stroke-linecap:butt; stroke-linejoin:round; stroke-width:2; stroke-opacity:0.1; fill:none\" points=\"\n",
       "  170.857,465.886 2352.76,465.886 \n",
       "  \"/>\n",
       "<polyline clip-path=\"url(#clip882)\" style=\"stroke:#000000; stroke-linecap:butt; stroke-linejoin:round; stroke-width:2; stroke-opacity:0.1; fill:none\" points=\"\n",
       "  170.857,139.276 2352.76,139.276 \n",
       "  \"/>\n",
       "<polyline clip-path=\"url(#clip880)\" style=\"stroke:#000000; stroke-linecap:butt; stroke-linejoin:round; stroke-width:4; stroke-opacity:1; fill:none\" points=\"\n",
       "  170.857,1486.45 170.857,47.2441 \n",
       "  \"/>\n",
       "<polyline clip-path=\"url(#clip880)\" style=\"stroke:#000000; stroke-linecap:butt; stroke-linejoin:round; stroke-width:4; stroke-opacity:1; fill:none\" points=\"\n",
       "  170.857,1445.72 189.755,1445.72 \n",
       "  \"/>\n",
       "<polyline clip-path=\"url(#clip880)\" style=\"stroke:#000000; stroke-linecap:butt; stroke-linejoin:round; stroke-width:4; stroke-opacity:1; fill:none\" points=\"\n",
       "  170.857,1119.11 189.755,1119.11 \n",
       "  \"/>\n",
       "<polyline clip-path=\"url(#clip880)\" style=\"stroke:#000000; stroke-linecap:butt; stroke-linejoin:round; stroke-width:4; stroke-opacity:1; fill:none\" points=\"\n",
       "  170.857,792.496 189.755,792.496 \n",
       "  \"/>\n",
       "<polyline clip-path=\"url(#clip880)\" style=\"stroke:#000000; stroke-linecap:butt; stroke-linejoin:round; stroke-width:4; stroke-opacity:1; fill:none\" points=\"\n",
       "  170.857,465.886 189.755,465.886 \n",
       "  \"/>\n",
       "<polyline clip-path=\"url(#clip880)\" style=\"stroke:#000000; stroke-linecap:butt; stroke-linejoin:round; stroke-width:4; stroke-opacity:1; fill:none\" points=\"\n",
       "  170.857,139.276 189.755,139.276 \n",
       "  \"/>\n",
       "<path clip-path=\"url(#clip880)\" d=\"M122.913 1431.51 Q119.302 1431.51 117.473 1435.08 Q115.668 1438.62 115.668 1445.75 Q115.668 1452.86 117.473 1456.42 Q119.302 1459.96 122.913 1459.96 Q126.547 1459.96 128.353 1456.42 Q130.182 1452.86 130.182 1445.75 Q130.182 1438.62 128.353 1435.08 Q126.547 1431.51 122.913 1431.51 M122.913 1427.81 Q128.723 1427.81 131.779 1432.42 Q134.857 1437 134.857 1445.75 Q134.857 1454.48 131.779 1459.08 Q128.723 1463.67 122.913 1463.67 Q117.103 1463.67 114.024 1459.08 Q110.969 1454.48 110.969 1445.75 Q110.969 1437 114.024 1432.42 Q117.103 1427.81 122.913 1427.81 Z\" fill=\"#000000\" fill-rule=\"evenodd\" fill-opacity=\"1\" /><path clip-path=\"url(#clip880)\" d=\"M82.7975 1101.83 L101.154 1101.83 L101.154 1105.76 L87.0799 1105.76 L87.0799 1114.23 Q88.0984 1113.89 89.1169 1113.72 Q90.1354 1113.54 91.1539 1113.54 Q96.941 1113.54 100.321 1116.71 Q103.7 1119.88 103.7 1125.3 Q103.7 1130.88 100.228 1133.98 Q96.7558 1137.06 90.4364 1137.06 Q88.2604 1137.06 85.9919 1136.69 Q83.7466 1136.32 81.3392 1135.58 L81.3392 1130.88 Q83.4225 1132.01 85.6447 1132.57 Q87.8669 1133.12 90.3438 1133.12 Q94.3484 1133.12 96.6863 1131.02 Q99.0243 1128.91 99.0243 1125.3 Q99.0243 1121.69 96.6863 1119.58 Q94.3484 1117.47 90.3438 1117.47 Q88.4688 1117.47 86.5938 1117.89 Q84.7419 1118.31 82.7975 1119.19 L82.7975 1101.83 Z\" fill=\"#000000\" fill-rule=\"evenodd\" fill-opacity=\"1\" /><path clip-path=\"url(#clip880)\" d=\"M122.913 1104.9 Q119.302 1104.9 117.473 1108.47 Q115.668 1112.01 115.668 1119.14 Q115.668 1126.25 117.473 1129.81 Q119.302 1133.35 122.913 1133.35 Q126.547 1133.35 128.353 1129.81 Q130.182 1126.25 130.182 1119.14 Q130.182 1112.01 128.353 1108.47 Q126.547 1104.9 122.913 1104.9 M122.913 1101.2 Q128.723 1101.2 131.779 1105.81 Q134.857 1110.39 134.857 1119.14 Q134.857 1127.87 131.779 1132.47 Q128.723 1137.06 122.913 1137.06 Q117.103 1137.06 114.024 1132.47 Q110.969 1127.87 110.969 1119.14 Q110.969 1110.39 114.024 1105.81 Q117.103 1101.2 122.913 1101.2 Z\" fill=\"#000000\" fill-rule=\"evenodd\" fill-opacity=\"1\" /><path clip-path=\"url(#clip880)\" d=\"M53.3995 805.841 L61.0384 805.841 L61.0384 779.475 L52.7282 781.142 L52.7282 776.882 L60.9921 775.216 L65.668 775.216 L65.668 805.841 L73.3068 805.841 L73.3068 809.776 L53.3995 809.776 L53.3995 805.841 Z\" fill=\"#000000\" fill-rule=\"evenodd\" fill-opacity=\"1\" /><path clip-path=\"url(#clip880)\" d=\"M92.7512 778.294 Q89.1401 778.294 87.3114 781.859 Q85.5058 785.401 85.5058 792.53 Q85.5058 799.637 87.3114 803.202 Q89.1401 806.743 92.7512 806.743 Q96.3854 806.743 98.1909 803.202 Q100.02 799.637 100.02 792.53 Q100.02 785.401 98.1909 781.859 Q96.3854 778.294 92.7512 778.294 M92.7512 774.591 Q98.5613 774.591 101.617 779.197 Q104.696 783.781 104.696 792.53 Q104.696 801.257 101.617 805.864 Q98.5613 810.447 92.7512 810.447 Q86.941 810.447 83.8623 805.864 Q80.8068 801.257 80.8068 792.53 Q80.8068 783.781 83.8623 779.197 Q86.941 774.591 92.7512 774.591 Z\" fill=\"#000000\" fill-rule=\"evenodd\" fill-opacity=\"1\" /><path clip-path=\"url(#clip880)\" d=\"M122.913 778.294 Q119.302 778.294 117.473 781.859 Q115.668 785.401 115.668 792.53 Q115.668 799.637 117.473 803.202 Q119.302 806.743 122.913 806.743 Q126.547 806.743 128.353 803.202 Q130.182 799.637 130.182 792.53 Q130.182 785.401 128.353 781.859 Q126.547 778.294 122.913 778.294 M122.913 774.591 Q128.723 774.591 131.779 779.197 Q134.857 783.781 134.857 792.53 Q134.857 801.257 131.779 805.864 Q128.723 810.447 122.913 810.447 Q117.103 810.447 114.024 805.864 Q110.969 801.257 110.969 792.53 Q110.969 783.781 114.024 779.197 Q117.103 774.591 122.913 774.591 Z\" fill=\"#000000\" fill-rule=\"evenodd\" fill-opacity=\"1\" /><path clip-path=\"url(#clip880)\" d=\"M53.3995 479.231 L61.0384 479.231 L61.0384 452.865 L52.7282 454.532 L52.7282 450.272 L60.9921 448.606 L65.668 448.606 L65.668 479.231 L73.3068 479.231 L73.3068 483.166 L53.3995 483.166 L53.3995 479.231 Z\" fill=\"#000000\" fill-rule=\"evenodd\" fill-opacity=\"1\" /><path clip-path=\"url(#clip880)\" d=\"M82.7975 448.606 L101.154 448.606 L101.154 452.541 L87.0799 452.541 L87.0799 461.013 Q88.0984 460.666 89.1169 460.504 Q90.1354 460.319 91.1539 460.319 Q96.941 460.319 100.321 463.49 Q103.7 466.661 103.7 472.078 Q103.7 477.657 100.228 480.758 Q96.7558 483.837 90.4364 483.837 Q88.2604 483.837 85.9919 483.467 Q83.7466 483.096 81.3392 482.356 L81.3392 477.657 Q83.4225 478.791 85.6447 479.346 Q87.8669 479.902 90.3438 479.902 Q94.3484 479.902 96.6863 477.795 Q99.0243 475.689 99.0243 472.078 Q99.0243 468.467 96.6863 466.36 Q94.3484 464.254 90.3438 464.254 Q88.4688 464.254 86.5938 464.671 Q84.7419 465.087 82.7975 465.967 L82.7975 448.606 Z\" fill=\"#000000\" fill-rule=\"evenodd\" fill-opacity=\"1\" /><path clip-path=\"url(#clip880)\" d=\"M122.913 451.684 Q119.302 451.684 117.473 455.249 Q115.668 458.791 115.668 465.921 Q115.668 473.027 117.473 476.592 Q119.302 480.133 122.913 480.133 Q126.547 480.133 128.353 476.592 Q130.182 473.027 130.182 465.921 Q130.182 458.791 128.353 455.249 Q126.547 451.684 122.913 451.684 M122.913 447.981 Q128.723 447.981 131.779 452.587 Q134.857 457.171 134.857 465.921 Q134.857 474.647 131.779 479.254 Q128.723 483.837 122.913 483.837 Q117.103 483.837 114.024 479.254 Q110.969 474.647 110.969 465.921 Q110.969 457.171 114.024 452.587 Q117.103 447.981 122.913 447.981 Z\" fill=\"#000000\" fill-rule=\"evenodd\" fill-opacity=\"1\" /><path clip-path=\"url(#clip880)\" d=\"M56.6171 152.621 L72.9365 152.621 L72.9365 156.556 L50.9921 156.556 L50.9921 152.621 Q53.6541 149.866 58.2375 145.236 Q62.8439 140.584 64.0245 139.241 Q66.2698 136.718 67.1494 134.982 Q68.0522 133.223 68.0522 131.533 Q68.0522 128.778 66.1078 127.042 Q64.1865 125.306 61.0847 125.306 Q58.8856 125.306 56.4319 126.07 Q54.0014 126.834 51.2236 128.385 L51.2236 123.662 Q54.0477 122.528 56.5014 121.95 Q58.955 121.371 60.9921 121.371 Q66.3624 121.371 69.5568 124.056 Q72.7513 126.741 72.7513 131.232 Q72.7513 133.361 71.9411 135.283 Q71.1541 137.181 69.0476 139.773 Q68.4689 140.445 65.367 143.662 Q62.2652 146.857 56.6171 152.621 Z\" fill=\"#000000\" fill-rule=\"evenodd\" fill-opacity=\"1\" /><path clip-path=\"url(#clip880)\" d=\"M92.7512 125.075 Q89.1401 125.075 87.3114 128.639 Q85.5058 132.181 85.5058 139.311 Q85.5058 146.417 87.3114 149.982 Q89.1401 153.523 92.7512 153.523 Q96.3854 153.523 98.1909 149.982 Q100.02 146.417 100.02 139.311 Q100.02 132.181 98.1909 128.639 Q96.3854 125.075 92.7512 125.075 M92.7512 121.371 Q98.5613 121.371 101.617 125.977 Q104.696 130.561 104.696 139.311 Q104.696 148.037 101.617 152.644 Q98.5613 157.227 92.7512 157.227 Q86.941 157.227 83.8623 152.644 Q80.8068 148.037 80.8068 139.311 Q80.8068 130.561 83.8623 125.977 Q86.941 121.371 92.7512 121.371 Z\" fill=\"#000000\" fill-rule=\"evenodd\" fill-opacity=\"1\" /><path clip-path=\"url(#clip880)\" d=\"M122.913 125.075 Q119.302 125.075 117.473 128.639 Q115.668 132.181 115.668 139.311 Q115.668 146.417 117.473 149.982 Q119.302 153.523 122.913 153.523 Q126.547 153.523 128.353 149.982 Q130.182 146.417 130.182 139.311 Q130.182 132.181 128.353 128.639 Q126.547 125.075 122.913 125.075 M122.913 121.371 Q128.723 121.371 131.779 125.977 Q134.857 130.561 134.857 139.311 Q134.857 148.037 131.779 152.644 Q128.723 157.227 122.913 157.227 Q117.103 157.227 114.024 152.644 Q110.969 148.037 110.969 139.311 Q110.969 130.561 114.024 125.977 Q117.103 121.371 122.913 121.371 Z\" fill=\"#000000\" fill-rule=\"evenodd\" fill-opacity=\"1\" /><polyline clip-path=\"url(#clip882)\" style=\"stroke:#009af9; stroke-linecap:butt; stroke-linejoin:round; stroke-width:4; stroke-opacity:1; fill:none\" points=\"\n",
       "  232.609,87.9763 242.901,95.3794 253.193,102.783 263.485,110.186 273.777,117.589 284.069,124.992 294.361,132.395 304.653,139.798 314.945,147.202 325.237,154.605 \n",
       "  335.529,162.008 345.821,169.411 356.113,176.814 366.405,184.217 376.697,191.621 386.989,199.024 397.281,206.427 407.573,213.83 417.865,221.233 428.157,228.636 \n",
       "  438.449,236.039 448.741,243.443 459.033,250.846 469.325,258.249 479.617,265.652 489.909,273.055 500.201,280.458 510.493,287.862 520.785,295.265 531.077,302.668 \n",
       "  541.368,310.071 551.66,317.474 561.952,324.877 572.244,332.281 582.536,339.684 592.828,347.087 603.12,354.49 613.412,361.893 623.704,369.296 633.996,376.699 \n",
       "  644.288,384.103 654.58,391.506 664.872,398.909 675.164,406.312 685.456,413.715 695.748,421.118 706.04,428.522 716.332,435.925 726.624,443.328 736.916,450.731 \n",
       "  747.208,458.134 757.5,465.537 767.792,472.941 778.084,480.344 788.376,487.747 798.668,495.15 808.96,502.553 819.252,509.956 829.544,517.36 839.836,524.763 \n",
       "  850.128,532.166 860.42,539.569 870.712,546.972 881.004,554.375 891.296,561.778 901.588,569.182 911.88,576.585 922.172,583.988 932.463,591.391 942.755,598.794 \n",
       "  953.047,606.197 963.339,613.601 973.631,621.004 983.923,628.407 994.215,635.81 1004.51,643.213 1014.8,650.616 1025.09,658.02 1035.38,665.423 1045.68,672.826 \n",
       "  1055.97,680.229 1066.26,687.632 1076.55,695.035 1086.84,702.438 1097.14,709.842 1107.43,717.245 1117.72,724.648 1128.01,732.051 1138.3,739.454 1148.59,746.857 \n",
       "  1158.89,754.261 1169.18,761.664 1179.47,769.067 1189.76,776.47 1200.05,783.873 1210.35,791.276 1220.64,798.68 1230.93,806.083 1241.22,813.486 1251.51,820.889 \n",
       "  1261.81,828.292 1272.1,835.695 1282.39,843.099 1292.68,850.502 1302.97,857.905 1313.27,865.308 1323.56,872.711 1333.85,880.114 1344.14,887.517 1354.43,894.921 \n",
       "  1364.73,902.324 1375.02,909.727 1385.31,917.13 1395.6,924.533 1405.89,931.936 1416.19,939.34 1426.48,946.743 1436.77,954.146 1447.06,961.549 1457.35,968.952 \n",
       "  1467.65,976.355 1477.94,983.759 1488.23,991.162 1498.52,998.565 1508.81,1005.97 1519.11,1013.37 1529.4,1020.77 1539.69,1028.18 1549.98,1035.58 1560.27,1042.98 \n",
       "  1570.57,1050.39 1580.86,1057.79 1591.15,1065.19 1601.44,1072.6 1611.73,1080 1622.03,1087.4 1632.32,1094.81 1642.61,1102.21 1652.9,1109.61 1663.19,1117.02 \n",
       "  1673.49,1124.42 1683.78,1131.82 1694.07,1139.22 1704.36,1146.63 1714.65,1154.03 1724.95,1161.43 1735.24,1168.05 1745.53,1174.59 1755.82,1181.12 1766.11,1187.65 \n",
       "  1776.41,1194.18 1786.7,1200.71 1796.99,1207.25 1807.28,1213.78 1817.57,1220.31 1827.87,1226.84 1838.16,1233.38 1848.45,1239.91 1858.74,1246.44 1869.03,1252.97 \n",
       "  1879.33,1259.5 1889.62,1266.04 1899.91,1272.57 1910.2,1279.1 1920.49,1285.63 1930.78,1292.17 1941.08,1298.7 1951.37,1305.23 1961.66,1311.76 1971.95,1318.29 \n",
       "  1982.24,1324.83 1992.54,1331.36 2002.83,1337.89 2013.12,1344.42 2023.41,1350.96 2033.7,1357.49 2044,1364.02 2054.29,1370.55 2064.58,1377.08 2074.87,1383.62 \n",
       "  2085.16,1390.15 2095.46,1396.68 2105.75,1403.21 2116.04,1409.75 2126.33,1416.28 2136.62,1422.81 2146.92,1429.34 2157.21,1435.87 2167.5,1439.44 2177.79,1441.62 \n",
       "  2188.08,1443.8 2198.38,1445.45 2208.67,1445.63 2218.96,1445.72 2229.25,1445.72 2239.54,1445.72 2249.84,1445.72 2260.13,1445.72 2270.42,1445.72 2280.71,1445.72 \n",
       "  2291,1445.72 \n",
       "  \"/>\n",
       "<path clip-path=\"url(#clip880)\" d=\"\n",
       "M1985.16 198.898 L2280.03 198.898 L2280.03 95.2176 L1985.16 95.2176  Z\n",
       "  \" fill=\"#ffffff\" fill-rule=\"evenodd\" fill-opacity=\"1\"/>\n",
       "<polyline clip-path=\"url(#clip880)\" style=\"stroke:#000000; stroke-linecap:butt; stroke-linejoin:round; stroke-width:4; stroke-opacity:1; fill:none\" points=\"\n",
       "  1985.16,198.898 2280.03,198.898 2280.03,95.2176 1985.16,95.2176 1985.16,198.898 \n",
       "  \"/>\n",
       "<polyline clip-path=\"url(#clip880)\" style=\"stroke:#009af9; stroke-linecap:butt; stroke-linejoin:round; stroke-width:4; stroke-opacity:1; fill:none\" points=\"\n",
       "  2009.41,147.058 2154.87,147.058 \n",
       "  \"/>\n",
       "<path clip-path=\"url(#clip880)\" d=\"M2192.95 166.745 Q2191.15 171.375 2189.43 172.787 Q2187.72 174.199 2184.85 174.199 L2181.45 174.199 L2181.45 170.634 L2183.95 170.634 Q2185.71 170.634 2186.68 169.8 Q2187.65 168.967 2188.83 165.865 L2189.6 163.921 L2179.11 138.412 L2183.62 138.412 L2191.72 158.689 L2199.83 138.412 L2204.34 138.412 L2192.95 166.745 Z\" fill=\"#000000\" fill-rule=\"evenodd\" fill-opacity=\"1\" /><path clip-path=\"url(#clip880)\" d=\"M2211.63 160.402 L2219.27 160.402 L2219.27 134.037 L2210.96 135.703 L2210.96 131.444 L2219.22 129.778 L2223.9 129.778 L2223.9 160.402 L2231.54 160.402 L2231.54 164.338 L2211.63 164.338 L2211.63 160.402 Z\" fill=\"#000000\" fill-rule=\"evenodd\" fill-opacity=\"1\" /></svg>\n"
      ],
      "text/html": [
       "<?xml version=\"1.0\" encoding=\"utf-8\"?>\n",
       "<svg xmlns=\"http://www.w3.org/2000/svg\" xmlns:xlink=\"http://www.w3.org/1999/xlink\" width=\"600\" height=\"400\" viewBox=\"0 0 2400 1600\">\n",
       "<defs>\n",
       "  <clipPath id=\"clip930\">\n",
       "    <rect x=\"0\" y=\"0\" width=\"2400\" height=\"1600\"/>\n",
       "  </clipPath>\n",
       "</defs>\n",
       "<path clip-path=\"url(#clip930)\" d=\"\n",
       "M0 1600 L2400 1600 L2400 0 L0 0  Z\n",
       "  \" fill=\"#ffffff\" fill-rule=\"evenodd\" fill-opacity=\"1\"/>\n",
       "<defs>\n",
       "  <clipPath id=\"clip931\">\n",
       "    <rect x=\"480\" y=\"0\" width=\"1681\" height=\"1600\"/>\n",
       "  </clipPath>\n",
       "</defs>\n",
       "<path clip-path=\"url(#clip930)\" d=\"\n",
       "M170.857 1486.45 L2352.76 1486.45 L2352.76 47.2441 L170.857 47.2441  Z\n",
       "  \" fill=\"#ffffff\" fill-rule=\"evenodd\" fill-opacity=\"1\"/>\n",
       "<defs>\n",
       "  <clipPath id=\"clip932\">\n",
       "    <rect x=\"170\" y=\"47\" width=\"2183\" height=\"1440\"/>\n",
       "  </clipPath>\n",
       "</defs>\n",
       "<polyline clip-path=\"url(#clip932)\" style=\"stroke:#000000; stroke-linecap:butt; stroke-linejoin:round; stroke-width:2; stroke-opacity:0.1; fill:none\" points=\"\n",
       "  232.609,1486.45 232.609,47.2441 \n",
       "  \"/>\n",
       "<polyline clip-path=\"url(#clip932)\" style=\"stroke:#000000; stroke-linecap:butt; stroke-linejoin:round; stroke-width:2; stroke-opacity:0.1; fill:none\" points=\"\n",
       "  747.208,1486.45 747.208,47.2441 \n",
       "  \"/>\n",
       "<polyline clip-path=\"url(#clip932)\" style=\"stroke:#000000; stroke-linecap:butt; stroke-linejoin:round; stroke-width:2; stroke-opacity:0.1; fill:none\" points=\"\n",
       "  1261.81,1486.45 1261.81,47.2441 \n",
       "  \"/>\n",
       "<polyline clip-path=\"url(#clip932)\" style=\"stroke:#000000; stroke-linecap:butt; stroke-linejoin:round; stroke-width:2; stroke-opacity:0.1; fill:none\" points=\"\n",
       "  1776.41,1486.45 1776.41,47.2441 \n",
       "  \"/>\n",
       "<polyline clip-path=\"url(#clip932)\" style=\"stroke:#000000; stroke-linecap:butt; stroke-linejoin:round; stroke-width:2; stroke-opacity:0.1; fill:none\" points=\"\n",
       "  2291,1486.45 2291,47.2441 \n",
       "  \"/>\n",
       "<polyline clip-path=\"url(#clip930)\" style=\"stroke:#000000; stroke-linecap:butt; stroke-linejoin:round; stroke-width:4; stroke-opacity:1; fill:none\" points=\"\n",
       "  170.857,1486.45 2352.76,1486.45 \n",
       "  \"/>\n",
       "<polyline clip-path=\"url(#clip930)\" style=\"stroke:#000000; stroke-linecap:butt; stroke-linejoin:round; stroke-width:4; stroke-opacity:1; fill:none\" points=\"\n",
       "  232.609,1486.45 232.609,1467.55 \n",
       "  \"/>\n",
       "<polyline clip-path=\"url(#clip930)\" style=\"stroke:#000000; stroke-linecap:butt; stroke-linejoin:round; stroke-width:4; stroke-opacity:1; fill:none\" points=\"\n",
       "  747.208,1486.45 747.208,1467.55 \n",
       "  \"/>\n",
       "<polyline clip-path=\"url(#clip930)\" style=\"stroke:#000000; stroke-linecap:butt; stroke-linejoin:round; stroke-width:4; stroke-opacity:1; fill:none\" points=\"\n",
       "  1261.81,1486.45 1261.81,1467.55 \n",
       "  \"/>\n",
       "<polyline clip-path=\"url(#clip930)\" style=\"stroke:#000000; stroke-linecap:butt; stroke-linejoin:round; stroke-width:4; stroke-opacity:1; fill:none\" points=\"\n",
       "  1776.41,1486.45 1776.41,1467.55 \n",
       "  \"/>\n",
       "<polyline clip-path=\"url(#clip930)\" style=\"stroke:#000000; stroke-linecap:butt; stroke-linejoin:round; stroke-width:4; stroke-opacity:1; fill:none\" points=\"\n",
       "  2291,1486.45 2291,1467.55 \n",
       "  \"/>\n",
       "<path clip-path=\"url(#clip930)\" d=\"M232.609 1515.64 Q228.998 1515.64 227.169 1519.2 Q225.364 1522.75 225.364 1529.87 Q225.364 1536.98 227.169 1540.55 Q228.998 1544.09 232.609 1544.09 Q236.244 1544.09 238.049 1540.55 Q239.878 1536.98 239.878 1529.87 Q239.878 1522.75 238.049 1519.2 Q236.244 1515.64 232.609 1515.64 M232.609 1511.93 Q238.419 1511.93 241.475 1516.54 Q244.554 1521.12 244.554 1529.87 Q244.554 1538.6 241.475 1543.21 Q238.419 1547.79 232.609 1547.79 Q226.799 1547.79 223.72 1543.21 Q220.665 1538.6 220.665 1529.87 Q220.665 1521.12 223.72 1516.54 Q226.799 1511.93 232.609 1511.93 Z\" fill=\"#000000\" fill-rule=\"evenodd\" fill-opacity=\"1\" /><path clip-path=\"url(#clip930)\" d=\"M721.907 1512.56 L740.264 1512.56 L740.264 1516.5 L726.19 1516.5 L726.19 1524.97 Q727.208 1524.62 728.227 1524.46 Q729.245 1524.27 730.264 1524.27 Q736.051 1524.27 739.43 1527.44 Q742.81 1530.62 742.81 1536.03 Q742.81 1541.61 739.338 1544.71 Q735.865 1547.79 729.546 1547.79 Q727.37 1547.79 725.102 1547.42 Q722.856 1547.05 720.449 1546.31 L720.449 1541.61 Q722.532 1542.74 724.754 1543.3 Q726.977 1543.86 729.453 1543.86 Q733.458 1543.86 735.796 1541.75 Q738.134 1539.64 738.134 1536.03 Q738.134 1532.42 735.796 1530.31 Q733.458 1528.21 729.453 1528.21 Q727.578 1528.21 725.703 1528.62 Q723.852 1529.04 721.907 1529.92 L721.907 1512.56 Z\" fill=\"#000000\" fill-rule=\"evenodd\" fill-opacity=\"1\" /><path clip-path=\"url(#clip930)\" d=\"M762.023 1515.64 Q758.412 1515.64 756.583 1519.2 Q754.777 1522.75 754.777 1529.87 Q754.777 1536.98 756.583 1540.55 Q758.412 1544.09 762.023 1544.09 Q765.657 1544.09 767.462 1540.55 Q769.291 1536.98 769.291 1529.87 Q769.291 1522.75 767.462 1519.2 Q765.657 1515.64 762.023 1515.64 M762.023 1511.93 Q767.833 1511.93 770.888 1516.54 Q773.967 1521.12 773.967 1529.87 Q773.967 1538.6 770.888 1543.21 Q767.833 1547.79 762.023 1547.79 Q756.213 1547.79 753.134 1543.21 Q750.078 1538.6 750.078 1529.87 Q750.078 1521.12 753.134 1516.54 Q756.213 1511.93 762.023 1511.93 Z\" fill=\"#000000\" fill-rule=\"evenodd\" fill-opacity=\"1\" /><path clip-path=\"url(#clip930)\" d=\"M1221.41 1543.18 L1229.05 1543.18 L1229.05 1516.82 L1220.74 1518.49 L1220.74 1514.23 L1229.01 1512.56 L1233.68 1512.56 L1233.68 1543.18 L1241.32 1543.18 L1241.32 1547.12 L1221.41 1547.12 L1221.41 1543.18 Z\" fill=\"#000000\" fill-rule=\"evenodd\" fill-opacity=\"1\" /><path clip-path=\"url(#clip930)\" d=\"M1260.77 1515.64 Q1257.15 1515.64 1255.33 1519.2 Q1253.52 1522.75 1253.52 1529.87 Q1253.52 1536.98 1255.33 1540.55 Q1257.15 1544.09 1260.77 1544.09 Q1264.4 1544.09 1266.2 1540.55 Q1268.03 1536.98 1268.03 1529.87 Q1268.03 1522.75 1266.2 1519.2 Q1264.4 1515.64 1260.77 1515.64 M1260.77 1511.93 Q1266.58 1511.93 1269.63 1516.54 Q1272.71 1521.12 1272.71 1529.87 Q1272.71 1538.6 1269.63 1543.21 Q1266.58 1547.79 1260.77 1547.79 Q1254.95 1547.79 1251.88 1543.21 Q1248.82 1538.6 1248.82 1529.87 Q1248.82 1521.12 1251.88 1516.54 Q1254.95 1511.93 1260.77 1511.93 Z\" fill=\"#000000\" fill-rule=\"evenodd\" fill-opacity=\"1\" /><path clip-path=\"url(#clip930)\" d=\"M1290.93 1515.64 Q1287.32 1515.64 1285.49 1519.2 Q1283.68 1522.75 1283.68 1529.87 Q1283.68 1536.98 1285.49 1540.55 Q1287.32 1544.09 1290.93 1544.09 Q1294.56 1544.09 1296.37 1540.55 Q1298.2 1536.98 1298.2 1529.87 Q1298.2 1522.75 1296.37 1519.2 Q1294.56 1515.64 1290.93 1515.64 M1290.93 1511.93 Q1296.74 1511.93 1299.79 1516.54 Q1302.87 1521.12 1302.87 1529.87 Q1302.87 1538.6 1299.79 1543.21 Q1296.74 1547.79 1290.93 1547.79 Q1285.12 1547.79 1282.04 1543.21 Q1278.98 1538.6 1278.98 1529.87 Q1278.98 1521.12 1282.04 1516.54 Q1285.12 1511.93 1290.93 1511.93 Z\" fill=\"#000000\" fill-rule=\"evenodd\" fill-opacity=\"1\" /><path clip-path=\"url(#clip930)\" d=\"M1736.01 1543.18 L1743.65 1543.18 L1743.65 1516.82 L1735.34 1518.49 L1735.34 1514.23 L1743.6 1512.56 L1748.28 1512.56 L1748.28 1543.18 L1755.92 1543.18 L1755.92 1547.12 L1736.01 1547.12 L1736.01 1543.18 Z\" fill=\"#000000\" fill-rule=\"evenodd\" fill-opacity=\"1\" /><path clip-path=\"url(#clip930)\" d=\"M1765.41 1512.56 L1783.77 1512.56 L1783.77 1516.5 L1769.69 1516.5 L1769.69 1524.97 Q1770.71 1524.62 1771.73 1524.46 Q1772.75 1524.27 1773.77 1524.27 Q1779.55 1524.27 1782.93 1527.44 Q1786.31 1530.62 1786.31 1536.03 Q1786.31 1541.61 1782.84 1544.71 Q1779.37 1547.79 1773.05 1547.79 Q1770.87 1547.79 1768.6 1547.42 Q1766.36 1547.05 1763.95 1546.31 L1763.95 1541.61 Q1766.04 1542.74 1768.26 1543.3 Q1770.48 1543.86 1772.96 1543.86 Q1776.96 1543.86 1779.3 1541.75 Q1781.64 1539.64 1781.64 1536.03 Q1781.64 1532.42 1779.3 1530.31 Q1776.96 1528.21 1772.96 1528.21 Q1771.08 1528.21 1769.21 1528.62 Q1767.35 1529.04 1765.41 1529.92 L1765.41 1512.56 Z\" fill=\"#000000\" fill-rule=\"evenodd\" fill-opacity=\"1\" /><path clip-path=\"url(#clip930)\" d=\"M1805.53 1515.64 Q1801.91 1515.64 1800.09 1519.2 Q1798.28 1522.75 1798.28 1529.87 Q1798.28 1536.98 1800.09 1540.55 Q1801.91 1544.09 1805.53 1544.09 Q1809.16 1544.09 1810.97 1540.55 Q1812.79 1536.98 1812.79 1529.87 Q1812.79 1522.75 1810.97 1519.2 Q1809.16 1515.64 1805.53 1515.64 M1805.53 1511.93 Q1811.34 1511.93 1814.39 1516.54 Q1817.47 1521.12 1817.47 1529.87 Q1817.47 1538.6 1814.39 1543.21 Q1811.34 1547.79 1805.53 1547.79 Q1799.72 1547.79 1796.64 1543.21 Q1793.58 1538.6 1793.58 1529.87 Q1793.58 1521.12 1796.64 1516.54 Q1799.72 1511.93 1805.53 1511.93 Z\" fill=\"#000000\" fill-rule=\"evenodd\" fill-opacity=\"1\" /><path clip-path=\"url(#clip930)\" d=\"M2254.7 1543.18 L2271.02 1543.18 L2271.02 1547.12 L2249.07 1547.12 L2249.07 1543.18 Q2251.73 1540.43 2256.32 1535.8 Q2260.92 1531.15 2262.1 1529.81 Q2264.35 1527.28 2265.23 1525.55 Q2266.13 1523.79 2266.13 1522.1 Q2266.13 1519.34 2264.19 1517.61 Q2262.27 1515.87 2259.16 1515.87 Q2256.96 1515.87 2254.51 1516.63 Q2252.08 1517.4 2249.3 1518.95 L2249.3 1514.23 Q2252.13 1513.09 2254.58 1512.51 Q2257.03 1511.93 2259.07 1511.93 Q2264.44 1511.93 2267.64 1514.62 Q2270.83 1517.31 2270.83 1521.8 Q2270.83 1523.93 2270.02 1525.85 Q2269.23 1527.74 2267.13 1530.34 Q2266.55 1531.01 2263.45 1534.23 Q2260.34 1537.42 2254.7 1543.18 Z\" fill=\"#000000\" fill-rule=\"evenodd\" fill-opacity=\"1\" /><path clip-path=\"url(#clip930)\" d=\"M2290.83 1515.64 Q2287.22 1515.64 2285.39 1519.2 Q2283.59 1522.75 2283.59 1529.87 Q2283.59 1536.98 2285.39 1540.55 Q2287.22 1544.09 2290.83 1544.09 Q2294.46 1544.09 2296.27 1540.55 Q2298.1 1536.98 2298.1 1529.87 Q2298.1 1522.75 2296.27 1519.2 Q2294.46 1515.64 2290.83 1515.64 M2290.83 1511.93 Q2296.64 1511.93 2299.7 1516.54 Q2302.77 1521.12 2302.77 1529.87 Q2302.77 1538.6 2299.7 1543.21 Q2296.64 1547.79 2290.83 1547.79 Q2285.02 1547.79 2281.94 1543.21 Q2278.89 1538.6 2278.89 1529.87 Q2278.89 1521.12 2281.94 1516.54 Q2285.02 1511.93 2290.83 1511.93 Z\" fill=\"#000000\" fill-rule=\"evenodd\" fill-opacity=\"1\" /><path clip-path=\"url(#clip930)\" d=\"M2320.99 1515.64 Q2317.38 1515.64 2315.55 1519.2 Q2313.75 1522.75 2313.75 1529.87 Q2313.75 1536.98 2315.55 1540.55 Q2317.38 1544.09 2320.99 1544.09 Q2324.63 1544.09 2326.43 1540.55 Q2328.26 1536.98 2328.26 1529.87 Q2328.26 1522.75 2326.43 1519.2 Q2324.63 1515.64 2320.99 1515.64 M2320.99 1511.93 Q2326.8 1511.93 2329.86 1516.54 Q2332.94 1521.12 2332.94 1529.87 Q2332.94 1538.6 2329.86 1543.21 Q2326.8 1547.79 2320.99 1547.79 Q2315.18 1547.79 2312.1 1543.21 Q2309.05 1538.6 2309.05 1529.87 Q2309.05 1521.12 2312.1 1516.54 Q2315.18 1511.93 2320.99 1511.93 Z\" fill=\"#000000\" fill-rule=\"evenodd\" fill-opacity=\"1\" /><polyline clip-path=\"url(#clip932)\" style=\"stroke:#000000; stroke-linecap:butt; stroke-linejoin:round; stroke-width:2; stroke-opacity:0.1; fill:none\" points=\"\n",
       "  170.857,1445.72 2352.76,1445.72 \n",
       "  \"/>\n",
       "<polyline clip-path=\"url(#clip932)\" style=\"stroke:#000000; stroke-linecap:butt; stroke-linejoin:round; stroke-width:2; stroke-opacity:0.1; fill:none\" points=\"\n",
       "  170.857,1119.11 2352.76,1119.11 \n",
       "  \"/>\n",
       "<polyline clip-path=\"url(#clip932)\" style=\"stroke:#000000; stroke-linecap:butt; stroke-linejoin:round; stroke-width:2; stroke-opacity:0.1; fill:none\" points=\"\n",
       "  170.857,792.496 2352.76,792.496 \n",
       "  \"/>\n",
       "<polyline clip-path=\"url(#clip932)\" style=\"stroke:#000000; stroke-linecap:butt; stroke-linejoin:round; stroke-width:2; stroke-opacity:0.1; fill:none\" points=\"\n",
       "  170.857,465.886 2352.76,465.886 \n",
       "  \"/>\n",
       "<polyline clip-path=\"url(#clip932)\" style=\"stroke:#000000; stroke-linecap:butt; stroke-linejoin:round; stroke-width:2; stroke-opacity:0.1; fill:none\" points=\"\n",
       "  170.857,139.276 2352.76,139.276 \n",
       "  \"/>\n",
       "<polyline clip-path=\"url(#clip930)\" style=\"stroke:#000000; stroke-linecap:butt; stroke-linejoin:round; stroke-width:4; stroke-opacity:1; fill:none\" points=\"\n",
       "  170.857,1486.45 170.857,47.2441 \n",
       "  \"/>\n",
       "<polyline clip-path=\"url(#clip930)\" style=\"stroke:#000000; stroke-linecap:butt; stroke-linejoin:round; stroke-width:4; stroke-opacity:1; fill:none\" points=\"\n",
       "  170.857,1445.72 189.755,1445.72 \n",
       "  \"/>\n",
       "<polyline clip-path=\"url(#clip930)\" style=\"stroke:#000000; stroke-linecap:butt; stroke-linejoin:round; stroke-width:4; stroke-opacity:1; fill:none\" points=\"\n",
       "  170.857,1119.11 189.755,1119.11 \n",
       "  \"/>\n",
       "<polyline clip-path=\"url(#clip930)\" style=\"stroke:#000000; stroke-linecap:butt; stroke-linejoin:round; stroke-width:4; stroke-opacity:1; fill:none\" points=\"\n",
       "  170.857,792.496 189.755,792.496 \n",
       "  \"/>\n",
       "<polyline clip-path=\"url(#clip930)\" style=\"stroke:#000000; stroke-linecap:butt; stroke-linejoin:round; stroke-width:4; stroke-opacity:1; fill:none\" points=\"\n",
       "  170.857,465.886 189.755,465.886 \n",
       "  \"/>\n",
       "<polyline clip-path=\"url(#clip930)\" style=\"stroke:#000000; stroke-linecap:butt; stroke-linejoin:round; stroke-width:4; stroke-opacity:1; fill:none\" points=\"\n",
       "  170.857,139.276 189.755,139.276 \n",
       "  \"/>\n",
       "<path clip-path=\"url(#clip930)\" d=\"M122.913 1431.51 Q119.302 1431.51 117.473 1435.08 Q115.668 1438.62 115.668 1445.75 Q115.668 1452.86 117.473 1456.42 Q119.302 1459.96 122.913 1459.96 Q126.547 1459.96 128.353 1456.42 Q130.182 1452.86 130.182 1445.75 Q130.182 1438.62 128.353 1435.08 Q126.547 1431.51 122.913 1431.51 M122.913 1427.81 Q128.723 1427.81 131.779 1432.42 Q134.857 1437 134.857 1445.75 Q134.857 1454.48 131.779 1459.08 Q128.723 1463.67 122.913 1463.67 Q117.103 1463.67 114.024 1459.08 Q110.969 1454.48 110.969 1445.75 Q110.969 1437 114.024 1432.42 Q117.103 1427.81 122.913 1427.81 Z\" fill=\"#000000\" fill-rule=\"evenodd\" fill-opacity=\"1\" /><path clip-path=\"url(#clip930)\" d=\"M82.7975 1101.83 L101.154 1101.83 L101.154 1105.76 L87.0799 1105.76 L87.0799 1114.23 Q88.0984 1113.89 89.1169 1113.72 Q90.1354 1113.54 91.1539 1113.54 Q96.941 1113.54 100.321 1116.71 Q103.7 1119.88 103.7 1125.3 Q103.7 1130.88 100.228 1133.98 Q96.7558 1137.06 90.4364 1137.06 Q88.2604 1137.06 85.9919 1136.69 Q83.7466 1136.32 81.3392 1135.58 L81.3392 1130.88 Q83.4225 1132.01 85.6447 1132.57 Q87.8669 1133.12 90.3438 1133.12 Q94.3484 1133.12 96.6863 1131.02 Q99.0243 1128.91 99.0243 1125.3 Q99.0243 1121.69 96.6863 1119.58 Q94.3484 1117.47 90.3438 1117.47 Q88.4688 1117.47 86.5938 1117.89 Q84.7419 1118.31 82.7975 1119.19 L82.7975 1101.83 Z\" fill=\"#000000\" fill-rule=\"evenodd\" fill-opacity=\"1\" /><path clip-path=\"url(#clip930)\" d=\"M122.913 1104.9 Q119.302 1104.9 117.473 1108.47 Q115.668 1112.01 115.668 1119.14 Q115.668 1126.25 117.473 1129.81 Q119.302 1133.35 122.913 1133.35 Q126.547 1133.35 128.353 1129.81 Q130.182 1126.25 130.182 1119.14 Q130.182 1112.01 128.353 1108.47 Q126.547 1104.9 122.913 1104.9 M122.913 1101.2 Q128.723 1101.2 131.779 1105.81 Q134.857 1110.39 134.857 1119.14 Q134.857 1127.87 131.779 1132.47 Q128.723 1137.06 122.913 1137.06 Q117.103 1137.06 114.024 1132.47 Q110.969 1127.87 110.969 1119.14 Q110.969 1110.39 114.024 1105.81 Q117.103 1101.2 122.913 1101.2 Z\" fill=\"#000000\" fill-rule=\"evenodd\" fill-opacity=\"1\" /><path clip-path=\"url(#clip930)\" d=\"M53.3995 805.841 L61.0384 805.841 L61.0384 779.475 L52.7282 781.142 L52.7282 776.882 L60.9921 775.216 L65.668 775.216 L65.668 805.841 L73.3068 805.841 L73.3068 809.776 L53.3995 809.776 L53.3995 805.841 Z\" fill=\"#000000\" fill-rule=\"evenodd\" fill-opacity=\"1\" /><path clip-path=\"url(#clip930)\" d=\"M92.7512 778.294 Q89.1401 778.294 87.3114 781.859 Q85.5058 785.401 85.5058 792.53 Q85.5058 799.637 87.3114 803.202 Q89.1401 806.743 92.7512 806.743 Q96.3854 806.743 98.1909 803.202 Q100.02 799.637 100.02 792.53 Q100.02 785.401 98.1909 781.859 Q96.3854 778.294 92.7512 778.294 M92.7512 774.591 Q98.5613 774.591 101.617 779.197 Q104.696 783.781 104.696 792.53 Q104.696 801.257 101.617 805.864 Q98.5613 810.447 92.7512 810.447 Q86.941 810.447 83.8623 805.864 Q80.8068 801.257 80.8068 792.53 Q80.8068 783.781 83.8623 779.197 Q86.941 774.591 92.7512 774.591 Z\" fill=\"#000000\" fill-rule=\"evenodd\" fill-opacity=\"1\" /><path clip-path=\"url(#clip930)\" d=\"M122.913 778.294 Q119.302 778.294 117.473 781.859 Q115.668 785.401 115.668 792.53 Q115.668 799.637 117.473 803.202 Q119.302 806.743 122.913 806.743 Q126.547 806.743 128.353 803.202 Q130.182 799.637 130.182 792.53 Q130.182 785.401 128.353 781.859 Q126.547 778.294 122.913 778.294 M122.913 774.591 Q128.723 774.591 131.779 779.197 Q134.857 783.781 134.857 792.53 Q134.857 801.257 131.779 805.864 Q128.723 810.447 122.913 810.447 Q117.103 810.447 114.024 805.864 Q110.969 801.257 110.969 792.53 Q110.969 783.781 114.024 779.197 Q117.103 774.591 122.913 774.591 Z\" fill=\"#000000\" fill-rule=\"evenodd\" fill-opacity=\"1\" /><path clip-path=\"url(#clip930)\" d=\"M53.3995 479.231 L61.0384 479.231 L61.0384 452.865 L52.7282 454.532 L52.7282 450.272 L60.9921 448.606 L65.668 448.606 L65.668 479.231 L73.3068 479.231 L73.3068 483.166 L53.3995 483.166 L53.3995 479.231 Z\" fill=\"#000000\" fill-rule=\"evenodd\" fill-opacity=\"1\" /><path clip-path=\"url(#clip930)\" d=\"M82.7975 448.606 L101.154 448.606 L101.154 452.541 L87.0799 452.541 L87.0799 461.013 Q88.0984 460.666 89.1169 460.504 Q90.1354 460.319 91.1539 460.319 Q96.941 460.319 100.321 463.49 Q103.7 466.661 103.7 472.078 Q103.7 477.657 100.228 480.758 Q96.7558 483.837 90.4364 483.837 Q88.2604 483.837 85.9919 483.467 Q83.7466 483.096 81.3392 482.356 L81.3392 477.657 Q83.4225 478.791 85.6447 479.346 Q87.8669 479.902 90.3438 479.902 Q94.3484 479.902 96.6863 477.795 Q99.0243 475.689 99.0243 472.078 Q99.0243 468.467 96.6863 466.36 Q94.3484 464.254 90.3438 464.254 Q88.4688 464.254 86.5938 464.671 Q84.7419 465.087 82.7975 465.967 L82.7975 448.606 Z\" fill=\"#000000\" fill-rule=\"evenodd\" fill-opacity=\"1\" /><path clip-path=\"url(#clip930)\" d=\"M122.913 451.684 Q119.302 451.684 117.473 455.249 Q115.668 458.791 115.668 465.921 Q115.668 473.027 117.473 476.592 Q119.302 480.133 122.913 480.133 Q126.547 480.133 128.353 476.592 Q130.182 473.027 130.182 465.921 Q130.182 458.791 128.353 455.249 Q126.547 451.684 122.913 451.684 M122.913 447.981 Q128.723 447.981 131.779 452.587 Q134.857 457.171 134.857 465.921 Q134.857 474.647 131.779 479.254 Q128.723 483.837 122.913 483.837 Q117.103 483.837 114.024 479.254 Q110.969 474.647 110.969 465.921 Q110.969 457.171 114.024 452.587 Q117.103 447.981 122.913 447.981 Z\" fill=\"#000000\" fill-rule=\"evenodd\" fill-opacity=\"1\" /><path clip-path=\"url(#clip930)\" d=\"M56.6171 152.621 L72.9365 152.621 L72.9365 156.556 L50.9921 156.556 L50.9921 152.621 Q53.6541 149.866 58.2375 145.236 Q62.8439 140.584 64.0245 139.241 Q66.2698 136.718 67.1494 134.982 Q68.0522 133.223 68.0522 131.533 Q68.0522 128.778 66.1078 127.042 Q64.1865 125.306 61.0847 125.306 Q58.8856 125.306 56.4319 126.07 Q54.0014 126.834 51.2236 128.385 L51.2236 123.662 Q54.0477 122.528 56.5014 121.95 Q58.955 121.371 60.9921 121.371 Q66.3624 121.371 69.5568 124.056 Q72.7513 126.741 72.7513 131.232 Q72.7513 133.361 71.9411 135.283 Q71.1541 137.181 69.0476 139.773 Q68.4689 140.445 65.367 143.662 Q62.2652 146.857 56.6171 152.621 Z\" fill=\"#000000\" fill-rule=\"evenodd\" fill-opacity=\"1\" /><path clip-path=\"url(#clip930)\" d=\"M92.7512 125.075 Q89.1401 125.075 87.3114 128.639 Q85.5058 132.181 85.5058 139.311 Q85.5058 146.417 87.3114 149.982 Q89.1401 153.523 92.7512 153.523 Q96.3854 153.523 98.1909 149.982 Q100.02 146.417 100.02 139.311 Q100.02 132.181 98.1909 128.639 Q96.3854 125.075 92.7512 125.075 M92.7512 121.371 Q98.5613 121.371 101.617 125.977 Q104.696 130.561 104.696 139.311 Q104.696 148.037 101.617 152.644 Q98.5613 157.227 92.7512 157.227 Q86.941 157.227 83.8623 152.644 Q80.8068 148.037 80.8068 139.311 Q80.8068 130.561 83.8623 125.977 Q86.941 121.371 92.7512 121.371 Z\" fill=\"#000000\" fill-rule=\"evenodd\" fill-opacity=\"1\" /><path clip-path=\"url(#clip930)\" d=\"M122.913 125.075 Q119.302 125.075 117.473 128.639 Q115.668 132.181 115.668 139.311 Q115.668 146.417 117.473 149.982 Q119.302 153.523 122.913 153.523 Q126.547 153.523 128.353 149.982 Q130.182 146.417 130.182 139.311 Q130.182 132.181 128.353 128.639 Q126.547 125.075 122.913 125.075 M122.913 121.371 Q128.723 121.371 131.779 125.977 Q134.857 130.561 134.857 139.311 Q134.857 148.037 131.779 152.644 Q128.723 157.227 122.913 157.227 Q117.103 157.227 114.024 152.644 Q110.969 148.037 110.969 139.311 Q110.969 130.561 114.024 125.977 Q117.103 121.371 122.913 121.371 Z\" fill=\"#000000\" fill-rule=\"evenodd\" fill-opacity=\"1\" /><polyline clip-path=\"url(#clip932)\" style=\"stroke:#009af9; stroke-linecap:butt; stroke-linejoin:round; stroke-width:4; stroke-opacity:1; fill:none\" points=\"\n",
       "  232.609,87.9763 242.901,95.3794 253.193,102.783 263.485,110.186 273.777,117.589 284.069,124.992 294.361,132.395 304.653,139.798 314.945,147.202 325.237,154.605 \n",
       "  335.529,162.008 345.821,169.411 356.113,176.814 366.405,184.217 376.697,191.621 386.989,199.024 397.281,206.427 407.573,213.83 417.865,221.233 428.157,228.636 \n",
       "  438.449,236.039 448.741,243.443 459.033,250.846 469.325,258.249 479.617,265.652 489.909,273.055 500.201,280.458 510.493,287.862 520.785,295.265 531.077,302.668 \n",
       "  541.368,310.071 551.66,317.474 561.952,324.877 572.244,332.281 582.536,339.684 592.828,347.087 603.12,354.49 613.412,361.893 623.704,369.296 633.996,376.699 \n",
       "  644.288,384.103 654.58,391.506 664.872,398.909 675.164,406.312 685.456,413.715 695.748,421.118 706.04,428.522 716.332,435.925 726.624,443.328 736.916,450.731 \n",
       "  747.208,458.134 757.5,465.537 767.792,472.941 778.084,480.344 788.376,487.747 798.668,495.15 808.96,502.553 819.252,509.956 829.544,517.36 839.836,524.763 \n",
       "  850.128,532.166 860.42,539.569 870.712,546.972 881.004,554.375 891.296,561.778 901.588,569.182 911.88,576.585 922.172,583.988 932.463,591.391 942.755,598.794 \n",
       "  953.047,606.197 963.339,613.601 973.631,621.004 983.923,628.407 994.215,635.81 1004.51,643.213 1014.8,650.616 1025.09,658.02 1035.38,665.423 1045.68,672.826 \n",
       "  1055.97,680.229 1066.26,687.632 1076.55,695.035 1086.84,702.438 1097.14,709.842 1107.43,717.245 1117.72,724.648 1128.01,732.051 1138.3,739.454 1148.59,746.857 \n",
       "  1158.89,754.261 1169.18,761.664 1179.47,769.067 1189.76,776.47 1200.05,783.873 1210.35,791.276 1220.64,798.68 1230.93,806.083 1241.22,813.486 1251.51,820.889 \n",
       "  1261.81,828.292 1272.1,835.695 1282.39,843.099 1292.68,850.502 1302.97,857.905 1313.27,865.308 1323.56,872.711 1333.85,880.114 1344.14,887.517 1354.43,894.921 \n",
       "  1364.73,902.324 1375.02,909.727 1385.31,917.13 1395.6,924.533 1405.89,931.936 1416.19,939.34 1426.48,946.743 1436.77,954.146 1447.06,961.549 1457.35,968.952 \n",
       "  1467.65,976.355 1477.94,983.759 1488.23,991.162 1498.52,998.565 1508.81,1005.97 1519.11,1013.37 1529.4,1020.77 1539.69,1028.18 1549.98,1035.58 1560.27,1042.98 \n",
       "  1570.57,1050.39 1580.86,1057.79 1591.15,1065.19 1601.44,1072.6 1611.73,1080 1622.03,1087.4 1632.32,1094.81 1642.61,1102.21 1652.9,1109.61 1663.19,1117.02 \n",
       "  1673.49,1124.42 1683.78,1131.82 1694.07,1139.22 1704.36,1146.63 1714.65,1154.03 1724.95,1161.43 1735.24,1168.05 1745.53,1174.59 1755.82,1181.12 1766.11,1187.65 \n",
       "  1776.41,1194.18 1786.7,1200.71 1796.99,1207.25 1807.28,1213.78 1817.57,1220.31 1827.87,1226.84 1838.16,1233.38 1848.45,1239.91 1858.74,1246.44 1869.03,1252.97 \n",
       "  1879.33,1259.5 1889.62,1266.04 1899.91,1272.57 1910.2,1279.1 1920.49,1285.63 1930.78,1292.17 1941.08,1298.7 1951.37,1305.23 1961.66,1311.76 1971.95,1318.29 \n",
       "  1982.24,1324.83 1992.54,1331.36 2002.83,1337.89 2013.12,1344.42 2023.41,1350.96 2033.7,1357.49 2044,1364.02 2054.29,1370.55 2064.58,1377.08 2074.87,1383.62 \n",
       "  2085.16,1390.15 2095.46,1396.68 2105.75,1403.21 2116.04,1409.75 2126.33,1416.28 2136.62,1422.81 2146.92,1429.34 2157.21,1435.87 2167.5,1439.44 2177.79,1441.62 \n",
       "  2188.08,1443.8 2198.38,1445.45 2208.67,1445.63 2218.96,1445.72 2229.25,1445.72 2239.54,1445.72 2249.84,1445.72 2260.13,1445.72 2270.42,1445.72 2280.71,1445.72 \n",
       "  2291,1445.72 \n",
       "  \"/>\n",
       "<path clip-path=\"url(#clip930)\" d=\"\n",
       "M1985.16 198.898 L2280.03 198.898 L2280.03 95.2176 L1985.16 95.2176  Z\n",
       "  \" fill=\"#ffffff\" fill-rule=\"evenodd\" fill-opacity=\"1\"/>\n",
       "<polyline clip-path=\"url(#clip930)\" style=\"stroke:#000000; stroke-linecap:butt; stroke-linejoin:round; stroke-width:4; stroke-opacity:1; fill:none\" points=\"\n",
       "  1985.16,198.898 2280.03,198.898 2280.03,95.2176 1985.16,95.2176 1985.16,198.898 \n",
       "  \"/>\n",
       "<polyline clip-path=\"url(#clip930)\" style=\"stroke:#009af9; stroke-linecap:butt; stroke-linejoin:round; stroke-width:4; stroke-opacity:1; fill:none\" points=\"\n",
       "  2009.41,147.058 2154.87,147.058 \n",
       "  \"/>\n",
       "<path clip-path=\"url(#clip930)\" d=\"M2192.95 166.745 Q2191.15 171.375 2189.43 172.787 Q2187.72 174.199 2184.85 174.199 L2181.45 174.199 L2181.45 170.634 L2183.95 170.634 Q2185.71 170.634 2186.68 169.8 Q2187.65 168.967 2188.83 165.865 L2189.6 163.921 L2179.11 138.412 L2183.62 138.412 L2191.72 158.689 L2199.83 138.412 L2204.34 138.412 L2192.95 166.745 Z\" fill=\"#000000\" fill-rule=\"evenodd\" fill-opacity=\"1\" /><path clip-path=\"url(#clip930)\" d=\"M2211.63 160.402 L2219.27 160.402 L2219.27 134.037 L2210.96 135.703 L2210.96 131.444 L2219.22 129.778 L2223.9 129.778 L2223.9 160.402 L2231.54 160.402 L2231.54 164.338 L2211.63 164.338 L2211.63 160.402 Z\" fill=\"#000000\" fill-rule=\"evenodd\" fill-opacity=\"1\" /></svg>\n"
      ]
     },
     "execution_count": 11,
     "metadata": {},
     "output_type": "execute_result"
    }
   ],
   "source": [
    "x=(0:200.0)\n",
    "\n",
    "plot(x,piecewise_linear.(x,Ref(cuts1)))"
   ]
  },
  {
   "cell_type": "code",
   "execution_count": 12,
   "metadata": {
    "hideCode": false,
    "hidePrompt": false
   },
   "outputs": [
    {
     "data": {
      "image/png": "[encoded data removed]",
      "image/svg+xml": [
       "<?xml version=\"1.0\" encoding=\"utf-8\"?>\n",
       "<svg xmlns=\"http://www.w3.org/2000/svg\" xmlns:xlink=\"http://www.w3.org/1999/xlink\" width=\"600\" height=\"400\" viewBox=\"0 0 2400 1600\">\n",
       "<defs>\n",
       "  <clipPath id=\"clip970\">\n",
       "    <rect x=\"0\" y=\"0\" width=\"2400\" height=\"1600\"/>\n",
       "  </clipPath>\n",
       "</defs>\n",
       "<path clip-path=\"url(#clip970)\" d=\"\n",
       "M0 1600 L2400 1600 L2400 0 L0 0  Z\n",
       "  \" fill=\"#ffffff\" fill-rule=\"evenodd\" fill-opacity=\"1\"/>\n",
       "<defs>\n",
       "  <clipPath id=\"clip971\">\n",
       "    <rect x=\"480\" y=\"0\" width=\"1681\" height=\"1600\"/>\n",
       "  </clipPath>\n",
       "</defs>\n",
       "<path clip-path=\"url(#clip970)\" d=\"\n",
       "M170.857 1486.45 L2352.76 1486.45 L2352.76 47.2441 L170.857 47.2441  Z\n",
       "  \" fill=\"#ffffff\" fill-rule=\"evenodd\" fill-opacity=\"1\"/>\n",
       "<defs>\n",
       "  <clipPath id=\"clip972\">\n",
       "    <rect x=\"170\" y=\"47\" width=\"2183\" height=\"1440\"/>\n",
       "  </clipPath>\n",
       "</defs>\n",
       "<polyline clip-path=\"url(#clip972)\" style=\"stroke:#000000; stroke-linecap:butt; stroke-linejoin:round; stroke-width:2; stroke-opacity:0.1; fill:none\" points=\"\n",
       "  232.609,1486.45 232.609,47.2441 \n",
       "  \"/>\n",
       "<polyline clip-path=\"url(#clip972)\" style=\"stroke:#000000; stroke-linecap:butt; stroke-linejoin:round; stroke-width:2; stroke-opacity:0.1; fill:none\" points=\"\n",
       "  747.208,1486.45 747.208,47.2441 \n",
       "  \"/>\n",
       "<polyline clip-path=\"url(#clip972)\" style=\"stroke:#000000; stroke-linecap:butt; stroke-linejoin:round; stroke-width:2; stroke-opacity:0.1; fill:none\" points=\"\n",
       "  1261.81,1486.45 1261.81,47.2441 \n",
       "  \"/>\n",
       "<polyline clip-path=\"url(#clip972)\" style=\"stroke:#000000; stroke-linecap:butt; stroke-linejoin:round; stroke-width:2; stroke-opacity:0.1; fill:none\" points=\"\n",
       "  1776.41,1486.45 1776.41,47.2441 \n",
       "  \"/>\n",
       "<polyline clip-path=\"url(#clip972)\" style=\"stroke:#000000; stroke-linecap:butt; stroke-linejoin:round; stroke-width:2; stroke-opacity:0.1; fill:none\" points=\"\n",
       "  2291,1486.45 2291,47.2441 \n",
       "  \"/>\n",
       "<polyline clip-path=\"url(#clip970)\" style=\"stroke:#000000; stroke-linecap:butt; stroke-linejoin:round; stroke-width:4; stroke-opacity:1; fill:none\" points=\"\n",
       "  170.857,1486.45 2352.76,1486.45 \n",
       "  \"/>\n",
       "<polyline clip-path=\"url(#clip970)\" style=\"stroke:#000000; stroke-linecap:butt; stroke-linejoin:round; stroke-width:4; stroke-opacity:1; fill:none\" points=\"\n",
       "  232.609,1486.45 232.609,1467.55 \n",
       "  \"/>\n",
       "<polyline clip-path=\"url(#clip970)\" style=\"stroke:#000000; stroke-linecap:butt; stroke-linejoin:round; stroke-width:4; stroke-opacity:1; fill:none\" points=\"\n",
       "  747.208,1486.45 747.208,1467.55 \n",
       "  \"/>\n",
       "<polyline clip-path=\"url(#clip970)\" style=\"stroke:#000000; stroke-linecap:butt; stroke-linejoin:round; stroke-width:4; stroke-opacity:1; fill:none\" points=\"\n",
       "  1261.81,1486.45 1261.81,1467.55 \n",
       "  \"/>\n",
       "<polyline clip-path=\"url(#clip970)\" style=\"stroke:#000000; stroke-linecap:butt; stroke-linejoin:round; stroke-width:4; stroke-opacity:1; fill:none\" points=\"\n",
       "  1776.41,1486.45 1776.41,1467.55 \n",
       "  \"/>\n",
       "<polyline clip-path=\"url(#clip970)\" style=\"stroke:#000000; stroke-linecap:butt; stroke-linejoin:round; stroke-width:4; stroke-opacity:1; fill:none\" points=\"\n",
       "  2291,1486.45 2291,1467.55 \n",
       "  \"/>\n",
       "<path clip-path=\"url(#clip970)\" d=\"M232.609 1515.64 Q228.998 1515.64 227.169 1519.2 Q225.364 1522.75 225.364 1529.87 Q225.364 1536.98 227.169 1540.55 Q228.998 1544.09 232.609 1544.09 Q236.244 1544.09 238.049 1540.55 Q239.878 1536.98 239.878 1529.87 Q239.878 1522.75 238.049 1519.2 Q236.244 1515.64 232.609 1515.64 M232.609 1511.93 Q238.419 1511.93 241.475 1516.54 Q244.554 1521.12 244.554 1529.87 Q244.554 1538.6 241.475 1543.21 Q238.419 1547.79 232.609 1547.79 Q226.799 1547.79 223.72 1543.21 Q220.665 1538.6 220.665 1529.87 Q220.665 1521.12 223.72 1516.54 Q226.799 1511.93 232.609 1511.93 Z\" fill=\"#000000\" fill-rule=\"evenodd\" fill-opacity=\"1\" /><path clip-path=\"url(#clip970)\" d=\"M726.479 1543.18 L742.798 1543.18 L742.798 1547.12 L720.854 1547.12 L720.854 1543.18 Q723.516 1540.43 728.099 1535.8 Q732.706 1531.15 733.886 1529.81 Q736.132 1527.28 737.011 1525.55 Q737.914 1523.79 737.914 1522.1 Q737.914 1519.34 735.97 1517.61 Q734.048 1515.87 730.946 1515.87 Q728.747 1515.87 726.294 1516.63 Q723.863 1517.4 721.085 1518.95 L721.085 1514.23 Q723.909 1513.09 726.363 1512.51 Q728.817 1511.93 730.854 1511.93 Q736.224 1511.93 739.419 1514.62 Q742.613 1517.31 742.613 1521.8 Q742.613 1523.93 741.803 1525.85 Q741.016 1527.74 738.909 1530.34 Q738.331 1531.01 735.229 1534.23 Q732.127 1537.42 726.479 1543.18 Z\" fill=\"#000000\" fill-rule=\"evenodd\" fill-opacity=\"1\" /><path clip-path=\"url(#clip970)\" d=\"M752.659 1512.56 L771.016 1512.56 L771.016 1516.5 L756.942 1516.5 L756.942 1524.97 Q757.96 1524.62 758.979 1524.46 Q759.997 1524.27 761.016 1524.27 Q766.803 1524.27 770.182 1527.44 Q773.562 1530.62 773.562 1536.03 Q773.562 1541.61 770.09 1544.71 Q766.618 1547.79 760.298 1547.79 Q758.122 1547.79 755.854 1547.42 Q753.608 1547.05 751.201 1546.31 L751.201 1541.61 Q753.284 1542.74 755.507 1543.3 Q757.729 1543.86 760.206 1543.86 Q764.21 1543.86 766.548 1541.75 Q768.886 1539.64 768.886 1536.03 Q768.886 1532.42 766.548 1530.31 Q764.21 1528.21 760.206 1528.21 Q758.331 1528.21 756.456 1528.62 Q754.604 1529.04 752.659 1529.92 L752.659 1512.56 Z\" fill=\"#000000\" fill-rule=\"evenodd\" fill-opacity=\"1\" /><path clip-path=\"url(#clip970)\" d=\"M1236.51 1512.56 L1254.86 1512.56 L1254.86 1516.5 L1240.79 1516.5 L1240.79 1524.97 Q1241.81 1524.62 1242.83 1524.46 Q1243.84 1524.27 1244.86 1524.27 Q1250.65 1524.27 1254.03 1527.44 Q1257.41 1530.62 1257.41 1536.03 Q1257.41 1541.61 1253.94 1544.71 Q1250.46 1547.79 1244.14 1547.79 Q1241.97 1547.79 1239.7 1547.42 Q1237.45 1547.05 1235.05 1546.31 L1235.05 1541.61 Q1237.13 1542.74 1239.35 1543.3 Q1241.58 1543.86 1244.05 1543.86 Q1248.06 1543.86 1250.39 1541.75 Q1252.73 1539.64 1252.73 1536.03 Q1252.73 1532.42 1250.39 1530.31 Q1248.06 1528.21 1244.05 1528.21 Q1242.18 1528.21 1240.3 1528.62 Q1238.45 1529.04 1236.51 1529.92 L1236.51 1512.56 Z\" fill=\"#000000\" fill-rule=\"evenodd\" fill-opacity=\"1\" /><path clip-path=\"url(#clip970)\" d=\"M1276.62 1515.64 Q1273.01 1515.64 1271.18 1519.2 Q1269.38 1522.75 1269.38 1529.87 Q1269.38 1536.98 1271.18 1540.55 Q1273.01 1544.09 1276.62 1544.09 Q1280.26 1544.09 1282.06 1540.55 Q1283.89 1536.98 1283.89 1529.87 Q1283.89 1522.75 1282.06 1519.2 Q1280.26 1515.64 1276.62 1515.64 M1276.62 1511.93 Q1282.43 1511.93 1285.49 1516.54 Q1288.57 1521.12 1288.57 1529.87 Q1288.57 1538.6 1285.49 1543.21 Q1282.43 1547.79 1276.62 1547.79 Q1270.81 1547.79 1267.73 1543.21 Q1264.68 1538.6 1264.68 1529.87 Q1264.68 1521.12 1267.73 1516.54 Q1270.81 1511.93 1276.62 1511.93 Z\" fill=\"#000000\" fill-rule=\"evenodd\" fill-opacity=\"1\" /><path clip-path=\"url(#clip970)\" d=\"M1750.26 1512.56 L1772.48 1512.56 L1772.48 1514.55 L1759.94 1547.12 L1755.05 1547.12 L1766.86 1516.5 L1750.26 1516.5 L1750.26 1512.56 Z\" fill=\"#000000\" fill-rule=\"evenodd\" fill-opacity=\"1\" /><path clip-path=\"url(#clip970)\" d=\"M1781.65 1512.56 L1800 1512.56 L1800 1516.5 L1785.93 1516.5 L1785.93 1524.97 Q1786.95 1524.62 1787.97 1524.46 Q1788.99 1524.27 1790 1524.27 Q1795.79 1524.27 1799.17 1527.44 Q1802.55 1530.62 1802.55 1536.03 Q1802.55 1541.61 1799.08 1544.71 Q1795.61 1547.79 1789.29 1547.79 Q1787.11 1547.79 1784.84 1547.42 Q1782.6 1547.05 1780.19 1546.31 L1780.19 1541.61 Q1782.27 1542.74 1784.5 1543.3 Q1786.72 1543.86 1789.19 1543.86 Q1793.2 1543.86 1795.54 1541.75 Q1797.88 1539.64 1797.88 1536.03 Q1797.88 1532.42 1795.54 1530.31 Q1793.2 1528.21 1789.19 1528.21 Q1787.32 1528.21 1785.44 1528.62 Q1783.59 1529.04 1781.65 1529.92 L1781.65 1512.56 Z\" fill=\"#000000\" fill-rule=\"evenodd\" fill-opacity=\"1\" /><path clip-path=\"url(#clip970)\" d=\"M2250.61 1543.18 L2258.25 1543.18 L2258.25 1516.82 L2249.94 1518.49 L2249.94 1514.23 L2258.2 1512.56 L2262.88 1512.56 L2262.88 1543.18 L2270.52 1543.18 L2270.52 1547.12 L2250.61 1547.12 L2250.61 1543.18 Z\" fill=\"#000000\" fill-rule=\"evenodd\" fill-opacity=\"1\" /><path clip-path=\"url(#clip970)\" d=\"M2289.96 1515.64 Q2286.35 1515.64 2284.52 1519.2 Q2282.72 1522.75 2282.72 1529.87 Q2282.72 1536.98 2284.52 1540.55 Q2286.35 1544.09 2289.96 1544.09 Q2293.6 1544.09 2295.4 1540.55 Q2297.23 1536.98 2297.23 1529.87 Q2297.23 1522.75 2295.4 1519.2 Q2293.6 1515.64 2289.96 1515.64 M2289.96 1511.93 Q2295.77 1511.93 2298.83 1516.54 Q2301.91 1521.12 2301.91 1529.87 Q2301.91 1538.6 2298.83 1543.21 Q2295.77 1547.79 2289.96 1547.79 Q2284.15 1547.79 2281.07 1543.21 Q2278.02 1538.6 2278.02 1529.87 Q2278.02 1521.12 2281.07 1516.54 Q2284.15 1511.93 2289.96 1511.93 Z\" fill=\"#000000\" fill-rule=\"evenodd\" fill-opacity=\"1\" /><path clip-path=\"url(#clip970)\" d=\"M2320.12 1515.64 Q2316.51 1515.64 2314.68 1519.2 Q2312.88 1522.75 2312.88 1529.87 Q2312.88 1536.98 2314.68 1540.55 Q2316.51 1544.09 2320.12 1544.09 Q2323.76 1544.09 2325.56 1540.55 Q2327.39 1536.98 2327.39 1529.87 Q2327.39 1522.75 2325.56 1519.2 Q2323.76 1515.64 2320.12 1515.64 M2320.12 1511.93 Q2325.93 1511.93 2328.99 1516.54 Q2332.07 1521.12 2332.07 1529.87 Q2332.07 1538.6 2328.99 1543.21 Q2325.93 1547.79 2320.12 1547.79 Q2314.31 1547.79 2311.24 1543.21 Q2308.18 1538.6 2308.18 1529.87 Q2308.18 1521.12 2311.24 1516.54 Q2314.31 1511.93 2320.12 1511.93 Z\" fill=\"#000000\" fill-rule=\"evenodd\" fill-opacity=\"1\" /><polyline clip-path=\"url(#clip972)\" style=\"stroke:#000000; stroke-linecap:butt; stroke-linejoin:round; stroke-width:2; stroke-opacity:0.1; fill:none\" points=\"\n",
       "  170.857,1445.72 2352.76,1445.72 \n",
       "  \"/>\n",
       "<polyline clip-path=\"url(#clip972)\" style=\"stroke:#000000; stroke-linecap:butt; stroke-linejoin:round; stroke-width:2; stroke-opacity:0.1; fill:none\" points=\"\n",
       "  170.857,1106.28 2352.76,1106.28 \n",
       "  \"/>\n",
       "<polyline clip-path=\"url(#clip972)\" style=\"stroke:#000000; stroke-linecap:butt; stroke-linejoin:round; stroke-width:2; stroke-opacity:0.1; fill:none\" points=\"\n",
       "  170.857,766.846 2352.76,766.846 \n",
       "  \"/>\n",
       "<polyline clip-path=\"url(#clip972)\" style=\"stroke:#000000; stroke-linecap:butt; stroke-linejoin:round; stroke-width:2; stroke-opacity:0.1; fill:none\" points=\"\n",
       "  170.857,427.411 2352.76,427.411 \n",
       "  \"/>\n",
       "<polyline clip-path=\"url(#clip972)\" style=\"stroke:#000000; stroke-linecap:butt; stroke-linejoin:round; stroke-width:2; stroke-opacity:0.1; fill:none\" points=\"\n",
       "  170.857,87.9763 2352.76,87.9763 \n",
       "  \"/>\n",
       "<polyline clip-path=\"url(#clip970)\" style=\"stroke:#000000; stroke-linecap:butt; stroke-linejoin:round; stroke-width:4; stroke-opacity:1; fill:none\" points=\"\n",
       "  170.857,1486.45 170.857,47.2441 \n",
       "  \"/>\n",
       "<polyline clip-path=\"url(#clip970)\" style=\"stroke:#000000; stroke-linecap:butt; stroke-linejoin:round; stroke-width:4; stroke-opacity:1; fill:none\" points=\"\n",
       "  170.857,1445.72 189.755,1445.72 \n",
       "  \"/>\n",
       "<polyline clip-path=\"url(#clip970)\" style=\"stroke:#000000; stroke-linecap:butt; stroke-linejoin:round; stroke-width:4; stroke-opacity:1; fill:none\" points=\"\n",
       "  170.857,1106.28 189.755,1106.28 \n",
       "  \"/>\n",
       "<polyline clip-path=\"url(#clip970)\" style=\"stroke:#000000; stroke-linecap:butt; stroke-linejoin:round; stroke-width:4; stroke-opacity:1; fill:none\" points=\"\n",
       "  170.857,766.846 189.755,766.846 \n",
       "  \"/>\n",
       "<polyline clip-path=\"url(#clip970)\" style=\"stroke:#000000; stroke-linecap:butt; stroke-linejoin:round; stroke-width:4; stroke-opacity:1; fill:none\" points=\"\n",
       "  170.857,427.411 189.755,427.411 \n",
       "  \"/>\n",
       "<polyline clip-path=\"url(#clip970)\" style=\"stroke:#000000; stroke-linecap:butt; stroke-linejoin:round; stroke-width:4; stroke-opacity:1; fill:none\" points=\"\n",
       "  170.857,87.9763 189.755,87.9763 \n",
       "  \"/>\n",
       "<path clip-path=\"url(#clip970)\" d=\"M122.913 1431.51 Q119.302 1431.51 117.473 1435.08 Q115.668 1438.62 115.668 1445.75 Q115.668 1452.86 117.473 1456.42 Q119.302 1459.96 122.913 1459.96 Q126.547 1459.96 128.353 1456.42 Q130.182 1452.86 130.182 1445.75 Q130.182 1438.62 128.353 1435.08 Q126.547 1431.51 122.913 1431.51 M122.913 1427.81 Q128.723 1427.81 131.779 1432.42 Q134.857 1437 134.857 1445.75 Q134.857 1454.48 131.779 1459.08 Q128.723 1463.67 122.913 1463.67 Q117.103 1463.67 114.024 1459.08 Q110.969 1454.48 110.969 1445.75 Q110.969 1437 114.024 1432.42 Q117.103 1427.81 122.913 1427.81 Z\" fill=\"#000000\" fill-rule=\"evenodd\" fill-opacity=\"1\" /><path clip-path=\"url(#clip970)\" d=\"M82.7975 1089 L101.154 1089 L101.154 1092.94 L87.0799 1092.94 L87.0799 1101.41 Q88.0984 1101.06 89.1169 1100.9 Q90.1354 1100.71 91.1539 1100.71 Q96.941 1100.71 100.321 1103.89 Q103.7 1107.06 103.7 1112.47 Q103.7 1118.05 100.228 1121.15 Q96.7558 1124.23 90.4364 1124.23 Q88.2604 1124.23 85.9919 1123.86 Q83.7466 1123.49 81.3392 1122.75 L81.3392 1118.05 Q83.4225 1119.19 85.6447 1119.74 Q87.8669 1120.3 90.3438 1120.3 Q94.3484 1120.3 96.6863 1118.19 Q99.0243 1116.08 99.0243 1112.47 Q99.0243 1108.86 96.6863 1106.76 Q94.3484 1104.65 90.3438 1104.65 Q88.4688 1104.65 86.5938 1105.07 Q84.7419 1105.48 82.7975 1106.36 L82.7975 1089 Z\" fill=\"#000000\" fill-rule=\"evenodd\" fill-opacity=\"1\" /><path clip-path=\"url(#clip970)\" d=\"M122.913 1092.08 Q119.302 1092.08 117.473 1095.64 Q115.668 1099.19 115.668 1106.32 Q115.668 1113.42 117.473 1116.99 Q119.302 1120.53 122.913 1120.53 Q126.547 1120.53 128.353 1116.99 Q130.182 1113.42 130.182 1106.32 Q130.182 1099.19 128.353 1095.64 Q126.547 1092.08 122.913 1092.08 M122.913 1088.38 Q128.723 1088.38 131.779 1092.98 Q134.857 1097.57 134.857 1106.32 Q134.857 1115.04 131.779 1119.65 Q128.723 1124.23 122.913 1124.23 Q117.103 1124.23 114.024 1119.65 Q110.969 1115.04 110.969 1106.32 Q110.969 1097.57 114.024 1092.98 Q117.103 1088.38 122.913 1088.38 Z\" fill=\"#000000\" fill-rule=\"evenodd\" fill-opacity=\"1\" /><path clip-path=\"url(#clip970)\" d=\"M53.3995 780.191 L61.0384 780.191 L61.0384 753.825 L52.7282 755.492 L52.7282 751.233 L60.9921 749.566 L65.668 749.566 L65.668 780.191 L73.3068 780.191 L73.3068 784.126 L53.3995 784.126 L53.3995 780.191 Z\" fill=\"#000000\" fill-rule=\"evenodd\" fill-opacity=\"1\" /><path clip-path=\"url(#clip970)\" d=\"M92.7512 752.645 Q89.1401 752.645 87.3114 756.209 Q85.5058 759.751 85.5058 766.881 Q85.5058 773.987 87.3114 777.552 Q89.1401 781.094 92.7512 781.094 Q96.3854 781.094 98.1909 777.552 Q100.02 773.987 100.02 766.881 Q100.02 759.751 98.1909 756.209 Q96.3854 752.645 92.7512 752.645 M92.7512 748.941 Q98.5613 748.941 101.617 753.547 Q104.696 758.131 104.696 766.881 Q104.696 775.608 101.617 780.214 Q98.5613 784.797 92.7512 784.797 Q86.941 784.797 83.8623 780.214 Q80.8068 775.608 80.8068 766.881 Q80.8068 758.131 83.8623 753.547 Q86.941 748.941 92.7512 748.941 Z\" fill=\"#000000\" fill-rule=\"evenodd\" fill-opacity=\"1\" /><path clip-path=\"url(#clip970)\" d=\"M122.913 752.645 Q119.302 752.645 117.473 756.209 Q115.668 759.751 115.668 766.881 Q115.668 773.987 117.473 777.552 Q119.302 781.094 122.913 781.094 Q126.547 781.094 128.353 777.552 Q130.182 773.987 130.182 766.881 Q130.182 759.751 128.353 756.209 Q126.547 752.645 122.913 752.645 M122.913 748.941 Q128.723 748.941 131.779 753.547 Q134.857 758.131 134.857 766.881 Q134.857 775.608 131.779 780.214 Q128.723 784.797 122.913 784.797 Q117.103 784.797 114.024 780.214 Q110.969 775.608 110.969 766.881 Q110.969 758.131 114.024 753.547 Q117.103 748.941 122.913 748.941 Z\" fill=\"#000000\" fill-rule=\"evenodd\" fill-opacity=\"1\" /><path clip-path=\"url(#clip970)\" d=\"M53.3995 440.756 L61.0384 440.756 L61.0384 414.39 L52.7282 416.057 L52.7282 411.798 L60.9921 410.131 L65.668 410.131 L65.668 440.756 L73.3068 440.756 L73.3068 444.691 L53.3995 444.691 L53.3995 440.756 Z\" fill=\"#000000\" fill-rule=\"evenodd\" fill-opacity=\"1\" /><path clip-path=\"url(#clip970)\" d=\"M82.7975 410.131 L101.154 410.131 L101.154 414.066 L87.0799 414.066 L87.0799 422.538 Q88.0984 422.191 89.1169 422.029 Q90.1354 421.844 91.1539 421.844 Q96.941 421.844 100.321 425.015 Q103.7 428.187 103.7 433.603 Q103.7 439.182 100.228 442.284 Q96.7558 445.362 90.4364 445.362 Q88.2604 445.362 85.9919 444.992 Q83.7466 444.622 81.3392 443.881 L81.3392 439.182 Q83.4225 440.316 85.6447 440.872 Q87.8669 441.427 90.3438 441.427 Q94.3484 441.427 96.6863 439.321 Q99.0243 437.214 99.0243 433.603 Q99.0243 429.992 96.6863 427.886 Q94.3484 425.779 90.3438 425.779 Q88.4688 425.779 86.5938 426.196 Q84.7419 426.613 82.7975 427.492 L82.7975 410.131 Z\" fill=\"#000000\" fill-rule=\"evenodd\" fill-opacity=\"1\" /><path clip-path=\"url(#clip970)\" d=\"M122.913 413.21 Q119.302 413.21 117.473 416.775 Q115.668 420.316 115.668 427.446 Q115.668 434.552 117.473 438.117 Q119.302 441.659 122.913 441.659 Q126.547 441.659 128.353 438.117 Q130.182 434.552 130.182 427.446 Q130.182 420.316 128.353 416.775 Q126.547 413.21 122.913 413.21 M122.913 409.506 Q128.723 409.506 131.779 414.113 Q134.857 418.696 134.857 427.446 Q134.857 436.173 131.779 440.779 Q128.723 445.362 122.913 445.362 Q117.103 445.362 114.024 440.779 Q110.969 436.173 110.969 427.446 Q110.969 418.696 114.024 414.113 Q117.103 409.506 122.913 409.506 Z\" fill=\"#000000\" fill-rule=\"evenodd\" fill-opacity=\"1\" /><path clip-path=\"url(#clip970)\" d=\"M56.6171 101.321 L72.9365 101.321 L72.9365 105.256 L50.9921 105.256 L50.9921 101.321 Q53.6541 98.5665 58.2375 93.9369 Q62.8439 89.2841 64.0245 87.9416 Q66.2698 85.4184 67.1494 83.6823 Q68.0522 81.9231 68.0522 80.2333 Q68.0522 77.4786 66.1078 75.7425 Q64.1865 74.0064 61.0847 74.0064 Q58.8856 74.0064 56.4319 74.7703 Q54.0014 75.5342 51.2236 77.0851 L51.2236 72.3629 Q54.0477 71.2287 56.5014 70.65 Q58.955 70.0713 60.9921 70.0713 Q66.3624 70.0713 69.5568 72.7565 Q72.7513 75.4416 72.7513 79.9323 Q72.7513 82.062 71.9411 83.9832 Q71.1541 85.8814 69.0476 88.474 Q68.4689 89.1453 65.367 92.3628 Q62.2652 95.5573 56.6171 101.321 Z\" fill=\"#000000\" fill-rule=\"evenodd\" fill-opacity=\"1\" /><path clip-path=\"url(#clip970)\" d=\"M92.7512 73.775 Q89.1401 73.775 87.3114 77.3398 Q85.5058 80.8814 85.5058 88.011 Q85.5058 95.1174 87.3114 98.6822 Q89.1401 102.224 92.7512 102.224 Q96.3854 102.224 98.1909 98.6822 Q100.02 95.1174 100.02 88.011 Q100.02 80.8814 98.1909 77.3398 Q96.3854 73.775 92.7512 73.775 M92.7512 70.0713 Q98.5613 70.0713 101.617 74.6777 Q104.696 79.261 104.696 88.011 Q104.696 96.7378 101.617 101.344 Q98.5613 105.928 92.7512 105.928 Q86.941 105.928 83.8623 101.344 Q80.8068 96.7378 80.8068 88.011 Q80.8068 79.261 83.8623 74.6777 Q86.941 70.0713 92.7512 70.0713 Z\" fill=\"#000000\" fill-rule=\"evenodd\" fill-opacity=\"1\" /><path clip-path=\"url(#clip970)\" d=\"M122.913 73.775 Q119.302 73.775 117.473 77.3398 Q115.668 80.8814 115.668 88.011 Q115.668 95.1174 117.473 98.6822 Q119.302 102.224 122.913 102.224 Q126.547 102.224 128.353 98.6822 Q130.182 95.1174 130.182 88.011 Q130.182 80.8814 128.353 77.3398 Q126.547 73.775 122.913 73.775 M122.913 70.0713 Q128.723 70.0713 131.779 74.6777 Q134.857 79.261 134.857 88.011 Q134.857 96.7378 131.779 101.344 Q128.723 105.928 122.913 105.928 Q117.103 105.928 114.024 101.344 Q110.969 96.7378 110.969 88.011 Q110.969 79.261 114.024 74.6777 Q117.103 70.0713 122.913 70.0713 Z\" fill=\"#000000\" fill-rule=\"evenodd\" fill-opacity=\"1\" /><polyline clip-path=\"url(#clip972)\" style=\"stroke:#009af9; stroke-linecap:butt; stroke-linejoin:round; stroke-width:8; stroke-opacity:1; fill:none\" points=\"\n",
       "  232.609,780.061 253.193,792.824 273.777,804.048 294.361,811.742 314.945,819.436 335.529,827.13 356.113,834.823 376.697,842.517 397.281,850.211 417.865,857.905 \n",
       "  438.449,865.599 459.033,873.293 479.617,880.987 500.201,888.68 520.785,896.374 541.368,904.068 561.952,911.762 582.536,919.456 603.12,927.15 623.704,934.844 \n",
       "  644.288,942.537 664.872,950.231 685.456,957.925 706.04,965.619 726.624,973.313 747.208,981.007 767.792,988.701 788.376,996.394 808.96,1004.09 829.544,1011.78 \n",
       "  850.128,1019.48 870.712,1027.17 891.296,1034.86 911.88,1042.56 932.463,1050.25 953.047,1057.95 973.631,1065.64 994.215,1073.33 1014.8,1081.03 1035.38,1088.72 \n",
       "  1055.97,1096.41 1076.55,1104.11 1097.14,1111.8 1117.72,1119.5 1138.3,1127.19 1158.89,1134.88 1179.47,1142.58 1200.05,1150.27 1220.64,1157.97 1241.22,1165.66 \n",
       "  1261.81,1173.35 1282.39,1181.05 1302.97,1188.74 1323.56,1196.43 1344.14,1204.13 1364.73,1211.82 1385.31,1219.52 1405.89,1227.21 1426.48,1234.9 1447.06,1242.6 \n",
       "  1467.65,1250.29 1488.23,1257.99 1508.81,1265.68 1529.4,1272.56 1549.98,1279.35 1570.57,1286.14 1591.15,1292.92 1611.73,1299.71 1632.32,1306.5 1652.9,1313.29 \n",
       "  1673.49,1320.08 1694.07,1326.87 1714.65,1333.66 1735.24,1340.45 1755.82,1347.23 1776.41,1354.02 1796.99,1360.81 1817.57,1367.6 1838.16,1374.39 1858.74,1381.18 \n",
       "  1879.33,1386.88 1899.91,1392.04 1920.49,1397.2 1941.08,1402.36 1961.66,1407.52 1982.24,1412.68 2002.83,1417.84 2023.41,1423 2044,1425.62 2064.58,1427.88 \n",
       "  2085.16,1430.15 2105.75,1432.41 2126.33,1434.67 2146.92,1436.94 2167.5,1439.2 2188.08,1441.01 2208.67,1442.73 2229.25,1444.09 2249.84,1444.81 2270.42,1445.44 \n",
       "  2291,1445.72 \n",
       "  \"/>\n",
       "<polyline clip-path=\"url(#clip972)\" style=\"stroke:#e26f46; stroke-linecap:butt; stroke-linejoin:round; stroke-width:4; stroke-opacity:1; fill:none\" points=\"\n",
       "  232.609,87.9763 253.193,114.995 273.777,141.743 294.361,168.219 314.945,194.423 335.529,220.356 356.113,246.017 376.697,271.407 397.281,296.525 417.865,321.372 \n",
       "  438.449,345.947 459.033,370.25 479.617,394.282 500.201,418.043 520.785,441.532 541.368,464.749 561.952,487.695 582.536,510.369 603.12,532.772 623.704,554.903 \n",
       "  644.288,576.762 664.872,598.351 685.456,619.667 706.04,640.712 726.624,661.485 747.208,681.987 767.792,702.218 788.376,722.176 808.96,741.864 829.544,761.279 \n",
       "  850.128,780.423 870.712,799.296 891.296,817.897 911.88,836.226 932.463,854.284 953.047,872.071 973.631,889.586 994.215,906.829 1014.8,923.801 1035.38,940.501 \n",
       "  1055.97,956.93 1076.55,973.087 1097.14,988.972 1117.72,1004.59 1138.3,1019.93 1158.89,1035 1179.47,1049.8 1200.05,1064.33 1220.64,1078.58 1241.22,1092.57 \n",
       "  1261.81,1106.28 1282.39,1119.72 1302.97,1132.89 1323.56,1145.79 1344.14,1158.42 1364.73,1170.77 1385.31,1182.86 1405.89,1194.67 1426.48,1206.21 1447.06,1217.48 \n",
       "  1467.65,1228.48 1488.23,1239.2 1508.81,1249.66 1529.4,1259.84 1549.98,1269.75 1570.57,1279.39 1591.15,1288.76 1611.73,1297.86 1632.32,1306.68 1652.9,1315.24 \n",
       "  1673.49,1323.52 1694.07,1331.53 1714.65,1339.27 1735.24,1346.74 1755.82,1353.93 1776.41,1360.86 1796.99,1367.51 1817.57,1373.89 1838.16,1380 1858.74,1385.84 \n",
       "  1879.33,1391.41 1899.91,1396.7 1920.49,1401.72 1941.08,1406.48 1961.66,1410.96 1982.24,1415.17 2002.83,1419.1 2023.41,1422.77 2044,1426.16 2064.58,1429.29 \n",
       "  2085.16,1432.14 2105.75,1434.72 2126.33,1437.03 2146.92,1439.06 2167.5,1440.83 2188.08,1442.32 2208.67,1443.54 2229.25,1444.49 2249.84,1445.17 2270.42,1445.58 \n",
       "  2291,1445.72 \n",
       "  \"/>\n",
       "<path clip-path=\"url(#clip970)\" d=\"\n",
       "M1985.16 250.738 L2280.03 250.738 L2280.03 95.2176 L1985.16 95.2176  Z\n",
       "  \" fill=\"#ffffff\" fill-rule=\"evenodd\" fill-opacity=\"1\"/>\n",
       "<polyline clip-path=\"url(#clip970)\" style=\"stroke:#000000; stroke-linecap:butt; stroke-linejoin:round; stroke-width:4; stroke-opacity:1; fill:none\" points=\"\n",
       "  1985.16,250.738 2280.03,250.738 2280.03,95.2176 1985.16,95.2176 1985.16,250.738 \n",
       "  \"/>\n",
       "<polyline clip-path=\"url(#clip970)\" style=\"stroke:#009af9; stroke-linecap:butt; stroke-linejoin:round; stroke-width:4; stroke-opacity:1; fill:none\" points=\"\n",
       "  2009.41,147.058 2154.87,147.058 \n",
       "  \"/>\n",
       "<path clip-path=\"url(#clip970)\" d=\"M2192.95 166.745 Q2191.15 171.375 2189.43 172.787 Q2187.72 174.199 2184.85 174.199 L2181.45 174.199 L2181.45 170.634 L2183.95 170.634 Q2185.71 170.634 2186.68 169.8 Q2187.65 168.967 2188.83 165.865 L2189.6 163.921 L2179.11 138.412 L2183.62 138.412 L2191.72 158.689 L2199.83 138.412 L2204.34 138.412 L2192.95 166.745 Z\" fill=\"#000000\" fill-rule=\"evenodd\" fill-opacity=\"1\" /><path clip-path=\"url(#clip970)\" d=\"M2211.63 160.402 L2219.27 160.402 L2219.27 134.037 L2210.96 135.703 L2210.96 131.444 L2219.22 129.778 L2223.9 129.778 L2223.9 160.402 L2231.54 160.402 L2231.54 164.338 L2211.63 164.338 L2211.63 160.402 Z\" fill=\"#000000\" fill-rule=\"evenodd\" fill-opacity=\"1\" /><polyline clip-path=\"url(#clip970)\" style=\"stroke:#e26f46; stroke-linecap:butt; stroke-linejoin:round; stroke-width:4; stroke-opacity:1; fill:none\" points=\"\n",
       "  2009.41,198.898 2154.87,198.898 \n",
       "  \"/>\n",
       "<path clip-path=\"url(#clip970)\" d=\"M2192.95 218.585 Q2191.15 223.215 2189.43 224.627 Q2187.72 226.039 2184.85 226.039 L2181.45 226.039 L2181.45 222.474 L2183.95 222.474 Q2185.71 222.474 2186.68 221.64 Q2187.65 220.807 2188.83 217.705 L2189.6 215.761 L2179.11 190.252 L2183.62 190.252 L2191.72 210.529 L2199.83 190.252 L2204.34 190.252 L2192.95 218.585 Z\" fill=\"#000000\" fill-rule=\"evenodd\" fill-opacity=\"1\" /><path clip-path=\"url(#clip970)\" d=\"M2214.85 212.242 L2231.17 212.242 L2231.17 216.178 L2209.22 216.178 L2209.22 212.242 Q2211.89 209.488 2216.47 204.858 Q2221.08 200.205 2222.26 198.863 Q2224.5 196.34 2225.38 194.604 Q2226.28 192.844 2226.28 191.155 Q2226.28 188.4 2224.34 186.664 Q2222.42 184.928 2219.32 184.928 Q2217.12 184.928 2214.66 185.692 Q2212.23 186.455 2209.46 188.006 L2209.46 183.284 Q2212.28 182.15 2214.73 181.571 Q2217.19 180.993 2219.22 180.993 Q2224.59 180.993 2227.79 183.678 Q2230.98 186.363 2230.98 190.854 Q2230.98 192.983 2230.17 194.905 Q2229.39 196.803 2227.28 199.395 Q2226.7 200.067 2223.6 203.284 Q2220.5 206.479 2214.85 212.242 Z\" fill=\"#000000\" fill-rule=\"evenodd\" fill-opacity=\"1\" /></svg>\n"
      ],
      "text/html": [
       "<?xml version=\"1.0\" encoding=\"utf-8\"?>\n",
       "<svg xmlns=\"http://www.w3.org/2000/svg\" xmlns:xlink=\"http://www.w3.org/1999/xlink\" width=\"600\" height=\"400\" viewBox=\"0 0 2400 1600\">\n",
       "<defs>\n",
       "  <clipPath id=\"clip020\">\n",
       "    <rect x=\"0\" y=\"0\" width=\"2400\" height=\"1600\"/>\n",
       "  </clipPath>\n",
       "</defs>\n",
       "<path clip-path=\"url(#clip020)\" d=\"\n",
       "M0 1600 L2400 1600 L2400 0 L0 0  Z\n",
       "  \" fill=\"#ffffff\" fill-rule=\"evenodd\" fill-opacity=\"1\"/>\n",
       "<defs>\n",
       "  <clipPath id=\"clip021\">\n",
       "    <rect x=\"480\" y=\"0\" width=\"1681\" height=\"1600\"/>\n",
       "  </clipPath>\n",
       "</defs>\n",
       "<path clip-path=\"url(#clip020)\" d=\"\n",
       "M170.857 1486.45 L2352.76 1486.45 L2352.76 47.2441 L170.857 47.2441  Z\n",
       "  \" fill=\"#ffffff\" fill-rule=\"evenodd\" fill-opacity=\"1\"/>\n",
       "<defs>\n",
       "  <clipPath id=\"clip022\">\n",
       "    <rect x=\"170\" y=\"47\" width=\"2183\" height=\"1440\"/>\n",
       "  </clipPath>\n",
       "</defs>\n",
       "<polyline clip-path=\"url(#clip022)\" style=\"stroke:#000000; stroke-linecap:butt; stroke-linejoin:round; stroke-width:2; stroke-opacity:0.1; fill:none\" points=\"\n",
       "  232.609,1486.45 232.609,47.2441 \n",
       "  \"/>\n",
       "<polyline clip-path=\"url(#clip022)\" style=\"stroke:#000000; stroke-linecap:butt; stroke-linejoin:round; stroke-width:2; stroke-opacity:0.1; fill:none\" points=\"\n",
       "  747.208,1486.45 747.208,47.2441 \n",
       "  \"/>\n",
       "<polyline clip-path=\"url(#clip022)\" style=\"stroke:#000000; stroke-linecap:butt; stroke-linejoin:round; stroke-width:2; stroke-opacity:0.1; fill:none\" points=\"\n",
       "  1261.81,1486.45 1261.81,47.2441 \n",
       "  \"/>\n",
       "<polyline clip-path=\"url(#clip022)\" style=\"stroke:#000000; stroke-linecap:butt; stroke-linejoin:round; stroke-width:2; stroke-opacity:0.1; fill:none\" points=\"\n",
       "  1776.41,1486.45 1776.41,47.2441 \n",
       "  \"/>\n",
       "<polyline clip-path=\"url(#clip022)\" style=\"stroke:#000000; stroke-linecap:butt; stroke-linejoin:round; stroke-width:2; stroke-opacity:0.1; fill:none\" points=\"\n",
       "  2291,1486.45 2291,47.2441 \n",
       "  \"/>\n",
       "<polyline clip-path=\"url(#clip020)\" style=\"stroke:#000000; stroke-linecap:butt; stroke-linejoin:round; stroke-width:4; stroke-opacity:1; fill:none\" points=\"\n",
       "  170.857,1486.45 2352.76,1486.45 \n",
       "  \"/>\n",
       "<polyline clip-path=\"url(#clip020)\" style=\"stroke:#000000; stroke-linecap:butt; stroke-linejoin:round; stroke-width:4; stroke-opacity:1; fill:none\" points=\"\n",
       "  232.609,1486.45 232.609,1467.55 \n",
       "  \"/>\n",
       "<polyline clip-path=\"url(#clip020)\" style=\"stroke:#000000; stroke-linecap:butt; stroke-linejoin:round; stroke-width:4; stroke-opacity:1; fill:none\" points=\"\n",
       "  747.208,1486.45 747.208,1467.55 \n",
       "  \"/>\n",
       "<polyline clip-path=\"url(#clip020)\" style=\"stroke:#000000; stroke-linecap:butt; stroke-linejoin:round; stroke-width:4; stroke-opacity:1; fill:none\" points=\"\n",
       "  1261.81,1486.45 1261.81,1467.55 \n",
       "  \"/>\n",
       "<polyline clip-path=\"url(#clip020)\" style=\"stroke:#000000; stroke-linecap:butt; stroke-linejoin:round; stroke-width:4; stroke-opacity:1; fill:none\" points=\"\n",
       "  1776.41,1486.45 1776.41,1467.55 \n",
       "  \"/>\n",
       "<polyline clip-path=\"url(#clip020)\" style=\"stroke:#000000; stroke-linecap:butt; stroke-linejoin:round; stroke-width:4; stroke-opacity:1; fill:none\" points=\"\n",
       "  2291,1486.45 2291,1467.55 \n",
       "  \"/>\n",
       "<path clip-path=\"url(#clip020)\" d=\"M232.609 1515.64 Q228.998 1515.64 227.169 1519.2 Q225.364 1522.75 225.364 1529.87 Q225.364 1536.98 227.169 1540.55 Q228.998 1544.09 232.609 1544.09 Q236.244 1544.09 238.049 1540.55 Q239.878 1536.98 239.878 1529.87 Q239.878 1522.75 238.049 1519.2 Q236.244 1515.64 232.609 1515.64 M232.609 1511.93 Q238.419 1511.93 241.475 1516.54 Q244.554 1521.12 244.554 1529.87 Q244.554 1538.6 241.475 1543.21 Q238.419 1547.79 232.609 1547.79 Q226.799 1547.79 223.72 1543.21 Q220.665 1538.6 220.665 1529.87 Q220.665 1521.12 223.72 1516.54 Q226.799 1511.93 232.609 1511.93 Z\" fill=\"#000000\" fill-rule=\"evenodd\" fill-opacity=\"1\" /><path clip-path=\"url(#clip020)\" d=\"M726.479 1543.18 L742.798 1543.18 L742.798 1547.12 L720.854 1547.12 L720.854 1543.18 Q723.516 1540.43 728.099 1535.8 Q732.706 1531.15 733.886 1529.81 Q736.132 1527.28 737.011 1525.55 Q737.914 1523.79 737.914 1522.1 Q737.914 1519.34 735.97 1517.61 Q734.048 1515.87 730.946 1515.87 Q728.747 1515.87 726.294 1516.63 Q723.863 1517.4 721.085 1518.95 L721.085 1514.23 Q723.909 1513.09 726.363 1512.51 Q728.817 1511.93 730.854 1511.93 Q736.224 1511.93 739.419 1514.62 Q742.613 1517.31 742.613 1521.8 Q742.613 1523.93 741.803 1525.85 Q741.016 1527.74 738.909 1530.34 Q738.331 1531.01 735.229 1534.23 Q732.127 1537.42 726.479 1543.18 Z\" fill=\"#000000\" fill-rule=\"evenodd\" fill-opacity=\"1\" /><path clip-path=\"url(#clip020)\" d=\"M752.659 1512.56 L771.016 1512.56 L771.016 1516.5 L756.942 1516.5 L756.942 1524.97 Q757.96 1524.62 758.979 1524.46 Q759.997 1524.27 761.016 1524.27 Q766.803 1524.27 770.182 1527.44 Q773.562 1530.62 773.562 1536.03 Q773.562 1541.61 770.09 1544.71 Q766.618 1547.79 760.298 1547.79 Q758.122 1547.79 755.854 1547.42 Q753.608 1547.05 751.201 1546.31 L751.201 1541.61 Q753.284 1542.74 755.507 1543.3 Q757.729 1543.86 760.206 1543.86 Q764.21 1543.86 766.548 1541.75 Q768.886 1539.64 768.886 1536.03 Q768.886 1532.42 766.548 1530.31 Q764.21 1528.21 760.206 1528.21 Q758.331 1528.21 756.456 1528.62 Q754.604 1529.04 752.659 1529.92 L752.659 1512.56 Z\" fill=\"#000000\" fill-rule=\"evenodd\" fill-opacity=\"1\" /><path clip-path=\"url(#clip020)\" d=\"M1236.51 1512.56 L1254.86 1512.56 L1254.86 1516.5 L1240.79 1516.5 L1240.79 1524.97 Q1241.81 1524.62 1242.83 1524.46 Q1243.84 1524.27 1244.86 1524.27 Q1250.65 1524.27 1254.03 1527.44 Q1257.41 1530.62 1257.41 1536.03 Q1257.41 1541.61 1253.94 1544.71 Q1250.46 1547.79 1244.14 1547.79 Q1241.97 1547.79 1239.7 1547.42 Q1237.45 1547.05 1235.05 1546.31 L1235.05 1541.61 Q1237.13 1542.74 1239.35 1543.3 Q1241.58 1543.86 1244.05 1543.86 Q1248.06 1543.86 1250.39 1541.75 Q1252.73 1539.64 1252.73 1536.03 Q1252.73 1532.42 1250.39 1530.31 Q1248.06 1528.21 1244.05 1528.21 Q1242.18 1528.21 1240.3 1528.62 Q1238.45 1529.04 1236.51 1529.92 L1236.51 1512.56 Z\" fill=\"#000000\" fill-rule=\"evenodd\" fill-opacity=\"1\" /><path clip-path=\"url(#clip020)\" d=\"M1276.62 1515.64 Q1273.01 1515.64 1271.18 1519.2 Q1269.38 1522.75 1269.38 1529.87 Q1269.38 1536.98 1271.18 1540.55 Q1273.01 1544.09 1276.62 1544.09 Q1280.26 1544.09 1282.06 1540.55 Q1283.89 1536.98 1283.89 1529.87 Q1283.89 1522.75 1282.06 1519.2 Q1280.26 1515.64 1276.62 1515.64 M1276.62 1511.93 Q1282.43 1511.93 1285.49 1516.54 Q1288.57 1521.12 1288.57 1529.87 Q1288.57 1538.6 1285.49 1543.21 Q1282.43 1547.79 1276.62 1547.79 Q1270.81 1547.79 1267.73 1543.21 Q1264.68 1538.6 1264.68 1529.87 Q1264.68 1521.12 1267.73 1516.54 Q1270.81 1511.93 1276.62 1511.93 Z\" fill=\"#000000\" fill-rule=\"evenodd\" fill-opacity=\"1\" /><path clip-path=\"url(#clip020)\" d=\"M1750.26 1512.56 L1772.48 1512.56 L1772.48 1514.55 L1759.94 1547.12 L1755.05 1547.12 L1766.86 1516.5 L1750.26 1516.5 L1750.26 1512.56 Z\" fill=\"#000000\" fill-rule=\"evenodd\" fill-opacity=\"1\" /><path clip-path=\"url(#clip020)\" d=\"M1781.65 1512.56 L1800 1512.56 L1800 1516.5 L1785.93 1516.5 L1785.93 1524.97 Q1786.95 1524.62 1787.97 1524.46 Q1788.99 1524.27 1790 1524.27 Q1795.79 1524.27 1799.17 1527.44 Q1802.55 1530.62 1802.55 1536.03 Q1802.55 1541.61 1799.08 1544.71 Q1795.61 1547.79 1789.29 1547.79 Q1787.11 1547.79 1784.84 1547.42 Q1782.6 1547.05 1780.19 1546.31 L1780.19 1541.61 Q1782.27 1542.74 1784.5 1543.3 Q1786.72 1543.86 1789.19 1543.86 Q1793.2 1543.86 1795.54 1541.75 Q1797.88 1539.64 1797.88 1536.03 Q1797.88 1532.42 1795.54 1530.31 Q1793.2 1528.21 1789.19 1528.21 Q1787.32 1528.21 1785.44 1528.62 Q1783.59 1529.04 1781.65 1529.92 L1781.65 1512.56 Z\" fill=\"#000000\" fill-rule=\"evenodd\" fill-opacity=\"1\" /><path clip-path=\"url(#clip020)\" d=\"M2250.61 1543.18 L2258.25 1543.18 L2258.25 1516.82 L2249.94 1518.49 L2249.94 1514.23 L2258.2 1512.56 L2262.88 1512.56 L2262.88 1543.18 L2270.52 1543.18 L2270.52 1547.12 L2250.61 1547.12 L2250.61 1543.18 Z\" fill=\"#000000\" fill-rule=\"evenodd\" fill-opacity=\"1\" /><path clip-path=\"url(#clip020)\" d=\"M2289.96 1515.64 Q2286.35 1515.64 2284.52 1519.2 Q2282.72 1522.75 2282.72 1529.87 Q2282.72 1536.98 2284.52 1540.55 Q2286.35 1544.09 2289.96 1544.09 Q2293.6 1544.09 2295.4 1540.55 Q2297.23 1536.98 2297.23 1529.87 Q2297.23 1522.75 2295.4 1519.2 Q2293.6 1515.64 2289.96 1515.64 M2289.96 1511.93 Q2295.77 1511.93 2298.83 1516.54 Q2301.91 1521.12 2301.91 1529.87 Q2301.91 1538.6 2298.83 1543.21 Q2295.77 1547.79 2289.96 1547.79 Q2284.15 1547.79 2281.07 1543.21 Q2278.02 1538.6 2278.02 1529.87 Q2278.02 1521.12 2281.07 1516.54 Q2284.15 1511.93 2289.96 1511.93 Z\" fill=\"#000000\" fill-rule=\"evenodd\" fill-opacity=\"1\" /><path clip-path=\"url(#clip020)\" d=\"M2320.12 1515.64 Q2316.51 1515.64 2314.68 1519.2 Q2312.88 1522.75 2312.88 1529.87 Q2312.88 1536.98 2314.68 1540.55 Q2316.51 1544.09 2320.12 1544.09 Q2323.76 1544.09 2325.56 1540.55 Q2327.39 1536.98 2327.39 1529.87 Q2327.39 1522.75 2325.56 1519.2 Q2323.76 1515.64 2320.12 1515.64 M2320.12 1511.93 Q2325.93 1511.93 2328.99 1516.54 Q2332.07 1521.12 2332.07 1529.87 Q2332.07 1538.6 2328.99 1543.21 Q2325.93 1547.79 2320.12 1547.79 Q2314.31 1547.79 2311.24 1543.21 Q2308.18 1538.6 2308.18 1529.87 Q2308.18 1521.12 2311.24 1516.54 Q2314.31 1511.93 2320.12 1511.93 Z\" fill=\"#000000\" fill-rule=\"evenodd\" fill-opacity=\"1\" /><polyline clip-path=\"url(#clip022)\" style=\"stroke:#000000; stroke-linecap:butt; stroke-linejoin:round; stroke-width:2; stroke-opacity:0.1; fill:none\" points=\"\n",
       "  170.857,1445.72 2352.76,1445.72 \n",
       "  \"/>\n",
       "<polyline clip-path=\"url(#clip022)\" style=\"stroke:#000000; stroke-linecap:butt; stroke-linejoin:round; stroke-width:2; stroke-opacity:0.1; fill:none\" points=\"\n",
       "  170.857,1106.28 2352.76,1106.28 \n",
       "  \"/>\n",
       "<polyline clip-path=\"url(#clip022)\" style=\"stroke:#000000; stroke-linecap:butt; stroke-linejoin:round; stroke-width:2; stroke-opacity:0.1; fill:none\" points=\"\n",
       "  170.857,766.846 2352.76,766.846 \n",
       "  \"/>\n",
       "<polyline clip-path=\"url(#clip022)\" style=\"stroke:#000000; stroke-linecap:butt; stroke-linejoin:round; stroke-width:2; stroke-opacity:0.1; fill:none\" points=\"\n",
       "  170.857,427.411 2352.76,427.411 \n",
       "  \"/>\n",
       "<polyline clip-path=\"url(#clip022)\" style=\"stroke:#000000; stroke-linecap:butt; stroke-linejoin:round; stroke-width:2; stroke-opacity:0.1; fill:none\" points=\"\n",
       "  170.857,87.9763 2352.76,87.9763 \n",
       "  \"/>\n",
       "<polyline clip-path=\"url(#clip020)\" style=\"stroke:#000000; stroke-linecap:butt; stroke-linejoin:round; stroke-width:4; stroke-opacity:1; fill:none\" points=\"\n",
       "  170.857,1486.45 170.857,47.2441 \n",
       "  \"/>\n",
       "<polyline clip-path=\"url(#clip020)\" style=\"stroke:#000000; stroke-linecap:butt; stroke-linejoin:round; stroke-width:4; stroke-opacity:1; fill:none\" points=\"\n",
       "  170.857,1445.72 189.755,1445.72 \n",
       "  \"/>\n",
       "<polyline clip-path=\"url(#clip020)\" style=\"stroke:#000000; stroke-linecap:butt; stroke-linejoin:round; stroke-width:4; stroke-opacity:1; fill:none\" points=\"\n",
       "  170.857,1106.28 189.755,1106.28 \n",
       "  \"/>\n",
       "<polyline clip-path=\"url(#clip020)\" style=\"stroke:#000000; stroke-linecap:butt; stroke-linejoin:round; stroke-width:4; stroke-opacity:1; fill:none\" points=\"\n",
       "  170.857,766.846 189.755,766.846 \n",
       "  \"/>\n",
       "<polyline clip-path=\"url(#clip020)\" style=\"stroke:#000000; stroke-linecap:butt; stroke-linejoin:round; stroke-width:4; stroke-opacity:1; fill:none\" points=\"\n",
       "  170.857,427.411 189.755,427.411 \n",
       "  \"/>\n",
       "<polyline clip-path=\"url(#clip020)\" style=\"stroke:#000000; stroke-linecap:butt; stroke-linejoin:round; stroke-width:4; stroke-opacity:1; fill:none\" points=\"\n",
       "  170.857,87.9763 189.755,87.9763 \n",
       "  \"/>\n",
       "<path clip-path=\"url(#clip020)\" d=\"M122.913 1431.51 Q119.302 1431.51 117.473 1435.08 Q115.668 1438.62 115.668 1445.75 Q115.668 1452.86 117.473 1456.42 Q119.302 1459.96 122.913 1459.96 Q126.547 1459.96 128.353 1456.42 Q130.182 1452.86 130.182 1445.75 Q130.182 1438.62 128.353 1435.08 Q126.547 1431.51 122.913 1431.51 M122.913 1427.81 Q128.723 1427.81 131.779 1432.42 Q134.857 1437 134.857 1445.75 Q134.857 1454.48 131.779 1459.08 Q128.723 1463.67 122.913 1463.67 Q117.103 1463.67 114.024 1459.08 Q110.969 1454.48 110.969 1445.75 Q110.969 1437 114.024 1432.42 Q117.103 1427.81 122.913 1427.81 Z\" fill=\"#000000\" fill-rule=\"evenodd\" fill-opacity=\"1\" /><path clip-path=\"url(#clip020)\" d=\"M82.7975 1089 L101.154 1089 L101.154 1092.94 L87.0799 1092.94 L87.0799 1101.41 Q88.0984 1101.06 89.1169 1100.9 Q90.1354 1100.71 91.1539 1100.71 Q96.941 1100.71 100.321 1103.89 Q103.7 1107.06 103.7 1112.47 Q103.7 1118.05 100.228 1121.15 Q96.7558 1124.23 90.4364 1124.23 Q88.2604 1124.23 85.9919 1123.86 Q83.7466 1123.49 81.3392 1122.75 L81.3392 1118.05 Q83.4225 1119.19 85.6447 1119.74 Q87.8669 1120.3 90.3438 1120.3 Q94.3484 1120.3 96.6863 1118.19 Q99.0243 1116.08 99.0243 1112.47 Q99.0243 1108.86 96.6863 1106.76 Q94.3484 1104.65 90.3438 1104.65 Q88.4688 1104.65 86.5938 1105.07 Q84.7419 1105.48 82.7975 1106.36 L82.7975 1089 Z\" fill=\"#000000\" fill-rule=\"evenodd\" fill-opacity=\"1\" /><path clip-path=\"url(#clip020)\" d=\"M122.913 1092.08 Q119.302 1092.08 117.473 1095.64 Q115.668 1099.19 115.668 1106.32 Q115.668 1113.42 117.473 1116.99 Q119.302 1120.53 122.913 1120.53 Q126.547 1120.53 128.353 1116.99 Q130.182 1113.42 130.182 1106.32 Q130.182 1099.19 128.353 1095.64 Q126.547 1092.08 122.913 1092.08 M122.913 1088.38 Q128.723 1088.38 131.779 1092.98 Q134.857 1097.57 134.857 1106.32 Q134.857 1115.04 131.779 1119.65 Q128.723 1124.23 122.913 1124.23 Q117.103 1124.23 114.024 1119.65 Q110.969 1115.04 110.969 1106.32 Q110.969 1097.57 114.024 1092.98 Q117.103 1088.38 122.913 1088.38 Z\" fill=\"#000000\" fill-rule=\"evenodd\" fill-opacity=\"1\" /><path clip-path=\"url(#clip020)\" d=\"M53.3995 780.191 L61.0384 780.191 L61.0384 753.825 L52.7282 755.492 L52.7282 751.233 L60.9921 749.566 L65.668 749.566 L65.668 780.191 L73.3068 780.191 L73.3068 784.126 L53.3995 784.126 L53.3995 780.191 Z\" fill=\"#000000\" fill-rule=\"evenodd\" fill-opacity=\"1\" /><path clip-path=\"url(#clip020)\" d=\"M92.7512 752.645 Q89.1401 752.645 87.3114 756.209 Q85.5058 759.751 85.5058 766.881 Q85.5058 773.987 87.3114 777.552 Q89.1401 781.094 92.7512 781.094 Q96.3854 781.094 98.1909 777.552 Q100.02 773.987 100.02 766.881 Q100.02 759.751 98.1909 756.209 Q96.3854 752.645 92.7512 752.645 M92.7512 748.941 Q98.5613 748.941 101.617 753.547 Q104.696 758.131 104.696 766.881 Q104.696 775.608 101.617 780.214 Q98.5613 784.797 92.7512 784.797 Q86.941 784.797 83.8623 780.214 Q80.8068 775.608 80.8068 766.881 Q80.8068 758.131 83.8623 753.547 Q86.941 748.941 92.7512 748.941 Z\" fill=\"#000000\" fill-rule=\"evenodd\" fill-opacity=\"1\" /><path clip-path=\"url(#clip020)\" d=\"M122.913 752.645 Q119.302 752.645 117.473 756.209 Q115.668 759.751 115.668 766.881 Q115.668 773.987 117.473 777.552 Q119.302 781.094 122.913 781.094 Q126.547 781.094 128.353 777.552 Q130.182 773.987 130.182 766.881 Q130.182 759.751 128.353 756.209 Q126.547 752.645 122.913 752.645 M122.913 748.941 Q128.723 748.941 131.779 753.547 Q134.857 758.131 134.857 766.881 Q134.857 775.608 131.779 780.214 Q128.723 784.797 122.913 784.797 Q117.103 784.797 114.024 780.214 Q110.969 775.608 110.969 766.881 Q110.969 758.131 114.024 753.547 Q117.103 748.941 122.913 748.941 Z\" fill=\"#000000\" fill-rule=\"evenodd\" fill-opacity=\"1\" /><path clip-path=\"url(#clip020)\" d=\"M53.3995 440.756 L61.0384 440.756 L61.0384 414.39 L52.7282 416.057 L52.7282 411.798 L60.9921 410.131 L65.668 410.131 L65.668 440.756 L73.3068 440.756 L73.3068 444.691 L53.3995 444.691 L53.3995 440.756 Z\" fill=\"#000000\" fill-rule=\"evenodd\" fill-opacity=\"1\" /><path clip-path=\"url(#clip020)\" d=\"M82.7975 410.131 L101.154 410.131 L101.154 414.066 L87.0799 414.066 L87.0799 422.538 Q88.0984 422.191 89.1169 422.029 Q90.1354 421.844 91.1539 421.844 Q96.941 421.844 100.321 425.015 Q103.7 428.187 103.7 433.603 Q103.7 439.182 100.228 442.284 Q96.7558 445.362 90.4364 445.362 Q88.2604 445.362 85.9919 444.992 Q83.7466 444.622 81.3392 443.881 L81.3392 439.182 Q83.4225 440.316 85.6447 440.872 Q87.8669 441.427 90.3438 441.427 Q94.3484 441.427 96.6863 439.321 Q99.0243 437.214 99.0243 433.603 Q99.0243 429.992 96.6863 427.886 Q94.3484 425.779 90.3438 425.779 Q88.4688 425.779 86.5938 426.196 Q84.7419 426.613 82.7975 427.492 L82.7975 410.131 Z\" fill=\"#000000\" fill-rule=\"evenodd\" fill-opacity=\"1\" /><path clip-path=\"url(#clip020)\" d=\"M122.913 413.21 Q119.302 413.21 117.473 416.775 Q115.668 420.316 115.668 427.446 Q115.668 434.552 117.473 438.117 Q119.302 441.659 122.913 441.659 Q126.547 441.659 128.353 438.117 Q130.182 434.552 130.182 427.446 Q130.182 420.316 128.353 416.775 Q126.547 413.21 122.913 413.21 M122.913 409.506 Q128.723 409.506 131.779 414.113 Q134.857 418.696 134.857 427.446 Q134.857 436.173 131.779 440.779 Q128.723 445.362 122.913 445.362 Q117.103 445.362 114.024 440.779 Q110.969 436.173 110.969 427.446 Q110.969 418.696 114.024 414.113 Q117.103 409.506 122.913 409.506 Z\" fill=\"#000000\" fill-rule=\"evenodd\" fill-opacity=\"1\" /><path clip-path=\"url(#clip020)\" d=\"M56.6171 101.321 L72.9365 101.321 L72.9365 105.256 L50.9921 105.256 L50.9921 101.321 Q53.6541 98.5665 58.2375 93.9369 Q62.8439 89.2841 64.0245 87.9416 Q66.2698 85.4184 67.1494 83.6823 Q68.0522 81.9231 68.0522 80.2333 Q68.0522 77.4786 66.1078 75.7425 Q64.1865 74.0064 61.0847 74.0064 Q58.8856 74.0064 56.4319 74.7703 Q54.0014 75.5342 51.2236 77.0851 L51.2236 72.3629 Q54.0477 71.2287 56.5014 70.65 Q58.955 70.0713 60.9921 70.0713 Q66.3624 70.0713 69.5568 72.7565 Q72.7513 75.4416 72.7513 79.9323 Q72.7513 82.062 71.9411 83.9832 Q71.1541 85.8814 69.0476 88.474 Q68.4689 89.1453 65.367 92.3628 Q62.2652 95.5573 56.6171 101.321 Z\" fill=\"#000000\" fill-rule=\"evenodd\" fill-opacity=\"1\" /><path clip-path=\"url(#clip020)\" d=\"M92.7512 73.775 Q89.1401 73.775 87.3114 77.3398 Q85.5058 80.8814 85.5058 88.011 Q85.5058 95.1174 87.3114 98.6822 Q89.1401 102.224 92.7512 102.224 Q96.3854 102.224 98.1909 98.6822 Q100.02 95.1174 100.02 88.011 Q100.02 80.8814 98.1909 77.3398 Q96.3854 73.775 92.7512 73.775 M92.7512 70.0713 Q98.5613 70.0713 101.617 74.6777 Q104.696 79.261 104.696 88.011 Q104.696 96.7378 101.617 101.344 Q98.5613 105.928 92.7512 105.928 Q86.941 105.928 83.8623 101.344 Q80.8068 96.7378 80.8068 88.011 Q80.8068 79.261 83.8623 74.6777 Q86.941 70.0713 92.7512 70.0713 Z\" fill=\"#000000\" fill-rule=\"evenodd\" fill-opacity=\"1\" /><path clip-path=\"url(#clip020)\" d=\"M122.913 73.775 Q119.302 73.775 117.473 77.3398 Q115.668 80.8814 115.668 88.011 Q115.668 95.1174 117.473 98.6822 Q119.302 102.224 122.913 102.224 Q126.547 102.224 128.353 98.6822 Q130.182 95.1174 130.182 88.011 Q130.182 80.8814 128.353 77.3398 Q126.547 73.775 122.913 73.775 M122.913 70.0713 Q128.723 70.0713 131.779 74.6777 Q134.857 79.261 134.857 88.011 Q134.857 96.7378 131.779 101.344 Q128.723 105.928 122.913 105.928 Q117.103 105.928 114.024 101.344 Q110.969 96.7378 110.969 88.011 Q110.969 79.261 114.024 74.6777 Q117.103 70.0713 122.913 70.0713 Z\" fill=\"#000000\" fill-rule=\"evenodd\" fill-opacity=\"1\" /><polyline clip-path=\"url(#clip022)\" style=\"stroke:#009af9; stroke-linecap:butt; stroke-linejoin:round; stroke-width:8; stroke-opacity:1; fill:none\" points=\"\n",
       "  232.609,780.061 253.193,792.824 273.777,804.048 294.361,811.742 314.945,819.436 335.529,827.13 356.113,834.823 376.697,842.517 397.281,850.211 417.865,857.905 \n",
       "  438.449,865.599 459.033,873.293 479.617,880.987 500.201,888.68 520.785,896.374 541.368,904.068 561.952,911.762 582.536,919.456 603.12,927.15 623.704,934.844 \n",
       "  644.288,942.537 664.872,950.231 685.456,957.925 706.04,965.619 726.624,973.313 747.208,981.007 767.792,988.701 788.376,996.394 808.96,1004.09 829.544,1011.78 \n",
       "  850.128,1019.48 870.712,1027.17 891.296,1034.86 911.88,1042.56 932.463,1050.25 953.047,1057.95 973.631,1065.64 994.215,1073.33 1014.8,1081.03 1035.38,1088.72 \n",
       "  1055.97,1096.41 1076.55,1104.11 1097.14,1111.8 1117.72,1119.5 1138.3,1127.19 1158.89,1134.88 1179.47,1142.58 1200.05,1150.27 1220.64,1157.97 1241.22,1165.66 \n",
       "  1261.81,1173.35 1282.39,1181.05 1302.97,1188.74 1323.56,1196.43 1344.14,1204.13 1364.73,1211.82 1385.31,1219.52 1405.89,1227.21 1426.48,1234.9 1447.06,1242.6 \n",
       "  1467.65,1250.29 1488.23,1257.99 1508.81,1265.68 1529.4,1272.56 1549.98,1279.35 1570.57,1286.14 1591.15,1292.92 1611.73,1299.71 1632.32,1306.5 1652.9,1313.29 \n",
       "  1673.49,1320.08 1694.07,1326.87 1714.65,1333.66 1735.24,1340.45 1755.82,1347.23 1776.41,1354.02 1796.99,1360.81 1817.57,1367.6 1838.16,1374.39 1858.74,1381.18 \n",
       "  1879.33,1386.88 1899.91,1392.04 1920.49,1397.2 1941.08,1402.36 1961.66,1407.52 1982.24,1412.68 2002.83,1417.84 2023.41,1423 2044,1425.62 2064.58,1427.88 \n",
       "  2085.16,1430.15 2105.75,1432.41 2126.33,1434.67 2146.92,1436.94 2167.5,1439.2 2188.08,1441.01 2208.67,1442.73 2229.25,1444.09 2249.84,1444.81 2270.42,1445.44 \n",
       "  2291,1445.72 \n",
       "  \"/>\n",
       "<polyline clip-path=\"url(#clip022)\" style=\"stroke:#e26f46; stroke-linecap:butt; stroke-linejoin:round; stroke-width:4; stroke-opacity:1; fill:none\" points=\"\n",
       "  232.609,87.9763 253.193,114.995 273.777,141.743 294.361,168.219 314.945,194.423 335.529,220.356 356.113,246.017 376.697,271.407 397.281,296.525 417.865,321.372 \n",
       "  438.449,345.947 459.033,370.25 479.617,394.282 500.201,418.043 520.785,441.532 541.368,464.749 561.952,487.695 582.536,510.369 603.12,532.772 623.704,554.903 \n",
       "  644.288,576.762 664.872,598.351 685.456,619.667 706.04,640.712 726.624,661.485 747.208,681.987 767.792,702.218 788.376,722.176 808.96,741.864 829.544,761.279 \n",
       "  850.128,780.423 870.712,799.296 891.296,817.897 911.88,836.226 932.463,854.284 953.047,872.071 973.631,889.586 994.215,906.829 1014.8,923.801 1035.38,940.501 \n",
       "  1055.97,956.93 1076.55,973.087 1097.14,988.972 1117.72,1004.59 1138.3,1019.93 1158.89,1035 1179.47,1049.8 1200.05,1064.33 1220.64,1078.58 1241.22,1092.57 \n",
       "  1261.81,1106.28 1282.39,1119.72 1302.97,1132.89 1323.56,1145.79 1344.14,1158.42 1364.73,1170.77 1385.31,1182.86 1405.89,1194.67 1426.48,1206.21 1447.06,1217.48 \n",
       "  1467.65,1228.48 1488.23,1239.2 1508.81,1249.66 1529.4,1259.84 1549.98,1269.75 1570.57,1279.39 1591.15,1288.76 1611.73,1297.86 1632.32,1306.68 1652.9,1315.24 \n",
       "  1673.49,1323.52 1694.07,1331.53 1714.65,1339.27 1735.24,1346.74 1755.82,1353.93 1776.41,1360.86 1796.99,1367.51 1817.57,1373.89 1838.16,1380 1858.74,1385.84 \n",
       "  1879.33,1391.41 1899.91,1396.7 1920.49,1401.72 1941.08,1406.48 1961.66,1410.96 1982.24,1415.17 2002.83,1419.1 2023.41,1422.77 2044,1426.16 2064.58,1429.29 \n",
       "  2085.16,1432.14 2105.75,1434.72 2126.33,1437.03 2146.92,1439.06 2167.5,1440.83 2188.08,1442.32 2208.67,1443.54 2229.25,1444.49 2249.84,1445.17 2270.42,1445.58 \n",
       "  2291,1445.72 \n",
       "  \"/>\n",
       "<path clip-path=\"url(#clip020)\" d=\"\n",
       "M1985.16 250.738 L2280.03 250.738 L2280.03 95.2176 L1985.16 95.2176  Z\n",
       "  \" fill=\"#ffffff\" fill-rule=\"evenodd\" fill-opacity=\"1\"/>\n",
       "<polyline clip-path=\"url(#clip020)\" style=\"stroke:#000000; stroke-linecap:butt; stroke-linejoin:round; stroke-width:4; stroke-opacity:1; fill:none\" points=\"\n",
       "  1985.16,250.738 2280.03,250.738 2280.03,95.2176 1985.16,95.2176 1985.16,250.738 \n",
       "  \"/>\n",
       "<polyline clip-path=\"url(#clip020)\" style=\"stroke:#009af9; stroke-linecap:butt; stroke-linejoin:round; stroke-width:4; stroke-opacity:1; fill:none\" points=\"\n",
       "  2009.41,147.058 2154.87,147.058 \n",
       "  \"/>\n",
       "<path clip-path=\"url(#clip020)\" d=\"M2192.95 166.745 Q2191.15 171.375 2189.43 172.787 Q2187.72 174.199 2184.85 174.199 L2181.45 174.199 L2181.45 170.634 L2183.95 170.634 Q2185.71 170.634 2186.68 169.8 Q2187.65 168.967 2188.83 165.865 L2189.6 163.921 L2179.11 138.412 L2183.62 138.412 L2191.72 158.689 L2199.83 138.412 L2204.34 138.412 L2192.95 166.745 Z\" fill=\"#000000\" fill-rule=\"evenodd\" fill-opacity=\"1\" /><path clip-path=\"url(#clip020)\" d=\"M2211.63 160.402 L2219.27 160.402 L2219.27 134.037 L2210.96 135.703 L2210.96 131.444 L2219.22 129.778 L2223.9 129.778 L2223.9 160.402 L2231.54 160.402 L2231.54 164.338 L2211.63 164.338 L2211.63 160.402 Z\" fill=\"#000000\" fill-rule=\"evenodd\" fill-opacity=\"1\" /><polyline clip-path=\"url(#clip020)\" style=\"stroke:#e26f46; stroke-linecap:butt; stroke-linejoin:round; stroke-width:4; stroke-opacity:1; fill:none\" points=\"\n",
       "  2009.41,198.898 2154.87,198.898 \n",
       "  \"/>\n",
       "<path clip-path=\"url(#clip020)\" d=\"M2192.95 218.585 Q2191.15 223.215 2189.43 224.627 Q2187.72 226.039 2184.85 226.039 L2181.45 226.039 L2181.45 222.474 L2183.95 222.474 Q2185.71 222.474 2186.68 221.64 Q2187.65 220.807 2188.83 217.705 L2189.6 215.761 L2179.11 190.252 L2183.62 190.252 L2191.72 210.529 L2199.83 190.252 L2204.34 190.252 L2192.95 218.585 Z\" fill=\"#000000\" fill-rule=\"evenodd\" fill-opacity=\"1\" /><path clip-path=\"url(#clip020)\" d=\"M2214.85 212.242 L2231.17 212.242 L2231.17 216.178 L2209.22 216.178 L2209.22 212.242 Q2211.89 209.488 2216.47 204.858 Q2221.08 200.205 2222.26 198.863 Q2224.5 196.34 2225.38 194.604 Q2226.28 192.844 2226.28 191.155 Q2226.28 188.4 2224.34 186.664 Q2222.42 184.928 2219.32 184.928 Q2217.12 184.928 2214.66 185.692 Q2212.23 186.455 2209.46 188.006 L2209.46 183.284 Q2212.28 182.15 2214.73 181.571 Q2217.19 180.993 2219.22 180.993 Q2224.59 180.993 2227.79 183.678 Q2230.98 186.363 2230.98 190.854 Q2230.98 192.983 2230.17 194.905 Q2229.39 196.803 2227.28 199.395 Q2226.7 200.067 2223.6 203.284 Q2220.5 206.479 2214.85 212.242 Z\" fill=\"#000000\" fill-rule=\"evenodd\" fill-opacity=\"1\" /></svg>\n"
      ]
     },
     "execution_count": 12,
     "metadata": {},
     "output_type": "execute_result"
    }
   ],
   "source": [
    "x=(0:100.0)\n",
    "\n",
    "plot(x,piecewise_linear.(x,Ref(cuts2)),lw=2)\n",
    "plot!(x,p3*(100 .-x).^2/200)"
   ]
  },
  {
   "cell_type": "markdown",
   "metadata": {
    "hideCode": false,
    "hidePrompt": false
   },
   "source": [
    "## Stochastic cutting plane v2"
   ]
  },
  {
   "cell_type": "code",
   "execution_count": 13,
   "metadata": {
    "hideCode": false,
    "hidePrompt": false
   },
   "outputs": [
    {
     "name": "stdout",
     "output_type": "stream",
     "text": [
      "x1:0.0, x2: 0.0\n",
      "x1:68.0, x2: 42.0\n",
      "x1:79.0, x2: 24.0\n",
      "x1:0.0, x2: 62.5\n",
      "x1:122.25, x2: 53.25\n",
      "x1:158.6, x2: 106.6\n",
      "x1:61.66666666666673, x2: 19.66666666666673\n",
      "x1:95.31578947368422, x2: 86.31578947368422\n",
      "x1:109.31372549019608, x2: 109.31372549019608\n",
      "x1:124.20833333333341, x2: 93.20833333333341\n",
      "x1:91.18115942028979, x2: 30.181159420289788\n",
      "x1:99.72222222222211, x2: 51.0\n",
      "x1:118.98594377510037, x2: 27.985943775100367\n",
      "x1:140.4705882352941, x2: 66.47058823529409\n",
      "x1:129.14532871972312, x2: 96.14532871972312\n",
      "x1:112.39726027397248, x2: 47.166666666666664\n",
      "x1:125.05935534591195, x2: 63.4\n",
      "x1:146.21328903654492, x2: 93.21328903654492\n",
      "x1:136.86761565836304, x2: 98.86761565836304\n",
      "x1:134.37959183673502, x2: 92.37959183673502\n",
      "x1:134.37959183673507, x2: 81.37959183673507\n",
      "x1:0.0, x2: 0.0\n",
      "x1:87.58830769230767, x2: 36.588307692307666\n",
      "x1:105.70402700747536, x2: 58.999999999999986\n",
      "x1:119.63558620689658, x2: 106.63558620689658\n",
      "x1:130.21791044776117, x2: 68.21791044776117\n",
      "x1:123.41652021089655, x2: 85.41652021089655\n",
      "x1:126.36647009267062, x2: 47.366470092670625\n",
      "x1:138.69178547182636, x2: 110.69178547182636\n",
      "x1:108.07054263565907, x2: 69.77777777777777\n",
      "x1:125.27328541479486, x2: 36.273285414794856\n"
     ]
    },
    {
     "name": "stderr",
     "output_type": "stream",
     "text": [
      "\r",
      "\u001b[32mProgress:  10%|████▎                                    |  ETA: 0:00:10\u001b[39m"
     ]
    },
    {
     "name": "stdout",
     "output_type": "stream",
     "text": [
      "x1:137.35527544351075, x2: 42.35527544351075\n",
      "x1:123.10089020771498, x2: 45.0\n",
      "x1:135.1212653778558, x2: 125.12126537785579\n",
      "x1:132.0168361978252, x2: 85.0168361978252\n",
      "x1:132.01683619782523, x2: 122.01683619782523\n",
      "x1:132.01683619782517, x2: 78.01683619782517\n",
      "x1:132.01683619782509, x2: 126.01683619782509\n",
      "x1:132.0168361978251, x2: 104.01683619782511\n",
      "x1:132.0168361978252, x2: 77.0168361978252\n",
      "x1:132.01683619782514, x2: 90.01683619782514\n",
      "x1:71.96517541591265, x2: 40.5\n",
      "x1:99.85507491746378, x2: 57.92857142857143\n",
      "x1:116.8286403357661, x2: 39.39999999999997\n",
      "x1:134.16799722318626, x2: 132.16799722318626\n",
      "x1:125.94913454390982, x2: 44.99999999999999\n",
      "x1:135.90537306939316, x2: 53.905373069393164\n",
      "x1:110.74589813097462, x2: 104.74589813097462\n",
      "x1:124.85427498555745, x2: 100.85427498555745\n",
      "x1:129.93766528145156, x2: 90.93766528145156\n",
      "x1:129.9376652814514, x2: 55.93766528145139\n",
      "x1:127.3804692454029, x2: 76.3804692454029\n",
      "x1:136.1953097654886, x2: 114.19530976548859\n",
      "x1:128.50277492291877, x2: 106.50277492291877\n",
      "x1:117.89563846558042, x2: 94.89563846558042\n",
      "x1:117.89563846558036, x2: 46.89563846558036\n",
      "x1:119.71030797356278, x2: 66.64285714285712\n",
      "x1:134.27981167872954, x2: 127.27981167872954\n"
     ]
    },
    {
     "name": "stderr",
     "output_type": "stream",
     "text": [
      "\r",
      "\u001b[32mProgress:  19%|███████▉                                 |  ETA: 0:00:16\u001b[39m"
     ]
    },
    {
     "name": "stdout",
     "output_type": "stream",
     "text": [
      "x1:125.18066378066374, x2: 96.18066378066374\n",
      "x1:126.46522195036671, x2: 100.46522195036671\n",
      "x1:126.46522195036668, x2: 87.46522195036668\n",
      "x1:126.46522195036663, x2: 60.465221950366626\n",
      "x1:126.46522195036682, x2: 106.46522195036682\n",
      "x1:126.46522195036687, x2: 122.46522195036687\n",
      "x1:126.46522195036694, x2: 60.46522195036694\n",
      "x1:122.2178805876834, x2: 82.2178805876834\n",
      "x1:127.42743382682843, x2: 86.42743382682843\n",
      "x1:125.77347531461707, x2: 60.77347531461707\n"
     ]
    },
    {
     "name": "stderr",
     "output_type": "stream",
     "text": [
      "\r",
      "\u001b[32mProgress:  23%|█████████▎                               |  ETA: 0:00:18\u001b[39m"
     ]
    },
    {
     "name": "stdout",
     "output_type": "stream",
     "text": [
      "x1:122.27473393772365, x2: 106.27473393772365\n",
      "x1:133.7092229484389, x2: 133.7092229484389\n",
      "x1:129.19335817727287, x2: 111.19335817727287\n",
      "x1:129.19335817727293, x2: 71.19335817727293\n",
      "x1:129.1933581772729, x2: 110.1933581772729\n",
      "x1:129.19335817727284, x2: 75.19335817727284\n",
      "x1:129.19335817727287, x2: 102.19335817727287\n"
     ]
    },
    {
     "name": "stderr",
     "output_type": "stream",
     "text": [
      "\r",
      "\u001b[32mProgress:  25%|██████████▎                              |  ETA: 0:00:20\u001b[39m"
     ]
    },
    {
     "name": "stdout",
     "output_type": "stream",
     "text": [
      "x1:0.0, x2: 0.0\n",
      "x1:80.48666372017975, x2: 32.511627906976706\n",
      "x1:101.43449750147697, x2: 51.95454545454539\n",
      "x1:114.26561304819617, x2: 68.91666666666663\n",
      "x1:131.71251450234465, x2: 130.71251450234465\n",
      "x1:122.79835934921638, x2: 76.79835934921638\n"
     ]
    },
    {
     "name": "stderr",
     "output_type": "stream",
     "text": [
      "\r",
      "\u001b[32mProgress:  27%|███████████▏                             |  ETA: 0:00:21\u001b[39m"
     ]
    },
    {
     "name": "stdout",
     "output_type": "stream",
     "text": [
      "x1:126.70086136613429, x2: 36.538461538461505\n",
      "x1:136.03653054209423, x2: 58.036530542094226\n",
      "x1:115.75516997167108, x2: 68.75516997167108\n",
      "x1:127.06851742198054, x2: 54.068517421980545\n",
      "x1:135.6901880599897, x2: 128.6901880599897\n"
     ]
    },
    {
     "name": "stderr",
     "output_type": "stream",
     "text": [
      "\r",
      "\u001b[32mProgress:  29%|███████████▊                             |  ETA: 0:00:22\u001b[39m"
     ]
    },
    {
     "name": "stdout",
     "output_type": "stream",
     "text": [
      "x1:131.64264859643947, x2: 42.538461538461554\n",
      "x1:122.52211474907647, x2: 96.52211474907647\n",
      "x1:126.01132767074292, x2: 117.01132767074292\n",
      "x1:126.01132767074284, x2: 91.01132767074284\n",
      "x1:126.01132767074289, x2: 75.01132767074289\n"
     ]
    },
    {
     "name": "stderr",
     "output_type": "stream",
     "text": [
      "\r",
      "\u001b[32mProgress:  30%|████████████▍                            |  ETA: 0:00:23\u001b[39m"
     ]
    },
    {
     "name": "stdout",
     "output_type": "stream",
     "text": [
      "x1:126.0113276707427, x2: 48.285714285714334\n",
      "x1:119.33429636317103, x2: 75.33429636317103\n",
      "x1:124.91469954934304, x2: 93.91469954934304\n",
      "x1:128.76376684683402, x2: 55.76376684683402\n"
     ]
    },
    {
     "name": "stderr",
     "output_type": "stream",
     "text": [
      "\r",
      "\u001b[32mProgress:  32%|█████████████                            |  ETA: 0:00:24\u001b[39m"
     ]
    },
    {
     "name": "stdout",
     "output_type": "stream",
     "text": [
      "x1:123.30147204566684, x2: 107.30147204566684\n",
      "x1:124.48869271621024, x2: 39.48869271621024\n",
      "x1:129.27004923641755, x2: 57.27004923641755\n",
      "x1:120.57086445155271, x2: 62.57086445155271\n"
     ]
    },
    {
     "name": "stderr",
     "output_type": "stream",
     "text": [
      "\r",
      "\u001b[32mProgress:  33%|█████████████▌                           |  ETA: 0:00:24\u001b[39m"
     ]
    },
    {
     "name": "stdout",
     "output_type": "stream",
     "text": [
      "x1:126.8488929342532, x2: 48.38461538461535\n",
      "x1:119.87385549589271, x2: 98.87385549589271\n",
      "x1:124.0466943463311, x2: 122.0466943463311\n",
      "x1:124.04669434633098, x2: 93.04669434633098\n"
     ]
    },
    {
     "name": "stderr",
     "output_type": "stream",
     "text": [
      "\r",
      "\u001b[32mProgress:  34%|██████████████▏                          |  ETA: 0:00:25\u001b[39m"
     ]
    },
    {
     "name": "stdout",
     "output_type": "stream",
     "text": [
      "x1:124.046694346331, x2: 63.046694346330995\n",
      "x1:124.04669434633107, x2: 43.50000000000015\n",
      "x1:127.82123944468182, x2: 81.82123944468182\n",
      "x1:125.45621990992161, x2: 94.45621990992161\n"
     ]
    },
    {
     "name": "stderr",
     "output_type": "stream",
     "text": [
      "\r",
      "\u001b[32mProgress:  36%|██████████████▋                          |  ETA: 0:00:26\u001b[39m"
     ]
    },
    {
     "name": "stdout",
     "output_type": "stream",
     "text": [
      "x1:124.08469135802048, x2: 53.200000000000024\n",
      "x1:127.55206980676515, x2: 37.66666666666661\n",
      "x1:108.72825984453398, x2: 45.64705882352941\n",
      "x1:119.3732865709962, x2: 75.3732865709962\n"
     ]
    },
    {
     "name": "stderr",
     "output_type": "stream",
     "text": [
      "\r",
      "\u001b[32mProgress:  37%|███████████████▏                         |  ETA: 0:00:26\u001b[39m"
     ]
    },
    {
     "name": "stdout",
     "output_type": "stream",
     "text": [
      "x1:126.91924199693266, x2: 54.444444444444294\n",
      "x1:119.28471677444517, x2: 59.28471677444517\n",
      "x1:124.98427999006427, x2: 86.98427999006427\n",
      "x1:129.6844000814107, x2: 83.6844000814107\n"
     ]
    },
    {
     "name": "stderr",
     "output_type": "stream",
     "text": [
      "\r",
      "\u001b[32mProgress:  38%|███████████████▊                         |  ETA: 0:00:27\u001b[39m"
     ]
    },
    {
     "name": "stdout",
     "output_type": "stream",
     "text": [
      "x1:127.7910016816325, x2: 126.7910016816325\n",
      "x1:127.79100168163261, x2: 63.79100168163261\n",
      "x1:127.79100168163285, x2: 49.999999999999964\n"
     ]
    },
    {
     "name": "stderr",
     "output_type": "stream",
     "text": [
      "\r",
      "\u001b[32mProgress:  39%|████████████████▏                        |  ETA: 0:00:28\u001b[39m"
     ]
    },
    {
     "name": "stdout",
     "output_type": "stream",
     "text": [
      "x1:119.55374334379513, x2: 42.553743343795134\n",
      "x1:127.52732082225602, x2: 54.49999999999995\n",
      "x1:120.22685855527708, x2: 94.22685855527708\n"
     ]
    },
    {
     "name": "stderr",
     "output_type": "stream",
     "text": [
      "\r",
      "\u001b[32mProgress:  40%|████████████████▌                        |  ETA: 0:00:28\u001b[39m"
     ]
    },
    {
     "name": "stdout",
     "output_type": "stream",
     "text": [
      "x1:124.79048717804453, x2: 49.33333333333326\n",
      "x1:133.3419312064061, x2: 63.34193120640609\n",
      "x1:124.55059483146827, x2: 68.55059483146827\n"
     ]
    },
    {
     "name": "stderr",
     "output_type": "stream",
     "text": [
      "\r",
      "\u001b[32mProgress:  41%|█████████████████                        |  ETA: 0:00:28\u001b[39m"
     ]
    },
    {
     "name": "stdout",
     "output_type": "stream",
     "text": [
      "x1:129.83197886893268, x2: 117.83197886893268\n",
      "x1:128.38939105357602, x2: 97.38939105357602\n",
      "x1:128.38939105357608, x2: 55.38939105357608\n"
     ]
    },
    {
     "name": "stderr",
     "output_type": "stream",
     "text": [
      "\r",
      "\u001b[32mProgress:  42%|█████████████████▍                       |  ETA: 0:00:29\u001b[39m"
     ]
    },
    {
     "name": "stdout",
     "output_type": "stream",
     "text": [
      "x1:128.389391053576, x2: 30.38939105357599\n",
      "x1:116.02830487033381, x2: 87.02830487033381\n",
      "x1:122.35121318353711, x2: 120.35121318353711\n"
     ]
    },
    {
     "name": "stderr",
     "output_type": "stream",
     "text": [
      "\r",
      "\u001b[32mProgress:  43%|█████████████████▊                       |  ETA: 0:00:29\u001b[39m"
     ]
    },
    {
     "name": "stdout",
     "output_type": "stream",
     "text": [
      "x1:125.15901988881001, x2: 108.15901988881001\n",
      "x1:125.15901988881005, x2: 43.26666666666667\n",
      "x1:130.34653252099767, x2: 107.34653252099767\n"
     ]
    },
    {
     "name": "stderr",
     "output_type": "stream",
     "text": [
      "\r",
      "\u001b[32mProgress:  44%|██████████████████▏                      |  ETA: 0:00:30\u001b[39m"
     ]
    },
    {
     "name": "stdout",
     "output_type": "stream",
     "text": [
      "x1:122.38571413419356, x2: 54.12500000000002\n",
      "x1:127.60959624181915, x2: 49.69999999999996\n",
      "x1:137.1115112241722, x2: 87.1115112241722\n"
     ]
    },
    {
     "name": "stderr",
     "output_type": "stream",
     "text": [
      "\r",
      "\u001b[32mProgress:  45%|██████████████████▋                      |  ETA: 0:00:30\u001b[39m"
     ]
    },
    {
     "name": "stdout",
     "output_type": "stream",
     "text": [
      "x1:116.14039463388741, x2: 54.33333333333326\n",
      "x1:122.95257589984371, x2: 91.95257589984371\n",
      "x1:126.4238406973164, x2: 71.4238406973164\n"
     ]
    },
    {
     "name": "stderr",
     "output_type": "stream",
     "text": [
      "\r",
      "\u001b[32mProgress:  46%|███████████████████                      |  ETA: 0:00:30\u001b[39m"
     ]
    },
    {
     "name": "stdout",
     "output_type": "stream",
     "text": [
      "x1:126.99131240986402, x2: 121.99131240986402\n",
      "x1:125.12804944516115, x2: 124.12804944516115\n",
      "x1:125.12804944516077, x2: 59.12804944516077\n"
     ]
    },
    {
     "name": "stderr",
     "output_type": "stream",
     "text": [
      "\r",
      "\u001b[32mProgress:  47%|███████████████████▍                     |  ETA: 0:00:30\u001b[39m"
     ]
    },
    {
     "name": "stdout",
     "output_type": "stream",
     "text": [
      "x1:125.12804944516068, x2: 96.12804944516068\n",
      "x1:120.96135516974672, x2: 50.961355169746724\n",
      "x1:124.90068130538225, x2: 107.90068130538225\n"
     ]
    },
    {
     "name": "stderr",
     "output_type": "stream",
     "text": [
      "\r",
      "\u001b[32mProgress:  48%|███████████████████▉                     |  ETA: 0:00:31\u001b[39m"
     ]
    },
    {
     "name": "stdout",
     "output_type": "stream",
     "text": [
      "x1:133.5747286265356, x2: 117.5747286265356\n",
      "x1:129.96913931055087, x2: 72.96913931055087\n",
      "x1:129.34065172726727, x2: 29.34065172726727\n"
     ]
    },
    {
     "name": "stderr",
     "output_type": "stream",
     "text": [
      "\r",
      "\u001b[32mProgress:  49%|████████████████████▎                    |  ETA: 0:00:31\u001b[39m"
     ]
    },
    {
     "name": "stdout",
     "output_type": "stream",
     "text": [
      "x1:121.51829739712815, x2: 81.51829739712815\n",
      "x1:124.95382557027136, x2: 50.95382557027136\n",
      "x1:128.3548746557041, x2: 107.3548746557041\n"
     ]
    },
    {
     "name": "stderr",
     "output_type": "stream",
     "text": [
      "\r",
      "\u001b[32mProgress:  50%|████████████████████▋                    |  ETA: 0:00:31\u001b[39m"
     ]
    },
    {
     "name": "stdout",
     "output_type": "stream",
     "text": [
      "x1:122.7980781039158, x2: 48.7980781039158\n",
      "x1:127.05424478670788, x2: 54.05424478670788\n",
      "x1:120.92575896122862, x2: 62.925758961228624\n"
     ]
    },
    {
     "name": "stderr",
     "output_type": "stream",
     "text": [
      "\r",
      "\u001b[32mProgress:  51%|█████████████████████                    |  ETA: 0:00:31\u001b[39m"
     ]
    },
    {
     "name": "stdout",
     "output_type": "stream",
     "text": [
      "x1:123.95083788414185, x2: 93.95083788414185\n",
      "x1:123.95083788414185, x2: 96.95083788414185\n"
     ]
    },
    {
     "name": "stderr",
     "output_type": "stream",
     "text": [
      "\r",
      "\u001b[32mProgress:  52%|█████████████████████▍                   |  ETA: 0:00:32\u001b[39m"
     ]
    },
    {
     "name": "stdout",
     "output_type": "stream",
     "text": [
      "x1:123.95083788414186, x2: 70.95083788414186\n",
      "x1:123.95083788414213, x2: 122.95083788414213\n"
     ]
    },
    {
     "name": "stderr",
     "output_type": "stream",
     "text": [
      "\r",
      "\u001b[32mProgress:  53%|█████████████████████▋                   |  ETA: 0:00:32\u001b[39m"
     ]
    },
    {
     "name": "stdout",
     "output_type": "stream",
     "text": [
      "x1:123.95083788414199, x2: 68.95083788414199\n",
      "x1:123.95083788414213, x2: 62.95083788414213\n"
     ]
    },
    {
     "name": "stderr",
     "output_type": "stream",
     "text": [
      "\r",
      "\u001b[32mProgress:  53%|█████████████████████▉                   |  ETA: 0:00:32\u001b[39m"
     ]
    },
    {
     "name": "stdout",
     "output_type": "stream",
     "text": [
      "x1:123.950837884142, x2: 71.950837884142\n",
      "x1:123.95083788414172, x2: 114.95083788414172\n"
     ]
    },
    {
     "name": "stderr",
     "output_type": "stream",
     "text": [
      "\r",
      "\u001b[32mProgress:  54%|██████████████████████▏                  |  ETA: 0:00:32\u001b[39m"
     ]
    },
    {
     "name": "stdout",
     "output_type": "stream",
     "text": [
      "x1:123.95083788414182, x2: 120.95083788414182\n",
      "x1:123.95083788414176, x2: 67.95083788414176\n"
     ]
    },
    {
     "name": "stderr",
     "output_type": "stream",
     "text": [
      "\r",
      "\u001b[32mProgress:  55%|██████████████████████▍                  |  ETA: 0:00:32\u001b[39m"
     ]
    },
    {
     "name": "stdout",
     "output_type": "stream",
     "text": [
      "x1:123.9508378841417, x2: 44.950837884141706\n",
      "x1:123.95083788414175, x2: 56.57692307692313\n"
     ]
    },
    {
     "name": "stderr",
     "output_type": "stream",
     "text": [
      "\r",
      "\u001b[32mProgress:  55%|██████████████████████▋                  |  ETA: 0:00:32\u001b[39m"
     ]
    },
    {
     "name": "stdout",
     "output_type": "stream",
     "text": [
      "x1:134.3106398165763, x2: 103.3106398165763\n",
      "x1:128.6686609720221, x2: 91.66866097202211\n"
     ]
    },
    {
     "name": "stderr",
     "output_type": "stream",
     "text": [
      "\r",
      "\u001b[32mProgress:  56%|███████████████████████                  |  ETA: 0:00:32\u001b[39m"
     ]
    },
    {
     "name": "stdout",
     "output_type": "stream",
     "text": [
      "x1:126.05647262628983, x2: 51.07692307692325\n",
      "x1:115.74573009756091, x2: 52.74573009756091\n"
     ]
    },
    {
     "name": "stderr",
     "output_type": "stream",
     "text": [
      "\r",
      "\u001b[32mProgress:  57%|███████████████████████▎                 |  ETA: 0:00:32\u001b[39m"
     ]
    },
    {
     "name": "stdout",
     "output_type": "stream",
     "text": [
      "x1:121.5356574299352, x2: 72.5356574299352\n",
      "x1:125.11924607396618, x2: 45.57142857142854\n"
     ]
    },
    {
     "name": "stderr",
     "output_type": "stream",
     "text": [
      "\r",
      "\u001b[32mProgress:  57%|███████████████████████▌                 |  ETA: 0:00:32\u001b[39m"
     ]
    },
    {
     "name": "stdout",
     "output_type": "stream",
     "text": [
      "x1:132.89796947556107, x2: 132.89796947556107\n",
      "x1:129.34887336915378, x2: 59.34887336915378\n"
     ]
    },
    {
     "name": "stderr",
     "output_type": "stream",
     "text": [
      "\r",
      "\u001b[32mProgress:  58%|███████████████████████▊                 |  ETA: 0:00:32\u001b[39m"
     ]
    },
    {
     "name": "stdout",
     "output_type": "stream",
     "text": [
      "x1:117.44083801612017, x2: 102.44083801612017\n",
      "x1:121.38877209875255, x2: 49.89999999999989\n"
     ]
    },
    {
     "name": "stderr",
     "output_type": "stream",
     "text": [
      "\r",
      "\u001b[32mProgress:  59%|████████████████████████                 |  ETA: 0:00:32\u001b[39m"
     ]
    },
    {
     "name": "stdout",
     "output_type": "stream",
     "text": [
      "x1:126.5639657122573, x2: 55.5639657122573\n",
      "x1:120.54609607879084, x2: 67.54609607879084\n"
     ]
    },
    {
     "name": "stderr",
     "output_type": "stream",
     "text": [
      "\r",
      "\u001b[32mProgress:  59%|████████████████████████▍                |  ETA: 0:00:32\u001b[39m"
     ]
    },
    {
     "name": "stdout",
     "output_type": "stream",
     "text": [
      "x1:123.87995703626773, x2: 92.87995703626773\n",
      "x1:124.46590706253751, x2: 99.46590706253751\n"
     ]
    },
    {
     "name": "stderr",
     "output_type": "stream",
     "text": [
      "\r",
      "\u001b[32mProgress:  60%|████████████████████████▋                |  ETA: 0:00:32\u001b[39m"
     ]
    },
    {
     "name": "stdout",
     "output_type": "stream",
     "text": [
      "x1:124.46590706253802, x2: 41.40000000000001\n",
      "x1:122.13117749660857, x2: 52.13117749660857\n"
     ]
    },
    {
     "name": "stderr",
     "output_type": "stream",
     "text": [
      "\r",
      "\u001b[32mProgress:  61%|████████████████████████▉                |  ETA: 0:00:32\u001b[39m"
     ]
    },
    {
     "name": "stdout",
     "output_type": "stream",
     "text": [
      "x1:127.51145497563756, x2: 99.51145497563756\n",
      "x1:124.64331992581543, x2: 47.14285714285726\n"
     ]
    },
    {
     "name": "stderr",
     "output_type": "stream",
     "text": [
      "\r",
      "\u001b[32mProgress:  61%|█████████████████████████▏               |  ETA: 0:00:32\u001b[39m"
     ]
    },
    {
     "name": "stdout",
     "output_type": "stream",
     "text": [
      "x1:130.23956287711144, x2: 53.888888888888964\n",
      "x1:123.78589176504306, x2: 52.78589176504306\n"
     ]
    },
    {
     "name": "stderr",
     "output_type": "stream",
     "text": [
      "\r",
      "\u001b[32mProgress:  62%|█████████████████████████▍               |  ETA: 0:00:32\u001b[39m"
     ]
    },
    {
     "name": "stdout",
     "output_type": "stream",
     "text": [
      "x1:128.31200768307605, x2: 58.31200768307605\n",
      "x1:123.46222530218424, x2: 35.00000000000074\n"
     ]
    },
    {
     "name": "stderr",
     "output_type": "stream",
     "text": [
      "\r",
      "\u001b[32mProgress:  63%|█████████████████████████▊               |  ETA: 0:00:32\u001b[39m"
     ]
    },
    {
     "name": "stdout",
     "output_type": "stream",
     "text": [
      "x1:129.96136839400893, x2: 89.96136839400893\n",
      "x1:127.39619387379244, x2: 67.39619387379244\n"
     ]
    },
    {
     "name": "stderr",
     "output_type": "stream",
     "text": [
      "\r",
      "\u001b[32mProgress:  63%|██████████████████████████               |  ETA: 0:00:32\u001b[39m"
     ]
    },
    {
     "name": "stdout",
     "output_type": "stream",
     "text": [
      "x1:126.36451445129511, x2: 88.36451445129511\n",
      "x1:126.31128609717193, x2: 115.31128609717193\n"
     ]
    },
    {
     "name": "stderr",
     "output_type": "stream",
     "text": [
      "\r",
      "\u001b[32mProgress:  64%|██████████████████████████▎              |  ETA: 0:00:32\u001b[39m"
     ]
    },
    {
     "name": "stdout",
     "output_type": "stream",
     "text": [
      "x1:126.31128609717194, x2: 97.31128609717194\n",
      "x1:126.31128609717223, x2: 103.31128609717223\n"
     ]
    },
    {
     "name": "stderr",
     "output_type": "stream",
     "text": [
      "\r",
      "\u001b[32mProgress:  65%|██████████████████████████▌              |  ETA: 0:00:32\u001b[39m"
     ]
    },
    {
     "name": "stdout",
     "output_type": "stream",
     "text": [
      "x1:126.31128609717238, x2: 124.31128609717238\n",
      "x1:126.31128609717209, x2: 48.311286097172086\n"
     ]
    },
    {
     "name": "stderr",
     "output_type": "stream",
     "text": [
      "\r",
      "\u001b[32mProgress:  65%|██████████████████████████▊              |  ETA: 0:00:32\u001b[39m"
     ]
    },
    {
     "name": "stdout",
     "output_type": "stream",
     "text": [
      "x1:126.31128609717237, x2: 112.31128609717237\n",
      "x1:126.31128609717203, x2: 87.31128609717203\n"
     ]
    },
    {
     "name": "stderr",
     "output_type": "stream",
     "text": [
      "\r",
      "\u001b[32mProgress:  66%|███████████████████████████              |  ETA: 0:00:32\u001b[39m"
     ]
    },
    {
     "name": "stdout",
     "output_type": "stream",
     "text": [
      "x1:126.311286097172, x2: 103.311286097172\n",
      "x1:26.8051902507536, x2: 38.19047619047605\n"
     ]
    },
    {
     "name": "stderr",
     "output_type": "stream",
     "text": [
      "\r",
      "\u001b[32mProgress:  67%|███████████████████████████▍             |  ETA: 0:00:31\u001b[39m"
     ]
    },
    {
     "name": "stdout",
     "output_type": "stream",
     "text": [
      "x1:95.8938578293455, x2: 44.89473684210528\n",
      "x1:110.28918909645637, x2: 58.28918909645637\n"
     ]
    },
    {
     "name": "stderr",
     "output_type": "stream",
     "text": [
      "\r",
      "\u001b[32mProgress:  67%|███████████████████████████▋             |  ETA: 0:00:31\u001b[39m"
     ]
    },
    {
     "name": "stdout",
     "output_type": "stream",
     "text": [
      "x1:119.09084230377084, x2: 108.09084230377084\n",
      "x1:124.79368184390842, x2: 52.33333333333329\n"
     ]
    },
    {
     "name": "stderr",
     "output_type": "stream",
     "text": [
      "\r",
      "\u001b[32mProgress:  68%|███████████████████████████▉             |  ETA: 0:00:31\u001b[39m"
     ]
    },
    {
     "name": "stdout",
     "output_type": "stream",
     "text": [
      "x1:118.6192217358068, x2: 107.6192217358068\n",
      "x1:121.71879781462218, x2: 41.71879781462218\n"
     ]
    },
    {
     "name": "stderr",
     "output_type": "stream",
     "text": [
      "\r",
      "\u001b[32mProgress:  69%|████████████████████████████▏            |  ETA: 0:00:31\u001b[39m"
     ]
    },
    {
     "name": "stdout",
     "output_type": "stream",
     "text": [
      "x1:126.55025614116289, x2: 123.55025614116289\n",
      "x1:123.9972858641513, x2: 77.9972858641513\n"
     ]
    },
    {
     "name": "stderr",
     "output_type": "stream",
     "text": [
      "\r",
      "\u001b[32mProgress:  69%|████████████████████████████▍            |  ETA: 0:00:31\u001b[39m"
     ]
    },
    {
     "name": "stdout",
     "output_type": "stream",
     "text": [
      "x1:123.99728586415094, x2: 64.99728586415094\n",
      "x1:121.50596864498276, x2: 83.50596864498276\n"
     ]
    },
    {
     "name": "stderr",
     "output_type": "stream",
     "text": [
      "\r",
      "\u001b[32mProgress:  70%|████████████████████████████▊            |  ETA: 0:00:30\u001b[39m"
     ]
    },
    {
     "name": "stdout",
     "output_type": "stream",
     "text": [
      "x1:123.89248474822779, x2: 67.89248474822779\n",
      "x1:126.28508026716835, x2: 47.470588235294066\n"
     ]
    },
    {
     "name": "stderr",
     "output_type": "stream",
     "text": [
      "\r",
      "\u001b[32mProgress:  71%|█████████████████████████████            |  ETA: 0:00:30\u001b[39m"
     ]
    },
    {
     "name": "stdout",
     "output_type": "stream",
     "text": [
      "x1:119.60320755600787, x2: 77.60320755600787\n",
      "x1:126.60428580132181, x2: 109.60428580132181\n"
     ]
    },
    {
     "name": "stderr",
     "output_type": "stream",
     "text": [
      "\r",
      "\u001b[32mProgress:  71%|█████████████████████████████▎           |  ETA: 0:00:30\u001b[39m"
     ]
    },
    {
     "name": "stdout",
     "output_type": "stream",
     "text": [
      "x1:123.89808838803808, x2: 114.89808838803808\n",
      "x1:123.89808838803799, x2: 118.89808838803799\n"
     ]
    },
    {
     "name": "stderr",
     "output_type": "stream",
     "text": [
      "\r",
      "\u001b[32mProgress:  72%|█████████████████████████████▌           |  ETA: 0:00:30\u001b[39m"
     ]
    },
    {
     "name": "stdout",
     "output_type": "stream",
     "text": [
      "x1:123.89808838803798, x2: 123.89808838803798\n",
      "x1:123.89808838803793, x2: 29.898088388037934\n"
     ]
    },
    {
     "name": "stderr",
     "output_type": "stream",
     "text": [
      "\r",
      "\u001b[32mProgress:  73%|█████████████████████████████▊           |  ETA: 0:00:29\u001b[39m"
     ]
    },
    {
     "name": "stdout",
     "output_type": "stream",
     "text": [
      "x1:123.89808838803788, x2: 60.89808838803788\n",
      "x1:122.64110515177511, x2: 116.64110515177511\n"
     ]
    },
    {
     "name": "stderr",
     "output_type": "stream",
     "text": [
      "\r",
      "\u001b[32mProgress:  73%|██████████████████████████████▏          |  ETA: 0:00:29\u001b[39m"
     ]
    },
    {
     "name": "stdout",
     "output_type": "stream",
     "text": [
      "x1:120.89142839235647, x2: 78.89142839235647\n",
      "x1:120.89142839235633, x2: 119.89142839235633\n"
     ]
    },
    {
     "name": "stderr",
     "output_type": "stream",
     "text": [
      "\r",
      "\u001b[32mProgress:  74%|██████████████████████████████▍          |  ETA: 0:00:29\u001b[39m"
     ]
    },
    {
     "name": "stdout",
     "output_type": "stream",
     "text": [
      "x1:120.89142839235625, x2: 41.648648648648624\n",
      "x1:124.23537615396259, x2: 97.23537615396259\n"
     ]
    },
    {
     "name": "stderr",
     "output_type": "stream",
     "text": [
      "\r",
      "\u001b[32mProgress:  75%|██████████████████████████████▋          |  ETA: 0:00:28\u001b[39m"
     ]
    },
    {
     "name": "stdout",
     "output_type": "stream",
     "text": [
      "x1:115.96099612632266, x2: 62.960996126322655\n",
      "x1:120.44840618400416, x2: 99.44840618400416\n"
     ]
    },
    {
     "name": "stderr",
     "output_type": "stream",
     "text": [
      "\r",
      "\u001b[32mProgress:  75%|██████████████████████████████▉          |  ETA: 0:00:28\u001b[39m"
     ]
    },
    {
     "name": "stdout",
     "output_type": "stream",
     "text": [
      "x1:122.08044380105845, x2: 99.08044380105845\n",
      "x1:122.08044380105827, x2: 52.50000000000006\n"
     ]
    },
    {
     "name": "stderr",
     "output_type": "stream",
     "text": [
      "\r",
      "\u001b[32mProgress:  76%|███████████████████████████████▏         |  ETA: 0:00:28\u001b[39m"
     ]
    },
    {
     "name": "stdout",
     "output_type": "stream",
     "text": [
      "x1:125.66738936010991, x2: 57.66738936010991\n",
      "x1:116.69766133629176, x2: 43.69766133629176\n"
     ]
    },
    {
     "name": "stderr",
     "output_type": "stream",
     "text": [
      "\r",
      "\u001b[32mProgress:  77%|███████████████████████████████▍         |  ETA: 0:00:27\u001b[39m"
     ]
    },
    {
     "name": "stdout",
     "output_type": "stream",
     "text": [
      "x1:122.2779016896634, x2: 54.277901689663395\n",
      "x1:127.99649360764964, x2: 104.99649360764964\n"
     ]
    },
    {
     "name": "stderr",
     "output_type": "stream",
     "text": [
      "\r",
      "\u001b[32mProgress:  77%|███████████████████████████████▊         |  ETA: 0:00:27\u001b[39m"
     ]
    },
    {
     "name": "stdout",
     "output_type": "stream",
     "text": [
      "x1:125.1519081647254, x2: 51.1519081647254\n",
      "x1:122.40464064836979, x2: 44.2727272727271\n"
     ]
    },
    {
     "name": "stderr",
     "output_type": "stream",
     "text": [
      "\r",
      "\u001b[32mProgress:  78%|████████████████████████████████         |  ETA: 0:00:26\u001b[39m"
     ]
    },
    {
     "name": "stdout",
     "output_type": "stream",
     "text": [
      "x1:128.26661246447827, x2: 82.26661246447827\n"
     ]
    },
    {
     "name": "stderr",
     "output_type": "stream",
     "text": [
      "\r",
      "\u001b[32mProgress:  78%|████████████████████████████████▏        |  ETA: 0:00:26\u001b[39m"
     ]
    },
    {
     "name": "stdout",
     "output_type": "stream",
     "text": [
      "x1:125.14297139932751, x2: 94.14297139932751\n"
     ]
    },
    {
     "name": "stderr",
     "output_type": "stream",
     "text": [
      "\r",
      "\u001b[32mProgress:  79%|████████████████████████████████▎        |  ETA: 0:00:26\u001b[39m"
     ]
    },
    {
     "name": "stdout",
     "output_type": "stream",
     "text": [
      "x1:124.12615756602237, x2: 109.12615756602237\n"
     ]
    },
    {
     "name": "stderr",
     "output_type": "stream",
     "text": [
      "\r",
      "\u001b[32mProgress:  79%|████████████████████████████████▍        |  ETA: 0:00:26\u001b[39m"
     ]
    },
    {
     "name": "stdout",
     "output_type": "stream",
     "text": [
      "x1:124.12615756602199, x2: 93.12615756602199\n"
     ]
    },
    {
     "name": "stderr",
     "output_type": "stream",
     "text": [
      "\r",
      "\u001b[32mProgress:  79%|████████████████████████████████▌        |  ETA: 0:00:25\u001b[39m"
     ]
    },
    {
     "name": "stdout",
     "output_type": "stream",
     "text": [
      "x1:124.126157566022, x2: 116.126157566022\n"
     ]
    },
    {
     "name": "stderr",
     "output_type": "stream",
     "text": [
      "\r",
      "\u001b[32mProgress:  80%|████████████████████████████████▋        |  ETA: 0:00:25\u001b[39m"
     ]
    },
    {
     "name": "stdout",
     "output_type": "stream",
     "text": [
      "x1:124.12615756602203, x2: 47.5833333333333\n"
     ]
    },
    {
     "name": "stderr",
     "output_type": "stream",
     "text": [
      "\r",
      "\u001b[32mProgress:  80%|████████████████████████████████▊        |  ETA: 0:00:25\u001b[39m"
     ]
    },
    {
     "name": "stdout",
     "output_type": "stream",
     "text": [
      "x1:124.12615756602202, x2: 101.12615756602202\n"
     ]
    },
    {
     "name": "stderr",
     "output_type": "stream",
     "text": [
      "\r",
      "\u001b[32mProgress:  80%|████████████████████████████████▉        |  ETA: 0:00:25\u001b[39m"
     ]
    },
    {
     "name": "stdout",
     "output_type": "stream",
     "text": [
      "x1:124.12615756602162, x2: 48.12615756602162\n"
     ]
    },
    {
     "name": "stderr",
     "output_type": "stream",
     "text": [
      "\r",
      "\u001b[32mProgress:  81%|█████████████████████████████████▏       |  ETA: 0:00:24\u001b[39m"
     ]
    },
    {
     "name": "stdout",
     "output_type": "stream",
     "text": [
      "x1:107.03465601665657, x2: 29.03465601665657\n"
     ]
    },
    {
     "name": "stderr",
     "output_type": "stream",
     "text": [
      "\r",
      "\u001b[32mProgress:  81%|█████████████████████████████████▎       |  ETA: 0:00:24\u001b[39m"
     ]
    },
    {
     "name": "stdout",
     "output_type": "stream",
     "text": [
      "x1:115.91006491867843, x2: 76.91006491867843\n"
     ]
    },
    {
     "name": "stderr",
     "output_type": "stream",
     "text": [
      "\r",
      "\u001b[32mProgress:  81%|█████████████████████████████████▍       |  ETA: 0:00:24\u001b[39m"
     ]
    },
    {
     "name": "stdout",
     "output_type": "stream",
     "text": [
      "x1:121.6248486260535, x2: 120.6248486260535\n"
     ]
    },
    {
     "name": "stderr",
     "output_type": "stream",
     "text": [
      "\r",
      "\u001b[32mProgress:  82%|█████████████████████████████████▌       |  ETA: 0:00:24\u001b[39m"
     ]
    },
    {
     "name": "stdout",
     "output_type": "stream",
     "text": [
      "x1:127.43059073649287, x2: 111.43059073649287\n"
     ]
    },
    {
     "name": "stderr",
     "output_type": "stream",
     "text": [
      "\r",
      "\u001b[32mProgress:  82%|█████████████████████████████████▋       |  ETA: 0:00:24\u001b[39m"
     ]
    },
    {
     "name": "stdout",
     "output_type": "stream",
     "text": [
      "x1:118.87148461366411, x2: 81.87148461366411\n"
     ]
    },
    {
     "name": "stderr",
     "output_type": "stream",
     "text": [
      "\r",
      "\u001b[32mProgress:  82%|█████████████████████████████████▊       |  ETA: 0:00:23\u001b[39m"
     ]
    },
    {
     "name": "stdout",
     "output_type": "stream",
     "text": [
      "x1:118.87148461366426, x2: 40.71428571428566\n"
     ]
    },
    {
     "name": "stderr",
     "output_type": "stream",
     "text": [
      "\r",
      "\u001b[32mProgress:  83%|█████████████████████████████████▉       |  ETA: 0:00:23\u001b[39m"
     ]
    },
    {
     "name": "stdout",
     "output_type": "stream",
     "text": [
      "x1:122.284221523766, x2: 100.284221523766\n"
     ]
    },
    {
     "name": "stderr",
     "output_type": "stream",
     "text": [
      "\r",
      "\u001b[32mProgress:  83%|██████████████████████████████████       |  ETA: 0:00:23\u001b[39m"
     ]
    },
    {
     "name": "stdout",
     "output_type": "stream",
     "text": [
      "x1:118.49757439656031, x2: 50.33333333333339\n"
     ]
    },
    {
     "name": "stderr",
     "output_type": "stream",
     "text": [
      "\r",
      "\u001b[32mProgress:  83%|██████████████████████████████████▏      |  ETA: 0:00:22\u001b[39m"
     ]
    },
    {
     "name": "stdout",
     "output_type": "stream",
     "text": [
      "x1:121.60633033259484, x2: 43.00000000000004\n"
     ]
    },
    {
     "name": "stderr",
     "output_type": "stream",
     "text": [
      "\r",
      "\u001b[32mProgress:  84%|██████████████████████████████████▎      |  ETA: 0:00:22\u001b[39m"
     ]
    },
    {
     "name": "stdout",
     "output_type": "stream",
     "text": [
      "x1:133.71099483123356, x2: 100.71099483123356\n"
     ]
    },
    {
     "name": "stderr",
     "output_type": "stream",
     "text": [
      "\r",
      "\u001b[32mProgress:  84%|██████████████████████████████████▌      |  ETA: 0:00:22\u001b[39m"
     ]
    },
    {
     "name": "stdout",
     "output_type": "stream",
     "text": [
      "x1:128.08025089334117, x2: 68.08025089334117\n"
     ]
    },
    {
     "name": "stderr",
     "output_type": "stream",
     "text": [
      "\r",
      "\u001b[32mProgress:  84%|██████████████████████████████████▋      |  ETA: 0:00:21\u001b[39m"
     ]
    },
    {
     "name": "stdout",
     "output_type": "stream",
     "text": [
      "x1:125.17562087878242, x2: 95.17562087878242\n"
     ]
    },
    {
     "name": "stderr",
     "output_type": "stream",
     "text": [
      "\r",
      "\u001b[32mProgress:  85%|██████████████████████████████████▊      |  ETA: 0:00:21\u001b[39m"
     ]
    },
    {
     "name": "stdout",
     "output_type": "stream",
     "text": [
      "x1:108.6373560997843, x2: 99.6373560997843\n"
     ]
    },
    {
     "name": "stderr",
     "output_type": "stream",
     "text": [
      "\r",
      "\u001b[32mProgress:  85%|██████████████████████████████████▉      |  ETA: 0:00:21\u001b[39m"
     ]
    },
    {
     "name": "stdout",
     "output_type": "stream",
     "text": [
      "x1:115.80172249770658, x2: 47.066666666666855\n"
     ]
    },
    {
     "name": "stderr",
     "output_type": "stream",
     "text": [
      "\r",
      "\u001b[32mProgress:  85%|███████████████████████████████████      |  ETA: 0:00:20\u001b[39m"
     ]
    },
    {
     "name": "stdout",
     "output_type": "stream",
     "text": [
      "x1:121.0945354225439, x2: 98.0945354225439\n"
     ]
    },
    {
     "name": "stderr",
     "output_type": "stream",
     "text": [
      "\r",
      "\u001b[32mProgress:  86%|███████████████████████████████████▏     |  ETA: 0:00:20\u001b[39m"
     ]
    },
    {
     "name": "stdout",
     "output_type": "stream",
     "text": [
      "x1:127.58073531004432, x2: 33.5000000000003\n"
     ]
    },
    {
     "name": "stderr",
     "output_type": "stream",
     "text": [
      "\r",
      "\u001b[32mProgress:  86%|███████████████████████████████████▎     |  ETA: 0:00:20\u001b[39m"
     ]
    },
    {
     "name": "stdout",
     "output_type": "stream",
     "text": [
      "x1:122.06941284624274, x2: 117.06941284624274\n"
     ]
    },
    {
     "name": "stderr",
     "output_type": "stream",
     "text": [
      "\r",
      "\u001b[32mProgress:  86%|███████████████████████████████████▍     |  ETA: 0:00:19\u001b[39m"
     ]
    },
    {
     "name": "stdout",
     "output_type": "stream",
     "text": [
      "x1:124.48062219140364, x2: 96.48062219140364\n"
     ]
    },
    {
     "name": "stderr",
     "output_type": "stream",
     "text": [
      "\r",
      "\u001b[32mProgress:  87%|███████████████████████████████████▌     |  ETA: 0:00:19\u001b[39m"
     ]
    },
    {
     "name": "stdout",
     "output_type": "stream",
     "text": [
      "x1:124.48062219140368, x2: 41.23684210526319\n"
     ]
    },
    {
     "name": "stderr",
     "output_type": "stream",
     "text": [
      "\r",
      "\u001b[32mProgress:  87%|███████████████████████████████████▋     |  ETA: 0:00:19\u001b[39m"
     ]
    },
    {
     "name": "stdout",
     "output_type": "stream",
     "text": [
      "x1:114.37264524399654, x2: 50.0\n"
     ]
    },
    {
     "name": "stderr",
     "output_type": "stream",
     "text": [
      "\r",
      "\u001b[32mProgress:  87%|███████████████████████████████████▊     |  ETA: 0:00:18\u001b[39m"
     ]
    },
    {
     "name": "stdout",
     "output_type": "stream",
     "text": [
      "x1:120.97949668104144, x2: 45.473684210526315\n"
     ]
    },
    {
     "name": "stderr",
     "output_type": "stream",
     "text": [
      "\r",
      "\u001b[32mProgress:  88%|████████████████████████████████████     |  ETA: 0:00:18\u001b[39m"
     ]
    },
    {
     "name": "stdout",
     "output_type": "stream",
     "text": [
      "x1:130.07120915168198, x2: 123.07120915168198\n"
     ]
    },
    {
     "name": "stderr",
     "output_type": "stream",
     "text": [
      "\r",
      "\u001b[32mProgress:  88%|████████████████████████████████████▏    |  ETA: 0:00:17\u001b[39m"
     ]
    },
    {
     "name": "stdout",
     "output_type": "stream",
     "text": [
      "x1:125.88473351525563, x2: 75.88473351525563\n"
     ]
    },
    {
     "name": "stderr",
     "output_type": "stream",
     "text": [
      "\r",
      "\u001b[32mProgress:  88%|████████████████████████████████████▎    |  ETA: 0:00:17\u001b[39m"
     ]
    },
    {
     "name": "stdout",
     "output_type": "stream",
     "text": [
      "x1:124.0457468418544, x2: 47.64285714285729\n"
     ]
    },
    {
     "name": "stderr",
     "output_type": "stream",
     "text": [
      "\r",
      "\u001b[32mProgress:  89%|████████████████████████████████████▍    |  ETA: 0:00:17\u001b[39m"
     ]
    },
    {
     "name": "stdout",
     "output_type": "stream",
     "text": [
      "x1:117.96823407164186, x2: 84.96823407164186\n"
     ]
    },
    {
     "name": "stderr",
     "output_type": "stream",
     "text": [
      "\r",
      "\u001b[32mProgress:  89%|████████████████████████████████████▌    |  ETA: 0:00:16\u001b[39m"
     ]
    },
    {
     "name": "stdout",
     "output_type": "stream",
     "text": [
      "x1:122.64287837045579, x2: 38.64287837045579\n"
     ]
    },
    {
     "name": "stderr",
     "output_type": "stream",
     "text": [
      "\r",
      "\u001b[32mProgress:  89%|████████████████████████████████████▋    |  ETA: 0:00:16\u001b[39m"
     ]
    },
    {
     "name": "stdout",
     "output_type": "stream",
     "text": [
      "x1:130.70106691079502, x2: 119.70106691079502\n"
     ]
    },
    {
     "name": "stderr",
     "output_type": "stream",
     "text": [
      "\r",
      "\u001b[32mProgress:  90%|████████████████████████████████████▊    |  ETA: 0:00:15\u001b[39m"
     ]
    },
    {
     "name": "stdout",
     "output_type": "stream",
     "text": [
      "x1:118.00620937984502, x2: 100.00620937984502\n"
     ]
    },
    {
     "name": "stderr",
     "output_type": "stream",
     "text": [
      "\r",
      "\u001b[32mProgress:  90%|████████████████████████████████████▉    |  ETA: 0:00:15\u001b[39m"
     ]
    },
    {
     "name": "stdout",
     "output_type": "stream",
     "text": [
      "x1:118.85287451081187, x2: 44.50000000000006\n"
     ]
    },
    {
     "name": "stderr",
     "output_type": "stream",
     "text": [
      "\r",
      "\u001b[32mProgress:  90%|█████████████████████████████████████    |  ETA: 0:00:14\u001b[39m"
     ]
    },
    {
     "name": "stdout",
     "output_type": "stream",
     "text": [
      "x1:121.25988438112657, x2: 56.38095238095239\n"
     ]
    },
    {
     "name": "stderr",
     "output_type": "stream",
     "text": [
      "\r",
      "\u001b[32mProgress:  91%|█████████████████████████████████████▏   |  ETA: 0:00:14\u001b[39m"
     ]
    },
    {
     "name": "stdout",
     "output_type": "stream",
     "text": [
      "x1:127.65727758589844, x2: 49.88888888888891\n"
     ]
    },
    {
     "name": "stderr",
     "output_type": "stream",
     "text": [
      "\r",
      "\u001b[32mProgress:  91%|█████████████████████████████████████▎   |  ETA: 0:00:14\u001b[39m"
     ]
    },
    {
     "name": "stdout",
     "output_type": "stream",
     "text": [
      "x1:116.6945540284537, x2: 101.6945540284537\n"
     ]
    },
    {
     "name": "stderr",
     "output_type": "stream",
     "text": [
      "\r",
      "\u001b[32mProgress:  91%|█████████████████████████████████████▌   |  ETA: 0:00:13\u001b[39m"
     ]
    },
    {
     "name": "stdout",
     "output_type": "stream",
     "text": [
      "x1:121.81644182179927, x2: 81.81644182179927\n"
     ]
    },
    {
     "name": "stderr",
     "output_type": "stream",
     "text": [
      "\r",
      "\u001b[32mProgress:  92%|█████████████████████████████████████▋   |  ETA: 0:00:13\u001b[39m"
     ]
    },
    {
     "name": "stdout",
     "output_type": "stream",
     "text": [
      "x1:124.33878471498362, x2: 47.33878471498362\n"
     ]
    },
    {
     "name": "stderr",
     "output_type": "stream",
     "text": [
      "\r",
      "\u001b[32mProgress:  92%|█████████████████████████████████████▊   |  ETA: 0:00:12\u001b[39m"
     ]
    },
    {
     "name": "stdout",
     "output_type": "stream",
     "text": [
      "x1:119.77302277438638, x2: 94.77302277438638\n"
     ]
    },
    {
     "name": "stderr",
     "output_type": "stream",
     "text": [
      "\r",
      "\u001b[32mProgress:  92%|█████████████████████████████████████▉   |  ETA: 0:00:12\u001b[39m"
     ]
    },
    {
     "name": "stdout",
     "output_type": "stream",
     "text": [
      "x1:122.35954173848555, x2: 41.66666666666665\n"
     ]
    },
    {
     "name": "stderr",
     "output_type": "stream",
     "text": [
      "\r",
      "\u001b[32mProgress:  93%|██████████████████████████████████████   |  ETA: 0:00:11\u001b[39m"
     ]
    },
    {
     "name": "stdout",
     "output_type": "stream",
     "text": [
      "x1:128.29066082538287, x2: 83.29066082538287\n"
     ]
    },
    {
     "name": "stderr",
     "output_type": "stream",
     "text": [
      "\r",
      "\u001b[32mProgress:  93%|██████████████████████████████████████▏  |  ETA: 0:00:11\u001b[39m"
     ]
    },
    {
     "name": "stdout",
     "output_type": "stream",
     "text": [
      "x1:125.63604519220088, x2: 121.63604519220088\n"
     ]
    },
    {
     "name": "stderr",
     "output_type": "stream",
     "text": [
      "\r",
      "\u001b[32mProgress:  93%|██████████████████████████████████████▎  |  ETA: 0:00:10\u001b[39m"
     ]
    },
    {
     "name": "stdout",
     "output_type": "stream",
     "text": [
      "x1:125.63604519220078, x2: 84.63604519220078\n"
     ]
    },
    {
     "name": "stderr",
     "output_type": "stream",
     "text": [
      "\r",
      "\u001b[32mProgress:  94%|██████████████████████████████████████▍  |  ETA: 0:00:10\u001b[39m"
     ]
    },
    {
     "name": "stdout",
     "output_type": "stream",
     "text": [
      "x1:125.63604519220077, x2: 47.31250000000014\n"
     ]
    },
    {
     "name": "stderr",
     "output_type": "stream",
     "text": [
      "\r",
      "\u001b[32mProgress:  94%|██████████████████████████████████████▌  |  ETA: 0:00:10\u001b[39m"
     ]
    },
    {
     "name": "stdout",
     "output_type": "stream",
     "text": [
      "x1:124.09409528709631, x2: 78.09409528709631\n"
     ]
    },
    {
     "name": "stderr",
     "output_type": "stream",
     "text": [
      "\r",
      "\u001b[32mProgress:  94%|██████████████████████████████████████▋  |  ETA: 0:00:09\u001b[39m"
     ]
    },
    {
     "name": "stdout",
     "output_type": "stream",
     "text": [
      "x1:114.88470449283712, x2: 57.884704492837116\n"
     ]
    },
    {
     "name": "stderr",
     "output_type": "stream",
     "text": [
      "\r",
      "\u001b[32mProgress:  95%|██████████████████████████████████████▉  |  ETA: 0:00:09\u001b[39m"
     ]
    },
    {
     "name": "stdout",
     "output_type": "stream",
     "text": [
      "x1:119.77392149350369, x2: 110.77392149350369\n"
     ]
    },
    {
     "name": "stderr",
     "output_type": "stream",
     "text": [
      "\r",
      "\u001b[32mProgress:  95%|███████████████████████████████████████  |  ETA: 0:00:08\u001b[39m"
     ]
    },
    {
     "name": "stdout",
     "output_type": "stream",
     "text": [
      "x1:121.66013081636963, x2: 112.66013081636963\n"
     ]
    },
    {
     "name": "stderr",
     "output_type": "stream",
     "text": [
      "\r",
      "\u001b[32mProgress:  95%|███████████████████████████████████████▏ |  ETA: 0:00:08\u001b[39m"
     ]
    },
    {
     "name": "stdout",
     "output_type": "stream",
     "text": [
      "x1:121.6601308163695, x2: 69.6601308163695\n"
     ]
    },
    {
     "name": "stderr",
     "output_type": "stream",
     "text": [
      "\r",
      "\u001b[32mProgress:  96%|███████████████████████████████████████▎ |  ETA: 0:00:07\u001b[39m"
     ]
    },
    {
     "name": "stdout",
     "output_type": "stream",
     "text": [
      "x1:121.6601308163697, x2: 66.6601308163697\n"
     ]
    },
    {
     "name": "stderr",
     "output_type": "stream",
     "text": [
      "\r",
      "\u001b[32mProgress:  96%|███████████████████████████████████████▍ |  ETA: 0:00:07\u001b[39m"
     ]
    },
    {
     "name": "stdout",
     "output_type": "stream",
     "text": [
      "x1:127.5953962082882, x2: 41.66666666666655\n"
     ]
    },
    {
     "name": "stderr",
     "output_type": "stream",
     "text": [
      "\r",
      "\u001b[32mProgress:  96%|███████████████████████████████████████▌ |  ETA: 0:00:06\u001b[39m"
     ]
    },
    {
     "name": "stdout",
     "output_type": "stream",
     "text": [
      "x1:122.38059026513002, x2: 53.92857142857142\n"
     ]
    },
    {
     "name": "stderr",
     "output_type": "stream",
     "text": [
      "\r",
      "\u001b[32mProgress:  97%|███████████████████████████████████████▋ |  ETA: 0:00:06\u001b[39m"
     ]
    },
    {
     "name": "stdout",
     "output_type": "stream",
     "text": [
      "x1:129.03164828925907, x2: 81.03164828925907\n"
     ]
    },
    {
     "name": "stderr",
     "output_type": "stream",
     "text": [
      "\r",
      "\u001b[32mProgress:  97%|███████████████████████████████████████▊ |  ETA: 0:00:05\u001b[39m"
     ]
    },
    {
     "name": "stdout",
     "output_type": "stream",
     "text": [
      "x1:121.42453908545231, x2: 47.689655172413815\n"
     ]
    },
    {
     "name": "stderr",
     "output_type": "stream",
     "text": [
      "\r",
      "\u001b[32mProgress:  97%|███████████████████████████████████████▉ |  ETA: 0:00:04\u001b[39m"
     ]
    },
    {
     "name": "stdout",
     "output_type": "stream",
     "text": [
      "x1:126.59242220906441, x2: 118.59242220906441\n"
     ]
    },
    {
     "name": "stderr",
     "output_type": "stream",
     "text": [
      "\r",
      "\u001b[32mProgress:  98%|████████████████████████████████████████ |  ETA: 0:00:04\u001b[39m"
     ]
    },
    {
     "name": "stdout",
     "output_type": "stream",
     "text": [
      "x1:122.11767015536067, x2: 52.41176470588226\n"
     ]
    },
    {
     "name": "stderr",
     "output_type": "stream",
     "text": [
      "\r",
      "\u001b[32mProgress:  98%|████████████████████████████████████████▏|  ETA: 0:00:03\u001b[39m"
     ]
    },
    {
     "name": "stdout",
     "output_type": "stream",
     "text": [
      "x1:125.58303234705707, x2: 106.58303234705707\n"
     ]
    },
    {
     "name": "stderr",
     "output_type": "stream",
     "text": [
      "\r",
      "\u001b[32mProgress:  98%|████████████████████████████████████████▍|  ETA: 0:00:03\u001b[39m"
     ]
    },
    {
     "name": "stdout",
     "output_type": "stream",
     "text": [
      "x1:124.09054798438615, x2: 58.09054798438615\n"
     ]
    },
    {
     "name": "stderr",
     "output_type": "stream",
     "text": [
      "\r",
      "\u001b[32mProgress:  99%|████████████████████████████████████████▌|  ETA: 0:00:02\u001b[39m"
     ]
    },
    {
     "name": "stdout",
     "output_type": "stream",
     "text": [
      "x1:121.96794004723674, x2: 86.96794004723674\n"
     ]
    },
    {
     "name": "stderr",
     "output_type": "stream",
     "text": [
      "\r",
      "\u001b[32mProgress:  99%|████████████████████████████████████████▋|  ETA: 0:00:02\u001b[39m"
     ]
    },
    {
     "name": "stdout",
     "output_type": "stream",
     "text": [
      "x1:121.96794004723604, x2: 49.96794004723604\n"
     ]
    },
    {
     "name": "stderr",
     "output_type": "stream",
     "text": [
      "\r",
      "\u001b[32mProgress:  99%|████████████████████████████████████████▊|  ETA: 0:00:01\u001b[39m"
     ]
    },
    {
     "name": "stdout",
     "output_type": "stream",
     "text": [
      "x1:123.68945378192004, x2: 44.79999999999989\n"
     ]
    },
    {
     "name": "stderr",
     "output_type": "stream",
     "text": [
      "\r",
      "\u001b[32mProgress: 100%|████████████████████████████████████████▉|  ETA: 0:00:01\u001b[39m"
     ]
    },
    {
     "name": "stdout",
     "output_type": "stream",
     "text": [
      "x1:131.30709274716745, x2: 86.30709274716745\n"
     ]
    },
    {
     "name": "stderr",
     "output_type": "stream",
     "text": [
      "\r",
      "\u001b[32mProgress: 100%|█████████████████████████████████████████| Time: 0:02:54\u001b[39m\n"
     ]
    }
   ],
   "source": [
    "#array de vectores de cuts. Arranca en la lower bound\n",
    "cuts1 = [[0.0;0.0]];\n",
    "cuts2 = [[0.0;0.0]];\n",
    "\n",
    "noises1 = Float64[]\n",
    "noises2 = Float64[]\n",
    "\n",
    "\n",
    "## Implemento SDDP a mano\n",
    "@showprogress 1 for i=1:300\n",
    "    \n",
    "    ## FORWARD PASS\n",
    "    #resuelvo el primer paso\n",
    "    model = JuMP.Model(optimizer_with_attributes(() -> Gurobi.Optimizer(gurobi_env), \"OutputFlag\" => 0))\n",
    "    @variable(model,u1>=0);\n",
    "    @variable(model,x1>=0);\n",
    "    @variable(model,z);\n",
    "\n",
    "    @constraint(model,x1==x0+u1)\n",
    "    \n",
    "    for i=1:length(cuts1)\n",
    "        cut=cuts1[i]\n",
    "        @constraint(model,z>=cut[1]+cut[2]*x1);\n",
    "    end\n",
    "\n",
    "    \n",
    "    @objective(model,Min,p1*u1+z);\n",
    "\n",
    "    optimize!(model)\n",
    "\n",
    "    global x1v = value.(x1);\n",
    "\n",
    "    #sorteo una demanda de primer paso\n",
    "    demand1 = rand(DiscreteUniform(0,100))\n",
    "    push!(noises1,demand1)\n",
    "    #resuelvo el segundo paso\n",
    "    model = JuMP.Model(optimizer_with_attributes(() -> Gurobi.Optimizer(gurobi_env), \"OutputFlag\" => 0))\n",
    "    @variable(model,u2>=0);\n",
    "    @variable(model,x2>=0);\n",
    "    @variable(model,z);\n",
    "\n",
    "    @constraint(model,x2==x1v-demand1+u2)\n",
    "    \n",
    "    for i=1:length(cuts2)\n",
    "        cut=cuts2[i]\n",
    "        @constraint(model,z>=cut[1]+cut[2]*x2);\n",
    "    end\n",
    "\n",
    "    @objective(model,Min,p2*u2+z);\n",
    "\n",
    "    optimize!(model)\n",
    "\n",
    "    global x2v = value.(x2);\n",
    "    \n",
    "    println(\"x1:$x1v, x2: $x2v\")\n",
    "    \n",
    "    ### BACKWARD PASS\n",
    "    \n",
    "    #sorteo la segunda demanda\n",
    "    demand2 = rand(DiscreteUniform(0,100))\n",
    "    push!(noises2,demand2)\n",
    "    \n",
    "    #resuelvo para todos los ruidos el ultimo paso y agrego un corte\n",
    "    local_cuts1 = [];\n",
    "    local_cuts2 = [];\n",
    "\n",
    "    for i=1:length(noises2)\n",
    "        \n",
    "        demand2 = noises2[i]\n",
    "        \n",
    "        model = JuMP.Model(optimizer_with_attributes(() -> Gurobi.Optimizer(gurobi_env), \"OutputFlag\" => 0))\n",
    "\n",
    "        @variable(model,u3>=0);\n",
    "        @variable(model,x2>=0);\n",
    "\n",
    "        @constraint(model,x2+u3-demand2>=0);\n",
    "        fix_x2 = @constraint(model,x2==x2v);\n",
    "\n",
    "        @objective(model,Min,p3*u3);\n",
    "\n",
    "        optimize!(model)\n",
    "\n",
    "        beta = objective_value(model);\n",
    "        lambda = dual(fix_x2)\n",
    "        #println(\"fix_x2=$lambda\")\n",
    "        push!(local_cuts2,[beta-lambda*x2v;lambda])\n",
    "    \n",
    "        \n",
    "        #resuelvo para todos los ruidos el segundo paso y agrego un corte\n",
    "        demand1 = noises1[i]\n",
    "        \n",
    "        model = JuMP.Model(optimizer_with_attributes(() -> Gurobi.Optimizer(gurobi_env), \"OutputFlag\" => 0))\n",
    "\n",
    "        @variable(model,u2>=0);\n",
    "        @variable(model,x1>=0);\n",
    "        @variable(model,z);\n",
    "\n",
    "        @constraint(model,x1+u2-demand1>=0);\n",
    "        fix_x1 = @constraint(model,x1==x1v);\n",
    "\n",
    "        for i=1:length(cuts2)\n",
    "            cut=cuts2[i]\n",
    "            @constraint(model,z>=cut[1]+cut[2]*(x1+u2-demand1));\n",
    "        end\n",
    "\n",
    "        @objective(model,Min,p2*u2+z);\n",
    "\n",
    "        optimize!(model)\n",
    "\n",
    "        beta = objective_value(model);\n",
    "        lambda = dual(fix_x1)\n",
    "        #println(\"fix_x1=$lambda\")\n",
    "        push!(local_cuts1,[beta-lambda*x1v;lambda])\n",
    "\n",
    "    end\n",
    "    \n",
    "    cuts2 = (i-1)/i * cuts2\n",
    "    push!(cuts2,mean(local_cuts2))\n",
    "    cuts1 = (i-1)/i * cuts1\n",
    "    push!(cuts1,mean(local_cuts1))    \n",
    "    \n",
    "end"
   ]
  },
  {
   "cell_type": "code",
   "execution_count": 14,
   "metadata": {
    "hideCode": false,
    "hidePrompt": false,
    "scrolled": false
   },
   "outputs": [
    {
     "data": {
      "image/png": "[encoded data removed]",
      "image/svg+xml": [
       "<?xml version=\"1.0\" encoding=\"utf-8\"?>\n",
       "<svg xmlns=\"http://www.w3.org/2000/svg\" xmlns:xlink=\"http://www.w3.org/1999/xlink\" width=\"600\" height=\"400\" viewBox=\"0 0 2400 1600\">\n",
       "<defs>\n",
       "  <clipPath id=\"clip060\">\n",
       "    <rect x=\"0\" y=\"0\" width=\"2400\" height=\"1600\"/>\n",
       "  </clipPath>\n",
       "</defs>\n",
       "<path clip-path=\"url(#clip060)\" d=\"\n",
       "M0 1600 L2400 1600 L2400 0 L0 0  Z\n",
       "  \" fill=\"#ffffff\" fill-rule=\"evenodd\" fill-opacity=\"1\"/>\n",
       "<defs>\n",
       "  <clipPath id=\"clip061\">\n",
       "    <rect x=\"480\" y=\"0\" width=\"1681\" height=\"1600\"/>\n",
       "  </clipPath>\n",
       "</defs>\n",
       "<path clip-path=\"url(#clip060)\" d=\"\n",
       "M169.121 1486.45 L2352.76 1486.45 L2352.76 47.2441 L169.121 47.2441  Z\n",
       "  \" fill=\"#ffffff\" fill-rule=\"evenodd\" fill-opacity=\"1\"/>\n",
       "<defs>\n",
       "  <clipPath id=\"clip062\">\n",
       "    <rect x=\"169\" y=\"47\" width=\"2185\" height=\"1440\"/>\n",
       "  </clipPath>\n",
       "</defs>\n",
       "<polyline clip-path=\"url(#clip062)\" style=\"stroke:#000000; stroke-linecap:butt; stroke-linejoin:round; stroke-width:2; stroke-opacity:0.1; fill:none\" points=\"\n",
       "  230.922,1486.45 230.922,47.2441 \n",
       "  \"/>\n",
       "<polyline clip-path=\"url(#clip062)\" style=\"stroke:#000000; stroke-linecap:butt; stroke-linejoin:round; stroke-width:2; stroke-opacity:0.1; fill:none\" points=\"\n",
       "  745.93,1486.45 745.93,47.2441 \n",
       "  \"/>\n",
       "<polyline clip-path=\"url(#clip062)\" style=\"stroke:#000000; stroke-linecap:butt; stroke-linejoin:round; stroke-width:2; stroke-opacity:0.1; fill:none\" points=\"\n",
       "  1260.94,1486.45 1260.94,47.2441 \n",
       "  \"/>\n",
       "<polyline clip-path=\"url(#clip062)\" style=\"stroke:#000000; stroke-linecap:butt; stroke-linejoin:round; stroke-width:2; stroke-opacity:0.1; fill:none\" points=\"\n",
       "  1775.95,1486.45 1775.95,47.2441 \n",
       "  \"/>\n",
       "<polyline clip-path=\"url(#clip062)\" style=\"stroke:#000000; stroke-linecap:butt; stroke-linejoin:round; stroke-width:2; stroke-opacity:0.1; fill:none\" points=\"\n",
       "  2290.95,1486.45 2290.95,47.2441 \n",
       "  \"/>\n",
       "<polyline clip-path=\"url(#clip060)\" style=\"stroke:#000000; stroke-linecap:butt; stroke-linejoin:round; stroke-width:4; stroke-opacity:1; fill:none\" points=\"\n",
       "  169.121,1486.45 2352.76,1486.45 \n",
       "  \"/>\n",
       "<polyline clip-path=\"url(#clip060)\" style=\"stroke:#000000; stroke-linecap:butt; stroke-linejoin:round; stroke-width:4; stroke-opacity:1; fill:none\" points=\"\n",
       "  230.922,1486.45 230.922,1467.55 \n",
       "  \"/>\n",
       "<polyline clip-path=\"url(#clip060)\" style=\"stroke:#000000; stroke-linecap:butt; stroke-linejoin:round; stroke-width:4; stroke-opacity:1; fill:none\" points=\"\n",
       "  745.93,1486.45 745.93,1467.55 \n",
       "  \"/>\n",
       "<polyline clip-path=\"url(#clip060)\" style=\"stroke:#000000; stroke-linecap:butt; stroke-linejoin:round; stroke-width:4; stroke-opacity:1; fill:none\" points=\"\n",
       "  1260.94,1486.45 1260.94,1467.55 \n",
       "  \"/>\n",
       "<polyline clip-path=\"url(#clip060)\" style=\"stroke:#000000; stroke-linecap:butt; stroke-linejoin:round; stroke-width:4; stroke-opacity:1; fill:none\" points=\"\n",
       "  1775.95,1486.45 1775.95,1467.55 \n",
       "  \"/>\n",
       "<polyline clip-path=\"url(#clip060)\" style=\"stroke:#000000; stroke-linecap:butt; stroke-linejoin:round; stroke-width:4; stroke-opacity:1; fill:none\" points=\"\n",
       "  2290.95,1486.45 2290.95,1467.55 \n",
       "  \"/>\n",
       "<path clip-path=\"url(#clip060)\" d=\"M230.922 1515.64 Q227.311 1515.64 225.483 1519.2 Q223.677 1522.75 223.677 1529.87 Q223.677 1536.98 225.483 1540.55 Q227.311 1544.09 230.922 1544.09 Q234.557 1544.09 236.362 1540.55 Q238.191 1536.98 238.191 1529.87 Q238.191 1522.75 236.362 1519.2 Q234.557 1515.64 230.922 1515.64 M230.922 1511.93 Q236.732 1511.93 239.788 1516.54 Q242.867 1521.12 242.867 1529.87 Q242.867 1538.6 239.788 1543.21 Q236.732 1547.79 230.922 1547.79 Q225.112 1547.79 222.033 1543.21 Q218.978 1538.6 218.978 1529.87 Q218.978 1521.12 222.033 1516.54 Q225.112 1511.93 230.922 1511.93 Z\" fill=\"#000000\" fill-rule=\"evenodd\" fill-opacity=\"1\" /><path clip-path=\"url(#clip060)\" d=\"M720.63 1512.56 L738.986 1512.56 L738.986 1516.5 L724.912 1516.5 L724.912 1524.97 Q725.931 1524.62 726.949 1524.46 Q727.968 1524.27 728.986 1524.27 Q734.773 1524.27 738.153 1527.44 Q741.532 1530.62 741.532 1536.03 Q741.532 1541.61 738.06 1544.71 Q734.588 1547.79 728.269 1547.79 Q726.093 1547.79 723.824 1547.42 Q721.579 1547.05 719.171 1546.31 L719.171 1541.61 Q721.255 1542.74 723.477 1543.3 Q725.699 1543.86 728.176 1543.86 Q732.181 1543.86 734.518 1541.75 Q736.856 1539.64 736.856 1536.03 Q736.856 1532.42 734.518 1530.31 Q732.181 1528.21 728.176 1528.21 Q726.301 1528.21 724.426 1528.62 Q722.574 1529.04 720.63 1529.92 L720.63 1512.56 Z\" fill=\"#000000\" fill-rule=\"evenodd\" fill-opacity=\"1\" /><path clip-path=\"url(#clip060)\" d=\"M760.745 1515.64 Q757.134 1515.64 755.305 1519.2 Q753.5 1522.75 753.5 1529.87 Q753.5 1536.98 755.305 1540.55 Q757.134 1544.09 760.745 1544.09 Q764.379 1544.09 766.185 1540.55 Q768.014 1536.98 768.014 1529.87 Q768.014 1522.75 766.185 1519.2 Q764.379 1515.64 760.745 1515.64 M760.745 1511.93 Q766.555 1511.93 769.611 1516.54 Q772.69 1521.12 772.69 1529.87 Q772.69 1538.6 769.611 1543.21 Q766.555 1547.79 760.745 1547.79 Q754.935 1547.79 751.856 1543.21 Q748.801 1538.6 748.801 1529.87 Q748.801 1521.12 751.856 1516.54 Q754.935 1511.93 760.745 1511.93 Z\" fill=\"#000000\" fill-rule=\"evenodd\" fill-opacity=\"1\" /><path clip-path=\"url(#clip060)\" d=\"M1220.55 1543.18 L1228.18 1543.18 L1228.18 1516.82 L1219.87 1518.49 L1219.87 1514.23 L1228.14 1512.56 L1232.81 1512.56 L1232.81 1543.18 L1240.45 1543.18 L1240.45 1547.12 L1220.55 1547.12 L1220.55 1543.18 Z\" fill=\"#000000\" fill-rule=\"evenodd\" fill-opacity=\"1\" /><path clip-path=\"url(#clip060)\" d=\"M1259.9 1515.64 Q1256.29 1515.64 1254.46 1519.2 Q1252.65 1522.75 1252.65 1529.87 Q1252.65 1536.98 1254.46 1540.55 Q1256.29 1544.09 1259.9 1544.09 Q1263.53 1544.09 1265.34 1540.55 Q1267.17 1536.98 1267.17 1529.87 Q1267.17 1522.75 1265.34 1519.2 Q1263.53 1515.64 1259.9 1515.64 M1259.9 1511.93 Q1265.71 1511.93 1268.76 1516.54 Q1271.84 1521.12 1271.84 1529.87 Q1271.84 1538.6 1268.76 1543.21 Q1265.71 1547.79 1259.9 1547.79 Q1254.09 1547.79 1251.01 1543.21 Q1247.95 1538.6 1247.95 1529.87 Q1247.95 1521.12 1251.01 1516.54 Q1254.09 1511.93 1259.9 1511.93 Z\" fill=\"#000000\" fill-rule=\"evenodd\" fill-opacity=\"1\" /><path clip-path=\"url(#clip060)\" d=\"M1290.06 1515.64 Q1286.45 1515.64 1284.62 1519.2 Q1282.81 1522.75 1282.81 1529.87 Q1282.81 1536.98 1284.62 1540.55 Q1286.45 1544.09 1290.06 1544.09 Q1293.69 1544.09 1295.5 1540.55 Q1297.33 1536.98 1297.33 1529.87 Q1297.33 1522.75 1295.5 1519.2 Q1293.69 1515.64 1290.06 1515.64 M1290.06 1511.93 Q1295.87 1511.93 1298.92 1516.54 Q1302 1521.12 1302 1529.87 Q1302 1538.6 1298.92 1543.21 Q1295.87 1547.79 1290.06 1547.79 Q1284.25 1547.79 1281.17 1543.21 Q1278.11 1538.6 1278.11 1529.87 Q1278.11 1521.12 1281.17 1516.54 Q1284.25 1511.93 1290.06 1511.93 Z\" fill=\"#000000\" fill-rule=\"evenodd\" fill-opacity=\"1\" /><path clip-path=\"url(#clip060)\" d=\"M1735.55 1543.18 L1743.19 1543.18 L1743.19 1516.82 L1734.88 1518.49 L1734.88 1514.23 L1743.15 1512.56 L1747.82 1512.56 L1747.82 1543.18 L1755.46 1543.18 L1755.46 1547.12 L1735.55 1547.12 L1735.55 1543.18 Z\" fill=\"#000000\" fill-rule=\"evenodd\" fill-opacity=\"1\" /><path clip-path=\"url(#clip060)\" d=\"M1764.95 1512.56 L1783.31 1512.56 L1783.31 1516.5 L1769.23 1516.5 L1769.23 1524.97 Q1770.25 1524.62 1771.27 1524.46 Q1772.29 1524.27 1773.31 1524.27 Q1779.09 1524.27 1782.47 1527.44 Q1785.85 1530.62 1785.85 1536.03 Q1785.85 1541.61 1782.38 1544.71 Q1778.91 1547.79 1772.59 1547.79 Q1770.41 1547.79 1768.15 1547.42 Q1765.9 1547.05 1763.49 1546.31 L1763.49 1541.61 Q1765.58 1542.74 1767.8 1543.3 Q1770.02 1543.86 1772.5 1543.86 Q1776.5 1543.86 1778.84 1541.75 Q1781.18 1539.64 1781.18 1536.03 Q1781.18 1532.42 1778.84 1530.31 Q1776.5 1528.21 1772.5 1528.21 Q1770.62 1528.21 1768.75 1528.62 Q1766.9 1529.04 1764.95 1529.92 L1764.95 1512.56 Z\" fill=\"#000000\" fill-rule=\"evenodd\" fill-opacity=\"1\" /><path clip-path=\"url(#clip060)\" d=\"M1805.07 1515.64 Q1801.46 1515.64 1799.63 1519.2 Q1797.82 1522.75 1797.82 1529.87 Q1797.82 1536.98 1799.63 1540.55 Q1801.46 1544.09 1805.07 1544.09 Q1808.7 1544.09 1810.51 1540.55 Q1812.34 1536.98 1812.34 1529.87 Q1812.34 1522.75 1810.51 1519.2 Q1808.7 1515.64 1805.07 1515.64 M1805.07 1511.93 Q1810.88 1511.93 1813.93 1516.54 Q1817.01 1521.12 1817.01 1529.87 Q1817.01 1538.6 1813.93 1543.21 Q1810.88 1547.79 1805.07 1547.79 Q1799.26 1547.79 1796.18 1543.21 Q1793.12 1538.6 1793.12 1529.87 Q1793.12 1521.12 1796.18 1516.54 Q1799.26 1511.93 1805.07 1511.93 Z\" fill=\"#000000\" fill-rule=\"evenodd\" fill-opacity=\"1\" /><path clip-path=\"url(#clip060)\" d=\"M2254.65 1543.18 L2270.97 1543.18 L2270.97 1547.12 L2249.02 1547.12 L2249.02 1543.18 Q2251.68 1540.43 2256.27 1535.8 Q2260.87 1531.15 2262.05 1529.81 Q2264.3 1527.28 2265.18 1525.55 Q2266.08 1523.79 2266.08 1522.1 Q2266.08 1519.34 2264.14 1517.61 Q2262.22 1515.87 2259.11 1515.87 Q2256.92 1515.87 2254.46 1516.63 Q2252.03 1517.4 2249.25 1518.95 L2249.25 1514.23 Q2252.08 1513.09 2254.53 1512.51 Q2256.99 1511.93 2259.02 1511.93 Q2264.39 1511.93 2267.59 1514.62 Q2270.78 1517.31 2270.78 1521.8 Q2270.78 1523.93 2269.97 1525.85 Q2269.18 1527.74 2267.08 1530.34 Q2266.5 1531.01 2263.4 1534.23 Q2260.3 1537.42 2254.65 1543.18 Z\" fill=\"#000000\" fill-rule=\"evenodd\" fill-opacity=\"1\" /><path clip-path=\"url(#clip060)\" d=\"M2290.78 1515.64 Q2287.17 1515.64 2285.34 1519.2 Q2283.54 1522.75 2283.54 1529.87 Q2283.54 1536.98 2285.34 1540.55 Q2287.17 1544.09 2290.78 1544.09 Q2294.42 1544.09 2296.22 1540.55 Q2298.05 1536.98 2298.05 1529.87 Q2298.05 1522.75 2296.22 1519.2 Q2294.42 1515.64 2290.78 1515.64 M2290.78 1511.93 Q2296.59 1511.93 2299.65 1516.54 Q2302.73 1521.12 2302.73 1529.87 Q2302.73 1538.6 2299.65 1543.21 Q2296.59 1547.79 2290.78 1547.79 Q2284.97 1547.79 2281.89 1543.21 Q2278.84 1538.6 2278.84 1529.87 Q2278.84 1521.12 2281.89 1516.54 Q2284.97 1511.93 2290.78 1511.93 Z\" fill=\"#000000\" fill-rule=\"evenodd\" fill-opacity=\"1\" /><path clip-path=\"url(#clip060)\" d=\"M2320.94 1515.64 Q2317.33 1515.64 2315.5 1519.2 Q2313.7 1522.75 2313.7 1529.87 Q2313.7 1536.98 2315.5 1540.55 Q2317.33 1544.09 2320.94 1544.09 Q2324.58 1544.09 2326.38 1540.55 Q2328.21 1536.98 2328.21 1529.87 Q2328.21 1522.75 2326.38 1519.2 Q2324.58 1515.64 2320.94 1515.64 M2320.94 1511.93 Q2326.75 1511.93 2329.81 1516.54 Q2332.89 1521.12 2332.89 1529.87 Q2332.89 1538.6 2329.81 1543.21 Q2326.75 1547.79 2320.94 1547.79 Q2315.13 1547.79 2312.05 1543.21 Q2309 1538.6 2309 1529.87 Q2309 1521.12 2312.05 1516.54 Q2315.13 1511.93 2320.94 1511.93 Z\" fill=\"#000000\" fill-rule=\"evenodd\" fill-opacity=\"1\" /><polyline clip-path=\"url(#clip062)\" style=\"stroke:#000000; stroke-linecap:butt; stroke-linejoin:round; stroke-width:2; stroke-opacity:0.1; fill:none\" points=\"\n",
       "  169.121,1445.72 2352.76,1445.72 \n",
       "  \"/>\n",
       "<polyline clip-path=\"url(#clip062)\" style=\"stroke:#000000; stroke-linecap:butt; stroke-linejoin:round; stroke-width:2; stroke-opacity:0.1; fill:none\" points=\"\n",
       "  169.121,1031.98 2352.76,1031.98 \n",
       "  \"/>\n",
       "<polyline clip-path=\"url(#clip062)\" style=\"stroke:#000000; stroke-linecap:butt; stroke-linejoin:round; stroke-width:2; stroke-opacity:0.1; fill:none\" points=\"\n",
       "  169.121,618.241 2352.76,618.241 \n",
       "  \"/>\n",
       "<polyline clip-path=\"url(#clip062)\" style=\"stroke:#000000; stroke-linecap:butt; stroke-linejoin:round; stroke-width:2; stroke-opacity:0.1; fill:none\" points=\"\n",
       "  169.121,204.504 2352.76,204.504 \n",
       "  \"/>\n",
       "<polyline clip-path=\"url(#clip060)\" style=\"stroke:#000000; stroke-linecap:butt; stroke-linejoin:round; stroke-width:4; stroke-opacity:1; fill:none\" points=\"\n",
       "  169.121,1486.45 169.121,47.2441 \n",
       "  \"/>\n",
       "<polyline clip-path=\"url(#clip060)\" style=\"stroke:#000000; stroke-linecap:butt; stroke-linejoin:round; stroke-width:4; stroke-opacity:1; fill:none\" points=\"\n",
       "  169.121,1445.72 188.019,1445.72 \n",
       "  \"/>\n",
       "<polyline clip-path=\"url(#clip060)\" style=\"stroke:#000000; stroke-linecap:butt; stroke-linejoin:round; stroke-width:4; stroke-opacity:1; fill:none\" points=\"\n",
       "  169.121,1031.98 188.019,1031.98 \n",
       "  \"/>\n",
       "<polyline clip-path=\"url(#clip060)\" style=\"stroke:#000000; stroke-linecap:butt; stroke-linejoin:round; stroke-width:4; stroke-opacity:1; fill:none\" points=\"\n",
       "  169.121,618.241 188.019,618.241 \n",
       "  \"/>\n",
       "<polyline clip-path=\"url(#clip060)\" style=\"stroke:#000000; stroke-linecap:butt; stroke-linejoin:round; stroke-width:4; stroke-opacity:1; fill:none\" points=\"\n",
       "  169.121,204.504 188.019,204.504 \n",
       "  \"/>\n",
       "<path clip-path=\"url(#clip060)\" d=\"M121.177 1431.51 Q117.566 1431.51 115.737 1435.08 Q113.932 1438.62 113.932 1445.75 Q113.932 1452.86 115.737 1456.42 Q117.566 1459.96 121.177 1459.96 Q124.811 1459.96 126.617 1456.42 Q128.445 1452.86 128.445 1445.75 Q128.445 1438.62 126.617 1435.08 Q124.811 1431.51 121.177 1431.51 M121.177 1427.81 Q126.987 1427.81 130.043 1432.42 Q133.121 1437 133.121 1445.75 Q133.121 1454.48 130.043 1459.08 Q126.987 1463.67 121.177 1463.67 Q115.367 1463.67 112.288 1459.08 Q109.233 1454.48 109.233 1445.75 Q109.233 1437 112.288 1432.42 Q115.367 1427.81 121.177 1427.81 Z\" fill=\"#000000\" fill-rule=\"evenodd\" fill-opacity=\"1\" /><path clip-path=\"url(#clip060)\" d=\"M81.0614 1014.7 L99.4178 1014.7 L99.4178 1018.63 L85.3438 1018.63 L85.3438 1027.11 Q86.3623 1026.76 87.3808 1026.6 Q88.3993 1026.41 89.4178 1026.41 Q95.2049 1026.41 98.5845 1029.58 Q101.964 1032.75 101.964 1038.17 Q101.964 1043.75 98.4919 1046.85 Q95.0197 1049.93 88.7003 1049.93 Q86.5243 1049.93 84.2558 1049.56 Q82.0105 1049.19 79.6031 1048.45 L79.6031 1043.75 Q81.6864 1044.88 83.9086 1045.44 Q86.1308 1045.99 88.6077 1045.99 Q92.6123 1045.99 94.9502 1043.89 Q97.2882 1041.78 97.2882 1038.17 Q97.2882 1034.56 94.9502 1032.45 Q92.6123 1030.35 88.6077 1030.35 Q86.7327 1030.35 84.8577 1030.76 Q83.0058 1031.18 81.0614 1032.06 L81.0614 1014.7 Z\" fill=\"#000000\" fill-rule=\"evenodd\" fill-opacity=\"1\" /><path clip-path=\"url(#clip060)\" d=\"M121.177 1017.78 Q117.566 1017.78 115.737 1021.34 Q113.932 1024.88 113.932 1032.01 Q113.932 1039.12 115.737 1042.68 Q117.566 1046.23 121.177 1046.23 Q124.811 1046.23 126.617 1042.68 Q128.445 1039.12 128.445 1032.01 Q128.445 1024.88 126.617 1021.34 Q124.811 1017.78 121.177 1017.78 M121.177 1014.07 Q126.987 1014.07 130.043 1018.68 Q133.121 1023.26 133.121 1032.01 Q133.121 1040.74 130.043 1045.35 Q126.987 1049.93 121.177 1049.93 Q115.367 1049.93 112.288 1045.35 Q109.233 1040.74 109.233 1032.01 Q109.233 1023.26 112.288 1018.68 Q115.367 1014.07 121.177 1014.07 Z\" fill=\"#000000\" fill-rule=\"evenodd\" fill-opacity=\"1\" /><path clip-path=\"url(#clip060)\" d=\"M51.6634 631.586 L59.3023 631.586 L59.3023 605.22 L50.9921 606.887 L50.9921 602.628 L59.256 600.961 L63.9319 600.961 L63.9319 631.586 L71.5707 631.586 L71.5707 635.521 L51.6634 635.521 L51.6634 631.586 Z\" fill=\"#000000\" fill-rule=\"evenodd\" fill-opacity=\"1\" /><path clip-path=\"url(#clip060)\" d=\"M91.0151 604.04 Q87.404 604.04 85.5753 607.605 Q83.7697 611.146 83.7697 618.276 Q83.7697 625.382 85.5753 628.947 Q87.404 632.489 91.0151 632.489 Q94.6493 632.489 96.4548 628.947 Q98.2835 625.382 98.2835 618.276 Q98.2835 611.146 96.4548 607.605 Q94.6493 604.04 91.0151 604.04 M91.0151 600.336 Q96.8252 600.336 99.8808 604.943 Q102.959 609.526 102.959 618.276 Q102.959 627.003 99.8808 631.609 Q96.8252 636.193 91.0151 636.193 Q85.2049 636.193 82.1262 631.609 Q79.0707 627.003 79.0707 618.276 Q79.0707 609.526 82.1262 604.943 Q85.2049 600.336 91.0151 600.336 Z\" fill=\"#000000\" fill-rule=\"evenodd\" fill-opacity=\"1\" /><path clip-path=\"url(#clip060)\" d=\"M121.177 604.04 Q117.566 604.04 115.737 607.605 Q113.932 611.146 113.932 618.276 Q113.932 625.382 115.737 628.947 Q117.566 632.489 121.177 632.489 Q124.811 632.489 126.617 628.947 Q128.445 625.382 128.445 618.276 Q128.445 611.146 126.617 607.605 Q124.811 604.04 121.177 604.04 M121.177 600.336 Q126.987 600.336 130.043 604.943 Q133.121 609.526 133.121 618.276 Q133.121 627.003 130.043 631.609 Q126.987 636.193 121.177 636.193 Q115.367 636.193 112.288 631.609 Q109.233 627.003 109.233 618.276 Q109.233 609.526 112.288 604.943 Q115.367 600.336 121.177 600.336 Z\" fill=\"#000000\" fill-rule=\"evenodd\" fill-opacity=\"1\" /><path clip-path=\"url(#clip060)\" d=\"M51.6634 217.849 L59.3023 217.849 L59.3023 191.483 L50.9921 193.15 L50.9921 188.891 L59.256 187.224 L63.9319 187.224 L63.9319 217.849 L71.5707 217.849 L71.5707 221.784 L51.6634 221.784 L51.6634 217.849 Z\" fill=\"#000000\" fill-rule=\"evenodd\" fill-opacity=\"1\" /><path clip-path=\"url(#clip060)\" d=\"M81.0614 187.224 L99.4178 187.224 L99.4178 191.159 L85.3438 191.159 L85.3438 199.631 Q86.3623 199.284 87.3808 199.122 Q88.3993 198.937 89.4178 198.937 Q95.2049 198.937 98.5845 202.108 Q101.964 205.28 101.964 210.696 Q101.964 216.275 98.4919 219.377 Q95.0197 222.455 88.7003 222.455 Q86.5243 222.455 84.2558 222.085 Q82.0105 221.715 79.6031 220.974 L79.6031 216.275 Q81.6864 217.409 83.9086 217.965 Q86.1308 218.52 88.6077 218.52 Q92.6123 218.52 94.9502 216.414 Q97.2882 214.307 97.2882 210.696 Q97.2882 207.085 94.9502 204.979 Q92.6123 202.872 88.6077 202.872 Q86.7327 202.872 84.8577 203.289 Q83.0058 203.705 81.0614 204.585 L81.0614 187.224 Z\" fill=\"#000000\" fill-rule=\"evenodd\" fill-opacity=\"1\" /><path clip-path=\"url(#clip060)\" d=\"M121.177 190.303 Q117.566 190.303 115.737 193.868 Q113.932 197.409 113.932 204.539 Q113.932 211.645 115.737 215.21 Q117.566 218.752 121.177 218.752 Q124.811 218.752 126.617 215.21 Q128.445 211.645 128.445 204.539 Q128.445 197.409 126.617 193.868 Q124.811 190.303 121.177 190.303 M121.177 186.599 Q126.987 186.599 130.043 191.206 Q133.121 195.789 133.121 204.539 Q133.121 213.266 130.043 217.872 Q126.987 222.455 121.177 222.455 Q115.367 222.455 112.288 217.872 Q109.233 213.266 109.233 204.539 Q109.233 195.789 112.288 191.206 Q115.367 186.599 121.177 186.599 Z\" fill=\"#000000\" fill-rule=\"evenodd\" fill-opacity=\"1\" /><polyline clip-path=\"url(#clip062)\" style=\"stroke:#009af9; stroke-linecap:butt; stroke-linejoin:round; stroke-width:4; stroke-opacity:1; fill:none\" points=\"\n",
       "  230.922,87.9763 241.222,99.0093 251.523,110.042 261.823,121.075 272.123,132.108 282.423,143.141 292.723,154.174 303.023,165.207 313.324,176.24 323.624,187.273 \n",
       "  333.924,198.049 344.224,207.216 354.524,216.382 364.824,225.549 375.125,234.716 385.425,243.883 395.725,253.049 406.025,262.216 416.325,271.383 426.625,280.55 \n",
       "  436.926,289.716 447.226,298.883 457.526,308.05 467.826,317.217 478.126,326.383 488.426,335.55 498.727,344.717 509.027,353.883 519.327,363.05 529.627,372.217 \n",
       "  539.927,381.384 550.227,390.55 560.528,399.717 570.828,408.884 581.128,418.051 591.428,427.217 601.728,436.384 612.028,445.551 622.328,454.718 632.629,463.884 \n",
       "  642.929,473.051 653.229,482.218 663.529,491.385 673.829,500.551 684.129,509.718 694.43,518.885 704.73,528.052 715.03,537.218 725.33,546.385 735.63,555.552 \n",
       "  745.93,564.718 756.231,573.885 766.531,583.052 776.831,592.219 787.131,601.385 797.431,610.552 807.731,619.719 818.032,628.886 828.332,638.052 838.632,647.219 \n",
       "  848.932,656.386 859.232,665.553 869.532,674.719 879.833,683.886 890.133,693.053 900.433,702.22 910.733,711.386 921.033,720.553 931.333,729.72 941.634,738.887 \n",
       "  951.934,748.053 962.234,757.22 972.534,766.387 982.834,775.554 993.134,784.72 1003.43,793.887 1013.73,803.054 1024.03,812.22 1034.34,821.387 1044.64,830.554 \n",
       "  1054.94,839.721 1065.24,848.887 1075.54,858.054 1085.84,867.221 1096.14,876.388 1106.44,885.554 1116.74,894.366 1127.04,902.971 1137.34,911.577 1147.64,920.183 \n",
       "  1157.94,928.788 1168.24,937.394 1178.54,945.999 1188.84,954.605 1199.14,963.21 1209.44,971.816 1219.74,980.421 1230.04,989.027 1240.34,997.633 1250.64,1006.24 \n",
       "  1260.94,1014.84 1271.24,1023.45 1281.54,1032.05 1291.84,1040.66 1302.14,1049.27 1312.44,1057.87 1322.74,1066.48 1333.04,1075.08 1343.34,1083.69 1353.64,1092.29 \n",
       "  1363.94,1100.9 1374.24,1109.5 1384.54,1118.11 1394.84,1126.72 1405.14,1135.32 1415.44,1143.93 1425.74,1152.53 1436.04,1160.97 1446.34,1169.24 1456.64,1177.52 \n",
       "  1466.94,1185.8 1477.24,1194.08 1487.54,1202.35 1497.84,1210.63 1508.14,1218.91 1518.44,1227.18 1528.74,1235.46 1539.04,1243.74 1549.34,1251.94 1559.64,1258.96 \n",
       "  1569.94,1265.97 1580.24,1272.99 1590.54,1280.01 1600.84,1287.03 1611.14,1294.04 1621.44,1301.06 1631.74,1308.08 1642.04,1315.09 1652.34,1322.11 1662.64,1329.13 \n",
       "  1672.95,1336.15 1683.25,1343.16 1693.55,1350.18 1703.85,1357.2 1714.15,1364.22 1724.45,1371.23 1734.75,1378.25 1745.05,1385.27 1755.35,1392.29 1765.65,1399.3 \n",
       "  1775.95,1406.32 1786.25,1413.34 1796.55,1420.36 1806.85,1427.37 1817.15,1430.51 1827.45,1433.53 1837.75,1436.55 1848.05,1439.57 1858.35,1442.58 1868.65,1444.5 \n",
       "  1878.95,1444.84 1889.25,1444.94 1899.55,1445.01 1909.85,1445.08 1920.15,1445.14 1930.45,1445.21 1940.75,1445.27 1951.05,1445.34 1961.35,1445.41 1971.65,1445.47 \n",
       "  1981.95,1445.54 1992.25,1445.61 2002.55,1445.67 2012.85,1445.72 2023.15,1445.72 2033.45,1445.72 2043.75,1445.72 2054.05,1445.72 2064.35,1445.72 2074.65,1445.72 \n",
       "  2084.95,1445.72 2095.25,1445.72 2105.55,1445.72 2115.85,1445.72 2126.15,1445.72 2136.45,1445.72 2146.75,1445.72 2157.05,1445.72 2167.35,1445.72 2177.65,1445.72 \n",
       "  2187.95,1445.72 2198.25,1445.72 2208.55,1445.72 2218.85,1445.72 2229.15,1445.72 2239.45,1445.72 2249.75,1445.72 2260.05,1445.72 2270.35,1445.72 2280.65,1445.72 \n",
       "  2290.95,1445.72 \n",
       "  \"/>\n",
       "<path clip-path=\"url(#clip060)\" d=\"\n",
       "M1984.91 198.898 L2279.97 198.898 L2279.97 95.2176 L1984.91 95.2176  Z\n",
       "  \" fill=\"#ffffff\" fill-rule=\"evenodd\" fill-opacity=\"1\"/>\n",
       "<polyline clip-path=\"url(#clip060)\" style=\"stroke:#000000; stroke-linecap:butt; stroke-linejoin:round; stroke-width:4; stroke-opacity:1; fill:none\" points=\"\n",
       "  1984.91,198.898 2279.97,198.898 2279.97,95.2176 1984.91,95.2176 1984.91,198.898 \n",
       "  \"/>\n",
       "<polyline clip-path=\"url(#clip060)\" style=\"stroke:#009af9; stroke-linecap:butt; stroke-linejoin:round; stroke-width:4; stroke-opacity:1; fill:none\" points=\"\n",
       "  2009.17,147.058 2154.75,147.058 \n",
       "  \"/>\n",
       "<path clip-path=\"url(#clip060)\" d=\"M2192.86 166.745 Q2191.05 171.375 2189.34 172.787 Q2187.62 174.199 2184.75 174.199 L2181.35 174.199 L2181.35 170.634 L2183.85 170.634 Q2185.61 170.634 2186.58 169.8 Q2187.55 168.967 2188.73 165.865 L2189.5 163.921 L2179.01 138.412 L2183.53 138.412 L2191.63 158.689 L2199.73 138.412 L2204.24 138.412 L2192.86 166.745 Z\" fill=\"#000000\" fill-rule=\"evenodd\" fill-opacity=\"1\" /><path clip-path=\"url(#clip060)\" d=\"M2211.54 160.402 L2219.17 160.402 L2219.17 134.037 L2210.86 135.703 L2210.86 131.444 L2219.13 129.778 L2223.8 129.778 L2223.8 160.402 L2231.44 160.402 L2231.44 164.338 L2211.54 164.338 L2211.54 160.402 Z\" fill=\"#000000\" fill-rule=\"evenodd\" fill-opacity=\"1\" /></svg>\n"
      ],
      "text/html": [
       "<?xml version=\"1.0\" encoding=\"utf-8\"?>\n",
       "<svg xmlns=\"http://www.w3.org/2000/svg\" xmlns:xlink=\"http://www.w3.org/1999/xlink\" width=\"600\" height=\"400\" viewBox=\"0 0 2400 1600\">\n",
       "<defs>\n",
       "  <clipPath id=\"clip110\">\n",
       "    <rect x=\"0\" y=\"0\" width=\"2400\" height=\"1600\"/>\n",
       "  </clipPath>\n",
       "</defs>\n",
       "<path clip-path=\"url(#clip110)\" d=\"\n",
       "M0 1600 L2400 1600 L2400 0 L0 0  Z\n",
       "  \" fill=\"#ffffff\" fill-rule=\"evenodd\" fill-opacity=\"1\"/>\n",
       "<defs>\n",
       "  <clipPath id=\"clip111\">\n",
       "    <rect x=\"480\" y=\"0\" width=\"1681\" height=\"1600\"/>\n",
       "  </clipPath>\n",
       "</defs>\n",
       "<path clip-path=\"url(#clip110)\" d=\"\n",
       "M169.121 1486.45 L2352.76 1486.45 L2352.76 47.2441 L169.121 47.2441  Z\n",
       "  \" fill=\"#ffffff\" fill-rule=\"evenodd\" fill-opacity=\"1\"/>\n",
       "<defs>\n",
       "  <clipPath id=\"clip112\">\n",
       "    <rect x=\"169\" y=\"47\" width=\"2185\" height=\"1440\"/>\n",
       "  </clipPath>\n",
       "</defs>\n",
       "<polyline clip-path=\"url(#clip112)\" style=\"stroke:#000000; stroke-linecap:butt; stroke-linejoin:round; stroke-width:2; stroke-opacity:0.1; fill:none\" points=\"\n",
       "  230.922,1486.45 230.922,47.2441 \n",
       "  \"/>\n",
       "<polyline clip-path=\"url(#clip112)\" style=\"stroke:#000000; stroke-linecap:butt; stroke-linejoin:round; stroke-width:2; stroke-opacity:0.1; fill:none\" points=\"\n",
       "  745.93,1486.45 745.93,47.2441 \n",
       "  \"/>\n",
       "<polyline clip-path=\"url(#clip112)\" style=\"stroke:#000000; stroke-linecap:butt; stroke-linejoin:round; stroke-width:2; stroke-opacity:0.1; fill:none\" points=\"\n",
       "  1260.94,1486.45 1260.94,47.2441 \n",
       "  \"/>\n",
       "<polyline clip-path=\"url(#clip112)\" style=\"stroke:#000000; stroke-linecap:butt; stroke-linejoin:round; stroke-width:2; stroke-opacity:0.1; fill:none\" points=\"\n",
       "  1775.95,1486.45 1775.95,47.2441 \n",
       "  \"/>\n",
       "<polyline clip-path=\"url(#clip112)\" style=\"stroke:#000000; stroke-linecap:butt; stroke-linejoin:round; stroke-width:2; stroke-opacity:0.1; fill:none\" points=\"\n",
       "  2290.95,1486.45 2290.95,47.2441 \n",
       "  \"/>\n",
       "<polyline clip-path=\"url(#clip110)\" style=\"stroke:#000000; stroke-linecap:butt; stroke-linejoin:round; stroke-width:4; stroke-opacity:1; fill:none\" points=\"\n",
       "  169.121,1486.45 2352.76,1486.45 \n",
       "  \"/>\n",
       "<polyline clip-path=\"url(#clip110)\" style=\"stroke:#000000; stroke-linecap:butt; stroke-linejoin:round; stroke-width:4; stroke-opacity:1; fill:none\" points=\"\n",
       "  230.922,1486.45 230.922,1467.55 \n",
       "  \"/>\n",
       "<polyline clip-path=\"url(#clip110)\" style=\"stroke:#000000; stroke-linecap:butt; stroke-linejoin:round; stroke-width:4; stroke-opacity:1; fill:none\" points=\"\n",
       "  745.93,1486.45 745.93,1467.55 \n",
       "  \"/>\n",
       "<polyline clip-path=\"url(#clip110)\" style=\"stroke:#000000; stroke-linecap:butt; stroke-linejoin:round; stroke-width:4; stroke-opacity:1; fill:none\" points=\"\n",
       "  1260.94,1486.45 1260.94,1467.55 \n",
       "  \"/>\n",
       "<polyline clip-path=\"url(#clip110)\" style=\"stroke:#000000; stroke-linecap:butt; stroke-linejoin:round; stroke-width:4; stroke-opacity:1; fill:none\" points=\"\n",
       "  1775.95,1486.45 1775.95,1467.55 \n",
       "  \"/>\n",
       "<polyline clip-path=\"url(#clip110)\" style=\"stroke:#000000; stroke-linecap:butt; stroke-linejoin:round; stroke-width:4; stroke-opacity:1; fill:none\" points=\"\n",
       "  2290.95,1486.45 2290.95,1467.55 \n",
       "  \"/>\n",
       "<path clip-path=\"url(#clip110)\" d=\"M230.922 1515.64 Q227.311 1515.64 225.483 1519.2 Q223.677 1522.75 223.677 1529.87 Q223.677 1536.98 225.483 1540.55 Q227.311 1544.09 230.922 1544.09 Q234.557 1544.09 236.362 1540.55 Q238.191 1536.98 238.191 1529.87 Q238.191 1522.75 236.362 1519.2 Q234.557 1515.64 230.922 1515.64 M230.922 1511.93 Q236.732 1511.93 239.788 1516.54 Q242.867 1521.12 242.867 1529.87 Q242.867 1538.6 239.788 1543.21 Q236.732 1547.79 230.922 1547.79 Q225.112 1547.79 222.033 1543.21 Q218.978 1538.6 218.978 1529.87 Q218.978 1521.12 222.033 1516.54 Q225.112 1511.93 230.922 1511.93 Z\" fill=\"#000000\" fill-rule=\"evenodd\" fill-opacity=\"1\" /><path clip-path=\"url(#clip110)\" d=\"M720.63 1512.56 L738.986 1512.56 L738.986 1516.5 L724.912 1516.5 L724.912 1524.97 Q725.931 1524.62 726.949 1524.46 Q727.968 1524.27 728.986 1524.27 Q734.773 1524.27 738.153 1527.44 Q741.532 1530.62 741.532 1536.03 Q741.532 1541.61 738.06 1544.71 Q734.588 1547.79 728.269 1547.79 Q726.093 1547.79 723.824 1547.42 Q721.579 1547.05 719.171 1546.31 L719.171 1541.61 Q721.255 1542.74 723.477 1543.3 Q725.699 1543.86 728.176 1543.86 Q732.181 1543.86 734.518 1541.75 Q736.856 1539.64 736.856 1536.03 Q736.856 1532.42 734.518 1530.31 Q732.181 1528.21 728.176 1528.21 Q726.301 1528.21 724.426 1528.62 Q722.574 1529.04 720.63 1529.92 L720.63 1512.56 Z\" fill=\"#000000\" fill-rule=\"evenodd\" fill-opacity=\"1\" /><path clip-path=\"url(#clip110)\" d=\"M760.745 1515.64 Q757.134 1515.64 755.305 1519.2 Q753.5 1522.75 753.5 1529.87 Q753.5 1536.98 755.305 1540.55 Q757.134 1544.09 760.745 1544.09 Q764.379 1544.09 766.185 1540.55 Q768.014 1536.98 768.014 1529.87 Q768.014 1522.75 766.185 1519.2 Q764.379 1515.64 760.745 1515.64 M760.745 1511.93 Q766.555 1511.93 769.611 1516.54 Q772.69 1521.12 772.69 1529.87 Q772.69 1538.6 769.611 1543.21 Q766.555 1547.79 760.745 1547.79 Q754.935 1547.79 751.856 1543.21 Q748.801 1538.6 748.801 1529.87 Q748.801 1521.12 751.856 1516.54 Q754.935 1511.93 760.745 1511.93 Z\" fill=\"#000000\" fill-rule=\"evenodd\" fill-opacity=\"1\" /><path clip-path=\"url(#clip110)\" d=\"M1220.55 1543.18 L1228.18 1543.18 L1228.18 1516.82 L1219.87 1518.49 L1219.87 1514.23 L1228.14 1512.56 L1232.81 1512.56 L1232.81 1543.18 L1240.45 1543.18 L1240.45 1547.12 L1220.55 1547.12 L1220.55 1543.18 Z\" fill=\"#000000\" fill-rule=\"evenodd\" fill-opacity=\"1\" /><path clip-path=\"url(#clip110)\" d=\"M1259.9 1515.64 Q1256.29 1515.64 1254.46 1519.2 Q1252.65 1522.75 1252.65 1529.87 Q1252.65 1536.98 1254.46 1540.55 Q1256.29 1544.09 1259.9 1544.09 Q1263.53 1544.09 1265.34 1540.55 Q1267.17 1536.98 1267.17 1529.87 Q1267.17 1522.75 1265.34 1519.2 Q1263.53 1515.64 1259.9 1515.64 M1259.9 1511.93 Q1265.71 1511.93 1268.76 1516.54 Q1271.84 1521.12 1271.84 1529.87 Q1271.84 1538.6 1268.76 1543.21 Q1265.71 1547.79 1259.9 1547.79 Q1254.09 1547.79 1251.01 1543.21 Q1247.95 1538.6 1247.95 1529.87 Q1247.95 1521.12 1251.01 1516.54 Q1254.09 1511.93 1259.9 1511.93 Z\" fill=\"#000000\" fill-rule=\"evenodd\" fill-opacity=\"1\" /><path clip-path=\"url(#clip110)\" d=\"M1290.06 1515.64 Q1286.45 1515.64 1284.62 1519.2 Q1282.81 1522.75 1282.81 1529.87 Q1282.81 1536.98 1284.62 1540.55 Q1286.45 1544.09 1290.06 1544.09 Q1293.69 1544.09 1295.5 1540.55 Q1297.33 1536.98 1297.33 1529.87 Q1297.33 1522.75 1295.5 1519.2 Q1293.69 1515.64 1290.06 1515.64 M1290.06 1511.93 Q1295.87 1511.93 1298.92 1516.54 Q1302 1521.12 1302 1529.87 Q1302 1538.6 1298.92 1543.21 Q1295.87 1547.79 1290.06 1547.79 Q1284.25 1547.79 1281.17 1543.21 Q1278.11 1538.6 1278.11 1529.87 Q1278.11 1521.12 1281.17 1516.54 Q1284.25 1511.93 1290.06 1511.93 Z\" fill=\"#000000\" fill-rule=\"evenodd\" fill-opacity=\"1\" /><path clip-path=\"url(#clip110)\" d=\"M1735.55 1543.18 L1743.19 1543.18 L1743.19 1516.82 L1734.88 1518.49 L1734.88 1514.23 L1743.15 1512.56 L1747.82 1512.56 L1747.82 1543.18 L1755.46 1543.18 L1755.46 1547.12 L1735.55 1547.12 L1735.55 1543.18 Z\" fill=\"#000000\" fill-rule=\"evenodd\" fill-opacity=\"1\" /><path clip-path=\"url(#clip110)\" d=\"M1764.95 1512.56 L1783.31 1512.56 L1783.31 1516.5 L1769.23 1516.5 L1769.23 1524.97 Q1770.25 1524.62 1771.27 1524.46 Q1772.29 1524.27 1773.31 1524.27 Q1779.09 1524.27 1782.47 1527.44 Q1785.85 1530.62 1785.85 1536.03 Q1785.85 1541.61 1782.38 1544.71 Q1778.91 1547.79 1772.59 1547.79 Q1770.41 1547.79 1768.15 1547.42 Q1765.9 1547.05 1763.49 1546.31 L1763.49 1541.61 Q1765.58 1542.74 1767.8 1543.3 Q1770.02 1543.86 1772.5 1543.86 Q1776.5 1543.86 1778.84 1541.75 Q1781.18 1539.64 1781.18 1536.03 Q1781.18 1532.42 1778.84 1530.31 Q1776.5 1528.21 1772.5 1528.21 Q1770.62 1528.21 1768.75 1528.62 Q1766.9 1529.04 1764.95 1529.92 L1764.95 1512.56 Z\" fill=\"#000000\" fill-rule=\"evenodd\" fill-opacity=\"1\" /><path clip-path=\"url(#clip110)\" d=\"M1805.07 1515.64 Q1801.46 1515.64 1799.63 1519.2 Q1797.82 1522.75 1797.82 1529.87 Q1797.82 1536.98 1799.63 1540.55 Q1801.46 1544.09 1805.07 1544.09 Q1808.7 1544.09 1810.51 1540.55 Q1812.34 1536.98 1812.34 1529.87 Q1812.34 1522.75 1810.51 1519.2 Q1808.7 1515.64 1805.07 1515.64 M1805.07 1511.93 Q1810.88 1511.93 1813.93 1516.54 Q1817.01 1521.12 1817.01 1529.87 Q1817.01 1538.6 1813.93 1543.21 Q1810.88 1547.79 1805.07 1547.79 Q1799.26 1547.79 1796.18 1543.21 Q1793.12 1538.6 1793.12 1529.87 Q1793.12 1521.12 1796.18 1516.54 Q1799.26 1511.93 1805.07 1511.93 Z\" fill=\"#000000\" fill-rule=\"evenodd\" fill-opacity=\"1\" /><path clip-path=\"url(#clip110)\" d=\"M2254.65 1543.18 L2270.97 1543.18 L2270.97 1547.12 L2249.02 1547.12 L2249.02 1543.18 Q2251.68 1540.43 2256.27 1535.8 Q2260.87 1531.15 2262.05 1529.81 Q2264.3 1527.28 2265.18 1525.55 Q2266.08 1523.79 2266.08 1522.1 Q2266.08 1519.34 2264.14 1517.61 Q2262.22 1515.87 2259.11 1515.87 Q2256.92 1515.87 2254.46 1516.63 Q2252.03 1517.4 2249.25 1518.95 L2249.25 1514.23 Q2252.08 1513.09 2254.53 1512.51 Q2256.99 1511.93 2259.02 1511.93 Q2264.39 1511.93 2267.59 1514.62 Q2270.78 1517.31 2270.78 1521.8 Q2270.78 1523.93 2269.97 1525.85 Q2269.18 1527.74 2267.08 1530.34 Q2266.5 1531.01 2263.4 1534.23 Q2260.3 1537.42 2254.65 1543.18 Z\" fill=\"#000000\" fill-rule=\"evenodd\" fill-opacity=\"1\" /><path clip-path=\"url(#clip110)\" d=\"M2290.78 1515.64 Q2287.17 1515.64 2285.34 1519.2 Q2283.54 1522.75 2283.54 1529.87 Q2283.54 1536.98 2285.34 1540.55 Q2287.17 1544.09 2290.78 1544.09 Q2294.42 1544.09 2296.22 1540.55 Q2298.05 1536.98 2298.05 1529.87 Q2298.05 1522.75 2296.22 1519.2 Q2294.42 1515.64 2290.78 1515.64 M2290.78 1511.93 Q2296.59 1511.93 2299.65 1516.54 Q2302.73 1521.12 2302.73 1529.87 Q2302.73 1538.6 2299.65 1543.21 Q2296.59 1547.79 2290.78 1547.79 Q2284.97 1547.79 2281.89 1543.21 Q2278.84 1538.6 2278.84 1529.87 Q2278.84 1521.12 2281.89 1516.54 Q2284.97 1511.93 2290.78 1511.93 Z\" fill=\"#000000\" fill-rule=\"evenodd\" fill-opacity=\"1\" /><path clip-path=\"url(#clip110)\" d=\"M2320.94 1515.64 Q2317.33 1515.64 2315.5 1519.2 Q2313.7 1522.75 2313.7 1529.87 Q2313.7 1536.98 2315.5 1540.55 Q2317.33 1544.09 2320.94 1544.09 Q2324.58 1544.09 2326.38 1540.55 Q2328.21 1536.98 2328.21 1529.87 Q2328.21 1522.75 2326.38 1519.2 Q2324.58 1515.64 2320.94 1515.64 M2320.94 1511.93 Q2326.75 1511.93 2329.81 1516.54 Q2332.89 1521.12 2332.89 1529.87 Q2332.89 1538.6 2329.81 1543.21 Q2326.75 1547.79 2320.94 1547.79 Q2315.13 1547.79 2312.05 1543.21 Q2309 1538.6 2309 1529.87 Q2309 1521.12 2312.05 1516.54 Q2315.13 1511.93 2320.94 1511.93 Z\" fill=\"#000000\" fill-rule=\"evenodd\" fill-opacity=\"1\" /><polyline clip-path=\"url(#clip112)\" style=\"stroke:#000000; stroke-linecap:butt; stroke-linejoin:round; stroke-width:2; stroke-opacity:0.1; fill:none\" points=\"\n",
       "  169.121,1445.72 2352.76,1445.72 \n",
       "  \"/>\n",
       "<polyline clip-path=\"url(#clip112)\" style=\"stroke:#000000; stroke-linecap:butt; stroke-linejoin:round; stroke-width:2; stroke-opacity:0.1; fill:none\" points=\"\n",
       "  169.121,1031.98 2352.76,1031.98 \n",
       "  \"/>\n",
       "<polyline clip-path=\"url(#clip112)\" style=\"stroke:#000000; stroke-linecap:butt; stroke-linejoin:round; stroke-width:2; stroke-opacity:0.1; fill:none\" points=\"\n",
       "  169.121,618.241 2352.76,618.241 \n",
       "  \"/>\n",
       "<polyline clip-path=\"url(#clip112)\" style=\"stroke:#000000; stroke-linecap:butt; stroke-linejoin:round; stroke-width:2; stroke-opacity:0.1; fill:none\" points=\"\n",
       "  169.121,204.504 2352.76,204.504 \n",
       "  \"/>\n",
       "<polyline clip-path=\"url(#clip110)\" style=\"stroke:#000000; stroke-linecap:butt; stroke-linejoin:round; stroke-width:4; stroke-opacity:1; fill:none\" points=\"\n",
       "  169.121,1486.45 169.121,47.2441 \n",
       "  \"/>\n",
       "<polyline clip-path=\"url(#clip110)\" style=\"stroke:#000000; stroke-linecap:butt; stroke-linejoin:round; stroke-width:4; stroke-opacity:1; fill:none\" points=\"\n",
       "  169.121,1445.72 188.019,1445.72 \n",
       "  \"/>\n",
       "<polyline clip-path=\"url(#clip110)\" style=\"stroke:#000000; stroke-linecap:butt; stroke-linejoin:round; stroke-width:4; stroke-opacity:1; fill:none\" points=\"\n",
       "  169.121,1031.98 188.019,1031.98 \n",
       "  \"/>\n",
       "<polyline clip-path=\"url(#clip110)\" style=\"stroke:#000000; stroke-linecap:butt; stroke-linejoin:round; stroke-width:4; stroke-opacity:1; fill:none\" points=\"\n",
       "  169.121,618.241 188.019,618.241 \n",
       "  \"/>\n",
       "<polyline clip-path=\"url(#clip110)\" style=\"stroke:#000000; stroke-linecap:butt; stroke-linejoin:round; stroke-width:4; stroke-opacity:1; fill:none\" points=\"\n",
       "  169.121,204.504 188.019,204.504 \n",
       "  \"/>\n",
       "<path clip-path=\"url(#clip110)\" d=\"M121.177 1431.51 Q117.566 1431.51 115.737 1435.08 Q113.932 1438.62 113.932 1445.75 Q113.932 1452.86 115.737 1456.42 Q117.566 1459.96 121.177 1459.96 Q124.811 1459.96 126.617 1456.42 Q128.445 1452.86 128.445 1445.75 Q128.445 1438.62 126.617 1435.08 Q124.811 1431.51 121.177 1431.51 M121.177 1427.81 Q126.987 1427.81 130.043 1432.42 Q133.121 1437 133.121 1445.75 Q133.121 1454.48 130.043 1459.08 Q126.987 1463.67 121.177 1463.67 Q115.367 1463.67 112.288 1459.08 Q109.233 1454.48 109.233 1445.75 Q109.233 1437 112.288 1432.42 Q115.367 1427.81 121.177 1427.81 Z\" fill=\"#000000\" fill-rule=\"evenodd\" fill-opacity=\"1\" /><path clip-path=\"url(#clip110)\" d=\"M81.0614 1014.7 L99.4178 1014.7 L99.4178 1018.63 L85.3438 1018.63 L85.3438 1027.11 Q86.3623 1026.76 87.3808 1026.6 Q88.3993 1026.41 89.4178 1026.41 Q95.2049 1026.41 98.5845 1029.58 Q101.964 1032.75 101.964 1038.17 Q101.964 1043.75 98.4919 1046.85 Q95.0197 1049.93 88.7003 1049.93 Q86.5243 1049.93 84.2558 1049.56 Q82.0105 1049.19 79.6031 1048.45 L79.6031 1043.75 Q81.6864 1044.88 83.9086 1045.44 Q86.1308 1045.99 88.6077 1045.99 Q92.6123 1045.99 94.9502 1043.89 Q97.2882 1041.78 97.2882 1038.17 Q97.2882 1034.56 94.9502 1032.45 Q92.6123 1030.35 88.6077 1030.35 Q86.7327 1030.35 84.8577 1030.76 Q83.0058 1031.18 81.0614 1032.06 L81.0614 1014.7 Z\" fill=\"#000000\" fill-rule=\"evenodd\" fill-opacity=\"1\" /><path clip-path=\"url(#clip110)\" d=\"M121.177 1017.78 Q117.566 1017.78 115.737 1021.34 Q113.932 1024.88 113.932 1032.01 Q113.932 1039.12 115.737 1042.68 Q117.566 1046.23 121.177 1046.23 Q124.811 1046.23 126.617 1042.68 Q128.445 1039.12 128.445 1032.01 Q128.445 1024.88 126.617 1021.34 Q124.811 1017.78 121.177 1017.78 M121.177 1014.07 Q126.987 1014.07 130.043 1018.68 Q133.121 1023.26 133.121 1032.01 Q133.121 1040.74 130.043 1045.35 Q126.987 1049.93 121.177 1049.93 Q115.367 1049.93 112.288 1045.35 Q109.233 1040.74 109.233 1032.01 Q109.233 1023.26 112.288 1018.68 Q115.367 1014.07 121.177 1014.07 Z\" fill=\"#000000\" fill-rule=\"evenodd\" fill-opacity=\"1\" /><path clip-path=\"url(#clip110)\" d=\"M51.6634 631.586 L59.3023 631.586 L59.3023 605.22 L50.9921 606.887 L50.9921 602.628 L59.256 600.961 L63.9319 600.961 L63.9319 631.586 L71.5707 631.586 L71.5707 635.521 L51.6634 635.521 L51.6634 631.586 Z\" fill=\"#000000\" fill-rule=\"evenodd\" fill-opacity=\"1\" /><path clip-path=\"url(#clip110)\" d=\"M91.0151 604.04 Q87.404 604.04 85.5753 607.605 Q83.7697 611.146 83.7697 618.276 Q83.7697 625.382 85.5753 628.947 Q87.404 632.489 91.0151 632.489 Q94.6493 632.489 96.4548 628.947 Q98.2835 625.382 98.2835 618.276 Q98.2835 611.146 96.4548 607.605 Q94.6493 604.04 91.0151 604.04 M91.0151 600.336 Q96.8252 600.336 99.8808 604.943 Q102.959 609.526 102.959 618.276 Q102.959 627.003 99.8808 631.609 Q96.8252 636.193 91.0151 636.193 Q85.2049 636.193 82.1262 631.609 Q79.0707 627.003 79.0707 618.276 Q79.0707 609.526 82.1262 604.943 Q85.2049 600.336 91.0151 600.336 Z\" fill=\"#000000\" fill-rule=\"evenodd\" fill-opacity=\"1\" /><path clip-path=\"url(#clip110)\" d=\"M121.177 604.04 Q117.566 604.04 115.737 607.605 Q113.932 611.146 113.932 618.276 Q113.932 625.382 115.737 628.947 Q117.566 632.489 121.177 632.489 Q124.811 632.489 126.617 628.947 Q128.445 625.382 128.445 618.276 Q128.445 611.146 126.617 607.605 Q124.811 604.04 121.177 604.04 M121.177 600.336 Q126.987 600.336 130.043 604.943 Q133.121 609.526 133.121 618.276 Q133.121 627.003 130.043 631.609 Q126.987 636.193 121.177 636.193 Q115.367 636.193 112.288 631.609 Q109.233 627.003 109.233 618.276 Q109.233 609.526 112.288 604.943 Q115.367 600.336 121.177 600.336 Z\" fill=\"#000000\" fill-rule=\"evenodd\" fill-opacity=\"1\" /><path clip-path=\"url(#clip110)\" d=\"M51.6634 217.849 L59.3023 217.849 L59.3023 191.483 L50.9921 193.15 L50.9921 188.891 L59.256 187.224 L63.9319 187.224 L63.9319 217.849 L71.5707 217.849 L71.5707 221.784 L51.6634 221.784 L51.6634 217.849 Z\" fill=\"#000000\" fill-rule=\"evenodd\" fill-opacity=\"1\" /><path clip-path=\"url(#clip110)\" d=\"M81.0614 187.224 L99.4178 187.224 L99.4178 191.159 L85.3438 191.159 L85.3438 199.631 Q86.3623 199.284 87.3808 199.122 Q88.3993 198.937 89.4178 198.937 Q95.2049 198.937 98.5845 202.108 Q101.964 205.28 101.964 210.696 Q101.964 216.275 98.4919 219.377 Q95.0197 222.455 88.7003 222.455 Q86.5243 222.455 84.2558 222.085 Q82.0105 221.715 79.6031 220.974 L79.6031 216.275 Q81.6864 217.409 83.9086 217.965 Q86.1308 218.52 88.6077 218.52 Q92.6123 218.52 94.9502 216.414 Q97.2882 214.307 97.2882 210.696 Q97.2882 207.085 94.9502 204.979 Q92.6123 202.872 88.6077 202.872 Q86.7327 202.872 84.8577 203.289 Q83.0058 203.705 81.0614 204.585 L81.0614 187.224 Z\" fill=\"#000000\" fill-rule=\"evenodd\" fill-opacity=\"1\" /><path clip-path=\"url(#clip110)\" d=\"M121.177 190.303 Q117.566 190.303 115.737 193.868 Q113.932 197.409 113.932 204.539 Q113.932 211.645 115.737 215.21 Q117.566 218.752 121.177 218.752 Q124.811 218.752 126.617 215.21 Q128.445 211.645 128.445 204.539 Q128.445 197.409 126.617 193.868 Q124.811 190.303 121.177 190.303 M121.177 186.599 Q126.987 186.599 130.043 191.206 Q133.121 195.789 133.121 204.539 Q133.121 213.266 130.043 217.872 Q126.987 222.455 121.177 222.455 Q115.367 222.455 112.288 217.872 Q109.233 213.266 109.233 204.539 Q109.233 195.789 112.288 191.206 Q115.367 186.599 121.177 186.599 Z\" fill=\"#000000\" fill-rule=\"evenodd\" fill-opacity=\"1\" /><polyline clip-path=\"url(#clip112)\" style=\"stroke:#009af9; stroke-linecap:butt; stroke-linejoin:round; stroke-width:4; stroke-opacity:1; fill:none\" points=\"\n",
       "  230.922,87.9763 241.222,99.0093 251.523,110.042 261.823,121.075 272.123,132.108 282.423,143.141 292.723,154.174 303.023,165.207 313.324,176.24 323.624,187.273 \n",
       "  333.924,198.049 344.224,207.216 354.524,216.382 364.824,225.549 375.125,234.716 385.425,243.883 395.725,253.049 406.025,262.216 416.325,271.383 426.625,280.55 \n",
       "  436.926,289.716 447.226,298.883 457.526,308.05 467.826,317.217 478.126,326.383 488.426,335.55 498.727,344.717 509.027,353.883 519.327,363.05 529.627,372.217 \n",
       "  539.927,381.384 550.227,390.55 560.528,399.717 570.828,408.884 581.128,418.051 591.428,427.217 601.728,436.384 612.028,445.551 622.328,454.718 632.629,463.884 \n",
       "  642.929,473.051 653.229,482.218 663.529,491.385 673.829,500.551 684.129,509.718 694.43,518.885 704.73,528.052 715.03,537.218 725.33,546.385 735.63,555.552 \n",
       "  745.93,564.718 756.231,573.885 766.531,583.052 776.831,592.219 787.131,601.385 797.431,610.552 807.731,619.719 818.032,628.886 828.332,638.052 838.632,647.219 \n",
       "  848.932,656.386 859.232,665.553 869.532,674.719 879.833,683.886 890.133,693.053 900.433,702.22 910.733,711.386 921.033,720.553 931.333,729.72 941.634,738.887 \n",
       "  951.934,748.053 962.234,757.22 972.534,766.387 982.834,775.554 993.134,784.72 1003.43,793.887 1013.73,803.054 1024.03,812.22 1034.34,821.387 1044.64,830.554 \n",
       "  1054.94,839.721 1065.24,848.887 1075.54,858.054 1085.84,867.221 1096.14,876.388 1106.44,885.554 1116.74,894.366 1127.04,902.971 1137.34,911.577 1147.64,920.183 \n",
       "  1157.94,928.788 1168.24,937.394 1178.54,945.999 1188.84,954.605 1199.14,963.21 1209.44,971.816 1219.74,980.421 1230.04,989.027 1240.34,997.633 1250.64,1006.24 \n",
       "  1260.94,1014.84 1271.24,1023.45 1281.54,1032.05 1291.84,1040.66 1302.14,1049.27 1312.44,1057.87 1322.74,1066.48 1333.04,1075.08 1343.34,1083.69 1353.64,1092.29 \n",
       "  1363.94,1100.9 1374.24,1109.5 1384.54,1118.11 1394.84,1126.72 1405.14,1135.32 1415.44,1143.93 1425.74,1152.53 1436.04,1160.97 1446.34,1169.24 1456.64,1177.52 \n",
       "  1466.94,1185.8 1477.24,1194.08 1487.54,1202.35 1497.84,1210.63 1508.14,1218.91 1518.44,1227.18 1528.74,1235.46 1539.04,1243.74 1549.34,1251.94 1559.64,1258.96 \n",
       "  1569.94,1265.97 1580.24,1272.99 1590.54,1280.01 1600.84,1287.03 1611.14,1294.04 1621.44,1301.06 1631.74,1308.08 1642.04,1315.09 1652.34,1322.11 1662.64,1329.13 \n",
       "  1672.95,1336.15 1683.25,1343.16 1693.55,1350.18 1703.85,1357.2 1714.15,1364.22 1724.45,1371.23 1734.75,1378.25 1745.05,1385.27 1755.35,1392.29 1765.65,1399.3 \n",
       "  1775.95,1406.32 1786.25,1413.34 1796.55,1420.36 1806.85,1427.37 1817.15,1430.51 1827.45,1433.53 1837.75,1436.55 1848.05,1439.57 1858.35,1442.58 1868.65,1444.5 \n",
       "  1878.95,1444.84 1889.25,1444.94 1899.55,1445.01 1909.85,1445.08 1920.15,1445.14 1930.45,1445.21 1940.75,1445.27 1951.05,1445.34 1961.35,1445.41 1971.65,1445.47 \n",
       "  1981.95,1445.54 1992.25,1445.61 2002.55,1445.67 2012.85,1445.72 2023.15,1445.72 2033.45,1445.72 2043.75,1445.72 2054.05,1445.72 2064.35,1445.72 2074.65,1445.72 \n",
       "  2084.95,1445.72 2095.25,1445.72 2105.55,1445.72 2115.85,1445.72 2126.15,1445.72 2136.45,1445.72 2146.75,1445.72 2157.05,1445.72 2167.35,1445.72 2177.65,1445.72 \n",
       "  2187.95,1445.72 2198.25,1445.72 2208.55,1445.72 2218.85,1445.72 2229.15,1445.72 2239.45,1445.72 2249.75,1445.72 2260.05,1445.72 2270.35,1445.72 2280.65,1445.72 \n",
       "  2290.95,1445.72 \n",
       "  \"/>\n",
       "<path clip-path=\"url(#clip110)\" d=\"\n",
       "M1984.91 198.898 L2279.97 198.898 L2279.97 95.2176 L1984.91 95.2176  Z\n",
       "  \" fill=\"#ffffff\" fill-rule=\"evenodd\" fill-opacity=\"1\"/>\n",
       "<polyline clip-path=\"url(#clip110)\" style=\"stroke:#000000; stroke-linecap:butt; stroke-linejoin:round; stroke-width:4; stroke-opacity:1; fill:none\" points=\"\n",
       "  1984.91,198.898 2279.97,198.898 2279.97,95.2176 1984.91,95.2176 1984.91,198.898 \n",
       "  \"/>\n",
       "<polyline clip-path=\"url(#clip110)\" style=\"stroke:#009af9; stroke-linecap:butt; stroke-linejoin:round; stroke-width:4; stroke-opacity:1; fill:none\" points=\"\n",
       "  2009.17,147.058 2154.75,147.058 \n",
       "  \"/>\n",
       "<path clip-path=\"url(#clip110)\" d=\"M2192.86 166.745 Q2191.05 171.375 2189.34 172.787 Q2187.62 174.199 2184.75 174.199 L2181.35 174.199 L2181.35 170.634 L2183.85 170.634 Q2185.61 170.634 2186.58 169.8 Q2187.55 168.967 2188.73 165.865 L2189.5 163.921 L2179.01 138.412 L2183.53 138.412 L2191.63 158.689 L2199.73 138.412 L2204.24 138.412 L2192.86 166.745 Z\" fill=\"#000000\" fill-rule=\"evenodd\" fill-opacity=\"1\" /><path clip-path=\"url(#clip110)\" d=\"M2211.54 160.402 L2219.17 160.402 L2219.17 134.037 L2210.86 135.703 L2210.86 131.444 L2219.13 129.778 L2223.8 129.778 L2223.8 160.402 L2231.44 160.402 L2231.44 164.338 L2211.54 164.338 L2211.54 160.402 Z\" fill=\"#000000\" fill-rule=\"evenodd\" fill-opacity=\"1\" /></svg>\n"
      ]
     },
     "execution_count": 14,
     "metadata": {},
     "output_type": "execute_result"
    }
   ],
   "source": [
    "x=(0:200.0)\n",
    "\n",
    "plot(x,piecewise_linear.(x,Ref(cuts1)))"
   ]
  },
  {
   "cell_type": "code",
   "execution_count": 15,
   "metadata": {
    "hideCode": false,
    "hidePrompt": false
   },
   "outputs": [
    {
     "data": {
      "image/png": "[encoded data removed]",
      "image/svg+xml": [
       "<?xml version=\"1.0\" encoding=\"utf-8\"?>\n",
       "<svg xmlns=\"http://www.w3.org/2000/svg\" xmlns:xlink=\"http://www.w3.org/1999/xlink\" width=\"600\" height=\"400\" viewBox=\"0 0 2400 1600\">\n",
       "<defs>\n",
       "  <clipPath id=\"clip150\">\n",
       "    <rect x=\"0\" y=\"0\" width=\"2400\" height=\"1600\"/>\n",
       "  </clipPath>\n",
       "</defs>\n",
       "<path clip-path=\"url(#clip150)\" d=\"\n",
       "M0 1600 L2400 1600 L2400 0 L0 0  Z\n",
       "  \" fill=\"#ffffff\" fill-rule=\"evenodd\" fill-opacity=\"1\"/>\n",
       "<defs>\n",
       "  <clipPath id=\"clip151\">\n",
       "    <rect x=\"480\" y=\"0\" width=\"1681\" height=\"1600\"/>\n",
       "  </clipPath>\n",
       "</defs>\n",
       "<path clip-path=\"url(#clip150)\" d=\"\n",
       "M170.857 1486.45 L2352.76 1486.45 L2352.76 47.2441 L170.857 47.2441  Z\n",
       "  \" fill=\"#ffffff\" fill-rule=\"evenodd\" fill-opacity=\"1\"/>\n",
       "<defs>\n",
       "  <clipPath id=\"clip152\">\n",
       "    <rect x=\"170\" y=\"47\" width=\"2183\" height=\"1440\"/>\n",
       "  </clipPath>\n",
       "</defs>\n",
       "<polyline clip-path=\"url(#clip152)\" style=\"stroke:#000000; stroke-linecap:butt; stroke-linejoin:round; stroke-width:2; stroke-opacity:0.1; fill:none\" points=\"\n",
       "  232.609,1486.45 232.609,47.2441 \n",
       "  \"/>\n",
       "<polyline clip-path=\"url(#clip152)\" style=\"stroke:#000000; stroke-linecap:butt; stroke-linejoin:round; stroke-width:2; stroke-opacity:0.1; fill:none\" points=\"\n",
       "  747.208,1486.45 747.208,47.2441 \n",
       "  \"/>\n",
       "<polyline clip-path=\"url(#clip152)\" style=\"stroke:#000000; stroke-linecap:butt; stroke-linejoin:round; stroke-width:2; stroke-opacity:0.1; fill:none\" points=\"\n",
       "  1261.81,1486.45 1261.81,47.2441 \n",
       "  \"/>\n",
       "<polyline clip-path=\"url(#clip152)\" style=\"stroke:#000000; stroke-linecap:butt; stroke-linejoin:round; stroke-width:2; stroke-opacity:0.1; fill:none\" points=\"\n",
       "  1776.41,1486.45 1776.41,47.2441 \n",
       "  \"/>\n",
       "<polyline clip-path=\"url(#clip152)\" style=\"stroke:#000000; stroke-linecap:butt; stroke-linejoin:round; stroke-width:2; stroke-opacity:0.1; fill:none\" points=\"\n",
       "  2291,1486.45 2291,47.2441 \n",
       "  \"/>\n",
       "<polyline clip-path=\"url(#clip150)\" style=\"stroke:#000000; stroke-linecap:butt; stroke-linejoin:round; stroke-width:4; stroke-opacity:1; fill:none\" points=\"\n",
       "  170.857,1486.45 2352.76,1486.45 \n",
       "  \"/>\n",
       "<polyline clip-path=\"url(#clip150)\" style=\"stroke:#000000; stroke-linecap:butt; stroke-linejoin:round; stroke-width:4; stroke-opacity:1; fill:none\" points=\"\n",
       "  232.609,1486.45 232.609,1467.55 \n",
       "  \"/>\n",
       "<polyline clip-path=\"url(#clip150)\" style=\"stroke:#000000; stroke-linecap:butt; stroke-linejoin:round; stroke-width:4; stroke-opacity:1; fill:none\" points=\"\n",
       "  747.208,1486.45 747.208,1467.55 \n",
       "  \"/>\n",
       "<polyline clip-path=\"url(#clip150)\" style=\"stroke:#000000; stroke-linecap:butt; stroke-linejoin:round; stroke-width:4; stroke-opacity:1; fill:none\" points=\"\n",
       "  1261.81,1486.45 1261.81,1467.55 \n",
       "  \"/>\n",
       "<polyline clip-path=\"url(#clip150)\" style=\"stroke:#000000; stroke-linecap:butt; stroke-linejoin:round; stroke-width:4; stroke-opacity:1; fill:none\" points=\"\n",
       "  1776.41,1486.45 1776.41,1467.55 \n",
       "  \"/>\n",
       "<polyline clip-path=\"url(#clip150)\" style=\"stroke:#000000; stroke-linecap:butt; stroke-linejoin:round; stroke-width:4; stroke-opacity:1; fill:none\" points=\"\n",
       "  2291,1486.45 2291,1467.55 \n",
       "  \"/>\n",
       "<path clip-path=\"url(#clip150)\" d=\"M232.609 1515.64 Q228.998 1515.64 227.169 1519.2 Q225.364 1522.75 225.364 1529.87 Q225.364 1536.98 227.169 1540.55 Q228.998 1544.09 232.609 1544.09 Q236.244 1544.09 238.049 1540.55 Q239.878 1536.98 239.878 1529.87 Q239.878 1522.75 238.049 1519.2 Q236.244 1515.64 232.609 1515.64 M232.609 1511.93 Q238.419 1511.93 241.475 1516.54 Q244.554 1521.12 244.554 1529.87 Q244.554 1538.6 241.475 1543.21 Q238.419 1547.79 232.609 1547.79 Q226.799 1547.79 223.72 1543.21 Q220.665 1538.6 220.665 1529.87 Q220.665 1521.12 223.72 1516.54 Q226.799 1511.93 232.609 1511.93 Z\" fill=\"#000000\" fill-rule=\"evenodd\" fill-opacity=\"1\" /><path clip-path=\"url(#clip150)\" d=\"M726.479 1543.18 L742.798 1543.18 L742.798 1547.12 L720.854 1547.12 L720.854 1543.18 Q723.516 1540.43 728.099 1535.8 Q732.706 1531.15 733.886 1529.81 Q736.132 1527.28 737.011 1525.55 Q737.914 1523.79 737.914 1522.1 Q737.914 1519.34 735.97 1517.61 Q734.048 1515.87 730.946 1515.87 Q728.747 1515.87 726.294 1516.63 Q723.863 1517.4 721.085 1518.95 L721.085 1514.23 Q723.909 1513.09 726.363 1512.51 Q728.817 1511.93 730.854 1511.93 Q736.224 1511.93 739.419 1514.62 Q742.613 1517.31 742.613 1521.8 Q742.613 1523.93 741.803 1525.85 Q741.016 1527.74 738.909 1530.34 Q738.331 1531.01 735.229 1534.23 Q732.127 1537.42 726.479 1543.18 Z\" fill=\"#000000\" fill-rule=\"evenodd\" fill-opacity=\"1\" /><path clip-path=\"url(#clip150)\" d=\"M752.659 1512.56 L771.016 1512.56 L771.016 1516.5 L756.942 1516.5 L756.942 1524.97 Q757.96 1524.62 758.979 1524.46 Q759.997 1524.27 761.016 1524.27 Q766.803 1524.27 770.182 1527.44 Q773.562 1530.62 773.562 1536.03 Q773.562 1541.61 770.09 1544.71 Q766.618 1547.79 760.298 1547.79 Q758.122 1547.79 755.854 1547.42 Q753.608 1547.05 751.201 1546.31 L751.201 1541.61 Q753.284 1542.74 755.507 1543.3 Q757.729 1543.86 760.206 1543.86 Q764.21 1543.86 766.548 1541.75 Q768.886 1539.64 768.886 1536.03 Q768.886 1532.42 766.548 1530.31 Q764.21 1528.21 760.206 1528.21 Q758.331 1528.21 756.456 1528.62 Q754.604 1529.04 752.659 1529.92 L752.659 1512.56 Z\" fill=\"#000000\" fill-rule=\"evenodd\" fill-opacity=\"1\" /><path clip-path=\"url(#clip150)\" d=\"M1236.51 1512.56 L1254.86 1512.56 L1254.86 1516.5 L1240.79 1516.5 L1240.79 1524.97 Q1241.81 1524.62 1242.83 1524.46 Q1243.84 1524.27 1244.86 1524.27 Q1250.65 1524.27 1254.03 1527.44 Q1257.41 1530.62 1257.41 1536.03 Q1257.41 1541.61 1253.94 1544.71 Q1250.46 1547.79 1244.14 1547.79 Q1241.97 1547.79 1239.7 1547.42 Q1237.45 1547.05 1235.05 1546.31 L1235.05 1541.61 Q1237.13 1542.74 1239.35 1543.3 Q1241.58 1543.86 1244.05 1543.86 Q1248.06 1543.86 1250.39 1541.75 Q1252.73 1539.64 1252.73 1536.03 Q1252.73 1532.42 1250.39 1530.31 Q1248.06 1528.21 1244.05 1528.21 Q1242.18 1528.21 1240.3 1528.62 Q1238.45 1529.04 1236.51 1529.92 L1236.51 1512.56 Z\" fill=\"#000000\" fill-rule=\"evenodd\" fill-opacity=\"1\" /><path clip-path=\"url(#clip150)\" d=\"M1276.62 1515.64 Q1273.01 1515.64 1271.18 1519.2 Q1269.38 1522.75 1269.38 1529.87 Q1269.38 1536.98 1271.18 1540.55 Q1273.01 1544.09 1276.62 1544.09 Q1280.26 1544.09 1282.06 1540.55 Q1283.89 1536.98 1283.89 1529.87 Q1283.89 1522.75 1282.06 1519.2 Q1280.26 1515.64 1276.62 1515.64 M1276.62 1511.93 Q1282.43 1511.93 1285.49 1516.54 Q1288.57 1521.12 1288.57 1529.87 Q1288.57 1538.6 1285.49 1543.21 Q1282.43 1547.79 1276.62 1547.79 Q1270.81 1547.79 1267.73 1543.21 Q1264.68 1538.6 1264.68 1529.87 Q1264.68 1521.12 1267.73 1516.54 Q1270.81 1511.93 1276.62 1511.93 Z\" fill=\"#000000\" fill-rule=\"evenodd\" fill-opacity=\"1\" /><path clip-path=\"url(#clip150)\" d=\"M1750.26 1512.56 L1772.48 1512.56 L1772.48 1514.55 L1759.94 1547.12 L1755.05 1547.12 L1766.86 1516.5 L1750.26 1516.5 L1750.26 1512.56 Z\" fill=\"#000000\" fill-rule=\"evenodd\" fill-opacity=\"1\" /><path clip-path=\"url(#clip150)\" d=\"M1781.65 1512.56 L1800 1512.56 L1800 1516.5 L1785.93 1516.5 L1785.93 1524.97 Q1786.95 1524.62 1787.97 1524.46 Q1788.99 1524.27 1790 1524.27 Q1795.79 1524.27 1799.17 1527.44 Q1802.55 1530.62 1802.55 1536.03 Q1802.55 1541.61 1799.08 1544.71 Q1795.61 1547.79 1789.29 1547.79 Q1787.11 1547.79 1784.84 1547.42 Q1782.6 1547.05 1780.19 1546.31 L1780.19 1541.61 Q1782.27 1542.74 1784.5 1543.3 Q1786.72 1543.86 1789.19 1543.86 Q1793.2 1543.86 1795.54 1541.75 Q1797.88 1539.64 1797.88 1536.03 Q1797.88 1532.42 1795.54 1530.31 Q1793.2 1528.21 1789.19 1528.21 Q1787.32 1528.21 1785.44 1528.62 Q1783.59 1529.04 1781.65 1529.92 L1781.65 1512.56 Z\" fill=\"#000000\" fill-rule=\"evenodd\" fill-opacity=\"1\" /><path clip-path=\"url(#clip150)\" d=\"M2250.61 1543.18 L2258.25 1543.18 L2258.25 1516.82 L2249.94 1518.49 L2249.94 1514.23 L2258.2 1512.56 L2262.88 1512.56 L2262.88 1543.18 L2270.52 1543.18 L2270.52 1547.12 L2250.61 1547.12 L2250.61 1543.18 Z\" fill=\"#000000\" fill-rule=\"evenodd\" fill-opacity=\"1\" /><path clip-path=\"url(#clip150)\" d=\"M2289.96 1515.64 Q2286.35 1515.64 2284.52 1519.2 Q2282.72 1522.75 2282.72 1529.87 Q2282.72 1536.98 2284.52 1540.55 Q2286.35 1544.09 2289.96 1544.09 Q2293.6 1544.09 2295.4 1540.55 Q2297.23 1536.98 2297.23 1529.87 Q2297.23 1522.75 2295.4 1519.2 Q2293.6 1515.64 2289.96 1515.64 M2289.96 1511.93 Q2295.77 1511.93 2298.83 1516.54 Q2301.91 1521.12 2301.91 1529.87 Q2301.91 1538.6 2298.83 1543.21 Q2295.77 1547.79 2289.96 1547.79 Q2284.15 1547.79 2281.07 1543.21 Q2278.02 1538.6 2278.02 1529.87 Q2278.02 1521.12 2281.07 1516.54 Q2284.15 1511.93 2289.96 1511.93 Z\" fill=\"#000000\" fill-rule=\"evenodd\" fill-opacity=\"1\" /><path clip-path=\"url(#clip150)\" d=\"M2320.12 1515.64 Q2316.51 1515.64 2314.68 1519.2 Q2312.88 1522.75 2312.88 1529.87 Q2312.88 1536.98 2314.68 1540.55 Q2316.51 1544.09 2320.12 1544.09 Q2323.76 1544.09 2325.56 1540.55 Q2327.39 1536.98 2327.39 1529.87 Q2327.39 1522.75 2325.56 1519.2 Q2323.76 1515.64 2320.12 1515.64 M2320.12 1511.93 Q2325.93 1511.93 2328.99 1516.54 Q2332.07 1521.12 2332.07 1529.87 Q2332.07 1538.6 2328.99 1543.21 Q2325.93 1547.79 2320.12 1547.79 Q2314.31 1547.79 2311.24 1543.21 Q2308.18 1538.6 2308.18 1529.87 Q2308.18 1521.12 2311.24 1516.54 Q2314.31 1511.93 2320.12 1511.93 Z\" fill=\"#000000\" fill-rule=\"evenodd\" fill-opacity=\"1\" /><polyline clip-path=\"url(#clip152)\" style=\"stroke:#000000; stroke-linecap:butt; stroke-linejoin:round; stroke-width:2; stroke-opacity:0.1; fill:none\" points=\"\n",
       "  170.857,1445.72 2352.76,1445.72 \n",
       "  \"/>\n",
       "<polyline clip-path=\"url(#clip152)\" style=\"stroke:#000000; stroke-linecap:butt; stroke-linejoin:round; stroke-width:2; stroke-opacity:0.1; fill:none\" points=\"\n",
       "  170.857,1106.28 2352.76,1106.28 \n",
       "  \"/>\n",
       "<polyline clip-path=\"url(#clip152)\" style=\"stroke:#000000; stroke-linecap:butt; stroke-linejoin:round; stroke-width:2; stroke-opacity:0.1; fill:none\" points=\"\n",
       "  170.857,766.846 2352.76,766.846 \n",
       "  \"/>\n",
       "<polyline clip-path=\"url(#clip152)\" style=\"stroke:#000000; stroke-linecap:butt; stroke-linejoin:round; stroke-width:2; stroke-opacity:0.1; fill:none\" points=\"\n",
       "  170.857,427.411 2352.76,427.411 \n",
       "  \"/>\n",
       "<polyline clip-path=\"url(#clip152)\" style=\"stroke:#000000; stroke-linecap:butt; stroke-linejoin:round; stroke-width:2; stroke-opacity:0.1; fill:none\" points=\"\n",
       "  170.857,87.9763 2352.76,87.9763 \n",
       "  \"/>\n",
       "<polyline clip-path=\"url(#clip150)\" style=\"stroke:#000000; stroke-linecap:butt; stroke-linejoin:round; stroke-width:4; stroke-opacity:1; fill:none\" points=\"\n",
       "  170.857,1486.45 170.857,47.2441 \n",
       "  \"/>\n",
       "<polyline clip-path=\"url(#clip150)\" style=\"stroke:#000000; stroke-linecap:butt; stroke-linejoin:round; stroke-width:4; stroke-opacity:1; fill:none\" points=\"\n",
       "  170.857,1445.72 189.755,1445.72 \n",
       "  \"/>\n",
       "<polyline clip-path=\"url(#clip150)\" style=\"stroke:#000000; stroke-linecap:butt; stroke-linejoin:round; stroke-width:4; stroke-opacity:1; fill:none\" points=\"\n",
       "  170.857,1106.28 189.755,1106.28 \n",
       "  \"/>\n",
       "<polyline clip-path=\"url(#clip150)\" style=\"stroke:#000000; stroke-linecap:butt; stroke-linejoin:round; stroke-width:4; stroke-opacity:1; fill:none\" points=\"\n",
       "  170.857,766.846 189.755,766.846 \n",
       "  \"/>\n",
       "<polyline clip-path=\"url(#clip150)\" style=\"stroke:#000000; stroke-linecap:butt; stroke-linejoin:round; stroke-width:4; stroke-opacity:1; fill:none\" points=\"\n",
       "  170.857,427.411 189.755,427.411 \n",
       "  \"/>\n",
       "<polyline clip-path=\"url(#clip150)\" style=\"stroke:#000000; stroke-linecap:butt; stroke-linejoin:round; stroke-width:4; stroke-opacity:1; fill:none\" points=\"\n",
       "  170.857,87.9763 189.755,87.9763 \n",
       "  \"/>\n",
       "<path clip-path=\"url(#clip150)\" d=\"M122.913 1431.51 Q119.302 1431.51 117.473 1435.08 Q115.668 1438.62 115.668 1445.75 Q115.668 1452.86 117.473 1456.42 Q119.302 1459.96 122.913 1459.96 Q126.547 1459.96 128.353 1456.42 Q130.182 1452.86 130.182 1445.75 Q130.182 1438.62 128.353 1435.08 Q126.547 1431.51 122.913 1431.51 M122.913 1427.81 Q128.723 1427.81 131.779 1432.42 Q134.857 1437 134.857 1445.75 Q134.857 1454.48 131.779 1459.08 Q128.723 1463.67 122.913 1463.67 Q117.103 1463.67 114.024 1459.08 Q110.969 1454.48 110.969 1445.75 Q110.969 1437 114.024 1432.42 Q117.103 1427.81 122.913 1427.81 Z\" fill=\"#000000\" fill-rule=\"evenodd\" fill-opacity=\"1\" /><path clip-path=\"url(#clip150)\" d=\"M82.7975 1089 L101.154 1089 L101.154 1092.94 L87.0799 1092.94 L87.0799 1101.41 Q88.0984 1101.06 89.1169 1100.9 Q90.1354 1100.71 91.1539 1100.71 Q96.941 1100.71 100.321 1103.89 Q103.7 1107.06 103.7 1112.47 Q103.7 1118.05 100.228 1121.15 Q96.7558 1124.23 90.4364 1124.23 Q88.2604 1124.23 85.9919 1123.86 Q83.7466 1123.49 81.3392 1122.75 L81.3392 1118.05 Q83.4225 1119.19 85.6447 1119.74 Q87.8669 1120.3 90.3438 1120.3 Q94.3484 1120.3 96.6863 1118.19 Q99.0243 1116.08 99.0243 1112.47 Q99.0243 1108.86 96.6863 1106.76 Q94.3484 1104.65 90.3438 1104.65 Q88.4688 1104.65 86.5938 1105.07 Q84.7419 1105.48 82.7975 1106.36 L82.7975 1089 Z\" fill=\"#000000\" fill-rule=\"evenodd\" fill-opacity=\"1\" /><path clip-path=\"url(#clip150)\" d=\"M122.913 1092.08 Q119.302 1092.08 117.473 1095.64 Q115.668 1099.19 115.668 1106.32 Q115.668 1113.42 117.473 1116.99 Q119.302 1120.53 122.913 1120.53 Q126.547 1120.53 128.353 1116.99 Q130.182 1113.42 130.182 1106.32 Q130.182 1099.19 128.353 1095.64 Q126.547 1092.08 122.913 1092.08 M122.913 1088.38 Q128.723 1088.38 131.779 1092.98 Q134.857 1097.57 134.857 1106.32 Q134.857 1115.04 131.779 1119.65 Q128.723 1124.23 122.913 1124.23 Q117.103 1124.23 114.024 1119.65 Q110.969 1115.04 110.969 1106.32 Q110.969 1097.57 114.024 1092.98 Q117.103 1088.38 122.913 1088.38 Z\" fill=\"#000000\" fill-rule=\"evenodd\" fill-opacity=\"1\" /><path clip-path=\"url(#clip150)\" d=\"M53.3995 780.191 L61.0384 780.191 L61.0384 753.825 L52.7282 755.492 L52.7282 751.233 L60.9921 749.566 L65.668 749.566 L65.668 780.191 L73.3068 780.191 L73.3068 784.126 L53.3995 784.126 L53.3995 780.191 Z\" fill=\"#000000\" fill-rule=\"evenodd\" fill-opacity=\"1\" /><path clip-path=\"url(#clip150)\" d=\"M92.7512 752.645 Q89.1401 752.645 87.3114 756.209 Q85.5058 759.751 85.5058 766.881 Q85.5058 773.987 87.3114 777.552 Q89.1401 781.094 92.7512 781.094 Q96.3854 781.094 98.1909 777.552 Q100.02 773.987 100.02 766.881 Q100.02 759.751 98.1909 756.209 Q96.3854 752.645 92.7512 752.645 M92.7512 748.941 Q98.5613 748.941 101.617 753.547 Q104.696 758.131 104.696 766.881 Q104.696 775.608 101.617 780.214 Q98.5613 784.797 92.7512 784.797 Q86.941 784.797 83.8623 780.214 Q80.8068 775.608 80.8068 766.881 Q80.8068 758.131 83.8623 753.547 Q86.941 748.941 92.7512 748.941 Z\" fill=\"#000000\" fill-rule=\"evenodd\" fill-opacity=\"1\" /><path clip-path=\"url(#clip150)\" d=\"M122.913 752.645 Q119.302 752.645 117.473 756.209 Q115.668 759.751 115.668 766.881 Q115.668 773.987 117.473 777.552 Q119.302 781.094 122.913 781.094 Q126.547 781.094 128.353 777.552 Q130.182 773.987 130.182 766.881 Q130.182 759.751 128.353 756.209 Q126.547 752.645 122.913 752.645 M122.913 748.941 Q128.723 748.941 131.779 753.547 Q134.857 758.131 134.857 766.881 Q134.857 775.608 131.779 780.214 Q128.723 784.797 122.913 784.797 Q117.103 784.797 114.024 780.214 Q110.969 775.608 110.969 766.881 Q110.969 758.131 114.024 753.547 Q117.103 748.941 122.913 748.941 Z\" fill=\"#000000\" fill-rule=\"evenodd\" fill-opacity=\"1\" /><path clip-path=\"url(#clip150)\" d=\"M53.3995 440.756 L61.0384 440.756 L61.0384 414.39 L52.7282 416.057 L52.7282 411.798 L60.9921 410.131 L65.668 410.131 L65.668 440.756 L73.3068 440.756 L73.3068 444.691 L53.3995 444.691 L53.3995 440.756 Z\" fill=\"#000000\" fill-rule=\"evenodd\" fill-opacity=\"1\" /><path clip-path=\"url(#clip150)\" d=\"M82.7975 410.131 L101.154 410.131 L101.154 414.066 L87.0799 414.066 L87.0799 422.538 Q88.0984 422.191 89.1169 422.029 Q90.1354 421.844 91.1539 421.844 Q96.941 421.844 100.321 425.015 Q103.7 428.187 103.7 433.603 Q103.7 439.182 100.228 442.284 Q96.7558 445.362 90.4364 445.362 Q88.2604 445.362 85.9919 444.992 Q83.7466 444.622 81.3392 443.881 L81.3392 439.182 Q83.4225 440.316 85.6447 440.872 Q87.8669 441.427 90.3438 441.427 Q94.3484 441.427 96.6863 439.321 Q99.0243 437.214 99.0243 433.603 Q99.0243 429.992 96.6863 427.886 Q94.3484 425.779 90.3438 425.779 Q88.4688 425.779 86.5938 426.196 Q84.7419 426.613 82.7975 427.492 L82.7975 410.131 Z\" fill=\"#000000\" fill-rule=\"evenodd\" fill-opacity=\"1\" /><path clip-path=\"url(#clip150)\" d=\"M122.913 413.21 Q119.302 413.21 117.473 416.775 Q115.668 420.316 115.668 427.446 Q115.668 434.552 117.473 438.117 Q119.302 441.659 122.913 441.659 Q126.547 441.659 128.353 438.117 Q130.182 434.552 130.182 427.446 Q130.182 420.316 128.353 416.775 Q126.547 413.21 122.913 413.21 M122.913 409.506 Q128.723 409.506 131.779 414.113 Q134.857 418.696 134.857 427.446 Q134.857 436.173 131.779 440.779 Q128.723 445.362 122.913 445.362 Q117.103 445.362 114.024 440.779 Q110.969 436.173 110.969 427.446 Q110.969 418.696 114.024 414.113 Q117.103 409.506 122.913 409.506 Z\" fill=\"#000000\" fill-rule=\"evenodd\" fill-opacity=\"1\" /><path clip-path=\"url(#clip150)\" d=\"M56.6171 101.321 L72.9365 101.321 L72.9365 105.256 L50.9921 105.256 L50.9921 101.321 Q53.6541 98.5665 58.2375 93.9369 Q62.8439 89.2841 64.0245 87.9416 Q66.2698 85.4184 67.1494 83.6823 Q68.0522 81.9231 68.0522 80.2333 Q68.0522 77.4786 66.1078 75.7425 Q64.1865 74.0064 61.0847 74.0064 Q58.8856 74.0064 56.4319 74.7703 Q54.0014 75.5342 51.2236 77.0851 L51.2236 72.3629 Q54.0477 71.2287 56.5014 70.65 Q58.955 70.0713 60.9921 70.0713 Q66.3624 70.0713 69.5568 72.7565 Q72.7513 75.4416 72.7513 79.9323 Q72.7513 82.062 71.9411 83.9832 Q71.1541 85.8814 69.0476 88.474 Q68.4689 89.1453 65.367 92.3628 Q62.2652 95.5573 56.6171 101.321 Z\" fill=\"#000000\" fill-rule=\"evenodd\" fill-opacity=\"1\" /><path clip-path=\"url(#clip150)\" d=\"M92.7512 73.775 Q89.1401 73.775 87.3114 77.3398 Q85.5058 80.8814 85.5058 88.011 Q85.5058 95.1174 87.3114 98.6822 Q89.1401 102.224 92.7512 102.224 Q96.3854 102.224 98.1909 98.6822 Q100.02 95.1174 100.02 88.011 Q100.02 80.8814 98.1909 77.3398 Q96.3854 73.775 92.7512 73.775 M92.7512 70.0713 Q98.5613 70.0713 101.617 74.6777 Q104.696 79.261 104.696 88.011 Q104.696 96.7378 101.617 101.344 Q98.5613 105.928 92.7512 105.928 Q86.941 105.928 83.8623 101.344 Q80.8068 96.7378 80.8068 88.011 Q80.8068 79.261 83.8623 74.6777 Q86.941 70.0713 92.7512 70.0713 Z\" fill=\"#000000\" fill-rule=\"evenodd\" fill-opacity=\"1\" /><path clip-path=\"url(#clip150)\" d=\"M122.913 73.775 Q119.302 73.775 117.473 77.3398 Q115.668 80.8814 115.668 88.011 Q115.668 95.1174 117.473 98.6822 Q119.302 102.224 122.913 102.224 Q126.547 102.224 128.353 98.6822 Q130.182 95.1174 130.182 88.011 Q130.182 80.8814 128.353 77.3398 Q126.547 73.775 122.913 73.775 M122.913 70.0713 Q128.723 70.0713 131.779 74.6777 Q134.857 79.261 134.857 88.011 Q134.857 96.7378 131.779 101.344 Q128.723 105.928 122.913 105.928 Q117.103 105.928 114.024 101.344 Q110.969 96.7378 110.969 88.011 Q110.969 79.261 114.024 74.6777 Q117.103 70.0713 122.913 70.0713 Z\" fill=\"#000000\" fill-rule=\"evenodd\" fill-opacity=\"1\" /><polyline clip-path=\"url(#clip152)\" style=\"stroke:#009af9; stroke-linecap:butt; stroke-linejoin:round; stroke-width:8; stroke-opacity:1; fill:none\" points=\"\n",
       "  232.609,395.368 253.193,409.942 273.777,424.515 294.361,439.088 314.945,453.48 335.529,467.872 356.113,482.264 376.697,496.656 397.281,511.048 417.865,525.44 \n",
       "  438.449,539.832 459.033,554.224 479.617,568.616 500.201,583.008 520.785,597.4 541.368,611.792 561.952,626.184 582.536,640.576 603.12,654.968 623.704,669.36 \n",
       "  644.288,683.752 664.872,698.144 685.456,712.536 706.04,726.928 726.624,741.32 747.208,755.713 767.792,770.105 788.376,784.497 808.96,798.889 829.544,813.281 \n",
       "  850.128,827.673 870.712,842.065 891.296,856.457 911.88,870.849 932.463,885.241 953.047,899.633 973.631,914.025 994.215,928.417 1014.8,942.809 1035.38,957.201 \n",
       "  1055.97,971.593 1076.55,985.985 1097.14,1000.38 1117.72,1014.77 1138.3,1029.16 1158.89,1043.55 1179.47,1057.95 1200.05,1072.34 1220.64,1085.82 1241.22,1098.86 \n",
       "  1261.81,1111.89 1282.39,1124.93 1302.97,1137.96 1323.56,1150.81 1344.14,1163.12 1364.73,1175.44 1385.31,1187.56 1405.89,1198.52 1426.48,1209.47 1447.06,1220.42 \n",
       "  1467.65,1231.37 1488.23,1242.33 1508.81,1253.28 1529.4,1263.05 1549.98,1271.83 1570.57,1280.61 1591.15,1289.39 1611.73,1298.17 1632.32,1306.95 1652.9,1315.73 \n",
       "  1673.49,1323.97 1694.07,1331.85 1714.65,1339.72 1735.24,1347.6 1755.82,1355.47 1776.41,1363.35 1796.99,1371.22 1817.57,1376.2 1838.16,1381.09 1858.74,1385.98 \n",
       "  1879.33,1390.86 1899.91,1395.75 1920.49,1400.64 1941.08,1405.53 1961.66,1410.32 1982.24,1414.13 2002.83,1417.93 2023.41,1421.73 2044,1425.53 2064.58,1429.33 \n",
       "  2085.16,1433.13 2105.75,1436.94 2126.33,1438.47 2146.92,1439.83 2167.5,1441.19 2188.08,1442.55 2208.67,1443.72 2229.25,1444.81 2249.84,1445.53 2270.42,1445.72 \n",
       "  2291,1445.72 \n",
       "  \"/>\n",
       "<polyline clip-path=\"url(#clip152)\" style=\"stroke:#e26f46; stroke-linecap:butt; stroke-linejoin:round; stroke-width:4; stroke-opacity:1; fill:none\" points=\"\n",
       "  232.609,87.9763 253.193,114.995 273.777,141.743 294.361,168.219 314.945,194.423 335.529,220.356 356.113,246.017 376.697,271.407 397.281,296.525 417.865,321.372 \n",
       "  438.449,345.947 459.033,370.25 479.617,394.282 500.201,418.043 520.785,441.532 541.368,464.749 561.952,487.695 582.536,510.369 603.12,532.772 623.704,554.903 \n",
       "  644.288,576.762 664.872,598.351 685.456,619.667 706.04,640.712 726.624,661.485 747.208,681.987 767.792,702.218 788.376,722.176 808.96,741.864 829.544,761.279 \n",
       "  850.128,780.423 870.712,799.296 891.296,817.897 911.88,836.226 932.463,854.284 953.047,872.071 973.631,889.586 994.215,906.829 1014.8,923.801 1035.38,940.501 \n",
       "  1055.97,956.93 1076.55,973.087 1097.14,988.972 1117.72,1004.59 1138.3,1019.93 1158.89,1035 1179.47,1049.8 1200.05,1064.33 1220.64,1078.58 1241.22,1092.57 \n",
       "  1261.81,1106.28 1282.39,1119.72 1302.97,1132.89 1323.56,1145.79 1344.14,1158.42 1364.73,1170.77 1385.31,1182.86 1405.89,1194.67 1426.48,1206.21 1447.06,1217.48 \n",
       "  1467.65,1228.48 1488.23,1239.2 1508.81,1249.66 1529.4,1259.84 1549.98,1269.75 1570.57,1279.39 1591.15,1288.76 1611.73,1297.86 1632.32,1306.68 1652.9,1315.24 \n",
       "  1673.49,1323.52 1694.07,1331.53 1714.65,1339.27 1735.24,1346.74 1755.82,1353.93 1776.41,1360.86 1796.99,1367.51 1817.57,1373.89 1838.16,1380 1858.74,1385.84 \n",
       "  1879.33,1391.41 1899.91,1396.7 1920.49,1401.72 1941.08,1406.48 1961.66,1410.96 1982.24,1415.17 2002.83,1419.1 2023.41,1422.77 2044,1426.16 2064.58,1429.29 \n",
       "  2085.16,1432.14 2105.75,1434.72 2126.33,1437.03 2146.92,1439.06 2167.5,1440.83 2188.08,1442.32 2208.67,1443.54 2229.25,1444.49 2249.84,1445.17 2270.42,1445.58 \n",
       "  2291,1445.72 \n",
       "  \"/>\n",
       "<path clip-path=\"url(#clip150)\" d=\"\n",
       "M1985.16 250.738 L2280.03 250.738 L2280.03 95.2176 L1985.16 95.2176  Z\n",
       "  \" fill=\"#ffffff\" fill-rule=\"evenodd\" fill-opacity=\"1\"/>\n",
       "<polyline clip-path=\"url(#clip150)\" style=\"stroke:#000000; stroke-linecap:butt; stroke-linejoin:round; stroke-width:4; stroke-opacity:1; fill:none\" points=\"\n",
       "  1985.16,250.738 2280.03,250.738 2280.03,95.2176 1985.16,95.2176 1985.16,250.738 \n",
       "  \"/>\n",
       "<polyline clip-path=\"url(#clip150)\" style=\"stroke:#009af9; stroke-linecap:butt; stroke-linejoin:round; stroke-width:4; stroke-opacity:1; fill:none\" points=\"\n",
       "  2009.41,147.058 2154.87,147.058 \n",
       "  \"/>\n",
       "<path clip-path=\"url(#clip150)\" d=\"M2192.95 166.745 Q2191.15 171.375 2189.43 172.787 Q2187.72 174.199 2184.85 174.199 L2181.45 174.199 L2181.45 170.634 L2183.95 170.634 Q2185.71 170.634 2186.68 169.8 Q2187.65 168.967 2188.83 165.865 L2189.6 163.921 L2179.11 138.412 L2183.62 138.412 L2191.72 158.689 L2199.83 138.412 L2204.34 138.412 L2192.95 166.745 Z\" fill=\"#000000\" fill-rule=\"evenodd\" fill-opacity=\"1\" /><path clip-path=\"url(#clip150)\" d=\"M2211.63 160.402 L2219.27 160.402 L2219.27 134.037 L2210.96 135.703 L2210.96 131.444 L2219.22 129.778 L2223.9 129.778 L2223.9 160.402 L2231.54 160.402 L2231.54 164.338 L2211.63 164.338 L2211.63 160.402 Z\" fill=\"#000000\" fill-rule=\"evenodd\" fill-opacity=\"1\" /><polyline clip-path=\"url(#clip150)\" style=\"stroke:#e26f46; stroke-linecap:butt; stroke-linejoin:round; stroke-width:4; stroke-opacity:1; fill:none\" points=\"\n",
       "  2009.41,198.898 2154.87,198.898 \n",
       "  \"/>\n",
       "<path clip-path=\"url(#clip150)\" d=\"M2192.95 218.585 Q2191.15 223.215 2189.43 224.627 Q2187.72 226.039 2184.85 226.039 L2181.45 226.039 L2181.45 222.474 L2183.95 222.474 Q2185.71 222.474 2186.68 221.64 Q2187.65 220.807 2188.83 217.705 L2189.6 215.761 L2179.11 190.252 L2183.62 190.252 L2191.72 210.529 L2199.83 190.252 L2204.34 190.252 L2192.95 218.585 Z\" fill=\"#000000\" fill-rule=\"evenodd\" fill-opacity=\"1\" /><path clip-path=\"url(#clip150)\" d=\"M2214.85 212.242 L2231.17 212.242 L2231.17 216.178 L2209.22 216.178 L2209.22 212.242 Q2211.89 209.488 2216.47 204.858 Q2221.08 200.205 2222.26 198.863 Q2224.5 196.34 2225.38 194.604 Q2226.28 192.844 2226.28 191.155 Q2226.28 188.4 2224.34 186.664 Q2222.42 184.928 2219.32 184.928 Q2217.12 184.928 2214.66 185.692 Q2212.23 186.455 2209.46 188.006 L2209.46 183.284 Q2212.28 182.15 2214.73 181.571 Q2217.19 180.993 2219.22 180.993 Q2224.59 180.993 2227.79 183.678 Q2230.98 186.363 2230.98 190.854 Q2230.98 192.983 2230.17 194.905 Q2229.39 196.803 2227.28 199.395 Q2226.7 200.067 2223.6 203.284 Q2220.5 206.479 2214.85 212.242 Z\" fill=\"#000000\" fill-rule=\"evenodd\" fill-opacity=\"1\" /></svg>\n"
      ],
      "text/html": [
       "<?xml version=\"1.0\" encoding=\"utf-8\"?>\n",
       "<svg xmlns=\"http://www.w3.org/2000/svg\" xmlns:xlink=\"http://www.w3.org/1999/xlink\" width=\"600\" height=\"400\" viewBox=\"0 0 2400 1600\">\n",
       "<defs>\n",
       "  <clipPath id=\"clip200\">\n",
       "    <rect x=\"0\" y=\"0\" width=\"2400\" height=\"1600\"/>\n",
       "  </clipPath>\n",
       "</defs>\n",
       "<path clip-path=\"url(#clip200)\" d=\"\n",
       "M0 1600 L2400 1600 L2400 0 L0 0  Z\n",
       "  \" fill=\"#ffffff\" fill-rule=\"evenodd\" fill-opacity=\"1\"/>\n",
       "<defs>\n",
       "  <clipPath id=\"clip201\">\n",
       "    <rect x=\"480\" y=\"0\" width=\"1681\" height=\"1600\"/>\n",
       "  </clipPath>\n",
       "</defs>\n",
       "<path clip-path=\"url(#clip200)\" d=\"\n",
       "M170.857 1486.45 L2352.76 1486.45 L2352.76 47.2441 L170.857 47.2441  Z\n",
       "  \" fill=\"#ffffff\" fill-rule=\"evenodd\" fill-opacity=\"1\"/>\n",
       "<defs>\n",
       "  <clipPath id=\"clip202\">\n",
       "    <rect x=\"170\" y=\"47\" width=\"2183\" height=\"1440\"/>\n",
       "  </clipPath>\n",
       "</defs>\n",
       "<polyline clip-path=\"url(#clip202)\" style=\"stroke:#000000; stroke-linecap:butt; stroke-linejoin:round; stroke-width:2; stroke-opacity:0.1; fill:none\" points=\"\n",
       "  232.609,1486.45 232.609,47.2441 \n",
       "  \"/>\n",
       "<polyline clip-path=\"url(#clip202)\" style=\"stroke:#000000; stroke-linecap:butt; stroke-linejoin:round; stroke-width:2; stroke-opacity:0.1; fill:none\" points=\"\n",
       "  747.208,1486.45 747.208,47.2441 \n",
       "  \"/>\n",
       "<polyline clip-path=\"url(#clip202)\" style=\"stroke:#000000; stroke-linecap:butt; stroke-linejoin:round; stroke-width:2; stroke-opacity:0.1; fill:none\" points=\"\n",
       "  1261.81,1486.45 1261.81,47.2441 \n",
       "  \"/>\n",
       "<polyline clip-path=\"url(#clip202)\" style=\"stroke:#000000; stroke-linecap:butt; stroke-linejoin:round; stroke-width:2; stroke-opacity:0.1; fill:none\" points=\"\n",
       "  1776.41,1486.45 1776.41,47.2441 \n",
       "  \"/>\n",
       "<polyline clip-path=\"url(#clip202)\" style=\"stroke:#000000; stroke-linecap:butt; stroke-linejoin:round; stroke-width:2; stroke-opacity:0.1; fill:none\" points=\"\n",
       "  2291,1486.45 2291,47.2441 \n",
       "  \"/>\n",
       "<polyline clip-path=\"url(#clip200)\" style=\"stroke:#000000; stroke-linecap:butt; stroke-linejoin:round; stroke-width:4; stroke-opacity:1; fill:none\" points=\"\n",
       "  170.857,1486.45 2352.76,1486.45 \n",
       "  \"/>\n",
       "<polyline clip-path=\"url(#clip200)\" style=\"stroke:#000000; stroke-linecap:butt; stroke-linejoin:round; stroke-width:4; stroke-opacity:1; fill:none\" points=\"\n",
       "  232.609,1486.45 232.609,1467.55 \n",
       "  \"/>\n",
       "<polyline clip-path=\"url(#clip200)\" style=\"stroke:#000000; stroke-linecap:butt; stroke-linejoin:round; stroke-width:4; stroke-opacity:1; fill:none\" points=\"\n",
       "  747.208,1486.45 747.208,1467.55 \n",
       "  \"/>\n",
       "<polyline clip-path=\"url(#clip200)\" style=\"stroke:#000000; stroke-linecap:butt; stroke-linejoin:round; stroke-width:4; stroke-opacity:1; fill:none\" points=\"\n",
       "  1261.81,1486.45 1261.81,1467.55 \n",
       "  \"/>\n",
       "<polyline clip-path=\"url(#clip200)\" style=\"stroke:#000000; stroke-linecap:butt; stroke-linejoin:round; stroke-width:4; stroke-opacity:1; fill:none\" points=\"\n",
       "  1776.41,1486.45 1776.41,1467.55 \n",
       "  \"/>\n",
       "<polyline clip-path=\"url(#clip200)\" style=\"stroke:#000000; stroke-linecap:butt; stroke-linejoin:round; stroke-width:4; stroke-opacity:1; fill:none\" points=\"\n",
       "  2291,1486.45 2291,1467.55 \n",
       "  \"/>\n",
       "<path clip-path=\"url(#clip200)\" d=\"M232.609 1515.64 Q228.998 1515.64 227.169 1519.2 Q225.364 1522.75 225.364 1529.87 Q225.364 1536.98 227.169 1540.55 Q228.998 1544.09 232.609 1544.09 Q236.244 1544.09 238.049 1540.55 Q239.878 1536.98 239.878 1529.87 Q239.878 1522.75 238.049 1519.2 Q236.244 1515.64 232.609 1515.64 M232.609 1511.93 Q238.419 1511.93 241.475 1516.54 Q244.554 1521.12 244.554 1529.87 Q244.554 1538.6 241.475 1543.21 Q238.419 1547.79 232.609 1547.79 Q226.799 1547.79 223.72 1543.21 Q220.665 1538.6 220.665 1529.87 Q220.665 1521.12 223.72 1516.54 Q226.799 1511.93 232.609 1511.93 Z\" fill=\"#000000\" fill-rule=\"evenodd\" fill-opacity=\"1\" /><path clip-path=\"url(#clip200)\" d=\"M726.479 1543.18 L742.798 1543.18 L742.798 1547.12 L720.854 1547.12 L720.854 1543.18 Q723.516 1540.43 728.099 1535.8 Q732.706 1531.15 733.886 1529.81 Q736.132 1527.28 737.011 1525.55 Q737.914 1523.79 737.914 1522.1 Q737.914 1519.34 735.97 1517.61 Q734.048 1515.87 730.946 1515.87 Q728.747 1515.87 726.294 1516.63 Q723.863 1517.4 721.085 1518.95 L721.085 1514.23 Q723.909 1513.09 726.363 1512.51 Q728.817 1511.93 730.854 1511.93 Q736.224 1511.93 739.419 1514.62 Q742.613 1517.31 742.613 1521.8 Q742.613 1523.93 741.803 1525.85 Q741.016 1527.74 738.909 1530.34 Q738.331 1531.01 735.229 1534.23 Q732.127 1537.42 726.479 1543.18 Z\" fill=\"#000000\" fill-rule=\"evenodd\" fill-opacity=\"1\" /><path clip-path=\"url(#clip200)\" d=\"M752.659 1512.56 L771.016 1512.56 L771.016 1516.5 L756.942 1516.5 L756.942 1524.97 Q757.96 1524.62 758.979 1524.46 Q759.997 1524.27 761.016 1524.27 Q766.803 1524.27 770.182 1527.44 Q773.562 1530.62 773.562 1536.03 Q773.562 1541.61 770.09 1544.71 Q766.618 1547.79 760.298 1547.79 Q758.122 1547.79 755.854 1547.42 Q753.608 1547.05 751.201 1546.31 L751.201 1541.61 Q753.284 1542.74 755.507 1543.3 Q757.729 1543.86 760.206 1543.86 Q764.21 1543.86 766.548 1541.75 Q768.886 1539.64 768.886 1536.03 Q768.886 1532.42 766.548 1530.31 Q764.21 1528.21 760.206 1528.21 Q758.331 1528.21 756.456 1528.62 Q754.604 1529.04 752.659 1529.92 L752.659 1512.56 Z\" fill=\"#000000\" fill-rule=\"evenodd\" fill-opacity=\"1\" /><path clip-path=\"url(#clip200)\" d=\"M1236.51 1512.56 L1254.86 1512.56 L1254.86 1516.5 L1240.79 1516.5 L1240.79 1524.97 Q1241.81 1524.62 1242.83 1524.46 Q1243.84 1524.27 1244.86 1524.27 Q1250.65 1524.27 1254.03 1527.44 Q1257.41 1530.62 1257.41 1536.03 Q1257.41 1541.61 1253.94 1544.71 Q1250.46 1547.79 1244.14 1547.79 Q1241.97 1547.79 1239.7 1547.42 Q1237.45 1547.05 1235.05 1546.31 L1235.05 1541.61 Q1237.13 1542.74 1239.35 1543.3 Q1241.58 1543.86 1244.05 1543.86 Q1248.06 1543.86 1250.39 1541.75 Q1252.73 1539.64 1252.73 1536.03 Q1252.73 1532.42 1250.39 1530.31 Q1248.06 1528.21 1244.05 1528.21 Q1242.18 1528.21 1240.3 1528.62 Q1238.45 1529.04 1236.51 1529.92 L1236.51 1512.56 Z\" fill=\"#000000\" fill-rule=\"evenodd\" fill-opacity=\"1\" /><path clip-path=\"url(#clip200)\" d=\"M1276.62 1515.64 Q1273.01 1515.64 1271.18 1519.2 Q1269.38 1522.75 1269.38 1529.87 Q1269.38 1536.98 1271.18 1540.55 Q1273.01 1544.09 1276.62 1544.09 Q1280.26 1544.09 1282.06 1540.55 Q1283.89 1536.98 1283.89 1529.87 Q1283.89 1522.75 1282.06 1519.2 Q1280.26 1515.64 1276.62 1515.64 M1276.62 1511.93 Q1282.43 1511.93 1285.49 1516.54 Q1288.57 1521.12 1288.57 1529.87 Q1288.57 1538.6 1285.49 1543.21 Q1282.43 1547.79 1276.62 1547.79 Q1270.81 1547.79 1267.73 1543.21 Q1264.68 1538.6 1264.68 1529.87 Q1264.68 1521.12 1267.73 1516.54 Q1270.81 1511.93 1276.62 1511.93 Z\" fill=\"#000000\" fill-rule=\"evenodd\" fill-opacity=\"1\" /><path clip-path=\"url(#clip200)\" d=\"M1750.26 1512.56 L1772.48 1512.56 L1772.48 1514.55 L1759.94 1547.12 L1755.05 1547.12 L1766.86 1516.5 L1750.26 1516.5 L1750.26 1512.56 Z\" fill=\"#000000\" fill-rule=\"evenodd\" fill-opacity=\"1\" /><path clip-path=\"url(#clip200)\" d=\"M1781.65 1512.56 L1800 1512.56 L1800 1516.5 L1785.93 1516.5 L1785.93 1524.97 Q1786.95 1524.62 1787.97 1524.46 Q1788.99 1524.27 1790 1524.27 Q1795.79 1524.27 1799.17 1527.44 Q1802.55 1530.62 1802.55 1536.03 Q1802.55 1541.61 1799.08 1544.71 Q1795.61 1547.79 1789.29 1547.79 Q1787.11 1547.79 1784.84 1547.42 Q1782.6 1547.05 1780.19 1546.31 L1780.19 1541.61 Q1782.27 1542.74 1784.5 1543.3 Q1786.72 1543.86 1789.19 1543.86 Q1793.2 1543.86 1795.54 1541.75 Q1797.88 1539.64 1797.88 1536.03 Q1797.88 1532.42 1795.54 1530.31 Q1793.2 1528.21 1789.19 1528.21 Q1787.32 1528.21 1785.44 1528.62 Q1783.59 1529.04 1781.65 1529.92 L1781.65 1512.56 Z\" fill=\"#000000\" fill-rule=\"evenodd\" fill-opacity=\"1\" /><path clip-path=\"url(#clip200)\" d=\"M2250.61 1543.18 L2258.25 1543.18 L2258.25 1516.82 L2249.94 1518.49 L2249.94 1514.23 L2258.2 1512.56 L2262.88 1512.56 L2262.88 1543.18 L2270.52 1543.18 L2270.52 1547.12 L2250.61 1547.12 L2250.61 1543.18 Z\" fill=\"#000000\" fill-rule=\"evenodd\" fill-opacity=\"1\" /><path clip-path=\"url(#clip200)\" d=\"M2289.96 1515.64 Q2286.35 1515.64 2284.52 1519.2 Q2282.72 1522.75 2282.72 1529.87 Q2282.72 1536.98 2284.52 1540.55 Q2286.35 1544.09 2289.96 1544.09 Q2293.6 1544.09 2295.4 1540.55 Q2297.23 1536.98 2297.23 1529.87 Q2297.23 1522.75 2295.4 1519.2 Q2293.6 1515.64 2289.96 1515.64 M2289.96 1511.93 Q2295.77 1511.93 2298.83 1516.54 Q2301.91 1521.12 2301.91 1529.87 Q2301.91 1538.6 2298.83 1543.21 Q2295.77 1547.79 2289.96 1547.79 Q2284.15 1547.79 2281.07 1543.21 Q2278.02 1538.6 2278.02 1529.87 Q2278.02 1521.12 2281.07 1516.54 Q2284.15 1511.93 2289.96 1511.93 Z\" fill=\"#000000\" fill-rule=\"evenodd\" fill-opacity=\"1\" /><path clip-path=\"url(#clip200)\" d=\"M2320.12 1515.64 Q2316.51 1515.64 2314.68 1519.2 Q2312.88 1522.75 2312.88 1529.87 Q2312.88 1536.98 2314.68 1540.55 Q2316.51 1544.09 2320.12 1544.09 Q2323.76 1544.09 2325.56 1540.55 Q2327.39 1536.98 2327.39 1529.87 Q2327.39 1522.75 2325.56 1519.2 Q2323.76 1515.64 2320.12 1515.64 M2320.12 1511.93 Q2325.93 1511.93 2328.99 1516.54 Q2332.07 1521.12 2332.07 1529.87 Q2332.07 1538.6 2328.99 1543.21 Q2325.93 1547.79 2320.12 1547.79 Q2314.31 1547.79 2311.24 1543.21 Q2308.18 1538.6 2308.18 1529.87 Q2308.18 1521.12 2311.24 1516.54 Q2314.31 1511.93 2320.12 1511.93 Z\" fill=\"#000000\" fill-rule=\"evenodd\" fill-opacity=\"1\" /><polyline clip-path=\"url(#clip202)\" style=\"stroke:#000000; stroke-linecap:butt; stroke-linejoin:round; stroke-width:2; stroke-opacity:0.1; fill:none\" points=\"\n",
       "  170.857,1445.72 2352.76,1445.72 \n",
       "  \"/>\n",
       "<polyline clip-path=\"url(#clip202)\" style=\"stroke:#000000; stroke-linecap:butt; stroke-linejoin:round; stroke-width:2; stroke-opacity:0.1; fill:none\" points=\"\n",
       "  170.857,1106.28 2352.76,1106.28 \n",
       "  \"/>\n",
       "<polyline clip-path=\"url(#clip202)\" style=\"stroke:#000000; stroke-linecap:butt; stroke-linejoin:round; stroke-width:2; stroke-opacity:0.1; fill:none\" points=\"\n",
       "  170.857,766.846 2352.76,766.846 \n",
       "  \"/>\n",
       "<polyline clip-path=\"url(#clip202)\" style=\"stroke:#000000; stroke-linecap:butt; stroke-linejoin:round; stroke-width:2; stroke-opacity:0.1; fill:none\" points=\"\n",
       "  170.857,427.411 2352.76,427.411 \n",
       "  \"/>\n",
       "<polyline clip-path=\"url(#clip202)\" style=\"stroke:#000000; stroke-linecap:butt; stroke-linejoin:round; stroke-width:2; stroke-opacity:0.1; fill:none\" points=\"\n",
       "  170.857,87.9763 2352.76,87.9763 \n",
       "  \"/>\n",
       "<polyline clip-path=\"url(#clip200)\" style=\"stroke:#000000; stroke-linecap:butt; stroke-linejoin:round; stroke-width:4; stroke-opacity:1; fill:none\" points=\"\n",
       "  170.857,1486.45 170.857,47.2441 \n",
       "  \"/>\n",
       "<polyline clip-path=\"url(#clip200)\" style=\"stroke:#000000; stroke-linecap:butt; stroke-linejoin:round; stroke-width:4; stroke-opacity:1; fill:none\" points=\"\n",
       "  170.857,1445.72 189.755,1445.72 \n",
       "  \"/>\n",
       "<polyline clip-path=\"url(#clip200)\" style=\"stroke:#000000; stroke-linecap:butt; stroke-linejoin:round; stroke-width:4; stroke-opacity:1; fill:none\" points=\"\n",
       "  170.857,1106.28 189.755,1106.28 \n",
       "  \"/>\n",
       "<polyline clip-path=\"url(#clip200)\" style=\"stroke:#000000; stroke-linecap:butt; stroke-linejoin:round; stroke-width:4; stroke-opacity:1; fill:none\" points=\"\n",
       "  170.857,766.846 189.755,766.846 \n",
       "  \"/>\n",
       "<polyline clip-path=\"url(#clip200)\" style=\"stroke:#000000; stroke-linecap:butt; stroke-linejoin:round; stroke-width:4; stroke-opacity:1; fill:none\" points=\"\n",
       "  170.857,427.411 189.755,427.411 \n",
       "  \"/>\n",
       "<polyline clip-path=\"url(#clip200)\" style=\"stroke:#000000; stroke-linecap:butt; stroke-linejoin:round; stroke-width:4; stroke-opacity:1; fill:none\" points=\"\n",
       "  170.857,87.9763 189.755,87.9763 \n",
       "  \"/>\n",
       "<path clip-path=\"url(#clip200)\" d=\"M122.913 1431.51 Q119.302 1431.51 117.473 1435.08 Q115.668 1438.62 115.668 1445.75 Q115.668 1452.86 117.473 1456.42 Q119.302 1459.96 122.913 1459.96 Q126.547 1459.96 128.353 1456.42 Q130.182 1452.86 130.182 1445.75 Q130.182 1438.62 128.353 1435.08 Q126.547 1431.51 122.913 1431.51 M122.913 1427.81 Q128.723 1427.81 131.779 1432.42 Q134.857 1437 134.857 1445.75 Q134.857 1454.48 131.779 1459.08 Q128.723 1463.67 122.913 1463.67 Q117.103 1463.67 114.024 1459.08 Q110.969 1454.48 110.969 1445.75 Q110.969 1437 114.024 1432.42 Q117.103 1427.81 122.913 1427.81 Z\" fill=\"#000000\" fill-rule=\"evenodd\" fill-opacity=\"1\" /><path clip-path=\"url(#clip200)\" d=\"M82.7975 1089 L101.154 1089 L101.154 1092.94 L87.0799 1092.94 L87.0799 1101.41 Q88.0984 1101.06 89.1169 1100.9 Q90.1354 1100.71 91.1539 1100.71 Q96.941 1100.71 100.321 1103.89 Q103.7 1107.06 103.7 1112.47 Q103.7 1118.05 100.228 1121.15 Q96.7558 1124.23 90.4364 1124.23 Q88.2604 1124.23 85.9919 1123.86 Q83.7466 1123.49 81.3392 1122.75 L81.3392 1118.05 Q83.4225 1119.19 85.6447 1119.74 Q87.8669 1120.3 90.3438 1120.3 Q94.3484 1120.3 96.6863 1118.19 Q99.0243 1116.08 99.0243 1112.47 Q99.0243 1108.86 96.6863 1106.76 Q94.3484 1104.65 90.3438 1104.65 Q88.4688 1104.65 86.5938 1105.07 Q84.7419 1105.48 82.7975 1106.36 L82.7975 1089 Z\" fill=\"#000000\" fill-rule=\"evenodd\" fill-opacity=\"1\" /><path clip-path=\"url(#clip200)\" d=\"M122.913 1092.08 Q119.302 1092.08 117.473 1095.64 Q115.668 1099.19 115.668 1106.32 Q115.668 1113.42 117.473 1116.99 Q119.302 1120.53 122.913 1120.53 Q126.547 1120.53 128.353 1116.99 Q130.182 1113.42 130.182 1106.32 Q130.182 1099.19 128.353 1095.64 Q126.547 1092.08 122.913 1092.08 M122.913 1088.38 Q128.723 1088.38 131.779 1092.98 Q134.857 1097.57 134.857 1106.32 Q134.857 1115.04 131.779 1119.65 Q128.723 1124.23 122.913 1124.23 Q117.103 1124.23 114.024 1119.65 Q110.969 1115.04 110.969 1106.32 Q110.969 1097.57 114.024 1092.98 Q117.103 1088.38 122.913 1088.38 Z\" fill=\"#000000\" fill-rule=\"evenodd\" fill-opacity=\"1\" /><path clip-path=\"url(#clip200)\" d=\"M53.3995 780.191 L61.0384 780.191 L61.0384 753.825 L52.7282 755.492 L52.7282 751.233 L60.9921 749.566 L65.668 749.566 L65.668 780.191 L73.3068 780.191 L73.3068 784.126 L53.3995 784.126 L53.3995 780.191 Z\" fill=\"#000000\" fill-rule=\"evenodd\" fill-opacity=\"1\" /><path clip-path=\"url(#clip200)\" d=\"M92.7512 752.645 Q89.1401 752.645 87.3114 756.209 Q85.5058 759.751 85.5058 766.881 Q85.5058 773.987 87.3114 777.552 Q89.1401 781.094 92.7512 781.094 Q96.3854 781.094 98.1909 777.552 Q100.02 773.987 100.02 766.881 Q100.02 759.751 98.1909 756.209 Q96.3854 752.645 92.7512 752.645 M92.7512 748.941 Q98.5613 748.941 101.617 753.547 Q104.696 758.131 104.696 766.881 Q104.696 775.608 101.617 780.214 Q98.5613 784.797 92.7512 784.797 Q86.941 784.797 83.8623 780.214 Q80.8068 775.608 80.8068 766.881 Q80.8068 758.131 83.8623 753.547 Q86.941 748.941 92.7512 748.941 Z\" fill=\"#000000\" fill-rule=\"evenodd\" fill-opacity=\"1\" /><path clip-path=\"url(#clip200)\" d=\"M122.913 752.645 Q119.302 752.645 117.473 756.209 Q115.668 759.751 115.668 766.881 Q115.668 773.987 117.473 777.552 Q119.302 781.094 122.913 781.094 Q126.547 781.094 128.353 777.552 Q130.182 773.987 130.182 766.881 Q130.182 759.751 128.353 756.209 Q126.547 752.645 122.913 752.645 M122.913 748.941 Q128.723 748.941 131.779 753.547 Q134.857 758.131 134.857 766.881 Q134.857 775.608 131.779 780.214 Q128.723 784.797 122.913 784.797 Q117.103 784.797 114.024 780.214 Q110.969 775.608 110.969 766.881 Q110.969 758.131 114.024 753.547 Q117.103 748.941 122.913 748.941 Z\" fill=\"#000000\" fill-rule=\"evenodd\" fill-opacity=\"1\" /><path clip-path=\"url(#clip200)\" d=\"M53.3995 440.756 L61.0384 440.756 L61.0384 414.39 L52.7282 416.057 L52.7282 411.798 L60.9921 410.131 L65.668 410.131 L65.668 440.756 L73.3068 440.756 L73.3068 444.691 L53.3995 444.691 L53.3995 440.756 Z\" fill=\"#000000\" fill-rule=\"evenodd\" fill-opacity=\"1\" /><path clip-path=\"url(#clip200)\" d=\"M82.7975 410.131 L101.154 410.131 L101.154 414.066 L87.0799 414.066 L87.0799 422.538 Q88.0984 422.191 89.1169 422.029 Q90.1354 421.844 91.1539 421.844 Q96.941 421.844 100.321 425.015 Q103.7 428.187 103.7 433.603 Q103.7 439.182 100.228 442.284 Q96.7558 445.362 90.4364 445.362 Q88.2604 445.362 85.9919 444.992 Q83.7466 444.622 81.3392 443.881 L81.3392 439.182 Q83.4225 440.316 85.6447 440.872 Q87.8669 441.427 90.3438 441.427 Q94.3484 441.427 96.6863 439.321 Q99.0243 437.214 99.0243 433.603 Q99.0243 429.992 96.6863 427.886 Q94.3484 425.779 90.3438 425.779 Q88.4688 425.779 86.5938 426.196 Q84.7419 426.613 82.7975 427.492 L82.7975 410.131 Z\" fill=\"#000000\" fill-rule=\"evenodd\" fill-opacity=\"1\" /><path clip-path=\"url(#clip200)\" d=\"M122.913 413.21 Q119.302 413.21 117.473 416.775 Q115.668 420.316 115.668 427.446 Q115.668 434.552 117.473 438.117 Q119.302 441.659 122.913 441.659 Q126.547 441.659 128.353 438.117 Q130.182 434.552 130.182 427.446 Q130.182 420.316 128.353 416.775 Q126.547 413.21 122.913 413.21 M122.913 409.506 Q128.723 409.506 131.779 414.113 Q134.857 418.696 134.857 427.446 Q134.857 436.173 131.779 440.779 Q128.723 445.362 122.913 445.362 Q117.103 445.362 114.024 440.779 Q110.969 436.173 110.969 427.446 Q110.969 418.696 114.024 414.113 Q117.103 409.506 122.913 409.506 Z\" fill=\"#000000\" fill-rule=\"evenodd\" fill-opacity=\"1\" /><path clip-path=\"url(#clip200)\" d=\"M56.6171 101.321 L72.9365 101.321 L72.9365 105.256 L50.9921 105.256 L50.9921 101.321 Q53.6541 98.5665 58.2375 93.9369 Q62.8439 89.2841 64.0245 87.9416 Q66.2698 85.4184 67.1494 83.6823 Q68.0522 81.9231 68.0522 80.2333 Q68.0522 77.4786 66.1078 75.7425 Q64.1865 74.0064 61.0847 74.0064 Q58.8856 74.0064 56.4319 74.7703 Q54.0014 75.5342 51.2236 77.0851 L51.2236 72.3629 Q54.0477 71.2287 56.5014 70.65 Q58.955 70.0713 60.9921 70.0713 Q66.3624 70.0713 69.5568 72.7565 Q72.7513 75.4416 72.7513 79.9323 Q72.7513 82.062 71.9411 83.9832 Q71.1541 85.8814 69.0476 88.474 Q68.4689 89.1453 65.367 92.3628 Q62.2652 95.5573 56.6171 101.321 Z\" fill=\"#000000\" fill-rule=\"evenodd\" fill-opacity=\"1\" /><path clip-path=\"url(#clip200)\" d=\"M92.7512 73.775 Q89.1401 73.775 87.3114 77.3398 Q85.5058 80.8814 85.5058 88.011 Q85.5058 95.1174 87.3114 98.6822 Q89.1401 102.224 92.7512 102.224 Q96.3854 102.224 98.1909 98.6822 Q100.02 95.1174 100.02 88.011 Q100.02 80.8814 98.1909 77.3398 Q96.3854 73.775 92.7512 73.775 M92.7512 70.0713 Q98.5613 70.0713 101.617 74.6777 Q104.696 79.261 104.696 88.011 Q104.696 96.7378 101.617 101.344 Q98.5613 105.928 92.7512 105.928 Q86.941 105.928 83.8623 101.344 Q80.8068 96.7378 80.8068 88.011 Q80.8068 79.261 83.8623 74.6777 Q86.941 70.0713 92.7512 70.0713 Z\" fill=\"#000000\" fill-rule=\"evenodd\" fill-opacity=\"1\" /><path clip-path=\"url(#clip200)\" d=\"M122.913 73.775 Q119.302 73.775 117.473 77.3398 Q115.668 80.8814 115.668 88.011 Q115.668 95.1174 117.473 98.6822 Q119.302 102.224 122.913 102.224 Q126.547 102.224 128.353 98.6822 Q130.182 95.1174 130.182 88.011 Q130.182 80.8814 128.353 77.3398 Q126.547 73.775 122.913 73.775 M122.913 70.0713 Q128.723 70.0713 131.779 74.6777 Q134.857 79.261 134.857 88.011 Q134.857 96.7378 131.779 101.344 Q128.723 105.928 122.913 105.928 Q117.103 105.928 114.024 101.344 Q110.969 96.7378 110.969 88.011 Q110.969 79.261 114.024 74.6777 Q117.103 70.0713 122.913 70.0713 Z\" fill=\"#000000\" fill-rule=\"evenodd\" fill-opacity=\"1\" /><polyline clip-path=\"url(#clip202)\" style=\"stroke:#009af9; stroke-linecap:butt; stroke-linejoin:round; stroke-width:8; stroke-opacity:1; fill:none\" points=\"\n",
       "  232.609,395.368 253.193,409.942 273.777,424.515 294.361,439.088 314.945,453.48 335.529,467.872 356.113,482.264 376.697,496.656 397.281,511.048 417.865,525.44 \n",
       "  438.449,539.832 459.033,554.224 479.617,568.616 500.201,583.008 520.785,597.4 541.368,611.792 561.952,626.184 582.536,640.576 603.12,654.968 623.704,669.36 \n",
       "  644.288,683.752 664.872,698.144 685.456,712.536 706.04,726.928 726.624,741.32 747.208,755.713 767.792,770.105 788.376,784.497 808.96,798.889 829.544,813.281 \n",
       "  850.128,827.673 870.712,842.065 891.296,856.457 911.88,870.849 932.463,885.241 953.047,899.633 973.631,914.025 994.215,928.417 1014.8,942.809 1035.38,957.201 \n",
       "  1055.97,971.593 1076.55,985.985 1097.14,1000.38 1117.72,1014.77 1138.3,1029.16 1158.89,1043.55 1179.47,1057.95 1200.05,1072.34 1220.64,1085.82 1241.22,1098.86 \n",
       "  1261.81,1111.89 1282.39,1124.93 1302.97,1137.96 1323.56,1150.81 1344.14,1163.12 1364.73,1175.44 1385.31,1187.56 1405.89,1198.52 1426.48,1209.47 1447.06,1220.42 \n",
       "  1467.65,1231.37 1488.23,1242.33 1508.81,1253.28 1529.4,1263.05 1549.98,1271.83 1570.57,1280.61 1591.15,1289.39 1611.73,1298.17 1632.32,1306.95 1652.9,1315.73 \n",
       "  1673.49,1323.97 1694.07,1331.85 1714.65,1339.72 1735.24,1347.6 1755.82,1355.47 1776.41,1363.35 1796.99,1371.22 1817.57,1376.2 1838.16,1381.09 1858.74,1385.98 \n",
       "  1879.33,1390.86 1899.91,1395.75 1920.49,1400.64 1941.08,1405.53 1961.66,1410.32 1982.24,1414.13 2002.83,1417.93 2023.41,1421.73 2044,1425.53 2064.58,1429.33 \n",
       "  2085.16,1433.13 2105.75,1436.94 2126.33,1438.47 2146.92,1439.83 2167.5,1441.19 2188.08,1442.55 2208.67,1443.72 2229.25,1444.81 2249.84,1445.53 2270.42,1445.72 \n",
       "  2291,1445.72 \n",
       "  \"/>\n",
       "<polyline clip-path=\"url(#clip202)\" style=\"stroke:#e26f46; stroke-linecap:butt; stroke-linejoin:round; stroke-width:4; stroke-opacity:1; fill:none\" points=\"\n",
       "  232.609,87.9763 253.193,114.995 273.777,141.743 294.361,168.219 314.945,194.423 335.529,220.356 356.113,246.017 376.697,271.407 397.281,296.525 417.865,321.372 \n",
       "  438.449,345.947 459.033,370.25 479.617,394.282 500.201,418.043 520.785,441.532 541.368,464.749 561.952,487.695 582.536,510.369 603.12,532.772 623.704,554.903 \n",
       "  644.288,576.762 664.872,598.351 685.456,619.667 706.04,640.712 726.624,661.485 747.208,681.987 767.792,702.218 788.376,722.176 808.96,741.864 829.544,761.279 \n",
       "  850.128,780.423 870.712,799.296 891.296,817.897 911.88,836.226 932.463,854.284 953.047,872.071 973.631,889.586 994.215,906.829 1014.8,923.801 1035.38,940.501 \n",
       "  1055.97,956.93 1076.55,973.087 1097.14,988.972 1117.72,1004.59 1138.3,1019.93 1158.89,1035 1179.47,1049.8 1200.05,1064.33 1220.64,1078.58 1241.22,1092.57 \n",
       "  1261.81,1106.28 1282.39,1119.72 1302.97,1132.89 1323.56,1145.79 1344.14,1158.42 1364.73,1170.77 1385.31,1182.86 1405.89,1194.67 1426.48,1206.21 1447.06,1217.48 \n",
       "  1467.65,1228.48 1488.23,1239.2 1508.81,1249.66 1529.4,1259.84 1549.98,1269.75 1570.57,1279.39 1591.15,1288.76 1611.73,1297.86 1632.32,1306.68 1652.9,1315.24 \n",
       "  1673.49,1323.52 1694.07,1331.53 1714.65,1339.27 1735.24,1346.74 1755.82,1353.93 1776.41,1360.86 1796.99,1367.51 1817.57,1373.89 1838.16,1380 1858.74,1385.84 \n",
       "  1879.33,1391.41 1899.91,1396.7 1920.49,1401.72 1941.08,1406.48 1961.66,1410.96 1982.24,1415.17 2002.83,1419.1 2023.41,1422.77 2044,1426.16 2064.58,1429.29 \n",
       "  2085.16,1432.14 2105.75,1434.72 2126.33,1437.03 2146.92,1439.06 2167.5,1440.83 2188.08,1442.32 2208.67,1443.54 2229.25,1444.49 2249.84,1445.17 2270.42,1445.58 \n",
       "  2291,1445.72 \n",
       "  \"/>\n",
       "<path clip-path=\"url(#clip200)\" d=\"\n",
       "M1985.16 250.738 L2280.03 250.738 L2280.03 95.2176 L1985.16 95.2176  Z\n",
       "  \" fill=\"#ffffff\" fill-rule=\"evenodd\" fill-opacity=\"1\"/>\n",
       "<polyline clip-path=\"url(#clip200)\" style=\"stroke:#000000; stroke-linecap:butt; stroke-linejoin:round; stroke-width:4; stroke-opacity:1; fill:none\" points=\"\n",
       "  1985.16,250.738 2280.03,250.738 2280.03,95.2176 1985.16,95.2176 1985.16,250.738 \n",
       "  \"/>\n",
       "<polyline clip-path=\"url(#clip200)\" style=\"stroke:#009af9; stroke-linecap:butt; stroke-linejoin:round; stroke-width:4; stroke-opacity:1; fill:none\" points=\"\n",
       "  2009.41,147.058 2154.87,147.058 \n",
       "  \"/>\n",
       "<path clip-path=\"url(#clip200)\" d=\"M2192.95 166.745 Q2191.15 171.375 2189.43 172.787 Q2187.72 174.199 2184.85 174.199 L2181.45 174.199 L2181.45 170.634 L2183.95 170.634 Q2185.71 170.634 2186.68 169.8 Q2187.65 168.967 2188.83 165.865 L2189.6 163.921 L2179.11 138.412 L2183.62 138.412 L2191.72 158.689 L2199.83 138.412 L2204.34 138.412 L2192.95 166.745 Z\" fill=\"#000000\" fill-rule=\"evenodd\" fill-opacity=\"1\" /><path clip-path=\"url(#clip200)\" d=\"M2211.63 160.402 L2219.27 160.402 L2219.27 134.037 L2210.96 135.703 L2210.96 131.444 L2219.22 129.778 L2223.9 129.778 L2223.9 160.402 L2231.54 160.402 L2231.54 164.338 L2211.63 164.338 L2211.63 160.402 Z\" fill=\"#000000\" fill-rule=\"evenodd\" fill-opacity=\"1\" /><polyline clip-path=\"url(#clip200)\" style=\"stroke:#e26f46; stroke-linecap:butt; stroke-linejoin:round; stroke-width:4; stroke-opacity:1; fill:none\" points=\"\n",
       "  2009.41,198.898 2154.87,198.898 \n",
       "  \"/>\n",
       "<path clip-path=\"url(#clip200)\" d=\"M2192.95 218.585 Q2191.15 223.215 2189.43 224.627 Q2187.72 226.039 2184.85 226.039 L2181.45 226.039 L2181.45 222.474 L2183.95 222.474 Q2185.71 222.474 2186.68 221.64 Q2187.65 220.807 2188.83 217.705 L2189.6 215.761 L2179.11 190.252 L2183.62 190.252 L2191.72 210.529 L2199.83 190.252 L2204.34 190.252 L2192.95 218.585 Z\" fill=\"#000000\" fill-rule=\"evenodd\" fill-opacity=\"1\" /><path clip-path=\"url(#clip200)\" d=\"M2214.85 212.242 L2231.17 212.242 L2231.17 216.178 L2209.22 216.178 L2209.22 212.242 Q2211.89 209.488 2216.47 204.858 Q2221.08 200.205 2222.26 198.863 Q2224.5 196.34 2225.38 194.604 Q2226.28 192.844 2226.28 191.155 Q2226.28 188.4 2224.34 186.664 Q2222.42 184.928 2219.32 184.928 Q2217.12 184.928 2214.66 185.692 Q2212.23 186.455 2209.46 188.006 L2209.46 183.284 Q2212.28 182.15 2214.73 181.571 Q2217.19 180.993 2219.22 180.993 Q2224.59 180.993 2227.79 183.678 Q2230.98 186.363 2230.98 190.854 Q2230.98 192.983 2230.17 194.905 Q2229.39 196.803 2227.28 199.395 Q2226.7 200.067 2223.6 203.284 Q2220.5 206.479 2214.85 212.242 Z\" fill=\"#000000\" fill-rule=\"evenodd\" fill-opacity=\"1\" /></svg>\n"
      ]
     },
     "execution_count": 15,
     "metadata": {},
     "output_type": "execute_result"
    }
   ],
   "source": [
    "x=(0:100.0)\n",
    "\n",
    "plot(x,piecewise_linear.(x,Ref(cuts2)),lw=2)\n",
    "plot!(x,p3*(100 .-x).^2/200)"
   ]
  },
  {
   "cell_type": "code",
   "execution_count": null,
   "metadata": {
    "hideCode": false,
    "hidePrompt": false
   },
   "outputs": [],
   "source": []
  }
 ],
 "metadata": {
  "hide_code_all_hidden": false,
  "hide_input": false,
  "kernelspec": {
   "display_name": "Julia 1.6.3",
   "language": "julia",
   "name": "julia-1.6"
  },
  "language_info": {
   "file_extension": ".jl",
   "mimetype": "application/julia",
   "name": "julia",
   "version": "1.6.3"
  }
 },
 "nbformat": 4,
 "nbformat_minor": 4
}
