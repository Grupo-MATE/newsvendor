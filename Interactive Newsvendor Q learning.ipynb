{
 "cells": [
  {
   "cell_type": "markdown",
   "metadata": {},
   "source": [
    "# SDDP and newsvendor\n",
    "\n",
    "## Q-learning SDDP "
   ]
  },
  {
   "cell_type": "code",
   "execution_count": 26,
   "metadata": {},
   "outputs": [
    {
     "name": "stdout",
     "output_type": "stream",
     "text": [
      "Academic license - for non-commercial use only - expires 2021-09-10\n"
     ]
    },
    {
     "data": {
      "text/plain": [
       "Gurobi.Env(Ptr{Nothing} @0x0000000005c34be0, false, 0)"
      ]
     },
     "execution_count": 26,
     "metadata": {},
     "output_type": "execute_result"
    }
   ],
   "source": [
    "using Distributions, JuMP, Gurobi, Plots, ProgressMeter\n",
    "gurobi_env = Gurobi.Env()"
   ]
  },
  {
   "cell_type": "code",
   "execution_count": 27,
   "metadata": {},
   "outputs": [
    {
     "data": {
      "text/plain": [
       "piecewise_linear (generic function with 1 method)"
      ]
     },
     "execution_count": 27,
     "metadata": {},
     "output_type": "execute_result"
    }
   ],
   "source": [
    "function piecewise_linear(x,cuts)\n",
    "    \n",
    "    return maximum([cut[1]+cut[2]'*x for cut in cuts])\n",
    "end"
   ]
  },
  {
   "cell_type": "code",
   "execution_count": 28,
   "metadata": {},
   "outputs": [],
   "source": [
    "p = 1.0 #day ahead price\n",
    "q = 2.0 #same day price\n",
    "\n",
    "#condicion inicial de stock\n",
    "x0=0.0;"
   ]
  },
  {
   "cell_type": "code",
   "execution_count": 29,
   "metadata": {
    "scrolled": true
   },
   "outputs": [],
   "source": [
    "#array de vectores de cuts. Arranca en la lower bound\n",
    "cuts = [[0.0;0.0]];\n",
    "\n",
    "#@showprogress for i=1:50\n",
    "for i=1:20\n",
    "    #resuelvo el primer paso\n",
    "    model = JuMP.Model(optimizer_with_attributes(() -> Gurobi.Optimizer(gurobi_env), \"OutputFlag\" => 0))\n",
    "    @variable(model,reserve>=0);\n",
    "    @variable(model,stock>=0);\n",
    "    @variable(model,z);\n",
    "\n",
    "    for i=1:length(cuts)\n",
    "        cut=cuts[i]\n",
    "        @constraint(model,z>=cut[1]+cut[2]*(stock+reserve));\n",
    "    end\n",
    "\n",
    "    fix_x = @constraint(model,stock==x0);\n",
    "\n",
    "    @objective(model,Min,p*reserve+z);\n",
    "\n",
    "    optimize!(model)\n",
    "\n",
    "    x=value(stock)+value(reserve);\n",
    "\n",
    "#demand=rand(DiscreteUniform(0,100));\n",
    "    #resuelvo para todos los ruidos el segundo paso y agrego un corte\n",
    "    local_cuts = [];\n",
    "\n",
    "    for demand=(1:100)\n",
    "        \n",
    "\n",
    "        model = JuMP.Model(optimizer_with_attributes(() -> Gurobi.Optimizer(gurobi_env), \"OutputFlag\" => 0))\n",
    "\n",
    "        @variable(model,shortage>=0);\n",
    "        @variable(model,stock>=0);\n",
    "\n",
    "        fix_x = @constraint(model,x-demand+shortage>=0);\n",
    "\n",
    "#        fix_x = @constraint(model,stock==x);\n",
    "\n",
    "        @objective(model,Min,q*shortage);\n",
    "\n",
    "        optimize!(model)\n",
    "\n",
    "        beta = objective_value(model);\n",
    "        lambda = -dual(fix_x)\n",
    "\n",
    "        push!(local_cuts,[beta-lambda*x;lambda])\n",
    "\n",
    "    end\n",
    "\n",
    "    new_cut = 1/length(local_cuts)*[sum([c[1] for c in local_cuts]);sum([c[2] for c in local_cuts])];\n",
    "    push!(cuts,new_cut);\n",
    "end"
   ]
  },
  {
   "cell_type": "markdown",
   "metadata": {},
   "source": [
    "### Animación de los cortes"
   ]
  },
  {
   "cell_type": "code",
   "execution_count": 30,
   "metadata": {
    "scrolled": false
   },
   "outputs": [
    {
     "name": "stderr",
     "output_type": "stream",
     "text": [
      "┌ Info: Saved animation to \n",
      "│   fn = /home/andres/workspace/julia/sddp/newsvendor/tmp.gif\n",
      "└ @ Plots /home/andres/.julia/packages/Plots/ldLtW/src/animation.jl:104\n"
     ]
    },
    {
     "data": {
      "text/html": [
       "<img src=\"data:image/gif;base64,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\" />"
      ],
      "text/plain": [
       "Plots.AnimatedGif(\"/home/andres/workspace/julia/sddp/newsvendor/tmp.gif\")"
      ]
     },
     "execution_count": 30,
     "metadata": {},
     "output_type": "execute_result"
    }
   ],
   "source": [
    "#Ploteo los cuts obtenidos\n",
    "x=(0:100)\n",
    "\n",
    "anim=nothing\n",
    "anim = @animate for i=1:length(cuts)\n",
    "    pl=plot(;legend=:none,xlim=(0,100),ylim=(-10,100))\n",
    "    plot!(pl,x,(100 .-x).^2/100,lw=2)\n",
    "\n",
    "#    cut=cuts[i]\n",
    "#    plot!(pl,cut[1].+cut[2]*x);\n",
    "    plot!(pl,x,piecewise_linear.(x,Ref(cuts[1:i])),lw=2)\n",
    "\n",
    "end\n",
    "\n",
    "gif(anim,\"tmp.gif\",fps=1)"
   ]
  }
 ],
 "metadata": {
  "@webio": {
   "lastCommId": null,
   "lastKernelId": null
  },
  "hide_input": false,
  "kernelspec": {
   "display_name": "Julia 1.6.1",
   "language": "julia",
   "name": "julia-1.6"
  },
  "language_info": {
   "file_extension": ".jl",
   "mimetype": "application/julia",
   "name": "julia",
   "version": "1.6.1"
  }
 },
 "nbformat": 4,
 "nbformat_minor": 4
}
